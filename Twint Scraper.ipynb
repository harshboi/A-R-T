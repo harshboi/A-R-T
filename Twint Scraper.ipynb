{
 "cells": [
  {
   "cell_type": "code",
   "execution_count": 2,
   "metadata": {},
   "outputs": [],
   "source": [
    "import twint"
   ]
  },
  {
   "cell_type": "code",
   "execution_count": 3,
   "metadata": {},
   "outputs": [],
   "source": [
    "d = twint.Config()"
   ]
  },
  {
   "cell_type": "code",
   "execution_count": 10,
   "metadata": {},
   "outputs": [],
   "source": [
    "d.Search = \"operation sharpshooter\"\n",
    "d.Limit = 10\n",
    "# d.Store_csv = True\n",
    "d.Store_object = True\n",
    "d.Store_json = True\n",
    "d.Output = \"/Users/psingh4/harsh/test2.json\"\n",
    "# d.Database = \"tweets.db\"\n"
   ]
  },
  {
   "cell_type": "code",
   "execution_count": 12,
   "metadata": {},
   "outputs": [
    {
     "name": "stdout",
     "output_type": "stream",
     "text": [
      "[+] Inserting into Database: tweets.db\n"
     ]
    },
    {
     "ename": "RuntimeError",
     "evalue": "This event loop is already running",
     "output_type": "error",
     "traceback": [
      "\u001b[0;31m---------------------------------------------------------------------------\u001b[0m",
      "\u001b[0;31mRuntimeError\u001b[0m                              Traceback (most recent call last)",
      "\u001b[0;32m<ipython-input-12-1f8f3cb2a82a>\u001b[0m in \u001b[0;36m<module>\u001b[0;34m\u001b[0m\n\u001b[0;32m----> 1\u001b[0;31m \u001b[0mx\u001b[0m \u001b[0;34m=\u001b[0m \u001b[0mtwint\u001b[0m\u001b[0;34m.\u001b[0m\u001b[0mrun\u001b[0m\u001b[0;34m.\u001b[0m\u001b[0mSearch\u001b[0m\u001b[0;34m(\u001b[0m\u001b[0md\u001b[0m\u001b[0;34m)\u001b[0m\u001b[0;34m\u001b[0m\u001b[0;34m\u001b[0m\u001b[0m\n\u001b[0m",
      "\u001b[0;32m~/opt/anaconda3/lib/python3.7/site-packages/twint/run.py\u001b[0m in \u001b[0;36mSearch\u001b[0;34m(config, callback)\u001b[0m\n\u001b[1;32m    286\u001b[0m     \u001b[0mconfig\u001b[0m\u001b[0;34m.\u001b[0m\u001b[0mProfile\u001b[0m \u001b[0;34m=\u001b[0m \u001b[0;32mFalse\u001b[0m\u001b[0;34m\u001b[0m\u001b[0;34m\u001b[0m\u001b[0m\n\u001b[1;32m    287\u001b[0m     \u001b[0mconfig\u001b[0m\u001b[0;34m.\u001b[0m\u001b[0mProfile_full\u001b[0m \u001b[0;34m=\u001b[0m \u001b[0;32mFalse\u001b[0m\u001b[0;34m\u001b[0m\u001b[0;34m\u001b[0m\u001b[0m\n\u001b[0;32m--> 288\u001b[0;31m     \u001b[0mrun\u001b[0m\u001b[0;34m(\u001b[0m\u001b[0mconfig\u001b[0m\u001b[0;34m,\u001b[0m \u001b[0mcallback\u001b[0m\u001b[0;34m)\u001b[0m\u001b[0;34m\u001b[0m\u001b[0;34m\u001b[0m\u001b[0m\n\u001b[0m\u001b[1;32m    289\u001b[0m     \u001b[0;32mif\u001b[0m \u001b[0mconfig\u001b[0m\u001b[0;34m.\u001b[0m\u001b[0mPandas_au\u001b[0m\u001b[0;34m:\u001b[0m\u001b[0;34m\u001b[0m\u001b[0;34m\u001b[0m\u001b[0m\n\u001b[1;32m    290\u001b[0m         \u001b[0mstorage\u001b[0m\u001b[0;34m.\u001b[0m\u001b[0mpanda\u001b[0m\u001b[0;34m.\u001b[0m\u001b[0m_autoget\u001b[0m\u001b[0;34m(\u001b[0m\u001b[0;34m\"tweet\"\u001b[0m\u001b[0;34m)\u001b[0m\u001b[0;34m\u001b[0m\u001b[0;34m\u001b[0m\u001b[0m\n",
      "\u001b[0;32m~/opt/anaconda3/lib/python3.7/site-packages/twint/run.py\u001b[0m in \u001b[0;36mrun\u001b[0;34m(config, callback)\u001b[0m\n\u001b[1;32m    207\u001b[0m \u001b[0;32mdef\u001b[0m \u001b[0mrun\u001b[0m\u001b[0;34m(\u001b[0m\u001b[0mconfig\u001b[0m\u001b[0;34m,\u001b[0m \u001b[0mcallback\u001b[0m\u001b[0;34m=\u001b[0m\u001b[0;32mNone\u001b[0m\u001b[0;34m)\u001b[0m\u001b[0;34m:\u001b[0m\u001b[0;34m\u001b[0m\u001b[0;34m\u001b[0m\u001b[0m\n\u001b[1;32m    208\u001b[0m     \u001b[0mlogme\u001b[0m\u001b[0;34m.\u001b[0m\u001b[0mdebug\u001b[0m\u001b[0;34m(\u001b[0m\u001b[0m__name__\u001b[0m\u001b[0;34m+\u001b[0m\u001b[0;34m':run'\u001b[0m\u001b[0;34m)\u001b[0m\u001b[0;34m\u001b[0m\u001b[0;34m\u001b[0m\u001b[0m\n\u001b[0;32m--> 209\u001b[0;31m     \u001b[0mget_event_loop\u001b[0m\u001b[0;34m(\u001b[0m\u001b[0;34m)\u001b[0m\u001b[0;34m.\u001b[0m\u001b[0mrun_until_complete\u001b[0m\u001b[0;34m(\u001b[0m\u001b[0mTwint\u001b[0m\u001b[0;34m(\u001b[0m\u001b[0mconfig\u001b[0m\u001b[0;34m)\u001b[0m\u001b[0;34m.\u001b[0m\u001b[0mmain\u001b[0m\u001b[0;34m(\u001b[0m\u001b[0mcallback\u001b[0m\u001b[0;34m)\u001b[0m\u001b[0;34m)\u001b[0m\u001b[0;34m\u001b[0m\u001b[0;34m\u001b[0m\u001b[0m\n\u001b[0m\u001b[1;32m    210\u001b[0m \u001b[0;34m\u001b[0m\u001b[0m\n\u001b[1;32m    211\u001b[0m \u001b[0;32mdef\u001b[0m \u001b[0mFavorites\u001b[0m\u001b[0;34m(\u001b[0m\u001b[0mconfig\u001b[0m\u001b[0;34m)\u001b[0m\u001b[0;34m:\u001b[0m\u001b[0;34m\u001b[0m\u001b[0;34m\u001b[0m\u001b[0m\n",
      "\u001b[0;32m~/opt/anaconda3/lib/python3.7/asyncio/base_events.py\u001b[0m in \u001b[0;36mrun_until_complete\u001b[0;34m(self, future)\u001b[0m\n\u001b[1;32m    564\u001b[0m         \u001b[0mfuture\u001b[0m\u001b[0;34m.\u001b[0m\u001b[0madd_done_callback\u001b[0m\u001b[0;34m(\u001b[0m\u001b[0m_run_until_complete_cb\u001b[0m\u001b[0;34m)\u001b[0m\u001b[0;34m\u001b[0m\u001b[0;34m\u001b[0m\u001b[0m\n\u001b[1;32m    565\u001b[0m         \u001b[0;32mtry\u001b[0m\u001b[0;34m:\u001b[0m\u001b[0;34m\u001b[0m\u001b[0;34m\u001b[0m\u001b[0m\n\u001b[0;32m--> 566\u001b[0;31m             \u001b[0mself\u001b[0m\u001b[0;34m.\u001b[0m\u001b[0mrun_forever\u001b[0m\u001b[0;34m(\u001b[0m\u001b[0;34m)\u001b[0m\u001b[0;34m\u001b[0m\u001b[0;34m\u001b[0m\u001b[0m\n\u001b[0m\u001b[1;32m    567\u001b[0m         \u001b[0;32mexcept\u001b[0m\u001b[0;34m:\u001b[0m\u001b[0;34m\u001b[0m\u001b[0;34m\u001b[0m\u001b[0m\n\u001b[1;32m    568\u001b[0m             \u001b[0;32mif\u001b[0m \u001b[0mnew_task\u001b[0m \u001b[0;32mand\u001b[0m \u001b[0mfuture\u001b[0m\u001b[0;34m.\u001b[0m\u001b[0mdone\u001b[0m\u001b[0;34m(\u001b[0m\u001b[0;34m)\u001b[0m \u001b[0;32mand\u001b[0m \u001b[0;32mnot\u001b[0m \u001b[0mfuture\u001b[0m\u001b[0;34m.\u001b[0m\u001b[0mcancelled\u001b[0m\u001b[0;34m(\u001b[0m\u001b[0;34m)\u001b[0m\u001b[0;34m:\u001b[0m\u001b[0;34m\u001b[0m\u001b[0;34m\u001b[0m\u001b[0m\n",
      "\u001b[0;32m~/opt/anaconda3/lib/python3.7/asyncio/base_events.py\u001b[0m in \u001b[0;36mrun_forever\u001b[0;34m(self)\u001b[0m\n\u001b[1;32m    519\u001b[0m         \u001b[0mself\u001b[0m\u001b[0;34m.\u001b[0m\u001b[0m_check_closed\u001b[0m\u001b[0;34m(\u001b[0m\u001b[0;34m)\u001b[0m\u001b[0;34m\u001b[0m\u001b[0;34m\u001b[0m\u001b[0m\n\u001b[1;32m    520\u001b[0m         \u001b[0;32mif\u001b[0m \u001b[0mself\u001b[0m\u001b[0;34m.\u001b[0m\u001b[0mis_running\u001b[0m\u001b[0;34m(\u001b[0m\u001b[0;34m)\u001b[0m\u001b[0;34m:\u001b[0m\u001b[0;34m\u001b[0m\u001b[0;34m\u001b[0m\u001b[0m\n\u001b[0;32m--> 521\u001b[0;31m             \u001b[0;32mraise\u001b[0m \u001b[0mRuntimeError\u001b[0m\u001b[0;34m(\u001b[0m\u001b[0;34m'This event loop is already running'\u001b[0m\u001b[0;34m)\u001b[0m\u001b[0;34m\u001b[0m\u001b[0;34m\u001b[0m\u001b[0m\n\u001b[0m\u001b[1;32m    522\u001b[0m         \u001b[0;32mif\u001b[0m \u001b[0mevents\u001b[0m\u001b[0;34m.\u001b[0m\u001b[0m_get_running_loop\u001b[0m\u001b[0;34m(\u001b[0m\u001b[0;34m)\u001b[0m \u001b[0;32mis\u001b[0m \u001b[0;32mnot\u001b[0m \u001b[0;32mNone\u001b[0m\u001b[0;34m:\u001b[0m\u001b[0;34m\u001b[0m\u001b[0;34m\u001b[0m\u001b[0m\n\u001b[1;32m    523\u001b[0m             raise RuntimeError(\n",
      "\u001b[0;31mRuntimeError\u001b[0m: This event loop is already running"
     ]
    },
    {
     "name": "stdout",
     "output_type": "stream",
     "text": [
      "1212554063797248005 2020-01-01 17:59:51 PST <OperationBot> Operation Insentient Sharpshooter – generalizing illegal lectures\n",
      "1206185121671499776 2019-12-15 04:11:57 PST <BenjaminLinnert> Operation Iron Moan:  Recover cryogenic experiments. ☣ Neutralise enemy threat. 🚫👽  Roster: Rk. Louis C Sqd. Ste B - Sharpshooter Sqd. Richard B - Specialist Sqd. Adam D - Ranger  Playing XCOM2!  @XCOM #PS4live #PS4 #gaming\n",
      "1199051429358571521 2019-11-25 11:45:12 PST <MyCloudEssay> Operation Sharpshooter College Essay Topic Help  https://mycloudessay.com/college-essay-topics/view/108969/operation-sharpshooter-college-essay-topic-help … #essay #dissertation #homework #thesis #assignment #college #writing\n",
      "1195711760638136322 2019-11-16 06:34:33 PST <DanLamothe> Indeed, a think a lot of us covering the military in the field have stories like this to share.  I recall tagging along on one joint Marine-Afghan sniper operation in 2012 in which a Marine stopped an Afghan sharpshooter from opening fire. Children were close by.  https://twitter.com/paulmcleary/status/1195541505236226048 …\n",
      "1192067115764895748 2019-11-06 05:12:02 PST <ICTSecurityMag> Operation Sharpshooter: una campagna di #cyberspionaggio condotta nei confronti di alcune #infrastrutturecritiche: #Centralinucleari ed in generale il settore #Energy, entità della #Difesa, #banche e organizzazioni finanziare. #McAfee #ransomware #security https://www.ictsecuritymagazine.com/notizie/mcafee-mvision-la-strategia-si-evolve/ …\n",
      "1191970494897106944 2019-11-05 22:48:06 PST <Acemal71> A group of #Qatar Police Special Operation Forces personnel successfully completed the Turkish Army Sharpshooter Training Course with JMK BORA-12 #sniper weapon in Turkey. pic.twitter.com/soPO2Z98gW\n",
      "1181736387785179139 2019-10-08 18:01:25 PST <llama_operation> Sharpshooter is a good one. That bass is perfect in the mix on that track.\n",
      "1180139595448672256 2019-10-04 08:16:20 PST <Teatdp12> Definitely a sharpshooter! Making sure the operation goes smoothly is to exciting. Covering your squad is key to any mission. Tip: make sure you have a great vantage point that covers you well and pay attention to the whole map and not just one area #FreeCodeFridayContest #Xbox\n",
      "1175504665959698433 2019-09-21 13:18:46 PST <pressurepointhd> Pacific Rim Uprising (2018) - Operation Jaeger Drop Scene...  http://vid.staged.com/KTfw  #mastermoran #edc #sharpshooter  pic.twitter.com/qVfYnIAWbj\n",
      "1173807058342121472 2019-09-16 20:53:05 PST <njcinnaples> Our latest @McAfee Threat report covers cybercriminal activity during Q1 including a technical analysis on Operation Sharpshooter. Get the details. #IAmMcAfee  http://bit.ly/2QaaGiS \n",
      "1172927176674398208 2019-09-14 10:36:45 PST <Michael95407> True story:  my grandfather was a lifelong democrat who deplored guns and thought the 2nd amendment was antiquated.  When the \"Operation Northwoods\" memo was leaked in the 90's, he joined the NRA, and went out and bought an AR-15 and became an expert sharpshooter.\n",
      "1171930207839645696 2019-09-11 16:35:09 PST <njcinnaples> Our latest @McAfee Threat report covers cybercriminal activity during Q1 including a technical analysis on Operation Sharpshooter. Get the details. #IAmMcAfee  http://bit.ly/2ZTR3A8 \n",
      "1171785540137451520 2019-09-11 07:00:18 PST <MarcusAlmeida14> Our latest @McAfee Threat report covers cybercriminal activity during Q1 including a technical analysis on Operation Sharpshooter. Get the details. #IAmMcAfee  http://bit.ly/2ZU8JLV \n",
      "1171672554219589632 2019-09-10 23:31:20 PST <MayaKreidy> Our latest @McAfee Threat report covers cybercriminal activity during Q1 including a technical analysis on Operation Sharpshooter. Get the details. #IAmMcAfee  http://bit.ly/2Q6wigf \n",
      "1171411781715222528 2019-09-10 06:15:07 PST <McAfee_Labs> Our latest @McAfee Threat report covers cybercriminal activity during Q1 including a technical analysis on Operation Sharpshooter. Get the details.  https://mcafee.ly/306xOyx  pic.twitter.com/TenCgmLTcv\n",
      "1169924783598919681 2019-09-06 03:46:19 PST <cstromblad> McAfee-rapporten om Operation Sharpshooter är riktigt bra. Aktör, med troliga kopplingar till Lazarus Group (Nord Korea) som observerats infiltrera ungefär 90 organisationer, bland annat i Sverige (utifrån vad jag kan tolka). Betraktas i dagsläget som recon, något på G?\n",
      "1166743214277189633 2019-08-28 09:03:53 PST <John_Fokker> Our latest McAfee Threat reports covering cybercriminal activity during Q1 including our technical analysis on Operation Sharpshooter. Check the details in the report, link below. @McAfee @McAfee_Labs @FlynnPartyof5 @Raj_Samani @ChristiaanBeek  https://www.mcafee.com/enterprise/en-us/assets/reports/rp-quarterly-threats-aug-2019.pdf …\n",
      "1160538908515606529 2019-08-11 06:10:12 PST <www_sesin_at> New post from  http://www.sesin.at  (RSAC 2019: New Operation Sharpshooter Data Reveals Higher Complexity, Scope) has been published on  -  https://www.sesin.at/2019/03/04/rsac-2019-new-operation-sharpshooter-data-reveals-higher-complexity-scope/ …\n",
      "1160538906959503360 2019-08-11 06:10:11 PST <WolfgangSesin> New post (RSAC 2019: New Operation Sharpshooter Data Reveals Higher Complexity, Scope) has been published on  -  https://www.sesin.at/2019/03/04/rsac-2019-new-operation-sharpshooter-data-reveals-higher-complexity-scope/ …\n",
      "1158468834145312768 2019-08-05 13:04:28 PST <desderamona> #Lazarus Group  prominent #hacking group tied to North #Korea #DPRK Operation #Sharpshooter “could've started as early as September 2017 & more extensive in complexity, scope and duration of operations\"  #cyberattacks #spearphishing #malware #wannacry https://thehill.com/policy/cybersecurity/432247-security-firm-links-cyber-espionage-campaign-targeting-key-sectors-to …\n"
     ]
    }
   ],
   "source": [
    "x = twint.run.Search(d)\n",
    "# twint -u noneprivacy --csv --output \"/Users/psingh4/harsh/test4.json\" --lang en --translate --translate-dest it --limit 100"
   ]
  },
  {
   "cell_type": "code",
   "execution_count": 23,
   "metadata": {},
   "outputs": [
    {
     "data": {
      "text/plain": [
       "dict_keys(['Search', 'Limit', 'Store_csv', 'TwitterSearch', 'Favorites', 'Following', 'Followers', 'Profile', 'Profile_full'])"
      ]
     },
     "execution_count": 23,
     "metadata": {},
     "output_type": "execute_result"
    }
   ],
   "source": [
    "d.__dict__.keys()"
   ]
  },
  {
   "cell_type": "code",
   "execution_count": 13,
   "metadata": {},
   "outputs": [
    {
     "data": {
      "text/plain": [
       "<module 'twint.output' from '/Users/psingh4/opt/anaconda3/lib/python3.7/site-packages/twint/output.py'>"
      ]
     },
     "execution_count": 13,
     "metadata": {},
     "output_type": "execute_result"
    }
   ],
   "source": [
    "# twint.run.Search(d)\n",
    "# twint.output"
   ]
  },
  {
   "cell_type": "code",
   "execution_count": 147,
   "metadata": {},
   "outputs": [],
   "source": [
    "f= open(\"/Users/psingh4/harsh/test1.json\",\"r\")\n",
    "line1 = f.readlines()\n",
    "arr = []\n",
    "for x in line1:\n",
    "    arr.append(x)\n",
    "f.close()    "
   ]
  },
  {
   "cell_type": "code",
   "execution_count": 148,
   "metadata": {},
   "outputs": [],
   "source": [
    "arr.insert(0,\"[\")"
   ]
  },
  {
   "cell_type": "code",
   "execution_count": 153,
   "metadata": {},
   "outputs": [],
   "source": [
    "arr.append(']')\n",
    "for i in range(1,len(arr)-2):\n",
    "    arr[i] = arr[i][:-1] + \",\" + arr[i][-1:]"
   ]
  },
  {
   "cell_type": "code",
   "execution_count": 159,
   "metadata": {},
   "outputs": [],
   "source": [
    "file = open(\"/Users/psingh4/harsh/testfile.json\",\"w\")\n",
    "for i in range(len(arr)):\n",
    "    file.write(arr[i])\n",
    "file.close()"
   ]
  },
  {
   "cell_type": "code",
   "execution_count": 163,
   "metadata": {},
   "outputs": [],
   "source": [
    "import json\n",
    "# read_file = \"/Users/psingh4/harsh/test.json\"\n",
    "read_file = \"\"\n",
    "with open(\"/Users/psingh4/harsh/testfile.json\", \"r\") as read_file:\n",
    "    data = json.load(read_file)"
   ]
  },
  {
   "cell_type": "code",
   "execution_count": 166,
   "metadata": {},
   "outputs": [
    {
     "data": {
      "text/plain": [
       "1211570097946550277"
      ]
     },
     "execution_count": 166,
     "metadata": {},
     "output_type": "execute_result"
    }
   ],
   "source": [
    "data[0]['id']"
   ]
  },
  {
   "cell_type": "code",
   "execution_count": 205,
   "metadata": {},
   "outputs": [],
   "source": [
    "import mysql.connector"
   ]
  },
  {
   "cell_type": "code",
   "execution_count": 221,
   "metadata": {},
   "outputs": [],
   "source": [
    "mydb = mysql.connector.connect(user='admin', password='Private2712!',\n",
    "                              host='database-1.cok63qqiofsd.us-east-1.rds.amazonaws.com',\n",
    "                              database='data')"
   ]
  },
  {
   "cell_type": "code",
   "execution_count": 222,
   "metadata": {},
   "outputs": [],
   "source": [
    "mycursor = mydb.cursor()"
   ]
  },
  {
   "cell_type": "code",
   "execution_count": 223,
   "metadata": {},
   "outputs": [],
   "source": [
    "# sql = \"select * from train_data\"\n",
    "# mycursor.execute(sql)\n",
    "sql = \"INSERT INTO customers (created_at date time timezone user_id username name place tweet mentions urls replies_count \n",
    "        retweets_count likes_count hastags cashtags link retweet video near geo source user_rt_id user_rt retweet_id\n",
    "        retweet_date translate trans_src trans_dest relevant) VALUES (%s, %s)\"\n",
    "val = (\"John\", \"Highway 21\")\n",
    "mycursor.execute(sql, val)\n",
    "\n",
    "mydb.commit()\n",
    "\n",
    "print(mycursor.rowcount, \"record inserted.\")"
   ]
  },
  {
   "cell_type": "code",
   "execution_count": 224,
   "metadata": {},
   "outputs": [],
   "source": [
    "# mydb.commit()\n",
    "\n",
    "# print(mycursor.rowcount, \"record inserted.\")"
   ]
  },
  {
   "cell_type": "code",
   "execution_count": 225,
   "metadata": {},
   "outputs": [],
   "source": [
    "mycursor.execute(\"SELECT * FROM information_schema.COLUMNS  WHERE TABLE_SCHEMA='data'\")"
   ]
  },
  {
   "cell_type": "code",
   "execution_count": 226,
   "metadata": {},
   "outputs": [
    {
     "name": "stdout",
     "output_type": "stream",
     "text": [
      "('def', 'data', 'train_data', 'cashtags', 17, None, 'YES', 'varchar', 45, 180, None, None, None, 'utf8mb4', 'utf8mb4_0900_ai_ci', 'varchar(45)', '', '', 'select,insert,update,references', '', '', None)\n"
     ]
    }
   ],
   "source": [
    "myresult = mycursor.fetchone()\n",
    "print(myresult)"
   ]
  },
  {
   "cell_type": "code",
   "execution_count": null,
   "metadata": {},
   "outputs": [],
   "source": [
    "created_at date time timezone user_id username name place tweet mentions urls replies_count \n",
    "retweets_count likes_count hastags cashtags link retweet video near geo source user_rt_id user_rt retweet_id\n",
    "retweet_date translate trans_src trans_dest relevant"
   ]
  }
 ],
 "metadata": {
  "kernelspec": {
   "display_name": "Python 3",
   "language": "python",
   "name": "python3"
  },
  "language_info": {
   "codemirror_mode": {
    "name": "ipython",
    "version": 3
   },
   "file_extension": ".py",
   "mimetype": "text/x-python",
   "name": "python",
   "nbconvert_exporter": "python",
   "pygments_lexer": "ipython3",
   "version": "3.7.4"
  }
 },
 "nbformat": 4,
 "nbformat_minor": 2
}
