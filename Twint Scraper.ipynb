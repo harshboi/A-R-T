{
 "cells": [
  {
   "cell_type": "code",
   "execution_count": 1,
   "metadata": {},
   "outputs": [],
   "source": [
    "import twint"
   ]
  },
  {
   "cell_type": "code",
   "execution_count": 56,
   "metadata": {},
   "outputs": [
    {
     "name": "stdout",
     "output_type": "stream",
     "text": [
      "1218694727782031360 2020-01-18 16:40:40 Pacific Standard Time <Beaker> LOL. Might be dangerous\n",
      "1217602526473850881 2020-01-15 16:20:38 Pacific Standard Time <Beaker> Thread https://twitter.com/darkquassar/status/1217253393955049472 …\n",
      "1217600363832004608 2020-01-15 16:12:03 Pacific Standard Time <Beaker> The CISA call yesterday focused heavily on this\n",
      "1217581255983882241 2020-01-15 14:56:07 Pacific Standard Time <Beaker> Hysterical https://twitter.com/deviantollam/status/1217569453942046720 …\n",
      "1217492872154447873 2020-01-15 09:04:55 Pacific Standard Time <Beaker> Indeed https://twitter.com/operant/status/1217430670559121412 …\n",
      "1217492725311922176 2020-01-15 09:04:20 Pacific Standard Time <Beaker> Yasssssss\n",
      "1217419766719307777 2020-01-15 04:14:25 Pacific Standard Time <Beaker> Happy anniversary, Amanda. You’re amazing and they are lucky to have you!\n",
      "1217272490646540289 2020-01-14 18:29:12 Pacific Standard Time <Beaker> Me, either\n",
      "1217272099800305664 2020-01-14 18:27:39 Pacific Standard Time <Beaker> Ew\n",
      "1217270336447754240 2020-01-14 18:20:38 Pacific Standard Time <Beaker> Nobody gives a f*ck about your purple teaming majesty. Threat actors are color blind. < you’re welcome 😎\n",
      "1217233792794009602 2020-01-14 15:55:25 Pacific Standard Time <Beaker> Heh, thanks\n",
      "1217233458914910208 2020-01-14 15:54:06 Pacific Standard Time <Beaker>  https://www.rationalsurvivability.com/blog/presentations-papers/ …\n",
      "1216151637355614209 2020-01-11 16:15:20 Pacific Standard Time <Beaker> On a scale of 1-10 I give it a “I’ll be right over!”\n",
      "1215994144071483394 2020-01-11 05:49:30 Pacific Standard Time <Beaker> EDR is, as you allude, often indistinguishable from “more intelligent AV” or “security stuff bundled in the OS” if you squint hard enough at the marketing and say “AI” or “ML” a lot...it’s like “next gen firewall” vs “firewall” or “proxy with CASB” 😂\n",
      "1215993394201268224 2020-01-11 05:46:31 Pacific Standard Time <Beaker> Whistle pig it is. I’m going to assume that whitelisting includes heavy Powershell & macro lockdown and a metric farkton of Internet proxying, network-based detection/prevention and upstream email security to get rid of attachments, rewrite URLs for sand boxing, etc. Doable.\n",
      "1215863031843958785 2020-01-10 21:08:31 Pacific Standard Time <Beaker> Boyz2men\n",
      "1215862683351814150 2020-01-10 21:07:08 Pacific Standard Time <Beaker> No AV ... does that include that category of tooling called EDR also?\n",
      "1215805879024521216 2020-01-10 17:21:24 Pacific Standard Time <Beaker> Ditto\n",
      "1215805598375317504 2020-01-10 17:20:17 Pacific Standard Time <Beaker> Way to make the rest of us look like jerks! J/k that’s awesome! 😍 https://twitter.com/_SJPeace_/status/1215513768677060608 …\n",
      "1215802099931451392 2020-01-10 17:06:23 Pacific Standard Time <Beaker> Agreed. Also: that’s what you get for driving a corvette 😂\n",
      "1215498114536235008 2020-01-09 20:58:28 Pacific Standard Time <Beaker> Suuureee it does...if 10K/minute “cyberattacks” are individual packets 🤪 https://twitter.com/RobertTGarrett/status/1214601217650900993 …\n",
      "1215461457980203008 2020-01-09 18:32:48 Pacific Standard Time <Beaker> 😂 https://twitter.com/9bplus/status/1215460627017338881 …\n",
      "1215461189611917314 2020-01-09 18:31:44 Pacific Standard Time <Beaker> Happens a lot on sundays\n",
      "1215458672115113984 2020-01-09 18:21:44 Pacific Standard Time <Beaker> There was more to that video. He ended up attacking the coach. Didn’t end well\n",
      "1215453592523608064 2020-01-09 18:01:33 Pacific Standard Time <Beaker> Play stupid games, win stupid prizes https://twitter.com/CatchWrestling/status/1214317590329331714 …\n",
      "1215427281935634432 2020-01-09 16:17:00 Pacific Standard Time <Beaker> Uh. Yup. https://twitter.com/breakersall/status/1215413711390810112 …\n",
      "1215427122560454656 2020-01-09 16:16:22 Pacific Standard Time <Beaker> “Those passengers in groups 6-9 will have to check their carry-ons.” Group 6 passenger boarding...literally throwing a tantrum, cussing, as her giant barge-aboard won’t fit. Her parachute backpack won’t fit under the seat, either #wevegotascreamerbob #stupidgamesstupidprizes\n",
      "1215419120314978304 2020-01-09 15:44:34 Pacific Standard Time <Beaker> It is\n",
      "1215419026958094338 2020-01-09 15:44:12 Pacific Standard Time <Beaker> Lol\n",
      "1215388266008104961 2020-01-09 13:41:58 Pacific Standard Time <Beaker> I grill in rain and snow. That’s what large umbrellas are for pic.twitter.com/HeA7U2n3jq\n",
      "1215090456071065600 2020-01-08 17:58:34 Pacific Standard Time <Beaker> LOL\n",
      "1215004922237923331 2020-01-08 12:18:41 Pacific Standard Time <Beaker> I 3D printed one 😂\n",
      "1214970180981469184 2020-01-08 10:00:38 Pacific Standard Time <Beaker> That’s the corporate apartment in Chicago.\n",
      "1214783347030974468 2020-01-07 21:38:14 Pacific Standard Time <Beaker> That’s fucking hysterical. Why did I not think about that?!\n",
      "1214783180437409792 2020-01-07 21:37:34 Pacific Standard Time <Beaker> Yep 🤓\n",
      "1214750696232411136 2020-01-07 19:28:29 Pacific Standard Time <Beaker> I am not color OCD pic.twitter.com/e6J1QgNavk\n",
      "1214742339723448323 2020-01-07 18:55:17 Pacific Standard Time <Beaker> I’m so sorry my brother. Peace to you and yours ❤️🙁\n",
      "1214378898928099329 2020-01-06 18:51:06 Pacific Standard Time <Beaker> Sorry :(\n",
      "1214351786708021248 2020-01-06 17:03:22 Pacific Standard Time <Beaker> So excite. Many happy. Much congratulate. Tomorrow @likethecoins will be starting as a Principal Intelligence Analyst with @redcanaryco WOOHOO!\n",
      "1214314970374180864 2020-01-06 14:37:04 Pacific Standard Time <Beaker> Yo! 🙃 Call for Speakers open for our @ithottopics conference April 29-30 at the lovely @grandoverresort in Greensboro, NC. https://www.papercall.io/itht2020 \n",
      "1214311432059265024 2020-01-06 14:23:00 Pacific Standard Time <Beaker> I’ll get right on it.\n",
      "1214311185358770177 2020-01-06 14:22:02 Pacific Standard Time <Beaker> Ah, bummer. Ah well\n",
      "1214174076782174208 2020-01-06 05:17:12 Pacific Standard Time <Beaker> Oomph! Transcontinental no less 😎 pic.twitter.com/ftyoOhKY1a\n",
      "1214173550220861440 2020-01-06 05:15:07 Pacific Standard Time <Beaker> Sure do! “Exhaustion.” 🤪\n",
      "1214172974951124993 2020-01-06 05:12:50 Pacific Standard Time <Beaker> You mean as opposed to driving solo in a vehicle in rush hour traffic to and from work, every day, in stop-and-go/idling traffic? I guess so? I take a fully electric vehicle to/from the airport, so I do what I can there. 🤷‍♂️\n",
      "1214171918271754246 2020-01-06 05:08:38 Pacific Standard Time <Beaker> Pretty much. I did Starbucks pastries.\n",
      "1214171796737536001 2020-01-06 05:08:09 Pacific Standard Time <Beaker> Totally! When I didn’t commute, it’s was the people @ SBUX, etc., so I totally grok your point\n",
      "1214162007382999043 2020-01-06 04:29:15 Pacific Standard Time <Beaker> Which one is you?\n",
      "1214161899752960000 2020-01-06 04:28:49 Pacific Standard Time <Beaker> For the last 6 months, I have commuted from NC > IL every Monday and back Thursday. There are people I don’t really know but chat with every week doing the same run...and there’s this fun camaraderie/civility/warmth that goes w/every Monday AM handshake/hello. #Humans\n",
      "1214142412756533248 2020-01-06 03:11:23 Pacific Standard Time <Beaker> Congrats to @mediaphyter as she has joined @Claroty as Chief Marketing Officer, building a market for industrial security, working on a meaningful mission of securing the world’s critical infra, & helping CISOs & security teams address securing their OT networks\n",
      "1213892447941677057 2020-01-05 10:38:07 Pacific Standard Time <Beaker> Could have something to do with Hamilton, relatively speaking. https://twitter.com/gdbassett/status/1213859237547401216 …\n",
      "1213891453967093761 2020-01-05 10:34:10 Pacific Standard Time <Beaker> Let me know if I can help; I’ve gone through this twice and have some experience (unqualified as it may be) DMs are open\n",
      "1213811023922237441 2020-01-05 05:14:34 Pacific Standard Time <Beaker> Slippery slope, this... https://twitter.com/cybergibbons/status/1213572501395120134 …\n",
      "1213188262682136576 2020-01-03 11:59:56 Pacific Standard Time <Beaker> Nuts.\n",
      "1212232143746850817 2019-12-31 20:40:39 Pacific Standard Time <Beaker> I did! I sprayed your nipples with “I can’t believe it’s not butter” and then @rmogull and I demanded you propose to her! https://twitter.com/Dave_Maynor/status/1212113201279754240 …\n",
      "1212231685435248640 2019-12-31 20:38:50 Pacific Standard Time <Beaker> Hi. Fucking. Bachi.\n",
      "1212086838015315968 2019-12-31 11:03:16 Pacific Standard Time <Beaker> Untangle if you don’t want to build it yourself.\n",
      "1210474338945626112 2019-12-27 00:15:46 Pacific Standard Time <Beaker> Many pieces of good advice in this thread from many more qualified than I, @sonofshirt , but I do make some tasty meat from time to time 😎\n",
      "1210362141657554944 2019-12-26 16:49:56 Pacific Standard Time <Beaker> Lol https://twitter.com/JeremyMcLellan/status/1209989743884328961 …\n",
      "1209705835149979648 2019-12-24 21:22:01 Pacific Standard Time <Beaker> Without slamming into the curb like he did?\n"
     ]
    }
   ],
   "source": [
    "# d.Search = \"Stocks\"\n",
    "d = twint.Config()\n",
    "d.Username = \"beaker\"\n",
    "d.Limit = 50\n",
    "# d.Store_csv = True\n",
    "d.Store_object = True\n",
    "d.Store_json = True\n",
    "d.Output = \"./test1.json\"\n",
    "# d.Database = \"tweets.db\"\n",
    "\n",
    "\n",
    "x = twint.run.Search(d)"
   ]
  },
  {
   "cell_type": "code",
   "execution_count": 42,
   "metadata": {},
   "outputs": [],
   "source": [
    "# x = twint.run.Search(d)\n",
    "# twint -u noneprivacy --csv --output \"/Users/psingh4/harsh/test4.json\" --lang en --translate --translate-dest it --limit 100"
   ]
  },
  {
   "cell_type": "code",
   "execution_count": 43,
   "metadata": {},
   "outputs": [],
   "source": [
    "# d.__dict__.keys()"
   ]
  },
  {
   "cell_type": "code",
   "execution_count": 44,
   "metadata": {},
   "outputs": [],
   "source": [
    "# twint.run.Search(d)\n",
    "# twint.output"
   ]
  },
  {
   "cell_type": "code",
   "execution_count": 64,
   "metadata": {},
   "outputs": [],
   "source": [
    "f= open(\"./test1.json\",\"r\",errors='ignore')\n",
    "line1 = f.readlines()\n",
    "arr = []\n",
    "for x in line1:\n",
    "    arr.append(x)\n",
    "f.close()    "
   ]
  },
  {
   "cell_type": "code",
   "execution_count": 65,
   "metadata": {},
   "outputs": [],
   "source": [
    "arr.insert(0,\"[\")"
   ]
  },
  {
   "cell_type": "code",
   "execution_count": 66,
   "metadata": {},
   "outputs": [],
   "source": [
    "arr.append(']')\n",
    "for i in range(1,len(arr)-2):\n",
    "    arr[i] = arr[i][:-1] + \",\" + arr[i][-1:]"
   ]
  },
  {
   "cell_type": "code",
   "execution_count": 67,
   "metadata": {},
   "outputs": [],
   "source": [
    "file = open(\"./test1.json\",\"w\")\n",
    "for i in range(len(arr)):\n",
    "    file.write(arr[i])\n",
    "file.close()"
   ]
  },
  {
   "cell_type": "code",
   "execution_count": 69,
   "metadata": {},
   "outputs": [],
   "source": [
    "import json\n",
    "# read_file = \"/Users/psingh4/harsh/test.json\"\n",
    "read_file = \"\"\n",
    "with open(\"./test1.json\", \"r\") as read_file:\n",
    "    data = json.load(read_file)"
   ]
  },
  {
   "cell_type": "code",
   "execution_count": 71,
   "metadata": {},
   "outputs": [
    {
     "data": {
      "text/plain": [
       "2000"
      ]
     },
     "execution_count": 71,
     "metadata": {},
     "output_type": "execute_result"
    }
   ],
   "source": [
    "len(data)"
   ]
  },
  {
   "cell_type": "code",
   "execution_count": 122,
   "metadata": {},
   "outputs": [],
   "source": [
    "import mysql.connector"
   ]
  },
  {
   "cell_type": "code",
   "execution_count": 123,
   "metadata": {},
   "outputs": [],
   "source": [
    "mydb = mysql.connector.connect(user='admin', password='Private2712!',\n",
    "                              host='database-1.cok63qqiofsd.us-east-1.rds.amazonaws.com',\n",
    "                              database='data')"
   ]
  },
  {
   "cell_type": "code",
   "execution_count": 124,
   "metadata": {},
   "outputs": [],
   "source": [
    "mycursor = mydb.cursor()"
   ]
  },
  {
   "cell_type": "code",
   "execution_count": 125,
   "metadata": {},
   "outputs": [
    {
     "name": "stdout",
     "output_type": "stream",
     "text": [
      "2000 record inserted.\n"
     ]
    }
   ],
   "source": [
    "sql = \"\"\"INSERT INTO train_data (created_at, conversation_id, id, date, time, timezone, user_id, username, name, place, tweet, mentions, urls, replies_count, \n",
    "        retweets_count, likes_count, hashtags, cashtags, link, retweet, video, near, geo, source, user_rt_id, user_rt, retweet_id,\n",
    "        retweet_date, translate, trans_src, trans_dest, photos, reply_to) VALUES (%s, %s, %s, %s, %s, %s, %s, %s, %s, %s, %s, %s, %s, %s, %s, \n",
    "        %s, %s, %s, %s, %s, %s, %s, %s, %s, %s, %s, %s, %s, %s, %s, %s, %s, %s)\"\"\"\n",
    "\n",
    "val = []\n",
    "for i in range(len(data)):\n",
    "    val.append((data[i]['created_at'], data[i]['conversation_id'], str(data[i]['id']), data[i]['date'], data[i]['time'], data[i]['timezone'], data[i]['user_id'], data[i]['username'],\n",
    "      data[i]['name'], data[i]['place'], data[i]['tweet'], str(data[i]['mentions']), str(data[i]['urls']), data[i]['replies_count'],\n",
    "      data[i]['retweets_count'], data[i]['likes_count'], str(data[i]['hashtags']), str(data[i]['cashtags']), data[i]['link'], data[i]['retweet'],\n",
    "      data[i]['video'], data[i]['near'], data[i]['geo'], data[i]['source'], data[i]['user_rt_id'], data[i]['user_rt'],\n",
    "      data[i]['retweet_id'], data[i]['retweet_date'], data[i]['translate'], data[i]['trans_src'], data[i]['trans_dest'],str(data[i]['photos']), \n",
    "       str(data[i]['reply_to'])))\n",
    "    \n",
    "mycursor.executemany(sql, val)\n",
    "\n",
    "mydb.commit()\n",
    "\n",
    "print(mycursor.rowcount, \"record inserted.\")"
   ]
  },
  {
   "cell_type": "code",
   "execution_count": 126,
   "metadata": {},
   "outputs": [],
   "source": [
    "mydb.close()"
   ]
  },
  {
   "cell_type": "code",
   "execution_count": null,
   "metadata": {},
   "outputs": [],
   "source": [
    "val = []\n",
    "for i in range(len(data)):\n",
    "    val.append((data[i]['created_at'], data[i]['conversation_id'], data[i]['date'], data[i]['time'], data[i]['timezone'], data[i]['user_id'], data[i]['username'],\n",
    "      data[i]['name'], data[i]['place'], data[i]['tweet'], str(data[i]['mentions']), str(data[i]['urls']), data[i]['replies_count'],\n",
    "      data[i]['retweets_count'], data[i]['likes_count'], str(data[i]['hashtags']), str(data[i]['cashtags']), data[i]['link'], data[i]['retweet'],\n",
    "      data[i]['video'], data[i]['near'], data[i]['geo'], data[i]['source'], data[i]['user_rt_id'], data[i]['user_rt'],\n",
    "      data[i]['retweet_id'], data[i]['retweet_date'], data[i]['translate'], data[i]['trans_src'], data[i]['trans_dest'],0,str(data[i]['photos']), \n",
    "       str(data[i]['reply_to'])))"
   ]
  },
  {
   "cell_type": "code",
   "execution_count": null,
   "metadata": {},
   "outputs": [],
   "source": [
    "# mydb.commit()\n",
    "# !pip install tensorflow\n",
    "# print(mycursor.rowcount, \"record inserted.\")"
   ]
  },
  {
   "cell_type": "code",
   "execution_count": null,
   "metadata": {},
   "outputs": [],
   "source": [
    "mycursor.execute(\"SELECT * FROM information_schema.COLUMNS  WHERE TABLE_SCHEMA='data'\")"
   ]
  },
  {
   "cell_type": "code",
   "execution_count": null,
   "metadata": {},
   "outputs": [],
   "source": [
    "myresult = mycursor.fetchone()\n",
    "print(myresult)"
   ]
  },
  {
   "cell_type": "code",
   "execution_count": null,
   "metadata": {},
   "outputs": [],
   "source": [
    "created_at date time timezone user_id username name place tweet mentions urls replies_count \n",
    "retweets_count likes_count hastags cashtags link retweet video near geo source user_rt_id user_rt retweet_id\n",
    "retweet_date translate trans_src trans_dest relevant"
   ]
  },
  {
   "cell_type": "code",
   "execution_count": null,
   "metadata": {},
   "outputs": [],
   "source": [
    "print(data[0]['created_at'], data[0]['date'], data[0]['time'], data[0]['timezone'], data[0]['user_id'], data[0]['username'],\n",
    "      data[0]['name'], data[0]['place'], data[0]['tweet'], str(data[0]['mentions']), str(data[0]['urls']), data[0]['replies_count'],\n",
    "      data[0]['retweets_count'], data[0]['likes_count'], str(data[0]['hashtags']), str(data[0]['cashtags']), data[0]['link'], data[0]['retweet'],\n",
    "      data[0]['video'], data[0]['near'], data[0]['geo'], data[0]['source'], data[0]['user_rt_id'], data[0]['user_rt'],\n",
    "      data[0]['retweet_id'], data[0]['retweet_date'], data[0]['translate'], data[0]['trans_src'], data[0]['trans_dest'],0,str(data[0]['photos']), \n",
    "       str(data[0]['reply_to']))"
   ]
  },
  {
   "cell_type": "code",
   "execution_count": null,
   "metadata": {},
   "outputs": [],
   "source": [
    "import datetime\n",
    "x = datetime.time(17,59,51)\n",
    "print(x.date())\n",
    "t = datetime.time(1, 2, 3)\n",
    "print(t)\n",
    "x = datetime.datetime(2020,1,1,17,2,3)\n",
    "print(x.date().isoformat())\n",
    "import time    \n",
    "time.strftime('%Y-%m-%d %H:%M:%S')"
   ]
  },
  {
   "cell_type": "code",
   "execution_count": null,
   "metadata": {},
   "outputs": [],
   "source": [
    "# !pip install bert-serving-server\n",
    "# !pip install bert-serving-client"
   ]
  },
  {
   "cell_type": "code",
   "execution_count": 111,
   "metadata": {},
   "outputs": [
    {
     "data": {
      "text/plain": [
       "{'cashtags': [],\n",
       " 'conversation_id': '1218605167823806464',\n",
       " 'created_at': 1579387325000,\n",
       " 'date': '2020-01-18',\n",
       " 'geo': '',\n",
       " 'hashtags': [],\n",
       " 'id': 1218664887381041155,\n",
       " 'likes_count': 4,\n",
       " 'link': 'https://twitter.com/briankrebs/status/1218664887381041155',\n",
       " 'mentions': ['thewrongphil', 'redteamwrangler'],\n",
       " 'name': 'briankrebs',\n",
       " 'near': '',\n",
       " 'photos': [],\n",
       " 'place': '',\n",
       " 'quote_url': '',\n",
       " 'replies_count': 0,\n",
       " 'reply_to': [{'user_id': '22790881', 'username': 'briankrebs'},\n",
       "  {'user_id': '3560292449', 'username': 'thewrongphil'},\n",
       "  {'user_id': '200950703', 'username': 'redteamwrangler'}],\n",
       " 'retweet': False,\n",
       " 'retweet_date': '',\n",
       " 'retweet_id': '',\n",
       " 'retweets_count': 0,\n",
       " 'source': '',\n",
       " 'time': '14:42:05',\n",
       " 'timezone': 'Pacific Standard Time',\n",
       " 'trans_dest': '',\n",
       " 'trans_src': '',\n",
       " 'translate': '',\n",
       " 'tweet': 'You will soon....',\n",
       " 'urls': [],\n",
       " 'user_id': 22790881,\n",
       " 'user_rt': '',\n",
       " 'user_rt_id': '',\n",
       " 'username': 'briankrebs',\n",
       " 'video': 0}"
      ]
     },
     "execution_count": 111,
     "metadata": {},
     "output_type": "execute_result"
    }
   ],
   "source": [
    "data[0]"
   ]
  },
  {
   "cell_type": "code",
   "execution_count": 78,
   "metadata": {},
   "outputs": [
    {
     "data": {
      "text/plain": [
       "'1217152211056238593'"
      ]
     },
     "execution_count": 78,
     "metadata": {},
     "output_type": "execute_result"
    }
   ],
   "source": [
    "data[7]['conversation_id']"
   ]
  },
  {
   "cell_type": "code",
   "execution_count": 91,
   "metadata": {},
   "outputs": [
    {
     "data": {
      "text/plain": [
       "(1579387325000,\n",
       " '1218605167823806464',\n",
       " '2020-01-18',\n",
       " '14:42:05',\n",
       " 'Pacific Standard Time',\n",
       " 22790881,\n",
       " 'briankrebs',\n",
       " 'briankrebs',\n",
       " '',\n",
       " 'You will soon....',\n",
       " \"['thewrongphil', 'redteamwrangler']\",\n",
       " '[]',\n",
       " 0,\n",
       " 0,\n",
       " 4,\n",
       " '[]',\n",
       " '[]',\n",
       " 'https://twitter.com/briankrebs/status/1218664887381041155',\n",
       " False,\n",
       " 0,\n",
       " '',\n",
       " '',\n",
       " '',\n",
       " '',\n",
       " '',\n",
       " '',\n",
       " '',\n",
       " '',\n",
       " '',\n",
       " '',\n",
       " '[]',\n",
       " \"[{'user_id': '22790881', 'username': 'briankrebs'}, {'user_id': '3560292449', 'username': 'thewrongphil'}, {'user_id': '200950703', 'username': 'redteamwrangler'}]\")"
      ]
     },
     "execution_count": 91,
     "metadata": {},
     "output_type": "execute_result"
    }
   ],
   "source": [
    "val[0]"
   ]
  },
  {
   "cell_type": "code",
   "execution_count": null,
   "metadata": {},
   "outputs": [],
   "source": []
  }
 ],
 "metadata": {
  "kernelspec": {
   "display_name": "Python 3",
   "language": "python",
   "name": "python3"
  },
  "language_info": {
   "codemirror_mode": {
    "name": "ipython",
    "version": 3
   },
   "file_extension": ".py",
   "mimetype": "text/x-python",
   "name": "python",
   "nbconvert_exporter": "python",
   "pygments_lexer": "ipython3",
   "version": "3.6.4"
  }
 },
 "nbformat": 4,
 "nbformat_minor": 2
}
