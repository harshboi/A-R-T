{
 "cells": [
  {
   "cell_type": "code",
   "execution_count": 1,
   "metadata": {},
   "outputs": [],
   "source": [
    "import twint\n",
    "file = open(\"./test1.json\",\"w\")\n",
    "file.close()\n"
   ]
  },
  {
   "cell_type": "code",
   "execution_count": 2,
   "metadata": {},
   "outputs": [
    {
     "name": "stdout",
     "output_type": "stream",
     "text": [
      "1220797800998428673 2020-01-24 11:57:31 Pacific Standard Time <goffspice> - I've just read through the #MCRMK hash tag and seen 2 accounts using the same screenshot. The time and phone network and type of phone software is identical. Be careful. 🖤\n",
      "1220417721369866241 2020-01-23 10:47:13 Pacific Standard Time <randomtechsolu1> PicoLucid: This is a solution for the problem of non-inclusive pseudonymous software architecting. This will benefit CTOs, and will do so by considering faster audits by installing hash tables in approval flow scenarios.\n",
      "1220369710530752512 2020-01-23 07:36:27 Pacific Standard Time <abdul_ashkar> I am suggesting to use this amazing software. An easier, safer, and faster way to create, issue, and print checks for business purposes. Online Check Writer delivers the tools we need to manage, document, and track our checks.\n",
      "1220330815109902337 2020-01-23 05:01:53 Pacific Standard Time <elharo> Autogenerating a few getter and setter methods, maybe an equals method or a hash function, perhaps a builder, is a trivial enhancement that does not address the hard parts of software development. If it's done post-editing, it introduces new dependencies and failure modes.\n",
      "1220308109299613696 2020-01-23 03:31:40 Pacific Standard Time <hash1studio> Hash1studio can provide you complete brand identity, web development & online promotion services.  Visit now 👉  https://www.hash1studio.com/request-a-free-quote/ … #hash1studio #web_developer #development #website #programming #developer #coding #css #web_development #software #web #wordpress_development pic.twitter.com/EjIIXhmaT9\n",
      "1220307787936346112 2020-01-23 03:30:23 Pacific Standard Time <reliyant> #IBM’s biology-inspired #AI generates #hash #codes faster than classical approaches  Source:  https://venturebeat.com/2020/01/21/ibms-biologically-inspired-ai-generates-hash-codes-faster-than-classical-approaches/ … #Reliyant #programming #coding #developer #coders #programmers #frontend #computerscience #software #machinelearning #AI #technews #technology #freelance\n",
      "1220282719336390656 2020-01-23 01:50:46 Pacific Standard Time <KijaniHQ> Dear client,  Does your website save login passwords as MD5 hashes? That is insecure. Look to switching to using CRYPT_BLOWFISH to hash all your site's passwords.  For web design services:  http://kijanihq.com .  #IkoKaziKE #IkoKazi pic.twitter.com/H7juQ6LfsO\n",
      "1220259046281949184 2020-01-23 00:16:42 Pacific Standard Time <randomtechsolu1> DNATech: Avoid inaccessible integrated advertising with indirectly promoting better software creation by integrating hash tables in edge computing.\n",
      "1220181658738909184 2020-01-22 19:09:11 Pacific Standard Time <SomsenRuben> 4/4 However, BCH is ill-suited for hash wars, because the software rejects all reorgs after 10 blocks! If both sides race for it and reach the threshold simultaneously, this will permanently split the network! A terrible outcome for all parties involved🤯  https://medium.com/@jiangzhuoer/infrastructure-funding-plan-for-bitcoin-cash-131fdcd2412e …\n",
      "1220162898913300482 2020-01-22 17:54:39 Pacific Standard Time <kurtwuckertjr> ABC split from SV with a couple of software tricks, insider relationships with exchanges and stolen hash power for which Roger has been sued by his own customers. A retrospective look shows SV miners merely showed up with their own ASICS and mined. Frankly, it's what won me over.\n",
      "1220141040004292608 2020-01-22 16:27:47 Pacific Standard Time <toomuch72> Simply put is each miner has a software algorithm running that will automatically adjust. The difficulty algorithms entire goal is to keep 10 min block times. Miners individual algorithms know this too and will constantly scan and either remove or move hash from the system.\n",
      "1219865021993406464 2020-01-21 22:10:59 Pacific Standard Time <HashRaygoza> TICOM, un webcomic sobre desarrollo de software  https://link.medium.com/iTCv8NBTr3 \n",
      "1219775950604337154 2020-01-21 16:17:03 Pacific Standard Time <randomtechsolu1> QuadSystems: This solves hard-to-understand multi-node server deployment met by underbanked users through indirectly promoting better software architecting by migrating hash tables in business process managers.\n",
      "1219696589687730176 2020-01-21 11:01:42 Pacific Standard Time <justlexxxx> i hope so. w a personalized hash tag\n",
      "1219672529566126083 2020-01-21 09:26:06 Pacific Standard Time <SoftwareSubzero> Dash Mini Maker: The Mini Waffle Maker Machine for Individual Waffles, Paninis, Hash browns, & other on the go Breakfast, Lunch, or Snacks – White  https://techamar.com/dash-mini-maker-the-mini-waffle-maker-machine-for-individual-waffles-paninis-hash-browns-other-on-the-go-breakfast-lunch-or-snacks-white/ … pic.twitter.com/Pa33liXNaW\n",
      "1219662645906870272 2020-01-21 08:46:49 Pacific Standard Time <SEOLondonInfo> Whether you’ve just started coding or you’ve been participating in programming contests for years, Hash Code is a great chance to flex your coding muscles, get a glimpse into software engineering at Google, and have some fun.\n",
      "1219636985507274753 2020-01-21 07:04:51 Pacific Standard Time <NoJokeChris> Yup, and the part that needs to be emphasized is that the A0 team KNOWS very well that they were playing a weakened SF. They know what software versions are, they know what hash tables are, they knew exactly what they were doing.\n",
      "1219454211240296450 2020-01-20 18:58:34 Pacific Standard Time <Elon1904> Miners are people who run bitcoin mining software on computer hardware. What this mining software does is a complicated process but essentially it tries to perform a brute-force on a SHA-256 hash.\n",
      "1219419218346536960 2020-01-20 16:39:32 Pacific Standard Time <jeanpaulsio> OKAY so message: who are the engineers behind the speech recognition software @C4TheCircle because this speech-to-text is next fucking level. Let's go with the mind blown emoji. Hash tag next-fucking-level. OK SEND #alert #TheCircleNetflix\n",
      "1219245222422597634 2020-01-20 05:08:08 Pacific Standard Time <HashTagVirtual> #Noticia: Una cuesta de enero menos cuesta en software: Windows 10 Pro por menos de 10 euros  https://ift.tt/38lZdky \n",
      "1219219832308191233 2020-01-20 03:27:14 Pacific Standard Time <michaelfolkson> Fair challenge. I haven't looked into how much TCP/IP software has ossified. Cryptography e.g. quantum is continuously broken. At least hash functions, ECDSA/Schnorr will need to be updated on semi-regular basis. It would surprise me too if TCP/IP had no maintenance.\n",
      "1219163546514337793 2020-01-19 23:43:35 Pacific Standard Time <rand_0m> I've had my fair share of buggy software and I'm asking seriously why you think it's not possible to \"forget\" the pin? A bug could have deleted the hash, couldn't it? It certainly would look like a lost key. Ppl. just don't like him, that's why they're making fun of him, right?\n",
      "1219028108868755456 2020-01-19 14:45:24 Pacific Standard Time <LiveBit_io> or did you simply create a private key from a SHA-256 hash of a password or something like that?  What software is this?\n",
      "1219003743565312001 2020-01-19 13:08:35 Pacific Standard Time <lazygetter> technically software can forget if they happen to delete the stored hash of the password from the DB. so yeah maybe learn something first.\n",
      "1218964887574966272 2020-01-19 10:34:11 Pacific Standard Time <TRPriceSoftware> Hey all #remoteworking folks, do you use cameras in meetings? Why or why not?  Here I argue for using them when you're having a small meeting (3-5 people) to really hash out something. For bigger meetings, though? Doesn't help.  @chris_herd, thoughts? https://blog.taylorbuiltsolutions.com/should-remote-workers-use-cameras-in-meetings/ …\n",
      "1218959438528249856 2020-01-19 10:12:31 Pacific Standard Time <turndownformars> Thanks! I have raw timestamped video of ascent through S1 destruction (this was just one frame), but it's pretty jittery and isn't playing well with my stabilization software. @DJSnM, what did you using to stabilize your clips?\n",
      "1218884744877891584 2020-01-19 05:15:43 Pacific Standard Time <Int64Software> Make improving your network security your #NewYearsResolution: deploy @Microsoft LAPS to securely randomise your Local Admin passwords, then use #OVERLAPS to retrieve and manage them. It's the best way to mitigate the threat of Pass-the-Hash attacks.  https://int64software.com/overlaps/?tw=twitterjan20 …\n",
      "1218726282344783872 2020-01-18 18:46:03 Pacific Standard Time <___royalcourt> How about we use facial recognition software to block images on the TL? Hmmm?! Cause if I see that lil g*n girl on here or that lil curly headed boy with the chicle for teeth one more gain, I’m rioting.\n",
      "1218520894857007104 2020-01-18 05:09:55 Pacific Standard Time <diass_le> 90% das empresas não são o Google e não vão exigir que ninguém saiba o livro do Cormen de trás pra frente.    Na maioria dos casos ninguém precisa saber implementar uma hash table na unha pra trabalhar numa startup de 100 clientes com software de crud.\n",
      "1218348137359773697 2020-01-17 17:43:26 Pacific Standard Time <arekfurt> As for whether using path rules is less secure than using real application whitelisting by hash or certificate, sure. The risk of some odd permissions change being done by 3rd party software creating a user-alterable location somewhere unexpected is real. I've seen that too.\n",
      "1218225427526901760 2020-01-17 09:35:50 Pacific Standard Time <HashTableSlashr> \"Refinement\" is a nice word I suppose, a less optimistic person would say \"buttfuckening regressions\"  Also, I am not excluding mods here, since those are _really_ what gave the early id Software games their longevity.\n",
      "1218099523823624192 2020-01-17 01:15:32 Pacific Standard Time <QuillHash> From @coindesk:    \"@amazon is seeking to integrate parts of its advertising business with a #Blockchain. The e-commerce giant is looking for a senior software engineer to join its Advertising FinTech team focused on a Blockchain ledger, according to a recent job posting.\"  pic.twitter.com/5EwMCJeyKP\n",
      "1218092161075421184 2020-01-17 00:46:16 Pacific Standard Time <randomtechsolu1> ImmersRack: This solves non-inclusive consortium software creation first-hand experience by unbanked users through inducing regulation-compliant ideation processing by integrating hash tables in edge security.\n",
      "1218082971229528065 2020-01-17 00:09:45 Pacific Standard Time <Jazzmodes> Yes real music symbols are scarce. Journalistic style guides recommend spelling out: C sharp. Some fonts don't even support Unicode U+266F (sharp) and other music symbols. The overworked hash symbol # is called in as a substitute. As for keyboard software...\n",
      "1217518598563954688 2020-01-15 10:47:08 Pacific Standard Time <Jasonvalliere2> A Bitcoin is defined by the digitally signed record of its transactions, starting with its creation. The block is an encrypted hash proof of work, created in a compute-intensive process. Miners use software that accesses their processing capacity to solve\n",
      "1217503859603640320 2020-01-15 09:48:34 Pacific Standard Time <HouariZegai> Hash Code, a team coding competition inspired by software engineering at @Google, is back for 2020! Registration is open:  http://g.co/hashcode   Is a great opportunity to practice your coding skills, meet other developers, and have some fun.  #codingchallange #developers pic.twitter.com/NduxCypVLs\n",
      "1217246019529867267 2020-01-14 16:44:01 Pacific Standard Time <ResearchBuzz> Google Blog: Google’s Hash Code competition is back -  https://buff.ly/35Nv77L  #software #programming\n"
     ]
    },
    {
     "name": "stdout",
     "output_type": "stream",
     "text": [
      "1216879692411740160 2020-01-13 16:28:21 Pacific Standard Time <TinyGiant1986> What mining software do you use for crypto mining? Along with what’s your current set up and hash rate?\n",
      "1216639134950924288 2020-01-13 00:32:28 Pacific Standard Time <SecurityMagnate> threatmeter: mruby 2.1.0 hash-ext.c hash_slice memory corruption A vulnerability was found in mruby 2.1.0 (Programming Language Software) and classified as critical. Affected by this issue is the function hash_slice of the file mrbgems/mruby-hash-ext/src…  https://ift.tt/2NcHfJ6 \n",
      "1216632487155326977 2020-01-13 00:06:03 Pacific Standard Time <threatmeter> mruby 2.1.0 hash-ext.c hash_slice memory corruption A vulnerability was found in mruby 2.1.0 (Programming Language Software) and classified as critical. Affected by this issue is the function hash_slice of the file mrbgems/mruby-hash-ext/src/hash-ext.c. …  https://ift.tt/2NcHfJ6 \n",
      "1216488870054785024 2020-01-12 14:35:22 Pacific Standard Time <eriktheplaid> Pro tip: If your enterprise software company homepage makes me wonder what corpus was fed to a neural net to produce it AND requires multiple Google searches for me to figure out what you ACTUALLY do, you might want to put down the jargon hash-pipe.  pic.twitter.com/2NhsLn1NNN\n",
      "1216363447304294402 2020-01-12 06:16:59 Pacific Standard Time <randomtechsolu1> SimLuce: Avoid non-inclusive consortium stock-keeping with initiating hash tables in user experience scenarios for more compliant software architecting.\n",
      "1216274724768174080 2020-01-12 00:24:26 Pacific Standard Time <SecurityMagnate> threatmeter: mruby 2.1.0 hash-ext.c hash_values_at memory corruption A vulnerability, which was classified as critical, was found in mruby 2.1.0 (Programming Language Software). Affected is the function hash_values_at of the file mrbgems/mruby-hash-ext/s…  https://ift.tt/2uz9T0w \n",
      "1216268892684857344 2020-01-12 00:01:15 Pacific Standard Time <threatmeter> mruby 2.1.0 hash-ext.c hash_values_at memory corruption A vulnerability, which was classified as critical, was found in mruby 2.1.0 (Programming Language Software). Affected is the function hash_values_at of the file mrbgems/mruby-hash-ext/src/hash-ext.c…  https://ift.tt/2uz9T0w \n",
      "1215544187594182657 2020-01-10 00:01:32 Pacific Standard Time <Alevskey> Scallion – GPU Based Onion Hash Generator:  https://ift.tt/39TJBqc  by Darknet #infosec #software #technology\n",
      "1215406499264106496 2020-01-09 14:54:25 Pacific Standard Time <CyberSecCorp> Se ha desarrollado una prueba de concepto que \"completa y prácticamente\" rompe el cifrado de firma de código Secure Hash Algorithm 1 (SHA-1), utilizado por computadoras legacy para firmar los certificados que autentican las descargas de software.\n",
      "1214970066262884352 2020-01-08 10:00:11 Pacific Standard Time <gagan_taggar> @MicrosoftHelps I'm getting this weird error on my Lumia 730 with windows 8.1, trying to upgrade to windows 10 mobile. While downloading upgrade, it fails at 68-69% and gives me error. When i try it via OTC software, upgrade fails at 68-69% and says hash-mismatch. 1/2\n",
      "1214921984506617856 2020-01-08 06:49:07 Pacific Standard Time <MicahZoltu> This has the \"3 trust points\" discussed above, software + gossip seed + latest warp sync block hash.\n",
      "1214845862519672832 2020-01-08 01:46:39 Pacific Standard Time <LorentzKonwo> Hi @AdobeXD I saw your mail about the knew price rate of XD, I appreciate your commitment to making the software great and that you must make money, don't you think making the local saving premium a bit hash for us in Africa ?\n",
      "1214799691012947969 2020-01-07 22:43:10 Pacific Standard Time <JAVAZEROSTUDIO> I just published Java Object Oriented Design — Java Hash Code  https://link.medium.com/TmoEJGfH42  . #java #javazero #programming #programmer #coding #software #Oracle\n",
      "1214798552213446657 2020-01-07 22:38:39 Pacific Standard Time <AurelG7> #PGP keys, software security, and much more threatened by new #SHA1 #exploit | #gnupg #hash #SHA1collision https://arstechnica.com/information-technology/2020/01/pgp-keys-software-security-and-much-more-threatened-by-new-sha1-exploit/ …\n",
      "1214785308258131968 2020-01-07 21:46:01 Pacific Standard Time <randomtechsolu1> AramiAurum: This solves slow multi-party banking experienced by CFOs through migrating hash tables in cognitive security for improved software creation.\n",
      "1214777811103363072 2020-01-07 21:16:14 Pacific Standard Time <randomtechsolu1> SuperTech: As developers, some of us have first-hand experience non-inclusive consortium data warehouse. This solution will solve this by expanding regulation-compliant software creation by migrating hash tables in data-lake environments.\n",
      "1214605817258758144 2020-01-07 09:52:47 Pacific Standard Time <QasamWahid> Thanks for explaining SHA keys to us. Apparently SHA-2 is built on the same mathematical model as SHA-1 so you should all move to SH-3. It is slower on software but the authors have discussed fixes.  I say, just buy a tmobile sim and put a 2FA code on your hash key!   Goodnight x\n",
      "1214601923296256004 2020-01-07 09:37:19 Pacific Standard Time <yipcw> PGP keys, software security, and much more threatened by new SHA1 exploit Behold: the world's first known chosen-prefix collision of widely used hash function  https://arstechnica.com/information-technology/2020/01/pgp-keys-software-security-and-much-more-threatened-by-new-sha1-exploit/ …\n",
      "1214597925872914432 2020-01-07 09:21:26 Pacific Standard Time <NoiseHandle> 1: Get video file 2: Hash video file 3: Embed Hash into transaction on preferred blockchain 4: At moment of your choosing disclose video file, Hash, Hash code, transaction 5: Repeat  Blockchain explorer software improves over time. Time stamp is for social not technical purposes.\n",
      "1214573881412898816 2020-01-07 07:45:53 Pacific Standard Time <nirmalyakar> PGP keys, software security, and much more threatened by new SHA1 exploit  #encryption #hash #SHA #cryptography #PGP #infosecurity #hacking #cryptanalysis  https://arstechnica.com/?post_type=post&p=1639935 …\n",
      "1214565118911995905 2020-01-07 07:11:04 Pacific Standard Time <nuriotus> #PGP keys, #software #security , and much more threatened by new #SHA1 exploit Behold: the world's first known chosen-prefix collision of widely used #hash function.   https://apple.news/AeOWptq_gQC2Ar66-iu3mWg …\n",
      "1214385219874304000 2020-01-06 19:16:13 Pacific Standard Time <randomtechsolu1> PicoRack: A cutting-edge solution for CTOs. By inducing improved remittance by applying hash tables in user interface interactions, it solves cumbersome multi-party software creation.\n",
      "1214179002912514048 2020-01-06 05:36:47 Pacific Standard Time <Anastasis_King> Hash-Identifier - Software To Identify The Different Types Of Hashes Used To Encrypt Data And Especially Passwords Software to identify the different types of hashes used to encrypt data and especially passwords.   https://github.com/AIOOSCP/hash-identifier …\n",
      "1214153744675418112 2020-01-06 03:56:25 Pacific Standard Time <pm9dcr> looking forward to someone knowledgeable of the validation process that validates: software version ballot version hash cross tabulations of votes reasonableness flags/warnings\n",
      "1214090713182420992 2020-01-05 23:45:57 Pacific Standard Time <randomtechsolu1> GenAurum: A unique solution for CIOs. By enabling more inclusive remittance by integrating hash tables in content management systems, it solves inaccessible integrated software creation.\n",
      "1213919806212034561 2020-01-05 12:26:49 Pacific Standard Time <MY_BORDERCOLLIE> It's real. Just look at the tweets from Iraq and Iran under HardRevenge hash tag. Use translation software.\n",
      "1213476410678886400 2020-01-04 07:04:56 Pacific Standard Time <aaslamisme> Credits protocol is based on the calculation of the hash of the last receive block. It accurately determines the storage of the latest up-to-date copy of the ledger and software at this node $CS #Credits #Blockchain #Cryptocurrency @creditscom\n",
      "1213220432498659328 2020-01-03 14:07:46 Pacific Standard Time <amol_kokje> My hack to generate a dictionary/hash type data structure in a shell script:  https://link.medium.com/3aLGnhGsX2  #bash #shell #dictionary #coding #software\n",
      "1213147653917347841 2020-01-03 09:18:34 Pacific Standard Time <FractalEncrypt> What about people's self-sovereign right to choose what they do with thier software/wetware? What if they want to modulate or overwrite their personal OS? Of course there's no \"mind\" testnet, so making sure you have the hash verified molecular private keys is critical...\n",
      "1213038733462626304 2020-01-03 02:05:45 Pacific Standard Time <EthGasman> 14/ Always verify the Hash of any wallets you download. Look into MITM attacks to understand why this is important. If you are frequently having to do this, burn the wallet software burnt to a read only DVD. This way you only have to verify the integrity of the software once.\n",
      "1212844094961131521 2020-01-02 13:12:20 Pacific Standard Time <michaelberry_fl> As a software engineer, I find it humorous that people actually think that you can \"learn to code\" as easily as learning to dig a ditch. Understanding the math behind, for example, a hash algorithm requires a bit more than a shovel.  https://twitter.com/Doc_0/status/1212821982271746048 …\n",
      "1212744643978420226 2020-01-02 06:37:09 Pacific Standard Time <RainDogDance> The genesis block was only a reference in the first bitcoin software, it didn't exist anywhere else apart from the software release. What I don't quite understand myself is that that block indeed had a hash, so some hashing work must have been going into it to find the said hash?\n",
      "1212654443252068352 2020-01-02 00:38:43 Pacific Standard Time <lrvick> Not true!  With open source software a third party (Like F-Droid, Debian, etc) can build it and verify they got the same hash.  This proves the released binary corresponds to the published source code. Then the community can review new code changes for flaws.\n",
      "1212399579561439234 2020-01-01 07:45:59 Pacific Standard Time <randomtechsolu1> ChainTek: This is a solution for the problem of overly complex multi-party software creation. This will benefit mobile users, and will do so by applying hash tables in edge computing for faster supply chain.\n",
      "1212286157976932352 2020-01-01 00:15:17 Pacific Standard Time <hash_undefined> Journey of the #decade. High School Graduate turns Badass Software Designer.  pic.twitter.com/7WfDCX8RhJ\n",
      "1212247030136881152 2019-12-31 21:39:49 Pacific Standard Time <CryptoEbit> Credits protocol is based on the calculation of the hash of the last receive block. It accurately determines the storage of the latest up-to-date copy of the ledger and software at this node $CS #Credits #Blockchain #Cryptocurrency @creditscom\n",
      "1212086679051415552 2019-12-31 11:02:38 Pacific Standard Time <FeelitWorking> What about Antivirus software that scans for files of interest or email and cloud systems checking hash values of files to see if you have anything naughty.\n",
      "1212013303117078528 2019-12-31 06:11:04 Pacific Standard Time <IamLedger1> The segwit exploit is less about hash and more about what version of bitcoin btc the miners run. It's the software that matters. If 51% of miners run presegwit software, then they cannot see segwit. They will mine what they can see. If a miner watches the segwit pool they can ...\n"
     ]
    },
    {
     "name": "stdout",
     "output_type": "stream",
     "text": [
      "1211619299108032514 2019-12-30 04:05:26 Pacific Standard Time <hash_1993> Ada software tak untuk construct simple model/ figures untuk research papers lol\n",
      "1211558328821665792 2019-12-30 00:03:09 Pacific Standard Time <morodog> #HackingNews #check How, why, and when you should hash check: Here at ProPrivacy we just love open source software. This is mainly because, despite not being perfect, open source provides the only way to know for sure that a program is on the level. One…  http://bit.ly/2F6Nwli  pic.twitter.com/0XIdkfuT1d\n",
      "1211410650473226241 2019-12-29 14:16:20 Pacific Standard Time <randomtechsolu1> GenAurum: This is a solution for the problem of inaccessible multi-bank customer service. This will benefit customers, and will do so by installing hash tables in user logins for better software architecting.\n",
      "1211402968991510528 2019-12-29 13:45:49 Pacific Standard Time <LefterisJP> What do you mean? That the most important participants that need to have updated their software is the miners due to the hash rate?\n",
      "1211284334742777858 2019-12-29 05:54:24 Pacific Standard Time <usnavalveteran> I do hardware, not software. So this particular area is rather foreign to me.   So I type in my password, and encryption software turns it into a hash that is then compared to the hash on the server side?\n",
      "1211232900148015104 2019-12-29 02:30:01 Pacific Standard Time <blueliv> ScreenConnect MSP Software Used to Install Zeppelin Ransomware #malware #ransomware #hash #domain #ipv4 #hashmd5 #zeppelin  https://buff.ly/35FLAvw  pic.twitter.com/6Ovs1lrCav\n",
      "1211058311627493376 2019-12-28 14:56:16 Pacific Standard Time <thatgoodcompany> Linked lists, Binary trees, Hash maps, Hash Sets, Big O…  You do need to know all the things mentioned above to become a Software Engineer, but you likely don’t need to know everything to start creating on the web.  Can you solve this challenge?    https://codesandbox.io/s/tgc-challenge-01-l5n6l?fontsize=14&hidenavigation=1&theme=dark …\n",
      "1211022310171402240 2019-12-28 12:33:13 Pacific Standard Time <BolatNartan> The  http://Gaimin.io  software platform has been designed to aggregate user processing power (hashrate or hash power) from the user’s GPU (graphics card).  #gaimin #blockchain @GaiminIo\n",
      "1210882638325649413 2019-12-28 03:18:12 Pacific Standard Time <celliasgw> The  http://Gaimin.io  software platform has been designed to aggregate user processing power (hashrate or hash power) from the user’s GPU (graphics card).  #gaimin #blockchain @GaiminIo\n",
      "1210880151023685632 2019-12-28 03:08:19 Pacific Standard Time <cicimuts> The  http://Gaimin.io  software platform has been designed to aggregate user processing power (hashrate or hash power) from the user’s GPU (graphics card).  #gaimin #blockchain @GaiminIo\n",
      "1210767224161484800 2019-12-27 19:39:35 Pacific Standard Time <js_var> Little coding  https://ift.tt/2tZOj5d  Hello, I need a bunch of regex ported to js. The tool takes a hash and identifies it and returns the hash id, etc. You will see in code... (Budget: $10 - $30 USD, Jobs: Javascript, node.js, Software Architecture)\n",
      "1210722843299737601 2019-12-27 16:43:14 Pacific Standard Time <_decius_> I suppose there ought to be a standard software system/protocol for distributed systems to digitally sign log entries with global sequence numbers without, you know, wasting CPU cycles on unnecessary hash cracking. Some kind of multicast syslog with non-repudiation.  https://twitter.com/LedgerInsights/status/1209011250887311361 …\n",
      "1210654482595491840 2019-12-27 12:11:36 Pacific Standard Time <ssuratkk1> The  http://Gaimin.io  software platform has been designed to aggregate user processing power (hashrate or hash power) from the user’s GPU (graphics card).  #gaimin #blockchain @GaiminIo\n",
      "1210504542246170624 2019-12-27 02:15:47 Pacific Standard Time <nickensofie> The  http://Gaimin.io  software platform has been designed to aggregate user processing power (hashrate or hash power) from the user’s GPU (graphics card).  #gaimin #blockchain @GaiminIo\n",
      "1210503415396282368 2019-12-27 02:11:18 Pacific Standard Time <lisabacub> The  http://Gaimin.io  software platform has been designed to aggregate user processing power (hashrate or hash power) from the user’s GPU (graphics card).  #gaimin #blockchain @GaiminIo\n",
      "1210440866843766785 2019-12-26 22:02:46 Pacific Standard Time <chaoticHusky> @dm_drogerie: Liebes DM Team, es ist wenig vertrauenserweckend, wenn sich der Hash eurer Foto-Software jedes mal ändert.   https://tinyurl.com/vyjv4ck  pic.twitter.com/cferyYlsil\n",
      "1210352017845182464 2019-12-26 16:09:42 Pacific Standard Time <Kosmatos> I want to sign up to  http://Rakuten.ca  to check it out. But they are forcing me to use a password with a 12 character maximum. That is stupid. Do I sign up to a web site that is built by stupid software developers? (Will they even hash the password?) CC: @RakutenCA @Rakuten\n",
      "1210294130485669888 2019-12-26 12:19:41 Pacific Standard Time <ssuratkk1> The  http://Gaimin.io  software platform has been designed to aggregate user processing power (hashrate or hash power) from the user’s GPU (graphics card).  #gaimin #blockchain @GaiminIo\n",
      "1210270607130185730 2019-12-26 10:46:13 Pacific Standard Time <randomtechsolu1> diyLux: This solves non-inclusive pseudonymous negotiations felt by a company's customers through installing hash tables in user management scenarios for regulation-compliant software architecting.\n",
      "1210262211563859968 2019-12-26 10:12:51 Pacific Standard Time <TimSweeneyEpic> I view this algorithm as the last hope for performant software transactional implementations since the .NET team’s efforts failed and all experiments show hash table indirection adds too much overhead.\n",
      "1209802349142786048 2019-12-25 03:45:31 Pacific Standard Time <randomtechsolu1> olysster: Have cumbersome aggregated software creation? Get a very advanced solution through considering more compliant ideation processing by integrating hash tables in fuzzy networking. Make your project managers happy.\n",
      "1209795284143874048 2019-12-25 03:17:27 Pacific Standard Time <yunibelove> The  http://Gaimin.io  software platform has been designed to aggregate user processing power (hashrate or hash power) from the user’s GPU (graphics card).  #gaimin #blockchain @GaiminIo\n",
      "1209792541173919744 2019-12-25 03:06:33 Pacific Standard Time <crypto_Esystem> The  http://Gaimin.io  software platform has been designed to aggregate user processing power (hashrate or hash power) from the user’s GPU (graphics card).  #gaimin #blockchain @GaiminIo\n",
      "1209515031999766529 2019-12-24 08:43:49 Pacific Standard Time <Mousewrangler2> College got me to memorize my SSN, a few things about software, why hash is better than weed, and how to pound 5 beers in a row.  Okay, maybe it wasn't a total scam... I had a pretty good time... but in software, a college degree says you need to be taught how to work on a team.\n",
      "1209339917047754752 2019-12-23 21:07:59 Pacific Standard Time <Hashsoftware> 4 Steps to Optimizing Your #Website   Target Market Business Analysis #keywords #Research Content Optimization and Submission Continuous Testing and Measuring pic.twitter.com/Z9JhXFxn5P\n",
      "1209147543172657153 2019-12-23 08:23:33 Pacific Standard Time <chrismezzz> That is the specific script template “OP_HASH160 <hash> OP_EQUAL” will not be allowed in new outputs and this rule will be directly implemented in the Bitcoin SV Node software.\n",
      "1208823129872556032 2019-12-22 10:54:27 Pacific Standard Time <mrsnzl3> @GaiminIo software platform has been designed to aggregate user processing power (hash rate or hash power) from the user’s GPU (graphics card) and direct to this processing power to potential monetization options\n",
      "potential monetization optionsser’s GPU (graphics card) and direct to this processing power totform has been designed to aggregate user processing power (hash\n",
      "1208430512509014017 2019-12-21 08:54:20 Pacific Standard Time <MatthiasHennig6> Nice! Version tracking of external software/packages: not clear if there can be a one size fits all, to get 100% reproducible analysis, but maybe even log a commit hash?\n",
      "1207859632409993218 2019-12-19 19:05:51 Pacific Standard Time <MuckZuckerburg> Match Game: Little Mix Blank. Ding, what's your answer? Hash Brown. Fart: Software. Buzz. Wrong, you lose. Next game.\n",
      "1207751949447319553 2019-12-19 11:57:58 Pacific Standard Time <ericlaw> Now, when weird software tries to inject itself into your browser's renderers (in this case \"Quick Heal Secure Browsing\"), the crash page shows  Error code: STATUS_INVALID_IMAGE_HASH.  pic.twitter.com/n6Lv7XsMO3\n",
      "1207686093530894336 2019-12-19 07:36:17 Pacific Standard Time <AgoristView> The possibility of a couple of block orphans is not \"having a leader\"  Miners that tried would lose hash power/pool members, & risk possibly even being cut out of the system entirely with software updates that reject their blocks\n",
      "1207681077197840387 2019-12-19 07:16:21 Pacific Standard Time <randomtechsolu1> etema: As employees, some of us have personally experienced inaccessible networked software architecting. This solution will solve this by installing hash tables in customer interaction services for more inclusive insight extraction.\n",
      "1207137395327610880 2019-12-17 19:15:57 Pacific Standard Time <randomtechsolu1> ExtraSys: Have cumbersome multi-node software creation? Get a very advanced solution through applying hash tables in development cycles for more compliant stock-keeping. Make your internal users happy.\n",
      "1206990008336433153 2019-12-17 09:30:17 Pacific Standard Time <DelftBlue7> John Bitcoin-This is a terribly false statement re: the role of Ripple the company, which builds fintech software applications, and XRP, the digital asset. The truth is in reversing your post to read exactly the opposite.    On the other hand, BTC hash rate 70% China controlled.  https://twitter.com/JohnBitcoin4/status/1206974717715976192 …\n",
      "1206976138305781761 2019-12-17 08:35:10 Pacific Standard Time <weareproprivacy> How, why, and when you should hash check to ensure your safety when using open source software!  http://ow.ly/iGyO30q2iUm \n"
     ]
    },
    {
     "name": "stdout",
     "output_type": "stream",
     "text": [
      "1206883622000693250 2019-12-17 02:27:32 Pacific Standard Time <JeZ_Zc> Ich möchte mal stark davon ausgehen, daß ein Großteil der Großkonzerne & Behörden in Deutschland keine Hash-werte oder überhaupt irgendwas verschlüsselt speichern, oder übermitteln. Klar, modernere Betreiber haben Hash-werte, aber nicht die übliche 15 Jahre veraltete Software.\n",
      "1206716369791795200 2019-12-16 15:22:56 Pacific Standard Time <IAintShootinMis> So a certain $vendor of security software sent us unsigned agents,  then blamed the hash... weird you compiled the code and published the hash.... wish I worked with @blackroomsec or had a soundboard for vendor calls 🤣\n",
      "1206601364782092289 2019-12-16 07:45:57 Pacific Standard Time <CryptoBabel> Like trying to say that trusting individually hosted software and/or third party is more vigilance and less risky than trusting in the competition of hash in the system as a whole to maintain the rules. Seems disingenuous to me.\n",
      "1206545455099854849 2019-12-16 04:03:47 Pacific Standard Time <EarthFurst> Tried to use OOTS purchase suggestion webpage but got error \"Software error: Can't use an undefined value as a HASH reference at /usr/share/koha/opac/cgi-bin/opac/opac-suggestions.pl line 150.\" (was trying to suggest Kim Reaper  https://onipress.com/products/kim-reaper-grim-beginnings … &  https://onipress.com/products/kim-reaper-vol-2-vampire-island … )\n",
      "1206210248291143686 2019-12-15 05:51:48 Pacific Standard Time <ishisaka> ジョエル・スポルスキーがFog Creek Software、Stack Overflowに続き、HASHで三度目の起業に取り組んでいる - YAMDAS現更新履歴  https://yamdas.hatenablog.com/entry/20191215/joel-spolsky-hash …\n",
      "1206171195764178945 2019-12-15 03:16:37 Pacific Standard Time <BolverBlitz> Wie sollen die (Whats App, Gmail & Co) überhaupt mein Passowrt kennen? Wenn ich Passwörter in meiner Software nutze, dann speichere ich das doch nicht sondern nur nen Hash...\n",
      "1206137006515994626 2019-12-15 01:00:45 Pacific Standard Time <yomoyomo> ジョエル・スポルスキーがFog Creek Software、Stack Overflowに続き、HASHで三度目の起業に取り組んでいる  https://ift.tt/38FjWRu \n",
      "1206023417079554048 2019-12-14 17:29:24 Pacific Standard Time <kinantilrst> ih anjir software TA gue gamau nge-run!!!!!!!!!hash\n",
      "1204653349297147905 2019-12-10 22:45:14 Pacific Standard Time <randomtechsolu1> AlphaSys: Have cumbersome consortium customer service? Get a cutting-edge solution through installing hash tables in customer interaction services for quicker software architecting. Make your crypto traders happy.\n",
      "1204585521114157059 2019-12-10 18:15:43 Pacific Standard Time <randomtechsolu1> vuply: This is a solution for the problem of complex aggregated insight extraction. This will benefit project managers, and will do so by enabling quicker software architecting by initiating hash tables in fuzzy networking.\n",
      "1204427021457281024 2019-12-10 07:45:53 Pacific Standard Time <randomtechsolu1> aefefo: As managers, some of us have met hard-to-understand intercompany software creation. This solution will solve this by migrating hash tables in customer interaction services for quicker ideation processing.\n",
      "1204185664595644422 2019-12-09 15:46:49 Pacific Standard Time <TheQuQu> Example from the past is the IWF hash database for CP. Excellent in theory, every web host should be granted access to use it.  In practice? Invite-only, Software as a Service, only Twitter-sized companies end up able to use it.   How could they screw up something so simple? 🤔\n",
      "1203432403017949185 2019-12-07 13:53:38 Pacific Standard Time <chadbarb> I’m thinking obfuscated copy protection? Like you want to get some computer-unique data and low key hash it to compare it with something else to determine if the software will work (possibly failing in a deliberately non-obvious way if the hashes don’t match.)\n",
      "1203085956460503041 2019-12-06 14:56:58 Pacific Standard Time <luke_pighetti> You don't because the smart contract source can be published and checked, like you would with an md5 hash. And being able to have client software to determine the validity of the data is a feature, not a bug.\n",
      "1202591336114925568 2019-12-05 06:11:32 Pacific Standard Time <ctimmerman17> Is there #Bitcoin software yet that doesn't require 200+ GB of disk space? Seems simply to vote for an official hash to start from.\n",
      "1202513792095141888 2019-12-05 01:03:24 Pacific Standard Time <hanno> this gives you a practically unique reference to that file (it's not technically unique, as it's a string of limited size, but it's practically infeasible to create two different versions of the same software with the same hash).\n",
      "1202379302643359745 2019-12-04 16:08:59 Pacific Standard Time <jeff_skilling> Maybe something to the extent of, “the cryptocurrency commonly referred to as bitcoin, or alternatively, the native asset of the blockchain operating a version of bitcoin software that is collectively mined by more hash power than any other bitcoin software blockchain.”\n",
      "1202292792573202432 2019-12-04 10:25:13 Pacific Standard Time <MatthiasEberl> There are many other breaches e.g. Google Analytics is used without anonymizing the IP data. And they use free software without proper license, for example Zepto.js from @thomasfuchs, Murmur Hash from Austin Appleby and FingerprintJS from Valentin Vasilyev. How low can you go?\n",
      "1202290960501133312 2019-12-04 10:17:57 Pacific Standard Time <bettycjung> #Canvasfingerprinting. A tracker renders shapes, graphics, and text in different fonts, then computes a “hash” of the pixels that get drawn. The hash will be different on devices with even slight differences in hardware, firmware, or software.  https://www.eff.org/wp/behind-the-one-way-mirror … pic.twitter.com/285dI81342\n",
      "1202032138503229440 2019-12-03 17:09:29 Pacific Standard Time <PaladinSizeable> Please add blake2sp to the hash function. And the ability to compare has files withing the program. Like a copy and paste to compare the hash of the file with one already known\n",
      "1201983378716811264 2019-12-03 13:55:43 Pacific Standard Time <veorq> right, sig lengths suck,  gotta improve this, anyway full dedicated circuit is probably inefficient, compared to software using hardware only for the hash\n",
      "1201938816191336448 2019-12-03 10:58:39 Pacific Standard Time <peazip_software> PeaZip context menu: extract (smart extraction automatically cares to create new folder if necessary), create common archive types, convert existing archives to different format, hash files. Many more options are available selecting Custom installation.  pic.twitter.com/0Jp32uRlif\n",
      "1201769300996055041 2019-12-02 23:45:03 Pacific Standard Time <misc_CIA_victim> Some software developers can focus on 1984 victims as a user class.  MITM is a big problem, but u can make it too expensive with software help - make png of your conversation with secure hash's & user parameters, for example.  If it's ez & automatic, it might help..\n",
      "1201521463712501761 2019-12-02 07:20:14 Pacific Standard Time <bernetteisqueen> not for friend to want the photo enhancing software 😂😂\n",
      "1201332951109292035 2019-12-01 18:51:09 Pacific Standard Time <hashim_warren> My brother is a first year software developer. Tonight he and and I were texting back and forth about new stuff we're learning.  Him - hash tables with C#   Me - closures in JavaScript  2019 was wild, yo\n",
      "1201325695047229441 2019-12-01 18:22:19 Pacific Standard Time <zach_hash> We need that software they use on crime shows to clear up the image 😂😂😂\n",
      "1201155690712035328 2019-12-01 07:06:47 Pacific Standard Time <Article4Warrior> Berezovsky financed a Neil Bush software corp & hash other ties to Bush Family. Saakashvili rec'd a grant from Bush's State Dept & became the chosen shill to take power in the Rose Rev Berezovsky poisoned a close friend who was running against Saakashvili.. Details below  pic.twitter.com/h9TuPL3445\n",
      "1200858171302170624 2019-11-30 11:24:33 Pacific Standard Time <Bucio> ▫️Monitorea {5/[n]}:  Busca un buen software que identifique (hash), escanee  de diferentes formas (como los AV), pueda poner un archivo en cuarentena, tenga detección  de autenticación y más ..  No pongo marcas por que aun no me pagan los tuits :v   [...continua {5.1/[n]} ]\n",
      "1200787586358403072 2019-11-30 06:44:04 Pacific Standard Time <Sylberman1> 1)O problema não são os hackers. Qualquer governo pode aparelhar o TSE e usar software já programado para dar o resultado que eles queiram. Pode auditar, pode colocar hash assinatura eletrônica o que for. Se o software for feito para ser uma fraude, ninguém consegue saber, ...  https://twitter.com/TSEjusbr/status/1200567368356900864 …\n"
     ]
    },
    {
     "name": "stdout",
     "output_type": "stream",
     "text": [
      "1200141935668801541 2019-11-28 11:58:29 Pacific Standard Time <DiabeticCyborgg> Chord: Building a DHT (Distributed Hash Table) in Golang by @arriqaaq  https://link.medium.com/TX2v0z0LF1  #Blockchain #Algorithms #Cryptocurrency #Go #Software\n",
      "1200041931092512770 2019-11-28 05:21:06 Pacific Standard Time <oscpacey> Anyone wondering how BSV consensus works? Slightly different from Satoshi's original vision in that it uses a custom software licence \"Open BSV\" which ironically closes use of the software to the blockchain defined by specified hash:   https://github.com/bitcoin-sv/bitcoin-sv/blob/master/LICENSE … pic.twitter.com/EBrncExi32\n",
      "1199542738733154304 2019-11-26 20:17:29 Pacific Standard Time <toastido> Flight attendant: Is there a doctor onboard?  Dad: *nudging me* that should've been you  Me: Not now Dad  Dad: Not asking for a software developer to help, are they?  Me: Dad, there's a medical emergency happening right now  Dad: Go and see if “use a hash table\" helps  https://twitter.com/witchytwitchytv/status/1199493354163253248 …\n",
      "1199457932926181377 2019-11-26 14:40:30 Pacific Standard Time <bagnararod> @FDMLibrary hey, can you folks put the hash sum of the software on the site, please???? see here why: Monero Project site compromised, served malware-infected binaries - Help Net Security  https://is.gd/0NStKr \n",
      "1199441967727300608 2019-11-26 13:37:04 Pacific Standard Time <newland_paul> software development interview tip:  know how to create a hash (object in JS, dictionary in Python, etc.) of a string or an array.  will help you organize data and make things wayyy easier to solve on tricky code questions\n",
      "1199375405750161413 2019-11-26 09:12:34 Pacific Standard Time <ateeq_sumra> How To Unlock Protected Excel Sheet Password Without Software Subscribe our Channel:  https://www.youtube.com/c/ateeqeduworld  Video Link:  https://www.youtube.com/watch?v=qUEJzqLbadI … Hash Tags: #MicrosoftExcel...  https://www.facebook.com/100002569982956/posts/2468875949874714/ …\n",
      "1199256800677093382 2019-11-26 01:21:17 Pacific Standard Time <RickStonerLive> @VitalikButerin @PeterMcCormack doesn't know how to run a bitcoin miner... I wouldn't even wanna get into asic vs gpu, vs usb vs cpu mining... or some of the hash software used to use miners, literally this guy gave up on a miner during one of his shows.. he is a newcomer....\n",
      "1199069262041751552 2019-11-25 12:56:04 Pacific Standard Time <socrates1024> Given the details, this use case is ok but not much to it. There's a memory cell admins can update that holds a string, e.g. a git hash of software delivered by a contractor. The post makes some pseudo-CS fallacies about ETH/XTZ falling on different sides of rice theorem 🤷‍♂️\n",
      "1199064511224963073 2019-11-25 12:37:11 Pacific Standard Time <OxyOxspring> Google Blocks is great because I can roughly hash out a 3D model for the first time in my life without having to learn a complicated new software.\n",
      "1198998158660947968 2019-11-25 08:13:31 Pacific Standard Time <747CaptGrumpy> Precisely! Boeing’s third party software hash translated into succinct, understandable English.\n",
      "1198993356292075520 2019-11-25 07:54:27 Pacific Standard Time <RatKingWords> 25 machete fights because of a film in 24 hours? I think you've been smoking some funky hash mate\n",
      "1198908159752130560 2019-11-25 02:15:54 Pacific Standard Time <m3thos> This is great to build software with a git commit hash version.  https://twitter.com/Poita_/status/1198413809670598662 …\n",
      "1198768592512114689 2019-11-24 17:01:19 Pacific Standard Time <Mr_SquarePeg> Great video. Also I love TerreSculptor 2. It is amazing software. Consider using some hash tags next time like #UE4 #gamedev to get the word out about this amazing application :)\n",
      "1198748494875353088 2019-11-24 15:41:27 Pacific Standard Time <Virtumente> C++ Programmer needed for a small assignment | C++ Programming | C Programming | C# Programming | Software Architecture | Algorithm    Make hash table, must use dynamically allocated C++ array (no std::vector)  Make one function that uses lewis ... -  https://virtumente.com/job/c-programmer-needed-for-a-small-assignment-c-programming-c-programming-c-programming-software-architecture-algorithm/ … pic.twitter.com/gvIbOxvBFs\n",
      "1198701457253556224 2019-11-24 12:34:32 Pacific Standard Time <Como512> Comprobación de la integridad de los archivos  File Verifier++ es un programa de software portátil para Windows que puede comprobar la integridad de los archivos seleccionados. Esto se hace calculando el hash de cada archivo seleccionado en la primera ej…  https://ift.tt/37zemiV \n",
      "1198519148487200768 2019-11-24 00:30:07 Pacific Standard Time <MORAN784> Clear your cache in your phone for auto correct and learned words. Each software tool interacts with typing differently. Twitters interface with hash tag and link scans make it buggy. Common issue.\n",
      "1198227098185486337 2019-11-23 05:09:36 Pacific Standard Time <ttaskett> The lesson here is the attackers could have easily fooled the hash checkers (and  https can make you overconfident). Software should be signed. #crypto https://twitter.com/bcrypt/status/1197335723759718400 …\n",
      "1197961551686316034 2019-11-22 11:34:25 Pacific Standard Time <BashCo_> The checksum is a SHA256 hash of each binary and tarball. They are collected in SHA256SUMS.asc then signed by the maintainer's PGP key for release. To ensure the software is genuine, check the hash yourself and verify it is signed by the actual maintainer.  https://bitcoin.org/bin/bitcoin-core-0.18.1/ …\n",
      "1197621138400120837 2019-11-21 13:01:44 Pacific Standard Time <SkyhighSquad> You may want: - 6(+) gb video ram - 16(+) gb ram - a SSD & likely a HDD as well. (clip storage, games, graphics, videos, software, music, all that shit adds up)  Idk what processor is best these days, but it's pretty easy to check benchmarks and compare the specs/prices. - Hash\n",
      "1197597324861722624 2019-11-21 11:27:07 Pacific Standard Time <lennybacon> Hiltys Aussage für Unvollständig/Falsch. Software baut auf Konzepte. Diese veralten/werden überholt. Beispiel: Ein Hash- (MD5, SHA1, …) oder Verschlüsselungsalgorithmus (ROT13, DES, …). So etwas weiter anzubieten ist wie ein Auto ohne Sicherheitsgurt zu verkaufen. 3/11  pic.twitter.com/r2xp25nGFh\n"
     ]
    }
   ],
   "source": [
    "# clear file\n",
    "#Twint Search\n",
    "d = twint.Config()\n",
    "d.Search = \"hash AND software \"\n",
    "# d.Username = \"msftsecurity\"\n",
    "d.Limit = 150\n",
    "# d.Store_csv = True\n",
    "d.Store_object = True\n",
    "d.Store_json = True\n",
    "d.Output = \"./test1.json\"\n",
    "# d.Database = \"tweets.db\"\n",
    "\n",
    "\n",
    "x = twint.run.Search(d)"
   ]
  },
  {
   "cell_type": "code",
   "execution_count": null,
   "metadata": {},
   "outputs": [],
   "source": [
    "# Search terms\n",
    "# 0-day AND exploit\n",
    "# “0-day”, “CVE-“, “CVE-2018-*”, “CVE-2019-*”\n",
    "# usernames:\n",
    "# kibbsy\n",
    "# it_securitynews\n",
    "# msftsecurity"
   ]
  },
  {
   "cell_type": "code",
   "execution_count": null,
   "metadata": {},
   "outputs": [],
   "source": [
    "# x = twint.run.Search(d)\n",
    "# twint -u noneprivacy --csv --output \"/Users/psingh4/harsh/test4.json\" --lang en --translate --translate-dest it --limit 100"
   ]
  },
  {
   "cell_type": "code",
   "execution_count": null,
   "metadata": {},
   "outputs": [],
   "source": [
    "# d.__dict__.keys()"
   ]
  },
  {
   "cell_type": "code",
   "execution_count": null,
   "metadata": {},
   "outputs": [],
   "source": [
    "# twint.run.Search(d)\n",
    "# twint.output"
   ]
  },
  {
   "cell_type": "code",
   "execution_count": 14,
   "metadata": {},
   "outputs": [],
   "source": [
    "f= open(\"../Twint Data/4000 rows of data.json\",\"r\",errors='ignore')\n",
    "line1 = f.readlines()\n",
    "arr = []\n",
    "for x in line1:\n",
    "    arr.append(x)\n",
    "f.close()    "
   ]
  },
  {
   "cell_type": "code",
   "execution_count": null,
   "metadata": {},
   "outputs": [],
   "source": []
  },
  {
   "cell_type": "code",
   "execution_count": 15,
   "metadata": {},
   "outputs": [],
   "source": [
    "arr.insert(0,\"[\")\n",
    "arr.append(']')\n",
    "for i in range(1,len(arr)-2):\n",
    "    arr[i] = arr[i][:-1] + \",\" + arr[i][-1:]"
   ]
  },
  {
   "cell_type": "code",
   "execution_count": 16,
   "metadata": {},
   "outputs": [],
   "source": [
    "file = open(\"../test.json\",\"w\")\n",
    "for i in range(len(arr)):\n",
    "    file.write(arr[i])\n",
    "file.close()"
   ]
  },
  {
   "cell_type": "code",
   "execution_count": 17,
   "metadata": {},
   "outputs": [],
   "source": [
    "f= open(\"../test.json\",\"r\",errors='ignore')\n",
    "line1 = f.readlines()\n",
    "data = []\n",
    "for x in line1:\n",
    "    data.append(x)\n",
    "f.close()"
   ]
  },
  {
   "cell_type": "code",
   "execution_count": 18,
   "metadata": {},
   "outputs": [],
   "source": [
    "# Removing non ASCII characters\n",
    "for i in range(len(data)):\n",
    "    data[i] = (''.join([i if ord(i) < 128 else ' ' for i in str(data[i])]))"
   ]
  },
  {
   "cell_type": "code",
   "execution_count": 19,
   "metadata": {},
   "outputs": [],
   "source": [
    "file = open(\"./data.json\",\"w\")\n",
    "for i in range(len(data)):\n",
    "    file.write(data[i])\n",
    "file.close()"
   ]
  },
  {
   "cell_type": "code",
   "execution_count": 22,
   "metadata": {},
   "outputs": [],
   "source": [
    "import json\n",
    "with open(\"./data.json\", \"r\",errors='ignore') as read_file:\n",
    "    data = json.load(read_file)"
   ]
  },
  {
   "cell_type": "code",
   "execution_count": 23,
   "metadata": {},
   "outputs": [],
   "source": [
    "import mysql.connector"
   ]
  },
  {
   "cell_type": "code",
   "execution_count": 24,
   "metadata": {},
   "outputs": [],
   "source": [
    "mydb = mysql.connector.connect(user='admin', password='Private2712!',\n",
    "                              host='database-1.cok63qqiofsd.us-east-1.rds.amazonaws.com',\n",
    "                              database='data')"
   ]
  },
  {
   "cell_type": "code",
   "execution_count": 25,
   "metadata": {},
   "outputs": [],
   "source": [
    "mycursor = mydb.cursor()"
   ]
  },
  {
   "cell_type": "code",
   "execution_count": 26,
   "metadata": {},
   "outputs": [
    {
     "name": "stdout",
     "output_type": "stream",
     "text": [
      "4005 record inserted.\n"
     ]
    }
   ],
   "source": [
    "sql = \"\"\"INSERT INTO train_data (created_at, conversation_id, id, date, time, timezone, user_id, username, name, place, tweet, mentions, urls, replies_count, \n",
    "        retweets_count, likes_count, hashtags, cashtags, link, retweet, video, near, geo, source, user_rt_id, user_rt, retweet_id,\n",
    "        retweet_date, translate, trans_src, trans_dest, photos, reply_to) VALUES (%s, %s, %s, %s, %s, %s, %s, %s, %s, %s, %s, %s, %s, %s, %s, \n",
    "        %s, %s, %s, %s, %s, %s, %s, %s, %s, %s, %s, %s, %s, %s, %s, %s, %s, %s)\"\"\"\n",
    "\n",
    "val = []\n",
    "for i in range(len(data)):\n",
    "    val.append((data[i]['created_at'], data[i]['conversation_id'], str(data[i]['id']), data[i]['date'], data[i]['time'], data[i]['timezone'], data[i]['user_id'], data[i]['username'],\n",
    "      data[i]['name'], data[i]['place'], data[i]['tweet'], str(data[i]['mentions']), str(data[i]['urls']), data[i]['replies_count'],\n",
    "      data[i]['retweets_count'], data[i]['likes_count'], str(data[i]['hashtags']), str(data[i]['cashtags']), data[i]['link'], data[i]['retweet'],\n",
    "      data[i]['video'], data[i]['near'], data[i]['geo'], data[i]['source'], data[i]['user_rt_id'], data[i]['user_rt'],\n",
    "      data[i]['retweet_id'], data[i]['retweet_date'], data[i]['translate'], data[i]['trans_src'], data[i]['trans_dest'],str(data[i]['photos']), \n",
    "       str(data[i]['reply_to'])))\n",
    "    \n",
    "mycursor.executemany(sql, val)\n",
    "\n",
    "mydb.commit()\n",
    "\n",
    "print(mycursor.rowcount, \"record inserted.\")"
   ]
  },
  {
   "cell_type": "code",
   "execution_count": 27,
   "metadata": {},
   "outputs": [],
   "source": [
    "mydb.close()"
   ]
  },
  {
   "cell_type": "code",
   "execution_count": null,
   "metadata": {},
   "outputs": [],
   "source": [
    "val = []\n",
    "for i in range(len(data)):\n",
    "    val.append((data[i]['created_at'], data[i]['conversation_id'], data[i]['date'], data[i]['time'], data[i]['timezone'], data[i]['user_id'], data[i]['username'],\n",
    "      data[i]['name'], data[i]['place'], data[i]['tweet'], str(data[i]['mentions']), str(data[i]['urls']), data[i]['replies_count'],\n",
    "      data[i]['retweets_count'], data[i]['likes_count'], str(data[i]['hashtags']), str(data[i]['cashtags']), data[i]['link'], data[i]['retweet'],\n",
    "      data[i]['video'], data[i]['near'], data[i]['geo'], data[i]['source'], data[i]['user_rt_id'], data[i]['user_rt'],\n",
    "      data[i]['retweet_id'], data[i]['retweet_date'], data[i]['translate'], data[i]['trans_src'], data[i]['trans_dest'],0,str(data[i]['photos']), \n",
    "       str(data[i]['reply_to'])))"
   ]
  },
  {
   "cell_type": "code",
   "execution_count": null,
   "metadata": {},
   "outputs": [],
   "source": [
    "# mydb.commit()\n",
    "# !pip install tensorflow\n",
    "# print(mycursor.rowcount, \"record inserted.\")"
   ]
  },
  {
   "cell_type": "code",
   "execution_count": null,
   "metadata": {},
   "outputs": [],
   "source": [
    "mycursor.execute(\"SELECT * FROM information_schema.COLUMNS  WHERE TABLE_SCHEMA='data'\")"
   ]
  },
  {
   "cell_type": "code",
   "execution_count": null,
   "metadata": {},
   "outputs": [],
   "source": [
    "myresult = mycursor.fetchone()\n",
    "print(myresult)"
   ]
  },
  {
   "cell_type": "code",
   "execution_count": null,
   "metadata": {},
   "outputs": [],
   "source": [
    "created_at date time timezone user_id username name place tweet mentions urls replies_count \n",
    "retweets_count likes_count hastags cashtags link retweet video near geo source user_rt_id user_rt retweet_id\n",
    "retweet_date translate trans_src trans_dest relevant"
   ]
  },
  {
   "cell_type": "code",
   "execution_count": null,
   "metadata": {},
   "outputs": [],
   "source": [
    "print(data[0]['created_at'], data[0]['date'], data[0]['time'], data[0]['timezone'], data[0]['user_id'], data[0]['username'],\n",
    "      data[0]['name'], data[0]['place'], data[0]['tweet'], str(data[0]['mentions']), str(data[0]['urls']), data[0]['replies_count'],\n",
    "      data[0]['retweets_count'], data[0]['likes_count'], str(data[0]['hashtags']), str(data[0]['cashtags']), data[0]['link'], data[0]['retweet'],\n",
    "      data[0]['video'], data[0]['near'], data[0]['geo'], data[0]['source'], data[0]['user_rt_id'], data[0]['user_rt'],\n",
    "      data[0]['retweet_id'], data[0]['retweet_date'], data[0]['translate'], data[0]['trans_src'], data[0]['trans_dest'],0,str(data[0]['photos']), \n",
    "       str(data[0]['reply_to']))"
   ]
  },
  {
   "cell_type": "code",
   "execution_count": null,
   "metadata": {},
   "outputs": [],
   "source": [
    "import datetime\n",
    "x = datetime.time(17,59,51)\n",
    "print(x.date())\n",
    "t = datetime.time(1, 2, 3)\n",
    "print(t)\n",
    "x = datetime.datetime(2020,1,1,17,2,3)\n",
    "print(x.date().isoformat())\n",
    "import time    \n",
    "time.strftime('%Y-%m-%d %H:%M:%S')"
   ]
  },
  {
   "cell_type": "code",
   "execution_count": null,
   "metadata": {},
   "outputs": [],
   "source": [
    "# !pip install bert-serving-server\n",
    "# !pip install bert-serving-client"
   ]
  },
  {
   "cell_type": "code",
   "execution_count": null,
   "metadata": {},
   "outputs": [],
   "source": [
    "import nltk"
   ]
  },
  {
   "cell_type": "code",
   "execution_count": null,
   "metadata": {},
   "outputs": [],
   "source": [
    "sentence = \"Wow! This needs to be the logo for CVE-2019-11253 how do we get that done\"\n",
    "tokens = nltk.word_tokenize(sentence)"
   ]
  },
  {
   "cell_type": "code",
   "execution_count": null,
   "metadata": {},
   "outputs": [],
   "source": [
    "tagged = nltk.pos_tag(tokens)"
   ]
  },
  {
   "cell_type": "code",
   "execution_count": null,
   "metadata": {},
   "outputs": [],
   "source": [
    "# nltk.download()"
   ]
  },
  {
   "cell_type": "code",
   "execution_count": null,
   "metadata": {},
   "outputs": [],
   "source": [
    "# !python -m nltk.downloader all"
   ]
  },
  {
   "cell_type": "code",
   "execution_count": null,
   "metadata": {},
   "outputs": [],
   "source": [
    "install -c anaconda nltk"
   ]
  },
  {
   "cell_type": "code",
   "execution_count": 13,
   "metadata": {},
   "outputs": [
    {
     "name": "stdout",
     "output_type": "stream",
     "text": [
      "Phase 5 password: dahkg\n"
     ]
    }
   ],
   "source": [
    "import string\n",
    "array = \"maduiersnfotvbyl\"\n",
    "final = \"\"\n",
    "for c in \"giants\":\n",
    "    for w in string.ascii_lowercase:\n",
    "       index = ord(w) & 0xF\n",
    "       lookup = array[index]\n",
    "       if lookup == c:\n",
    "           final += w\n",
    "           break\n",
    "print(\"Phase 5 password: \" + final)"
   ]
  },
  {
   "cell_type": "code",
   "execution_count": null,
   "metadata": {},
   "outputs": [],
   "source": []
  },
  {
   "cell_type": "code",
   "execution_count": null,
   "metadata": {},
   "outputs": [],
   "source": []
  }
 ],
 "metadata": {
  "kernelspec": {
   "display_name": "Python 3",
   "language": "python",
   "name": "python3"
  },
  "language_info": {
   "codemirror_mode": {
    "name": "ipython",
    "version": 3
   },
   "file_extension": ".py",
   "mimetype": "text/x-python",
   "name": "python",
   "nbconvert_exporter": "python",
   "pygments_lexer": "ipython3",
   "version": "3.6.4"
  }
 },
 "nbformat": 4,
 "nbformat_minor": 2
}
