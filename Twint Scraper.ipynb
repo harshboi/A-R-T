{
 "cells": [
  {
   "cell_type": "code",
   "execution_count": 91,
   "metadata": {},
   "outputs": [],
   "source": [
    "import twint\n",
    "file = open(\"../security_tags.txt\",\"r\")\n",
    "arr = []\n",
    "line1 = file.readlines()\n",
    "for x in line1:\n",
    "    arr.append(x)\n",
    "file.close()    "
   ]
  },
  {
   "cell_type": "code",
   "execution_count": 92,
   "metadata": {},
   "outputs": [],
   "source": [
    "for i in range(len(arr)):\n",
    "    arr[i] = arr[i][1:]"
   ]
  },
  {
   "cell_type": "code",
   "execution_count": 131,
   "metadata": {},
   "outputs": [],
   "source": [
    "file = open(\"./test1.json\",\"w\")\n",
    "file.close()"
   ]
  },
  {
   "cell_type": "code",
   "execution_count": 130,
   "metadata": {},
   "outputs": [],
   "source": [
    "# # clear file\n",
    "# #Twint Search\n",
    "# for i in range(len(arr)):\n",
    "#     d = twint.Config()\n",
    "#     d.Search = arr[i]\n",
    "#     d.Limit = 50\n",
    "#     # d.Store_csv = True\n",
    "#     d.Store_object = True\n",
    "#     d.Store_json = True\n",
    "#     d.Output = \"./test1.json\"\n",
    "#     # d.Database = \"tweets.db\"\n",
    "\n",
    "\n",
    "#     x = twint.run.Search(d)"
   ]
  },
  {
   "cell_type": "code",
   "execution_count": 113,
   "metadata": {},
   "outputs": [
    {
     "name": "stdout",
     "output_type": "stream",
     "text": [
      "1245209283878322176 2020-03-31 21:40:02 Pacific Daylight Time <HeliosCert> Sample analysed on #virustotal VirusTotal-Score: 64 VirusTotal:  https://www.virustotal.com/file/bb0f5f2705c792d46ebfcf881eced5b1a8b9d2aae541b7d4e91a702a45e2ce79/analysis/1577322006/ … Threat: Ransom_WCRY.SMALYM  (TrendMicro)\n",
      "1245204248117284864 2020-03-31 21:20:02 Pacific Daylight Time <HeliosCert> Sample analysed on #virustotal VirusTotal-Score: 67 VirusTotal:  https://www.virustotal.com/file/302b8179719b2b8ce8120a29cf90c795dceb86925e4066bccdac34c801043638/analysis/1585425918/ … Threat: Ransom_WCRY.SMALYM  (TrendMicro)\n",
      "1245202989142478849 2020-03-31 21:15:02 Pacific Daylight Time <HeliosCert> Sample analysed on #virustotal VirusTotal-Score: 64 VirusTotal:  https://www.virustotal.com/file/1f7bd026dc7e50a4d77e1dd27d231e3861e451247ccf77bb6f54bd5958a9e6bb/analysis/1569909870/ … Threat: Ransom_WCRY.SMALYM  (TrendMicro)\n",
      "1245191668984406022 2020-03-31 20:30:03 Pacific Daylight Time <HeliosCert> Sample analysed on #virustotal VirusTotal-Score: 53 VirusTotal:  https://www.virustotal.com/file/8fc736484ae148b220ee274331fb81d69de034b60dbf97fddbf0025a46176cf5/analysis/1585673412/ … Threat: BKDR_BLADABI.SMC  (TrendMicro)\n",
      "1245189148417368070 2020-03-31 20:20:02 Pacific Daylight Time <HeliosCert> Sample analysed on #virustotal VirusTotal-Score: 61 VirusTotal:  https://www.virustotal.com/file/cbb6660fbdab759451d6d746c65689e5b0b64b5e45f8cb25e36c5eefda5425c1/analysis/1585681348/ … Threat: Ransom_WCRY.SMALYM  (TrendMicro)\n",
      "1245188542013341698 2020-03-31 20:17:37 Pacific Daylight Time <Ivanaltacc> Yo @OrdinaryGamers, my retard school is trying to get me to use \"Zoom\", so I ran the exe installer through virustotal and one of the antiviruses detected it as malware, may be false positive, but you defo know more than me, so just asking. Also, potential vid idea lol  pic.twitter.com/4JAeGYSZnm\n",
      "1245186637400809474 2020-03-31 20:10:03 Pacific Daylight Time <HeliosCert> Sample analysed on #virustotal VirusTotal-Score: 62 VirusTotal:  https://www.virustotal.com/file/b3c462a3a9400ab9c95cd0b55ecdffdc4f0ec4be6671c40cad29d3ebcb4d3fee/analysis/1585499112/ … Threat: BKDR_BLADABI.SMC  (TrendMicro)\n",
      "1245186635072823296 2020-03-31 20:10:02 Pacific Daylight Time <HeliosCert> Sample analysed on #virustotal VirusTotal-Score: 61 VirusTotal:  https://www.virustotal.com/file/6c094151e29e3adb0169cce47aadcd5b8f8f19c0d5fee18d62d34a93d7b2d845/analysis/1573638624/ … Threat: Ransom_WCRY.SMALYM  (TrendMicro)\n",
      "1245186632569032705 2020-03-31 20:10:02 Pacific Daylight Time <HeliosCert> Sample analysed on #virustotal VirusTotal-Score: 57 VirusTotal:  https://www.virustotal.com/file/414e54026eef0a3714bef0670a3cf2609c09f8531014f3bcefbfc6bfcc2c2b67/analysis/1554636091/ … Threat: Ransom:Win32/CVE-2017-0147.A  (Microsoft)\n",
      "1245181599815262209 2020-03-31 19:50:02 Pacific Daylight Time <HeliosCert> Sample analysed on #virustotal VirusTotal-Score: 5 VirusTotal:  https://www.virustotal.com/file/c4a227b4b7b13ee588a44ab91d53b2fb6830a3ade0d25587e54ee671f1d44ccf/analysis/1585676108/ … Threat:\n",
      "1245174051028578306 2020-03-31 19:20:02 Pacific Daylight Time <HeliosCert> Sample analysed on #virustotal VirusTotal-Score: 63 VirusTotal:  https://www.virustotal.com/file/a0c286a67ccd735fd542284e318d5f79c0109970c50a9b6b9bc7646205914360/analysis/1585659606/ … Threat: BKDR_BLADABI.SMC  (TrendMicro)\n",
      "1245170276402434048 2020-03-31 19:05:02 Pacific Daylight Time <HeliosCert> Sample analysed on #virustotal VirusTotal-Score: 65 VirusTotal:  https://www.virustotal.com/file/b8cef169ab0e111addb07981350666f3d0431883303595b60c155856efccbaa2/analysis/1579134053/ … Threat: Ransom_WCRY.SMALYM  (TrendMicro)\n",
      "1245161469848752137 2020-03-31 18:30:03 Pacific Daylight Time <HeliosCert> Sample analysed on #virustotal VirusTotal-Score: 64 VirusTotal:  https://www.virustotal.com/file/4426130d9638757a5dbc6cd764a4b92b31c86e6749878c1d26260958f724fe76/analysis/1564382641/ … Threat: Ransom_WCRY.SMALYM  (TrendMicro)\n",
      "1245160210127360003 2020-03-31 18:25:02 Pacific Daylight Time <HeliosCert> Sample analysed on #virustotal VirusTotal-Score: 57 VirusTotal:  https://www.virustotal.com/file/2e71e2197518ae4077d0968f2f666635d9a1f822802aca08f092f488629d900b/analysis/1585667110/ … Threat: BKDR_BLADABI.SMC  (TrendMicro)\n",
      "1245155174664024066 2020-03-31 18:05:02 Pacific Daylight Time <HeliosCert> Sample analysed on #virustotal VirusTotal-Score: 66 VirusTotal:  https://www.virustotal.com/file/266d7a2ab038110a7794848b3c9fe30fe67298ea121f4184617b03c8d60eb3c9/analysis/1578656671/ … Threat: Ransom_WCRY.SMALYM  (TrendMicro)\n",
      "1245151403066228742 2020-03-31 17:50:02 Pacific Daylight Time <HeliosCert> Sample analysed on #virustotal VirusTotal-Score: 57 VirusTotal:  https://www.virustotal.com/file/4933111fbf5b7b1388adbc57e104b4625921a687fced7be85990a7197d4d11de/analysis/1549901654/ … Threat: Ransom:Win32/CVE-2017-0147.A  (Microsoft)\n",
      "1245150144217186311 2020-03-31 17:45:02 Pacific Daylight Time <HeliosCert> Sample analysed on #virustotal VirusTotal-Score: 61 VirusTotal:  https://www.virustotal.com/file/17c53beeec991c28f67b4723c04c47f7f5e114868a51f8d70df07f5ac2971814/analysis/1583901428/ … Threat: Ransom_WCRY.SMALYM  (TrendMicro)\n",
      "1245148887280750592 2020-03-31 17:40:03 Pacific Daylight Time <HeliosCert> Sample analysed on #virustotal VirusTotal-Score: 65 VirusTotal:  https://www.virustotal.com/file/0f3a22898b38994dab64ae71d4943d4e455724fe8eb80ed8287ee1e16a2ecbad/analysis/1579181089/ … Threat: Ransom_WCRY.SMALYM  (TrendMicro)\n",
      "1245147630289784832 2020-03-31 17:35:03 Pacific Daylight Time <HeliosCert> Sample analysed on #virustotal VirusTotal-Score: 66 VirusTotal:  https://www.virustotal.com/file/b213e84db011d2022ed61fa249a33c30ff9aa9aca7f6ef8f5d643797ade417d3/analysis/1579176281/ … Threat: Ransom_WCRY.SMALYM  (TrendMicro)\n",
      "1245140075823927297 2020-03-31 17:05:02 Pacific Daylight Time <HeliosCert> Sample analysed on #virustotal VirusTotal-Score: 66 VirusTotal:  https://www.virustotal.com/file/bd2ac969c635945c0371b27d9688cc606a743496daf3efae108a3a15958ab627/analysis/1579201496/ … Threat: Ransom_WCRY.SMALYM  (TrendMicro)\n",
      "1245130009917952000 2020-03-31 16:25:02 Pacific Daylight Time <HeliosCert> Sample analysed on #virustotal VirusTotal-Score: 61 VirusTotal:  https://www.virustotal.com/file/a01848f796b175771b189875badd087cdfd6ee1311712e1d82997cbc02cc393c/analysis/1568533304/ … Threat: Ransom_WCRY.SMALYM  (TrendMicro)\n",
      "1245123716641685505 2020-03-31 16:00:01 Pacific Daylight Time <HeliosCert> Sample analysed on #virustotal VirusTotal-Score: 57 VirusTotal:  https://www.virustotal.com/file/aacf35b1e59235a7216f84201b18845fabccc4748a13fd696aceaeba02a2ea72/analysis/1585636508/ … Threat: BKDR_BLADABI.SMC  (TrendMicro)\n",
      "1245113652396556288 2020-03-31 15:20:02 Pacific Daylight Time <HeliosCert> Sample analysed on #virustotal VirusTotal-Score: 65 VirusTotal:  https://www.virustotal.com/file/8e75f4d4a28695acd8f7f118c5f5389be06907620c6727993d9d872f51a11a06/analysis/1579048738/ … Threat: Ransom_WCRY.SMALYM  (TrendMicro)\n",
      "1245112394919161857 2020-03-31 15:15:02 Pacific Daylight Time <HeliosCert> Sample analysed on #virustotal VirusTotal-Score: 64 VirusTotal:  https://www.virustotal.com/file/bbf8dd4f38b5d412f7b29e68554bc3964cb40147db233a552963055c19d276ed/analysis/1578671008/ … Threat: Ransom_WCRY.SMALYM  (TrendMicro)\n",
      "1245106102976512005 2020-03-31 14:50:02 Pacific Daylight Time <HeliosCert> Sample analysed on #virustotal VirusTotal-Score: 61 VirusTotal:  https://www.virustotal.com/file/55e511207764c793e96626d4cfc8be1fb66394fb1d2a92fb053618859d852bea/analysis/1585680917/ … Threat: BKDR_BLADABI.SMC  (TrendMicro)\n",
      "1245103589145673732 2020-03-31 14:40:03 Pacific Daylight Time <HeliosCert> Sample analysed on #virustotal VirusTotal-Score: 21 VirusTotal:  https://www.virustotal.com/file/9324d9247b3b143b4a8da86a622903f89e0f9a16bcb2be668fb6d3695dd7153f/analysis/1578925970/ … Threat: Generic.Malware.SWdld.C41FD215  (BitDefender)\n",
      "1245103584368353281 2020-03-31 14:40:02 Pacific Daylight Time <HeliosCert> Sample analysed on #virustotal VirusTotal-Score: 56 VirusTotal:  https://www.virustotal.com/file/139440ea99f0fdb275e96e8b749b64ca0528468f3b243bee6ada39b6db6327ac/analysis/1585660512/ … Threat: BKDR_BLADABI.SMC  (TrendMicro)\n",
      "1245085969465970691 2020-03-31 13:30:02 Pacific Daylight Time <HeliosCert> Sample analysed on #virustotal VirusTotal-Score: 56 VirusTotal:  https://www.virustotal.com/file/ad4b69f94a921516b09b59701905cbff7903814d0c5fc7291fa8ee5f28b239eb/analysis/1580126093/ … Threat: TROJ_GEN.R007C0CAF20  (TrendMicro)\n",
      "1245084709933256705 2020-03-31 13:25:02 Pacific Daylight Time <HeliosCert> Sample analysed on #virustotal VirusTotal-Score: 0 VirusTotal:  https://www.virustotal.com/file/087571b9f9d14cd36572120d54f1ba6c6042b40e7bedc29d4fb49939c3f36b4c/analysis/1585668618/ … Threat:\n",
      "1245074643540729857 2020-03-31 12:45:02 Pacific Daylight Time <HeliosCert> Sample analysed on #virustotal VirusTotal-Score: 40 VirusTotal:  https://www.virustotal.com/file/437a6cc11412d97bbcc791e3a68f9293fcf021f5770b1ba3f97efbb442496e94/analysis/1585646312/ … Threat: Backdoor:MSIL/RevengeRat.GN!MTB  (Microsoft)\n"
     ]
    },
    {
     "name": "stdout",
     "output_type": "stream",
     "text": [
      "1245069215368765441 2020-03-31 12:23:27 Pacific Daylight Time <HovikYerevan> Your data legally can now be provided to third parties for analysis.   Most probably the app they want you to install is a version of the one used in Iran, detected as a trojan by virustotal.   https://twitter.com/RubenMuradyan/status/1243131204192415746?s=20 …\n",
      "1245062061924777987 2020-03-31 11:55:02 Pacific Daylight Time <HeliosCert> Sample analysed on #virustotal VirusTotal-Score: 67 VirusTotal:  https://www.virustotal.com/file/dcbd3a53b07724b50a4a10f75d73be3ad7d427046486f35ceec3aff041a87657/analysis/1584474918/ … Threat: Ransom_WCRY.SMALYM  (TrendMicro)\n",
      "1245048221220642818 2020-03-31 11:00:02 Pacific Daylight Time <HeliosCert> Sample analysed on #virustotal VirusTotal-Score: 45 VirusTotal:  https://www.virustotal.com/file/7dccbba3dd0e7a899a0cfc01bbf1d7625fcc06f1704be9231782cfc9bccc6b73/analysis/1585637409/ … Threat: Trojan:Win32/Wacatac.C!ml  (Microsoft)\n",
      "1245021795415187458 2020-03-31 09:15:02 Pacific Daylight Time <HeliosCert> Sample analysed on #virustotal VirusTotal-Score: 49 VirusTotal:  https://www.virustotal.com/file/dfc8695620f709882f755cd5141b37772b05ce4e2bd9a677e94ff25ad0cbb554/analysis/1585635351/ … Threat: Trojan.MSIL.BLADABINDI.SMJM06  (TrendMicro)\n",
      "1245020798299058177 2020-03-31 09:11:04 Pacific Daylight Time <Joshibeast> VirusTotal\n",
      "1245015210689269760 2020-03-31 08:48:52 Pacific Daylight Time <MT7JPJack> VirusTotal report:  https://www.virustotal.com/gui/file/6e1e5e12c5411c1a4dae8a8854b856c5f1ece33d1a4a1dacb6740c80236d3411/detection …\n",
      "1244994114367733760 2020-03-31 07:25:02 Pacific Daylight Time <HeliosCert> Sample analysed on #virustotal VirusTotal-Score: 42 VirusTotal:  https://www.virustotal.com/file/e8ea3c240a7dc0081189f35e73a4f74ba329c1afd98d9153fc273569f14e3a80/analysis/1585634409/ … Threat: Trojan:Win32/Wacatac.C!ml  (Microsoft)\n",
      "1244965175830118403 2020-03-31 05:30:02 Pacific Daylight Time <HeliosCert> Sample analysed on #virustotal VirusTotal-Score: 22 VirusTotal:  https://www.virustotal.com/file/c2dfa9f7813477c165c15f1b6b069a637aadef55b0654667a4952e1d95209c4f/analysis/1585608314/ … Threat: Trojan:Win32/Wacatac.C!ml  (Microsoft)\n",
      "1244961792570220544 2020-03-31 05:16:36 Pacific Daylight Time <it_sec_news> #楽天詐称 #phishing   件名 : 【重要】楽天株式会社から緊急のご連絡  本文中URL : hxxp://attention-risk-warning-assistant-support-id-rakuten[.]info/  着弾日時 : 2020/03/31 16:25  virustotal :  https://www.virustotal.com/gui/url/bf03a312df101c8bc8a6339d5cde09590633875893988c39d113895c312f7ceb/detection … pic.twitter.com/QEmYaOrJYV\n",
      "1244947609040629760 2020-03-31 04:20:14 Pacific Daylight Time <SeanWrightSec> Not seeing anything flag up on VirusTotal:  https://www.virustotal.com/gui/file/fbe5c0f2a7e8d1d56ef2aa47cbde1574de6812842a6e09092ffdd48f90091b5c/detection …\n",
      "1244934439433416704 2020-03-31 03:27:54 Pacific Daylight Time <ceilidhfyre> So anyways found a cool plugin for after effects, scanned it on virustotal, my old + new computer's anti-virus, even had my sister install it on her computer to no problems, but my cowardly ass is still too scared to install it on my own—\n",
      "1244929066085625863 2020-03-31 03:06:33 Pacific Daylight Time <ffforward> www.covidnewsupdate[.]online on @Cloudflare has a nice link via @Bitly to CovidNews.apk on @MediaFire. 100% clean according to @virustotal but malicious and sharing genes with #CovidLock #Android #ransomware according to @IntezerLabs  https://analyze.intezer.com/#/analyses/7323028a-080d-42e3-8898-dab6002995b1/sub/c15ca24c-e4f0-4950-bc0b-58b2ca3ea3ae … #covid_19 pic.twitter.com/yoYhYEksDM\n",
      "1244912622853595136 2020-03-31 02:01:13 Pacific Daylight Time <cyb3rops> I've created that rule in March 2018. It's in VT Hunting since March 2018.  But only recently I see high numbers of matches on Virustotal. It seems that someone started submitting them in high numbers.     https://www.virustotal.com/gui/search/jsfuck/comments … pic.twitter.com/J4LBo39qil\n",
      "1244908249524178944 2020-03-31 01:43:50 Pacific Daylight Time <haycanal> ¿Cómo funciona Tekya?  Tekya había sido capaz de eludir las medidas de seguridad de VirusTotal y Google Play Protect, un sistema desarrollado por Google para garantizar la seguridad del sistema operativo Android  https://haycanal.com/noticias/14159/apps-y-juegos-infantiles-infectados-con-malware …\n",
      "1244903870863638529 2020-03-31 01:26:26 Pacific Daylight Time <1ZRR4H> Expo VPN - Unblock Everything (#Malware) VirusTotal: 6/61 \"app.vpn.expo.apk\"  ⚠️  https://apk.center/down_app.vpn.expo.html …  https://www.virustotal.com/gui/file/5654524e54be0cfeb41148e40ed12c5a559e525a146bd2b642b7fddc76419673/detection … @malwrhunterteam @LukasStefanko @apklabio pic.twitter.com/jIOlSHJWl5\n",
      "1244892428764696578 2020-03-31 00:40:58 Pacific Daylight Time <ClaudeL1979> Hey, you've got a few minutes to kill, right? So look them up. See if they have a reputation. Use a website safety rating tool (VirusTotal).  Once you have uploaded info to the Internet, you lose all control of what happens with it.\n",
      "1244884835161837569 2020-03-31 00:10:48 Pacific Daylight Time <JackPat80154427> @dailydot  Hi there! According to virustotal, your website is vulnerable to Autoshun / malware. Could you please explain and fix this? thanks.\n",
      "1244882126010560514 2020-03-31 00:00:02 Pacific Daylight Time <HeliosCert> Sample analysed on #virustotal VirusTotal-Score: 57 VirusTotal:  https://www.virustotal.com/file/234563f2949217b4a1ec8e9d80c9f353ac82ae7baee24ce29c5eab37b6dddf29/analysis/1585613409/ … Threat: TrojanSpy.Win32.COINSTEAL.SMPIS  (TrendMicro)\n",
      "1244853185556230144 2020-03-30 22:05:02 Pacific Daylight Time <HeliosCert> Sample analysed on #virustotal VirusTotal-Score: 56 VirusTotal:  https://www.virustotal.com/file/904a518a8c867a1fd79e963fcdd317aa9f5a76eb6964b027cb0566d4a87102d7/analysis/1585553419/ … Threat: TSPY_TINCLEX.SM1  (TrendMicro)\n",
      "1244849413522182145 2020-03-30 21:50:03 Pacific Daylight Time <HeliosCert> Sample analysed on #virustotal VirusTotal-Score: 13 VirusTotal:  https://www.virustotal.com/file/7693b0c921b4102e6262aee97c042c1c14153ab1a1ef1752483f65f79e24d368/analysis/1585611909/ … Threat: HEUR:Trojan.Win32.Generic  (Kaspersky)\n",
      "1244839343577010176 2020-03-30 21:10:02 Pacific Daylight Time <HeliosCert> Sample analysed on #virustotal VirusTotal-Score: 55 VirusTotal:  https://www.virustotal.com/file/b7f09be3bf95632ac3219b3d402a419e9bc40a54a3fc6ac1c57c183798e525fe/analysis/1585573516/ … Threat: TSPY_TINCLEX.SM1  (TrendMicro)\n",
      "1244829278883196928 2020-03-30 20:30:02 Pacific Daylight Time <HeliosCert> Sample analysed on #virustotal VirusTotal-Score: 50 VirusTotal:  https://www.virustotal.com/file/80cc2999c2dd412c72032c3923aac5a80aabe9e86a8f4579fa7c807f45f669f0/analysis/1585601413/ … Threat: TrojanSpy.Win32.COINSTEAL.SMPIS  (TrendMicro)\n",
      "1244817300659658753 2020-03-30 19:42:26 Pacific Daylight Time <anpho> 在线查毒工具 VirusTotal 的 N 种玩法——从“误报/漏报”聊到“攻击者对它的利用”  https://program-think.blogspot.com/2020/03/VirusTotal-Tricks.html …\n",
      "1244814179523088384 2020-03-30 19:30:02 Pacific Daylight Time <HeliosCert> Sample analysed on #virustotal VirusTotal-Score: 60 VirusTotal:  https://www.virustotal.com/file/8d98d9d96da8f507381b9bf5d63caf8b340b9ff0dc06895638adeaec6312c0b2/analysis/1585595823/ … Threat: BKDR_NOANCOOE.SM  (TrendMicro)\n",
      "1244773661715894274 2020-03-30 16:49:02 Pacific Daylight Time <defconisov3r> Is there any indication of malicious behavior on the part of this apk? ...  I have looked at its ratio in virustotal and 0/60 🤔  pic.twitter.com/tEOhRNjsWX\n",
      "1244767623411380225 2020-03-30 16:25:02 Pacific Daylight Time <HeliosCert> Sample analysed on #virustotal VirusTotal-Score: 60 VirusTotal:  https://www.virustotal.com/file/5699fabebe0636ac5a7723f02566d5600a407892d570d4c91c60c4669704d8f1/analysis/1585572911/ … Threat: Backdoor:Win32/NetWiredRC.B  (Microsoft)\n",
      "1244760071013359616 2020-03-30 15:55:02 Pacific Daylight Time <HeliosCert> Sample analysed on #virustotal VirusTotal-Score: 55 VirusTotal:  https://www.virustotal.com/file/810bbf258484b94bf2e51c7fba2f8a19f6aaf1137c982d2d6a97e600159c16fa/analysis/1585544111/ … Threat: TSPY_TINCLEX.SM1  (TrendMicro)\n",
      "1244754302666706946 2020-03-30 15:32:06 Pacific Daylight Time <aboutsecurity> Notice \"Content-Type: multipart/alternatve\". Retro-hunting for similar samples in @virustotal returns a few ones with the same misspelled type. What do you think? Typo? (attackers make stupid mistakes too) or crafted to evade content inspection by security tools?\n"
     ]
    },
    {
     "name": "stdout",
     "output_type": "stream",
     "text": [
      "1244752401044770817 2020-03-30 15:24:33 Pacific Daylight Time <aboutsecurity> Interesting finding from our #MVision #EDR research team. When looking at some of the #Hancitor #COVID19 #malspam like this reported by @malware_traffic ( https://www.malware-traffic-analysis.net/2020/03/16/index.html …), we noticed a typo in the \"Content-Type\" field. See another one @virustotal  https://www.virustotal.com/gui/file/9c40426f157a4b684047a428428f882618d07dc5154cf1bf89da5875a00d69c0/content/strings … pic.twitter.com/hRrdzB6kXm\n",
      "1244751265655070720 2020-03-30 15:20:02 Pacific Daylight Time <HeliosCert> Sample analysed on #virustotal VirusTotal-Score: 55 VirusTotal:  https://www.virustotal.com/file/53c0f7a985a65f506472bffa5afbdaa6a87f9f2f498df9986eef8454507f2e1f/analysis/1553218349/ … Threat: Ransom:Win32/CVE-2017-0147.A  (Microsoft)\n",
      "1244737530366287872 2020-03-30 14:25:28 Pacific Daylight Time <to___su> もし私の憶測が当たりなら、これは悪質なものだと判断したので一応Googleに通報しておいた。アーカイブを展開せず、VirusTotalでスキャンした結果Miraiが検出された。  前々から思っていたけど、AVって結構ザル？念の為に春の自宅環境は消毒だ祭りとNW構成は真面目に構成だぁヒャッハーは不可避。\n",
      "1244731132173746176 2020-03-30 14:00:02 Pacific Daylight Time <HeliosCert> Sample analysed on #virustotal VirusTotal-Score: 4 VirusTotal:  https://www.virustotal.com/file/5bd88137a2523c9c166ade972d219379047b58a9a6518a175c62d1f4386f98cc/analysis/1585586687/ … Threat:\n",
      "1244697809644933120 2020-03-30 11:47:37 Pacific Daylight Time <_mrbyte> Virustotal me lo da pulito.\n",
      "1244663768988160002 2020-03-30 09:32:21 Pacific Daylight Time <Corrutina> En VirusTotal, sólo Fortinet te dice que esto parece SPAM. Pero no estoy seguro, si entras en passtechusa[.]com, te redigirirá a Google rápidamente y ya.\n",
      "1244641726662184960 2020-03-30 08:04:46 Pacific Daylight Time <keran_xi> 编程随想的博客: 在线查毒工具 VirusTotal 的 N 种玩法——从“误报/漏报”聊到“攻击者对它的利用”  https://program-think.blogspot.com/2020/03/VirusTotal-Tricks.html …\n",
      "1244630909841821700 2020-03-30 07:21:47 Pacific Daylight Time <bpoinsard> Google Play Store abritait 56 applications installées dans plus de 1,7 millions d'appareils et infectées par le malware Tekya, qui n'a pas pu être détecté par VirusTotal et Google Play Protect  https://securite.developpez.com/actu/298169/Google-Play-Store-abritait-56-applications-installees-dans-plus-de-1-7-millions-d-appareils-et-infectees-par-le-malware-Tekya-qui-n-a-pas-pu-etre-detecte-par-VirusTotal-et-Google-Play-Protect/ …\n",
      "1244624176394252288 2020-03-30 06:55:02 Pacific Daylight Time <HeliosCert> Sample analysed on #virustotal VirusTotal-Score: 40 VirusTotal:  https://www.virustotal.com/file/cbb43876ebec9808f800d20ff1163ca9ea6212746768dc18e8f402bca3db5b3a/analysis/1585568198/ … Threat: Trojan:Win32/Wacatac.D!ml  (Microsoft)\n",
      "1244614111834583041 2020-03-30 06:15:02 Pacific Daylight Time <HeliosCert> Sample analysed on #virustotal VirusTotal-Score: 20 VirusTotal:  https://www.virustotal.com/file/cbec82f48479a58ef8e96648e418cf8f09473110485fd76c47f4563f03ab46a2/analysis/1585463709/ … Threat: Backdoor:MSIL/Bladabindi  (Microsoft)\n",
      "1244607600752238598 2020-03-30 05:49:10 Pacific Daylight Time <securitydoggo> 194 emails in my #VirusTotal folder, most of them for #Covid19/#Coronavirus related files... for the sake of my sanity, going to Ctrl-A, Ctrl-Q them. Have an amazing Monday, #infosec fam! #phishing #malware\n",
      "1244576954818252800 2020-03-30 03:47:23 Pacific Daylight Time <pceasyofficial> VirusTotal Scanner Free Download | Desktop App for Windows, Mac & Linux  Click to -  https://www.pceasy.co.in/2020/03/virustotal-scanner-free-download.html … pic.twitter.com/v1jzQD1HJI\n",
      "1244557488390918145 2020-03-30 02:30:02 Pacific Daylight Time <HeliosCert> Sample analysed on #virustotal VirusTotal-Score: 21 VirusTotal:  https://www.virustotal.com/file/3e4aee84d7e538124680a4cc4a1c06114af57324997aad31bb7bf91cbaaf0af4/analysis/1585489814/ … Threat: Trojan:Win32/Wacatac.C!ml  (Microsoft)\n",
      "1244549413047017472 2020-03-30 01:57:57 Pacific Daylight Time <cryptoishard> Does @virustotal really not allow autofill to login with a password manager? At least copy/paste aren't blocked...\n",
      "1244542390297395200 2020-03-30 01:30:02 Pacific Daylight Time <HeliosCert> Sample analysed on #virustotal VirusTotal-Score: 16 VirusTotal:  https://www.virustotal.com/file/280f22f2bfec5173ea5594088ce83f31b72153147e1adf571685eceb803e8442/analysis/1585545009/ … Threat: Trojan:Win32/Wacatac.C!ml  (Microsoft)\n",
      "1244542114542825472 2020-03-30 01:28:57 Pacific Daylight Time <jjrruiz> @Bitly #fraudulent shorten on your services: bit .ly/lidl-cupon It is used in a #scam campaign. #virustotal report  https://www.virustotal.com/gui/url/e551e0a0acc7bebd904b2183401690995e6c6b9c80cf45cd04d258e3e1565aae/detection … Please disable it as soon as possible.\n",
      "1244522254957936646 2020-03-30 00:10:02 Pacific Daylight Time <HeliosCert> Sample analysed on #virustotal VirusTotal-Score: 53 VirusTotal:  https://www.virustotal.com/file/8d5ee493b830ddf2568632f101ea1b99cb0d0ee66b9bcad8b0540b0fe93b569f/analysis/1550502111/ … Threat: Ransom:Win32/CVE-2017-0147.A  (Microsoft)\n",
      "1244490799804559360 2020-03-29 22:05:02 Pacific Daylight Time <HeliosCert> Sample analysed on #virustotal VirusTotal-Score: 39 VirusTotal:  https://www.virustotal.com/file/e44ea6095036b15910c82941c0c3af5178687d3deeb9954adf9967cd833b9349/analysis/1585416306/ … Threat: Trojan:Win32/Wacatac.D!ml  (Microsoft)\n",
      "1244474440496406528 2020-03-29 21:00:02 Pacific Daylight Time <HeliosCert> Sample analysed on #virustotal VirusTotal-Score: 3 VirusTotal:  https://www.virustotal.com/file/69e402fa282c17f1dc74bcbd80dcf9f418aff8c919ec16231407bf71f63bb5e8/analysis/1585491611/ … Threat:\n",
      "1244444243206307842 2020-03-29 19:00:02 Pacific Daylight Time <HeliosCert> Sample analysed on #virustotal VirusTotal-Score: 55 VirusTotal:  https://www.virustotal.com/file/4a39df1815927d4db0dbcbeda2927d6d3895ac75956d89c5f8144723386bcc30/analysis/1585452610/ … Threat: Trojan:Win32/DllCheck.A!MSR  (Microsoft)\n",
      "1244393909968609287 2020-03-29 15:40:02 Pacific Daylight Time <HeliosCert> Sample analysed on #virustotal VirusTotal-Score: 58 VirusTotal:  https://www.virustotal.com/file/be2fc642061549abae67cf6220fcf34ad42ff610e9e29ac5acd0ee09a50b609b/analysis/1577656081/ … Threat: TROJ_GEN.R002C0CLQ19  (TrendMicro)\n",
      "1244384129090834435 2020-03-29 15:01:10 Pacific Daylight Time <spencercalderon> sabes como podes ver si tiene alerta es usando Virustotal, es una url que detecta fraudes en las paginas.   https://www.virustotal.com/ \n",
      "1244326019500257282 2020-03-29 11:10:16 Pacific Daylight Time <theKhaledYassen> 2. Category: Security. You should never click on a link or download a file that you do not trust the source of. Let's say you just have to. You can use VirusTotal or ZScaler to check if a link or a file is safe. All you gotta do is just copy and paste the link into their engine.\n",
      "1244319672503336963 2020-03-29 10:45:02 Pacific Daylight Time <HeliosCert> Sample analysed on #virustotal VirusTotal-Score: 48 VirusTotal:  https://www.virustotal.com/file/fdb12aa96c16351301d90ba86a776e08c42170e643b9413b33137a06ff99c35f/analysis/1585495511/ … Threat: BKDR_REVET.SM  (TrendMicro)\n",
      "1244316258180296705 2020-03-29 10:31:28 Pacific Daylight Time <akram1_1> أيضاً هناك بعض الروابط الذي تقول اختبر ذكاء عقلك وانت جالس في البيت!  ومن ثم يقومون بختراق حسابات الفيس بوك وأيضاً سرق بيانات شخصية من تلفونك قد تحتوي على: معلومات هامة على سبيل المثال حسابات بنكية تستطيع أن تختبر صحة الرابط او الملف قبل فتحه عن طريق موقع  VirusTotal فايروس توتال\n",
      "1244272820441321479 2020-03-29 07:38:52 Pacific Daylight Time <hooshmandk> راحت‌ترین کار استفاده از سرویس virustotal ه اما اون فقط بدافزارهای شناخته شده رو بهت می‌گه. اگر بدافزار جدید باشه، ممکنه تشخیص نده.\n",
      "1244251721372663808 2020-03-29 06:15:02 Pacific Daylight Time <HeliosCert> Sample analysed on #virustotal VirusTotal-Score: 39 VirusTotal:  https://www.virustotal.com/file/40c7f554e9697e9d3df5d82622c6eb39022e7992513f7ad6cfee265bcdcde64d/analysis/1585478324/ … Threat: Trojan:Win32/Wacatac.C!ml  (Microsoft)\n",
      "1244242916530368514 2020-03-29 05:40:02 Pacific Daylight Time <HeliosCert> Sample analysed on #virustotal VirusTotal-Score: 59 VirusTotal:  https://www.virustotal.com/file/351e1907992deaaac85fefdf4b9e58890e68e69c42a3ead259a371d25ba62cb4/analysis/1585469707/ … Threat: BKDR_SOCMER.SM  (TrendMicro)\n",
      "1244236624613068807 2020-03-29 05:15:02 Pacific Daylight Time <HeliosCert> Sample analysed on #virustotal VirusTotal-Score: 2 VirusTotal:  https://www.virustotal.com/file/c071278f921475bc6f252b10b771dda4948596ef6d81b689bd936a2a9058b5cc/analysis/1580124082/ … Threat:\n",
      "1244183774130245637 2020-03-29 01:45:02 Pacific Daylight Time <HeliosCert> Sample analysed on #virustotal VirusTotal-Score: 49 VirusTotal:  https://www.virustotal.com/file/51ad568171d6a835bc1edd45cfe1fee659085dfc4522ac3d93c1458688d44bd5/analysis/1585417816/ … Threat: TSPY_TINCLEX.SM1  (TrendMicro)\n",
      "1244161100678979585 2020-03-29 00:14:56 Pacific Daylight Time <dylanaraps> Percuma mas, dia pun engga akan tahu kalau ada Virustotal.\n",
      "1244102192044421120 2020-03-28 20:20:51 Pacific Daylight Time <_9i7_>  https://www.virustotal.com/  Virustotal وكمان هذا\n"
     ]
    },
    {
     "name": "stdout",
     "output_type": "stream",
     "text": [
      "1244022715675222019 2020-03-28 15:05:02 Pacific Daylight Time <HeliosCert> Sample analysed on #virustotal VirusTotal-Score: 2 VirusTotal:  https://www.virustotal.com/file/303a36a13238eaaa8ac4241252225db319f47d4f12567084dc2e1c08c98e4c90/analysis/1580125410/ … Threat:\n",
      "1244017681575096322 2020-03-28 14:45:02 Pacific Daylight Time <HeliosCert> Sample analysed on #virustotal VirusTotal-Score: 57 VirusTotal:  https://www.virustotal.com/file/d4bc359cea66f29032e1743036c76f2b1d73701e643cfa207aabd22855cdc7ba/analysis/1543575957/ … Threat: Trojan:Win32/Eqtonex!rfn  (Microsoft)\n",
      "1244003841235914755 2020-03-28 13:50:02 Pacific Daylight Time <HeliosCert> Sample analysed on #virustotal VirusTotal-Score: 43 VirusTotal:  https://www.virustotal.com/file/0f66614090cbaf22ce4b6e580ba635df999c6ed8e8e54e6fb2581d371eff43fc/analysis/1585358685/ … Threat: Trojan:MSIL/CoinMiner.GA!MTB  (Microsoft)\n",
      "1243976318326149121 2020-03-28 12:00:40 Pacific Daylight Time <JohnLaTwC> I ran a @VirusTotal retrohunt before submitting the rules  to test them.  I started looking through the results: 🔗 https://gist.github.com/JohnLaTwC/9f648bf48c399da5670c53c1d05fdc03 … pic.twitter.com/lHfyhkDfpB\n",
      "1243951109066145792 2020-03-28 10:20:30 Pacific Daylight Time <Josh_717> The funny this is, i copied the link, put it into virustotal and it had 0 flags as a malicious link. Idk what tf it does\n",
      "1243934637237456896 2020-03-28 09:15:03 Pacific Daylight Time <HeliosCert> Sample analysed on #virustotal VirusTotal-Score: 52 VirusTotal:  https://www.virustotal.com/file/e8ed5bf699f7d13179554d298bfad8598f1dd24f7a25fff55968a3b939c3f21b/analysis/1585384122/ … Threat: BKDR_REVET.SM  (TrendMicro)\n",
      "1243925827437449217 2020-03-28 08:40:02 Pacific Daylight Time <HeliosCert> Sample analysed on #virustotal VirusTotal-Score: 60 VirusTotal:  https://www.virustotal.com/file/569be57292b0f195a11f31a462a1cd2ec7278c826697762e64c5ea10a3b1dbea/analysis/1585399161/ … Threat: BKDR_NOANCOOE.SM  (TrendMicro)\n",
      "1243921819855396864 2020-03-28 08:24:07 Pacific Daylight Time <malwrhunterteam> VirusTotal.\n",
      "1243917580655636484 2020-03-28 08:07:16 Pacific Daylight Time <t_kaabi20> مساء الخير استاذنا،   سؤال عن cyber threat intelligence من هم افضل مقدمين هذ الخدمه؟  كيف تشتغل ؟  بوت نت يرصد signature و behavior ويرسل feedback بهجوم محتمل؟ ايش احتاج عشان اعمل منتج خاص فيني يقدم هذي الخدمه ؟  اشتري بيانات من virustotal واعمل عليها تحاليل  اشترك في feedback\n",
      "1243907278035697664 2020-03-28 07:26:20 Pacific Daylight Time <1ZRR4H> #VirusTotal modo retro  https://www.virustotal.com/old-browsers/?style=1337 … pic.twitter.com/SKKQAiWFWa\n",
      "1243906950880022532 2020-03-28 07:25:02 Pacific Daylight Time <HeliosCert> Sample analysed on #virustotal VirusTotal-Score: 47 VirusTotal:  https://www.virustotal.com/file/97b25fb6b6b9c92ec259ff7e1e80c5cebdca22458e244c7185cddc9fc95e4530/analysis/1585399212/ … Threat: BKDR_REVET.SM  (TrendMicro)\n",
      "1243886820364038144 2020-03-28 06:05:02 Pacific Daylight Time <HeliosCert> Sample analysed on #virustotal VirusTotal-Score: 21 VirusTotal:  https://www.virustotal.com/file/bc90f7cabd8840186fba4f070ff3d468091361f352198b732f4d292f1c9cf79a/analysis/1585287308/ … Threat: Backdoor:MSIL/Bladabindi  (Microsoft)\n",
      "1243873426546122759 2020-03-28 05:11:49 Pacific Daylight Time <patti_gurl> Read my Mar 28 Newsletter featuring “VirusTotal”  https://nzzl.us/JQ0O5PH \n",
      "1243785010672476163 2020-03-27 23:20:29 Pacific Daylight Time <jcanto>  https://www.virustotal.com/old-browsers/ \n",
      "1243770079067635712 2020-03-27 22:21:09 Pacific Daylight Time <defconisov3r> Existe un subdominio (no recuerdo cuál exactamente) que muestra una interfaz de solo texto y sí, el fondo es obscuro 😋.\n",
      "1243745892957552642 2020-03-27 20:45:03 Pacific Daylight Time <HeliosCert> Sample analysed on #virustotal VirusTotal-Score: 19 VirusTotal:  https://www.virustotal.com/file/37ade920ae2731e64cc72f6fbb59c0f6fcfb6e7c5099fea4b4da5a946e823f6c/analysis/1585350614/ … Threat: Trojan:Win32/Wacatac.D!ml  (Microsoft)\n",
      "1243727092686000129 2020-03-27 19:30:20 Pacific Daylight Time <Quantum_Ghost> 原来 VirusTotal 被 Google 收购了啊\n",
      "1243717991604215808 2020-03-27 18:54:11 Pacific Daylight Time <mikeandmiky> 用virustotal扫一下\n",
      "1243711917207818247 2020-03-27 18:30:02 Pacific Daylight Time <HeliosCert> Sample analysed on #virustotal VirusTotal-Score: 22 VirusTotal:  https://www.virustotal.com/file/c53483f4846953bfdb48a4a61d810544add47f1207f359a6c870d6e83650f91c/analysis/1585252211/ … Threat: Trojan:Win32/Wacatac.D!ml  (Microsoft)\n",
      "1243704928012570624 2020-03-27 18:02:16 Pacific Daylight Time <mykowutazoqu> Google Play Store abritait 56 applications installées dans plus de 1,7 millions d'appareils et infectées par le malware Tekya,  qui n'a pas pu être détecté par VirusTotal et Google Play Protect :  http://tinyurl.com/tr75rt2  pic.twitter.com/ZXuTLULbgA\n",
      "1243700592096182272 2020-03-27 17:45:02 Pacific Daylight Time <HeliosCert> Sample analysed on #virustotal VirusTotal-Score: 49 VirusTotal:  https://www.virustotal.com/file/c7bf30d34e0e14112c582d3b55aafabdfb00f563be001f3e1ab4e5d04b5c0271/analysis/1585331714/ … Threat: BKDR_REVET.SM  (TrendMicro)\n",
      "1243693983521529857 2020-03-27 17:18:47 Pacific Daylight Time <FroakedWifHat> Its not I use it reduced my ping by like 10-20 and u can check in virustotal\n",
      "1243692067261480961 2020-03-27 17:11:10 Pacific Daylight Time <naumovaslavyana> Google Play Store abritait 56 applications installées dans plus de 1,7 millions d'appareils et infectées par le malware Tekya,  qui n'a pas pu être détecté par VirusTotal et Google Play Protect :  http://tinyurl.com/tr75rt2  pic.twitter.com/iXzovMS4ca\n",
      "1243682973825806336 2020-03-27 16:35:02 Pacific Daylight Time <HeliosCert> Sample analysed on #virustotal VirusTotal-Score: 47 VirusTotal:  https://www.virustotal.com/file/0b579b5234465e825338a97b93d6ffbb2733bd7b9a1a3f4c3ed5f7c410d76658/analysis/1585341913/ … Threat: TrojanSpy.Win32.WEECNAW.SMUM  (TrendMicro)\n",
      "1243681407161032706 2020-03-27 16:28:48 Pacific Daylight Time <EzeQuielex32> Tiene un virus segun VirusTotal.\n",
      "1243674456020713472 2020-03-27 16:01:11 Pacific Daylight Time <mykowutazoqu> Google Play Store abritait 56 applications installées dans plus de 1,7 millions d'appareils et infectées par le malware Tekya,  qui n'a pas pu être détecté par VirusTotal et Google Play Protect :  http://tinyurl.com/tr75rt2  pic.twitter.com/9KugMgDSeR\n",
      "1243670729226366984 2020-03-27 15:46:22 Pacific Daylight Time <MalwareLion> Uploaded the unpacked sample to  http://app.any.run  and virustotal if someone trys to find more out about it d950a94534129202aa308f22d6c3d33f71af884d5556671a2b7f6ba8994cc995\n",
      "1243670574485954564 2020-03-27 15:45:45 Pacific Daylight Time <MalwareLion> Uploaded the unpacked sample to  http://app.any.run  and virustotal if someone trys to find more out about it d950a94534129202aa308f22d6c3d33f71af884d5556671a2b7f6ba8994cc995  https://app.any.run/tasks/1394cf8b-3f41-4e23-84de-9acc6e985f3d … https://twitter.com/VK_Intel/status/1240767289793929217 …\n",
      "1243667269290467328 2020-03-27 15:32:37 Pacific Daylight Time <CryptoInsane> Dark Mode in @virustotal please!! 🤓🤓🤓\n",
      "1243661660755308545 2020-03-27 15:10:20 Pacific Daylight Time <TurfsterNTE> Me: *swearing as I have to reinstall a windows system from scratch* \"what else am I missing? Oh, right, winscp\" Also me: *throws installer into virustotal to get the hash* Virustotal: \"this safe file drops a fake kazaa installer and a harry potter divx according to sandbox\" Me:  pic.twitter.com/783imzXpH6\n",
      "1243654664102588416 2020-03-27 14:42:32 Pacific Daylight Time <Pres1er> We don't have a solution for users.... When we can get them to simply paste a URL, or file into something like virustotal we would have addressed more, security than porn hub enforcing  https.\n",
      "1243628906403463169 2020-03-27 13:00:11 Pacific Daylight Time <Kidaas> #GooglePlayStore abritait 56 applications installées dans plus de 1,7 millions d'appareils et infectées par le malware Tekya,  qui n'a pas pu être détecté par VirusTotal et Google Play Protect  https://buff.ly/2UjDt4G  pic.twitter.com/SwFo8ZUuiR\n",
      "1243584269412376576 2020-03-27 10:02:49 Pacific Daylight Time <ShanHolo> #Malware found with @virustotal #CTI 😉  http://bit.ly/3bBl3lT  pic.twitter.com/IjGRaMy75s\n",
      "1243581762694979585 2020-03-27 09:52:51 Pacific Daylight Time <ShanHolo> The fancy website 😜 has the IP 172.105.15.129 and looking in @virustotal I found several domains belongs to the same #Smishing campaign. Even some A.V detects malware 👇  https://bit.ly/2WRqJDZ  pic.twitter.com/PJF3arWfLu\n",
      "1243549604303552513 2020-03-27 07:45:04 Pacific Daylight Time <quieromipc> Si quieres revisar un archivo o una página Web, hacelo con la página de VIRUSTOTAL, que revisa el archivo o la web con más de 70 antivirus. Gratis, al instante, sin instalar nada.  https://www.virustotal.com/  pic.twitter.com/Zc0FoHGDlS\n",
      "1243543728771432452 2020-03-27 07:21:43 Pacific Daylight Time <_jond> Random factoid. If you upload a word doc with a tracking token in it to VirusTotal, Google hits it from Cali as expected, then ~90min later IPs from China hit it with an Outlook agent. Weird. Nothing else hits it.\n",
      "1243534287707627520 2020-03-27 06:44:12 Pacific Daylight Time <programthink> 在线查毒工具 VirusTotal 的 N 种玩法——从“误报/漏报”聊到“攻击者对它的利用”  https://program-think.blogspot.com/2020/03/VirusTotal-Tricks.html …\n",
      "1243523268319084545 2020-03-27 06:00:25 Pacific Daylight Time <Quantika14> Analizamos un #Phishing de @PayPal. Investigamos la dirección de email con #DantesGatesMobile y el enlace con @virustotal, y no te deja dudas de que algo raro pasa...   ¡Tener las herramientas para identificar que te están estafando es fundamental!  pic.twitter.com/SMqQbWHD3O\n"
     ]
    },
    {
     "name": "stdout",
     "output_type": "stream",
     "text": [
      "1243496750175981568 2020-03-27 04:15:02 Pacific Daylight Time <HeliosCert> Sample analysed on #virustotal VirusTotal-Score: 32 VirusTotal:  https://www.virustotal.com/file/36b272fbada18f510fa34a479fa391131797f13218f6756c52825d9e7711be6e/analysis/1585256310/ … Threat: Trojan:Win32/Wacatac.D!ml  (Microsoft)\n",
      "1243474736597929985 2020-03-27 02:47:34 Pacific Daylight Time <AbbasHarb15> Virustotal. Com?\n",
      "1243465290182283264 2020-03-27 02:10:02 Pacific Daylight Time <HeliosCert> Sample analysed on #virustotal VirusTotal-Score: 23 VirusTotal:  https://www.virustotal.com/file/f61ab4d487c91501016bf2857d82bfeb5db6d3c30bf7aae2d35af96c7cb4e100/analysis/1585252808/ … Threat: Trojan:Win32/Wacatac.D!ml  (Microsoft)\n",
      "1243462779006222338 2020-03-27 02:00:03 Pacific Daylight Time <HeliosCert> Sample analysed on #virustotal VirusTotal-Score: 59 VirusTotal:  https://www.virustotal.com/file/b1a1caf9fd8dee39f83f27ff5d6af196b308067d4dcf77fdcf1c64dee596390b/analysis/1585230611/ … Threat: BKDR_NOANCOOE.SM  (TrendMicro)\n",
      "1243420141586538497 2020-03-26 23:10:38 Pacific Daylight Time <shellyj25178398> Google Play Store abritait 56 applications installées dans plus de 1,7 millions d'appareils et infectées par le malware Tekya,  qui n'a pas pu être détecté par VirusTotal et Google Play Protect :  https://bit.ly/2UFCHhq  pic.twitter.com/RnUZuznh5A\n",
      "1243405012119609345 2020-03-26 22:10:30 Pacific Daylight Time <ARCSec678> As you can guess by the name, VirusTotal helps to analyze the given URL for suspicious code and malware. Tests are done against more than 60 trusted threat database  https://geekflare.com/?p=9299  via @ConnectCK #100DaysOfCode\n",
      "1243386020122333189 2020-03-26 20:55:02 Pacific Daylight Time <HeliosCert> Sample analysed on #virustotal VirusTotal-Score: 17 VirusTotal:  https://www.virustotal.com/file/9c297d61d6dc387e2c64bc04e672dfed1324705a99ffb5ff806cdbf13fbfb49b/analysis/1585216208/ … Threat: Trojan.FakeMS.Gen  (Malwarebytes)\n",
      "1243369662273990658 2020-03-26 19:50:02 Pacific Daylight Time <HeliosCert> Sample analysed on #virustotal VirusTotal-Score: 0 VirusTotal:  https://www.virustotal.com/file/b40089c2d0a8c60138215615396a023abd261b9300b4ecfcd33642238bcf6de8/analysis/1585272764/ … Threat:\n",
      "1243369327652413442 2020-03-26 19:48:43 Pacific Daylight Time <Underdog1987> Downloaded file (YandexPackLoader.exe) appears to be a Windows executable. 2 engines (@ virustotal) detected it as malware.  pic.twitter.com/uuOVNLyqCL\n",
      "1243357789340053504 2020-03-26 19:02:52 Pacific Daylight Time <korniliirusako1> Google Play Store abritait 56 applications installées dans plus de 1,7 millions d'appareils et infectées par le malware Tekya,  qui n'a pas pu être détecté par VirusTotal et Google Play Protect :  https://securite.developpez.com/actu/298169/Google-Play-Store-abritait-56-applications-installees-dans-plus-de-1-7-millions-d-appareils-et-infectees-par-le-malware-Tekya-qui-n-a-pas-pu-etre-detecte-par-VirusTotal-et-Google-Play-Protect/ … pic.twitter.com/6bmhsKxU12\n",
      "1243290387600609280 2020-03-26 14:35:02 Pacific Daylight Time <HeliosCert> Sample analysed on #virustotal VirusTotal-Score: 51 VirusTotal:  https://www.virustotal.com/file/899bb9a7cbead03d1f6be39d2798cd9c8075be00a3001411e13bb5f20c8a9364/analysis/1585234212/ … Threat: Trojan.MSIL.BLADABINDI.SMJM06  (TrendMicro)\n",
      "1243256783310905345 2020-03-26 12:21:30 Pacific Daylight Time <cyber__sloth> Yes, but Virustotal has more URLs than urlscan. at least VT intelligence is not available to the public.\n",
      "1243245126417125377 2020-03-26 11:35:11 Pacific Daylight Time <r0wdy_> beacon-stageless.exe....  eh whitelist\n",
      "1243244907113955334 2020-03-26 11:34:18 Pacific Daylight Time <ItsReallyNick> Rick reminding you all how to use dynamic detection for @virustotal collection. Bringing home the #BEACON!  https://twitter.com/a_tweeter_user/status/1243189896623403008 … pic.twitter.com/OsUGDOZyI2\n",
      "1243240839058526209 2020-03-26 11:18:08 Pacific Daylight Time <maxbill_design> VirusTotal #APIs for #NodeJS - #opensource on #github ->  https://github.com/natewatson999/node-virustotal … | #javascript #antivirus #webdev #js #developer #development pic.twitter.com/u76XIGD6jM\n",
      "1243216450493579266 2020-03-26 09:41:14 Pacific Daylight Time <jcanto> it's not that simple\n",
      "1243215352911278082 2020-03-26 09:36:52 Pacific Daylight Time <SeraphimDomain> @jcanto time for an update!\n",
      "1243213295198392321 2020-03-26 09:28:42 Pacific Daylight Time <a_tweeter_user> Do you want to find Cobalt Strike Beacon samples? Even vmprotect'd Cobalt Strike Beacon samples?  @virustotal has the way.  https://twitter.com/a_tweeter_user/status/1243189896623403008 …\n",
      "1243177088770871296 2020-03-26 07:04:49 Pacific Daylight Time <polarply> @virustotal is using an old version of libmagic, resulting in incosistencies between VT and the `file` command. Very confusing!  pic.twitter.com/lS8S9vSE53\n",
      "1243133606576324608 2020-03-26 04:12:02 Pacific Daylight Time <Developpez> #Google Play Store abritait 56 applications installées dans plus de 1,7 millions d'appareils et infectées par le malware Tekya, qui n'a pas pu être détecté par VirusTotal et #Google Play Protect http://dlvr.it/RSbHDt \n",
      "1243132963996475394 2020-03-26 04:09:29 Pacific Daylight Time <Faridsarl> #Google Play Store abritait 56 applications installées dans plus de 1,7 millions d'appareils et infectées par le malware Tekya,  qui n'a pas pu être détecté par VirusTotal et #Google Play Protect https://ift.tt/2wu5vS4 \n",
      "1243131710780432386 2020-03-26 04:04:30 Pacific Daylight Time <Geoffreytai2017> Google Play Store abritait 56 applications installées dans plus de 1,7 millions d'appareils et infectées par le malware Tekya, qui n'a pas pu être détecté par VirusTotal et Google Play Protect  https://securite.developpez.com/actu/298169/Google-Play-Store-abritait-56-applications-installees-dans-plus-de-1-7-millions-d-appareils-et-infectees-par-le-malware-Tekya-qui-n-a-pas-pu-etre-detecte-par-VirusTotal-et-Google-Play-Protect/ … pic.twitter.com/5FV2y9QSBH\n",
      "1243128180648677376 2020-03-26 03:50:29 Pacific Daylight Time <pro_integritate> Have seen this actor around for a while on Pastebin. Note that it is still possible to upload the .ZIP file to virustotal and get a scan of it as it is barely 5 MB when compressed.  https://twitter.com/sans_isc/status/1243068501792903168 …\n",
      "1243118256858099714 2020-03-26 03:11:03 Pacific Daylight Time <Deborah_Rueda> La historia detrás de VirusTotal, líder en ciberseguridad  http://dlvr.it/RSb5ky  pic.twitter.com/Xjxjk5yhm3\n",
      "1243118255994097665 2020-03-26 03:11:02 Pacific Daylight Time <Marta_YL> La historia detrás de VirusTotal, líder en ciberseguridad  http://dlvr.it/RSb5jh  pic.twitter.com/VydSA0NC6t\n",
      "1243094347509161985 2020-03-26 01:36:02 Pacific Daylight Time <Irene_Yague_IMF> La historia detrás de VirusTotal, líder en ciberseguridad  http://dlvr.it/RSZrnw  pic.twitter.com/obz7AalNNY\n",
      "1243080489596071937 2020-03-26 00:40:58 Pacific Daylight Time <migohe14> Detecting malicious url in real time about \"coronavirus map\". by the way, Is it possible to increase the query ratio of API streamming? pic.twitter.com/hIy8voPgBm\n",
      "1243059832451727360 2020-03-25 23:18:53 Pacific Daylight Time <beeftext> Unfortunately, apart from assuring you Beeftext make is not a malware, there is not much I can do about that. You can probably try to report this false positive to your AV maker.\n",
      "1243000981178265607 2020-03-25 19:25:02 Pacific Daylight Time <HeliosCert> Sample analysed on #virustotal VirusTotal-Score: 41 VirusTotal:  https://www.virustotal.com/file/948e9775e998f74d9e0450cf53b4f1aef26ee1fdd62d90b7d203f359d6002eba/analysis/1585155919/ … Threat: Trojan:Win32/Wacatac.D!ml  (Microsoft)\n",
      "1243000766077509637 2020-03-25 19:24:11 Pacific Daylight Time <The4rchangel> @virustotal  pic.twitter.com/9Gzdt1MOlK\n",
      "1242982425971421184 2020-03-25 18:11:18 Pacific Daylight Time <jay_zeke> What you mean? You guys already got the file, or should already. I sent it long time ago onto VirusTotal....\n",
      "1242949391020851200 2020-03-25 16:00:02 Pacific Daylight Time <HeliosCert> Sample analysed on #virustotal VirusTotal-Score: 52 VirusTotal:  https://www.virustotal.com/file/332efa8ea138ad7de3d2378863163a5cd6c4c91873242d884375bde60fb0b7bb/analysis/1552499882/ … Threat: Ransom:Win32/CVE-2017-0147.A  (Microsoft)\n",
      "1242917305186684929 2020-03-25 13:52:32 Pacific Daylight Time <Aks_Corp> Puedes descargarlo y revisarlo en virustotal, o en una máquina virtual....\n",
      "1242892772157337600 2020-03-25 12:15:03 Pacific Daylight Time <HeliosCert> Sample analysed on #virustotal VirusTotal-Score: 54 VirusTotal:  https://www.virustotal.com/file/4f019d886889ed965566bce0bd3f6c5b4d3023eaa273510c51992fb487025d21/analysis/1555342018/ … Threat: Ransom:Win32/CVE-2017-0147.A  (Microsoft)\n",
      "1242889317074309120 2020-03-25 12:01:19 Pacific Daylight Time <AdliceSoftware> Need a place to store your malware files, why not trying #MRF ? It has a nice UI and a lot of pre-analysis features (VirusTotal, PE/PDF/Office data extraction, BinImage, ...) Give a try to MRF:  https://www.adlice.com/download/mrf/  , or register to  https://malshare.io  for a public demo\n",
      "1242879686528643078 2020-03-25 11:23:03 Pacific Daylight Time <Amir_s_f> ترجیحآ باز نکنین. یا قبلش لینک رو کپی کنین تو virustotal   ولی باز نکنین بهتره.   میترسم بگم چطوری و با چه شرایطی باز کنین. داستان بشه\n"
     ]
    },
    {
     "name": "stdout",
     "output_type": "stream",
     "text": [
      "1242863071489486855 2020-03-25 10:17:02 Pacific Daylight Time <AndroidDVP> #Google Play Store abritait 56 applications installées dans plus de 1,7 millions d'appareils et infectées par le malware Tekya, qui n'a pas pu être détecté par VirusTotal et #Google Play Protect http://dlvr.it/RSY19n \n",
      "1242836914127933442 2020-03-25 08:33:05 Pacific Daylight Time <cibernicola_es> Más basura sobre el # #CiberCOVID19 en dos capturas: Exe detectable, pero aún no había sido subido a @virustotal (muestra guardada) #ciberseguridad #infosec @CCNCERT @CarloSeisdedos @DerechodelaRed pic.twitter.com/2WDzxp0rJQ\n",
      "1242825393754775552 2020-03-25 07:47:19 Pacific Daylight Time <lepetithacker> Google Play Store abritait 56 applications installées dans plus de 1,7 millions d'appareils et infectées par le malware Tekya,  qui n'a pas pu être détecté par VirusTotal et Google Play Protect  pic.twitter.com/BX1f9wwfPR\n",
      "1242807015103135745 2020-03-25 06:34:17 Pacific Daylight Time <crazyws> @virustotal Since a few days, the captcha is no longer visible, I find myself on an empty page and I can no longer use Virustotal to submit artifacts 😓\n",
      "1242765682271571968 2020-03-25 03:50:02 Pacific Daylight Time <HeliosCert> Sample analysed on #virustotal VirusTotal-Score: 30 VirusTotal:  https://www.virustotal.com/file/fbe74661ebcefb56f41a1be1ac13afe01c48b413d43879a58aabe409d015e312/analysis/1584611127/ … Threat: TROJ_GEN.R002C0PCG20  (TrendMicro)\n",
      "1242724099392143361 2020-03-25 01:04:48 Pacific Daylight Time <nuria_imeq> Cada vez se detecta más #phishing  Analizamos este enlace. Descargado el fichero,vemos que hay una cabecera PK q indica que es un zip, eliminamos lineas q no sirven, descomprimimos y obtenemos 2 ejecutables. Uno no detectado por virustotal, el otro solo un antivirus. No pinchéis.  pic.twitter.com/GtlxC31Iay\n",
      "1242698993081122817 2020-03-24 23:25:02 Pacific Daylight Time <HeliosCert> Sample analysed on #virustotal VirusTotal-Score: 57 VirusTotal:  https://www.virustotal.com/file/52c9fd707cad028c28e9e24392163ed69c0a760dbaec782a9c40869a21a9b6f6/analysis/1551419747/ … Threat: Ransom:Win32/CVE-2017-0147.A  (Microsoft)\n",
      "1242654328336166912 2020-03-24 20:27:33 Pacific Daylight Time <mgtowcoin> It's a false positive. There's also the VirusTotal URL scan which is clean:  https://www.virustotal.com/gui/url/82501ccfe42585bcdfbefed7970d285d0bc7770572b56af730a732f4fb8ac106/detection …\n",
      "1242622860016758790 2020-03-24 18:22:31 Pacific Daylight Time <QuodGoogla> Wife: This supplier has sent me a link I have to upload my invoice to Checks link in VirusTotal Me: Yeah you're not going to they link. He has inadvertently or otherwise sent you a link that would have crippled the PC.\n",
      "1242599084025942016 2020-03-24 16:48:02 Pacific Daylight Time <AbdullahMH01> “..the well-obfuscated code causes infected devices to use Android’s “MotionEvent” mechanism to imitate legitimate user actions. At the time that researchers discovered them, the apps went undetected by VirusTotal and Google Play Protect..”  https://arstechnica.com/information-technology/2020/03/found-malicious-google-play-apps-with-1-7-million-downloads-many-by-children/ …\n",
      "1242579459305177088 2020-03-24 15:30:03 Pacific Daylight Time <HeliosCert> Sample analysed on #virustotal VirusTotal-Score: 61 VirusTotal:  https://www.virustotal.com/file/abd4e6ee8152822c0545bd27a4f4c5114728873873e227044dfb48ecf1ecb37f/analysis/1585051807/ … Threat: BKDR_SOCMER.SM  (TrendMicro)\n",
      "1242537719122866178 2020-03-24 12:44:12 Pacific Daylight Time <Shadow_Storm_OW> @FuzeIII @PaladiumPVP pq quand je met paladium.exe sur virustotal y'a ça ?  pic.twitter.com/QFUZVuWDrB\n",
      "1242530952816914432 2020-03-24 12:17:18 Pacific Daylight Time <KPorteousLTD> I use Virustotal Mobile, did a video on it, and ES File Explorer Pro.\n",
      "1242528300834205702 2020-03-24 12:06:46 Pacific Daylight Time <sifbaksh> What a surprise! During this research, the Tekya malware family went undetected by VirusTotal and Google Play Protect. Ultimately, it was available for download in 56 applications downloadable on Google Play. #malware #cybersecurity #security https://lnkd.in/erSpQpB \n",
      "1242524091325833217 2020-03-24 11:50:03 Pacific Daylight Time <HeliosCert> Sample analysed on #virustotal VirusTotal-Score: 12 VirusTotal:  https://www.virustotal.com/file/fe63013fae6a7cfe5b94f69cd8d2bf637e48151466fa17ee64eed360f8e786f6/analysis/1585073119/ … Threat: Trojan:Win32/Wacatac.C!ml  (Microsoft)\n",
      "1242518187788226560 2020-03-24 11:26:35 Pacific Daylight Time <bad_packets> Active DDoS malware payload detected:  https://lol[.]tf/eRrlQF1.botnet Hosting provider: Shock Hosting (AS395092)  VirusTotal URL detections: 0 ( https://www.virustotal.com/gui/url/18d1c1327cb69e389de5172461cb6536a875788f23af5eadf1675b6a724d26b7/details …)  Exploit attempt source IP: 134.122.25.145 (🇺🇸) Vulnerability exploited: MVPower DVR (JAWS) RCE #threatintel pic.twitter.com/DkEhbZDxH9\n",
      "1242489395401248769 2020-03-24 09:32:10 Pacific Daylight Time <The_9News> #virustotal is a URL, File analyzer if you are using a file on your website or server. first, check the #code of the file to see that your code is perfect and clean. Virustotal will check malware or virus in code.   https://www.the9news.com/virus-total/  pic.twitter.com/TkGV95Bid9\n",
      "1242451107005202432 2020-03-24 07:00:02 Pacific Daylight Time <HeliosCert> Sample analysed on #virustotal VirusTotal-Score: 59 VirusTotal:  https://www.virustotal.com/file/34bdd79bad634bd7b9ffd0b195d489c78f9b3899680078a074b237c492e3f524/analysis/1565132410/ … Threat: Ransom:Win32/CVE-2017-0147.A  (Microsoft)\n",
      "1242450230118739969 2020-03-24 06:56:33 Pacific Daylight Time <CongLe81> My AV software detected the MyEnergiWallet-1.3.12-windows-setup.exe is virus file, anyone check this? I check on virustotal and show the same result :(  pic.twitter.com/tsQU6j4xFj\n",
      "1242448591391727617 2020-03-24 06:50:02 Pacific Daylight Time <HeliosCert> Sample analysed on #virustotal VirusTotal-Score: 54 VirusTotal:  https://www.virustotal.com/file/c056a5dcd65ba673964b896dc1015d588152cba46658c5528e4a698cc2d5362c/analysis/1552040759/ … Threat: Ransom:Win32/CVE-2017-0147.A  (Microsoft)\n",
      "1242418394290421763 2020-03-24 04:50:02 Pacific Daylight Time <HeliosCert> Sample analysed on #virustotal VirusTotal-Score: 49 VirusTotal:  https://www.virustotal.com/file/de35000537e325fd8ed05003a1114b71aa7366f23a6185c9d8133a3793673427/analysis/1584993910/ … Threat: BKDR_REVET.SM  (TrendMicro)\n",
      "1242414295301918722 2020-03-24 04:33:45 Pacific Daylight Time <Alix65187703> Si vous repérez un programme suspect, ne le supprimez pas immédiatement, mais scannez-le via VirusTotal et/ou Malwr :   https://www.virustotal.com/   https://malwr.com/   Bingo, il s’agit bien d’un keylogger :\n",
      "1242408837078024197 2020-03-24 04:12:04 Pacific Daylight Time <javipas> El tuit de @bquintero (VirusTotal) ponía la información de estos días en contexto, y en este tema he podido contar con @patowc que no me falla nunca. Dos cracks. https://twitter.com/xataka/status/1242408199187300352 …\n",
      "1242392793454166018 2020-03-24 03:08:19 Pacific Daylight Time <edaross> @beeftext your app is getting an idp.generic warning from @avast_antivirus as per  https://appuals.com/what-is-idp-generic/ … and @virustotal also gives warnings  https://www.virustotal.com/gui/file/caa521253a2e9d0e2116110755f0abff0b4e9d13da06458aaaf130700b373cd5/detection … Can you say when that will be fixed please? I love your tool and really want to use it again\n",
      "1242384376693960704 2020-03-24 02:34:52 Pacific Daylight Time <SuperSpace230> Run it trough virustotal and send him the results, I've had stuff like Razor1911 demos being tagged as malware before\n",
      "1242368067797049346 2020-03-24 01:30:04 Pacific Daylight Time <trisnaq> semua merah skrg  live :  http://wuflu.live  fwd  http://covid19info.live  url safe di virustotal  pic.twitter.com/I4VGvhT9Ru\n",
      "1242351930673946624 2020-03-24 00:25:56 Pacific Daylight Time <ditrizna> Great talk, thanks for sharing!  Wonder how did you collect dataset for your ML classifier? Portals like virustotal or any other sources as well?\n",
      "1242334087341322247 2020-03-23 23:15:02 Pacific Daylight Time <HeliosCert> Sample analysed on #virustotal VirusTotal-Score: 49 VirusTotal:  https://www.virustotal.com/file/e6eda9918b257e317e921d294b903f9488929fe7ef2efc0955bd141d19e15855/analysis/1584995412/ … Threat: BKDR_REVET.SM  (TrendMicro)\n",
      "1242310180597096448 2020-03-23 21:40:02 Pacific Daylight Time <HeliosCert> Sample analysed on #virustotal VirusTotal-Score: 27 VirusTotal:  https://www.virustotal.com/file/27035562dd315d402b2cac3b408cb1c9dc3cdbc8c1fcb29771ba798ca8efbbd7/analysis/1584925513/ … Threat: Trojan:Win32/Wacatac.C!ml  (Microsoft)\n",
      "1242310178344755201 2020-03-23 21:40:02 Pacific Daylight Time <HeliosCert> Sample analysed on #virustotal VirusTotal-Score: 26 VirusTotal:  https://www.virustotal.com/file/15c5aad0f8a4a86d269617d5ed93b4cbd6a1cca192f278fb66104def02d3b8e8/analysis/1584996319/ … Threat: Trojan:Win32/Wacatac.D!ml  (Microsoft)\n",
      "1242254818841899008 2020-03-23 18:00:03 Pacific Daylight Time <HeliosCert> Sample analysed on #virustotal VirusTotal-Score: 38 VirusTotal:  https://www.virustotal.com/file/1d95b2c065e5f5c4dee31cb336035caeb32a1c3dbdf0e4b1e2052fc7288d4c53/analysis/1584995718/ … Threat: Trojan:Win32/Wacatac.C!ml  (Microsoft)\n",
      "1242252296676937730 2020-03-23 17:50:02 Pacific Daylight Time <HeliosCert> Sample analysed on #virustotal VirusTotal-Score: 54 VirusTotal:  https://www.virustotal.com/file/6943d64f96848b84d99a5ba74e448def9bdbc9d8ea9e103e18377ae700c4e871/analysis/1530597010/ … Threat: Ransom:Win32/WannaCrypt.A!rsm  (Microsoft)\n",
      "1242239717627789313 2020-03-23 17:00:03 Pacific Daylight Time <HeliosCert> Sample analysed on #virustotal VirusTotal-Score: 56 VirusTotal:  https://www.virustotal.com/file/59f795bb075cd8e14419f80fccb2e56f6d9bd14d0ff0900539da1b8c5ccc4c9d/analysis/1554632354/ … Threat: Ransom:Win32/CVE-2017-0147.A  (Microsoft)\n"
     ]
    },
    {
     "name": "stdout",
     "output_type": "stream",
     "text": [
      "1242200709526937601 2020-03-23 14:25:02 Pacific Daylight Time <HeliosCert> Sample analysed on #virustotal VirusTotal-Score: 56 VirusTotal:  https://www.virustotal.com/file/8a0d18a1e2858baeb249adeb5e9b29ce46130be4483d7a5f9ba7c912ee4ac212/analysis/1573202248/ … Threat: Ransom:Win32/CVE-2017-0147.A  (Microsoft)\n",
      "1242185610179293186 2020-03-23 13:25:02 Pacific Daylight Time <HeliosCert> Sample analysed on #virustotal VirusTotal-Score: 63 VirusTotal:  https://www.virustotal.com/file/da880dd186dbde046292d0289141b6626cc1b8389bce4c040b572c28abf5665f/analysis/1566200090/ … Threat: Ransom_WCRY.SMALYM  (TrendMicro)\n",
      "1242171767734571008 2020-03-23 12:30:02 Pacific Daylight Time <HeliosCert> Sample analysed on #virustotal VirusTotal-Score: 56 VirusTotal:  https://www.virustotal.com/file/1dafeebcdc71bb01ebb84ca917edc4539d3abfea827cc4e3f0a074642f56d957/analysis/1562603525/ … Threat: Ransom_WCRY.SMALYM  (TrendMicro)\n",
      "1242171434132213767 2020-03-23 12:28:42 Pacific Daylight Time <Shadow0pz> Stripped these down to their root domains:   https://pastebin.com/V3DdchfP   Will feed them into HybridAnalysis, Talos Reputation and Virustotal so it gets flagged.\n",
      "1242170520445075458 2020-03-23 12:25:05 Pacific Daylight Time <HeliosCert> Sample analysed on #virustotal VirusTotal-Score: 67 VirusTotal:  https://www.virustotal.com/file/4bca9f324286b720bfab9dbf8903827c8fc223227872768a35b25b9f78f5e7f0/analysis/1579200606/ … Threat: Ransom_WCRY.SMALYM  (TrendMicro)\n",
      "1242164218515816455 2020-03-23 12:00:02 Pacific Daylight Time <HeliosCert> Sample analysed on #virustotal VirusTotal-Score: 66 VirusTotal:  https://www.virustotal.com/file/97df26af59eb3281d408e663ad03a4b035d355b5a61180fc1f56ffad6fa3cb46/analysis/1579176326/ … Threat: Ransom_WCRY.SMALYM  (TrendMicro)\n",
      "1242160444996866051 2020-03-23 11:45:02 Pacific Daylight Time <HeliosCert> Sample analysed on #virustotal VirusTotal-Score: 65 VirusTotal:  https://www.virustotal.com/file/3eb547d8a6ea4f1e84bd95972a35846209c9a6547678dd62f2f932c3751c9478/analysis/1579177564/ … Threat: Ransom_WCRY.SMALYM  (TrendMicro)\n",
      "1242154153713025024 2020-03-23 11:20:03 Pacific Daylight Time <HeliosCert> Sample analysed on #virustotal VirusTotal-Score: 55 VirusTotal:  https://www.virustotal.com/file/c6caa9dbf2f64cb5fbc91192db0d2437e918f2a03a23bfea5fea546ee768dbdc/analysis/1532582969/ … Threat: Ransom_WCRY.SMALYM  (TrendMicro)\n",
      "1242149118639816705 2020-03-23 11:00:02 Pacific Daylight Time <HeliosCert> Sample analysed on #virustotal VirusTotal-Score: 58 VirusTotal:  https://www.virustotal.com/file/fec48db0453e1861a41ff3c5cbbd5133500c77dffcaeda04a51786d0e7a5831a/analysis/1549099082/ … Threat: Ransom_WCRY.SMALYM  (TrendMicro)\n",
      "1242145345271926790 2020-03-23 10:45:02 Pacific Daylight Time <HeliosCert> Sample analysed on #virustotal VirusTotal-Score: 54 VirusTotal:  https://www.virustotal.com/file/1bb85ee4a870ffc210e24807bffed4c872b0a7fa6c090a0356eba561ebec1969/analysis/1550573209/ … Threat: Ransom:Win32/CVE-2017-0147.A  (Microsoft)\n",
      "1242135278032171019 2020-03-23 10:05:02 Pacific Daylight Time <HeliosCert> Sample analysed on #virustotal VirusTotal-Score: 65 VirusTotal:  https://www.virustotal.com/file/2b886b9bbc04de88836d5144d026c37433005ef0f7454a844ada985e47d98de2/analysis/1578921249/ … Threat: Ransom_WCRY.SMALYM  (TrendMicro)\n",
      "1242132760791310344 2020-03-23 09:55:02 Pacific Daylight Time <HeliosCert> Sample analysed on #virustotal VirusTotal-Score: 58 VirusTotal:  https://www.virustotal.com/file/25cf55f88fbe32fe23d9b53eb707156ce04c942fa9b01877d68455e34f4b28c5/analysis/1568469719/ … Threat: Ransom_WCRY.SMALYM  (TrendMicro)\n",
      "1242127729807548416 2020-03-23 09:35:03 Pacific Daylight Time <HeliosCert> Sample analysed on #virustotal VirusTotal-Score: 62 VirusTotal:  https://www.virustotal.com/file/ff27b5ec016e4bf9b5f30015eae63f496d59596f73f7b7ffb0eb12b6b005ba7c/analysis/1570007743/ … Threat: Ransom_WCRY.SMALYM  (TrendMicro)\n",
      "1242121076899004417 2020-03-23 09:08:36 Pacific Daylight Time <IT_securitynews> Cracked Version CobaltStrike 4.0 Now Available to Threat Actors: While hunting for malware on VirusTotal…  https://goo.gl/fb/eErfs2  #infosec\n",
      "1242115145419182080 2020-03-23 08:45:02 Pacific Daylight Time <HeliosCert> Sample analysed on #virustotal VirusTotal-Score: 67 VirusTotal:  https://www.virustotal.com/file/be030deca9c1a0d54943a25f01e98f3f99a34c202912cb550c6b64586abfe3d3/analysis/1583887218/ … Threat: Ransom_WCRY.SMALYM  (TrendMicro)\n",
      "1242112629952446466 2020-03-23 08:35:02 Pacific Daylight Time <HeliosCert> Sample analysed on #virustotal VirusTotal-Score: 64 VirusTotal:  https://www.virustotal.com/file/0bbd98e50ea1289f289e2174e51dda50e6a9a7543013167c2db550c1262ff5f8/analysis/1581383118/ … Threat: Ransom_WCRY.SMALYM  (TrendMicro)\n",
      "1242111382943916035 2020-03-23 08:30:05 Pacific Daylight Time <HeliosCert> Sample analysed on #virustotal VirusTotal-Score: 66 VirusTotal:  https://www.virustotal.com/file/02c9c7f3139c3542ad06c79be3dc067f168f688af4dfb4b10015c941c5bb78da/analysis/1584451518/ … Threat: Ransom_WCRY.SMALYM  (TrendMicro)\n",
      "1242107967656296450 2020-03-23 08:16:31 Pacific Daylight Time <MarkAPomerleau> These hunt forward missions provide invaluable information, officials contend, against threats and tactics adversaries use. Officials said some of the malware found on these missions was publicly disclosed on VirusTotal & attributed to Russia by private sector analysts\n",
      "1242107596343050240 2020-03-23 08:15:02 Pacific Daylight Time <HeliosCert> Sample analysed on #virustotal VirusTotal-Score: 63 VirusTotal:  https://www.virustotal.com/file/ab38f8d258d61961c731881ea19fe5475a978ac713f061485b36132694d5c0f1/analysis/1571542218/ … Threat: Ransom_WCRY.SMALYM  (TrendMicro)\n",
      "1242105079945211907 2020-03-23 08:05:02 Pacific Daylight Time <HeliosCert> Sample analysed on #virustotal VirusTotal-Score: 48 VirusTotal:  https://www.virustotal.com/file/3c7744b3236b34b32adf0b3a3d5b7874533878c34d200d2c07fe0e0e37cb16f6/analysis/1584960913/ … Threat: TSPY_TINCLEX.SM1  (TrendMicro)\n",
      "1242066072699908099 2020-03-23 05:30:02 Pacific Daylight Time <HeliosCert> Sample analysed on #virustotal VirusTotal-Score: 35 VirusTotal:  https://www.virustotal.com/file/f826fe0717877b981b2ff82da8173065bfca23332949c54d814bacd2ab9f53d0/analysis/1584903312/ … Threat: Trojan:Win32/Wacatac.C!ml  (Microsoft)\n",
      "1242048456748863488 2020-03-23 04:20:02 Pacific Daylight Time <HeliosCert> Sample analysed on #virustotal VirusTotal-Score: 0 VirusTotal:  https://www.virustotal.com/file/7c891680c1a87391efa4ef9e8b4813a9a8f086809c9e7ab6dc75ab71954ab7ef/analysis/1584873010/ … Threat:\n",
      "1242018255285428225 2020-03-23 02:20:02 Pacific Daylight Time <HeliosCert> Sample analysed on #virustotal VirusTotal-Score: 50 VirusTotal:  https://www.virustotal.com/file/5a8eaa04e8b1c2030d94cc7661d5b18241a7556193f6e96bc79dbc7ecd60cf5d/analysis/1579670486/ … Threat: TROJ_GEN.R017C0DA820  (TrendMicro)\n",
      "1241993091495727108 2020-03-23 00:40:02 Pacific Daylight Time <HeliosCert> Sample analysed on #virustotal VirusTotal-Score: 30 VirusTotal:  https://www.virustotal.com/file/b23b48241e996ce0563311b0eb4f551f037c0134c3f5927c4eaaf2d9e8d32139/analysis/1584925808/ … Threat: Trojan:Win32/Fuery.C!cl  (Microsoft)\n",
      "1241991877718503424 2020-03-23 00:35:13 Pacific Daylight Time <lilyfivenumbers> again only 1 detection for the url itself in virustotal, which means in all likelyhood it's not anything sketchy and just one false positive. so in conclusion, it's nothing. don't click the link, but its definitely not your personal info  https://www.virustotal.com/gui/url/8daf3c9b3012adcefde38ec2b1a0aff46f65b15956987db4068b4f6d688ef689/detection …\n",
      "1241975474630414336 2020-03-22 23:30:02 Pacific Daylight Time <HeliosCert> Sample analysed on #virustotal VirusTotal-Score: 51 VirusTotal:  https://www.virustotal.com/file/0eaa5bbea25ef06214bc21deab41eb7f5bdcdd4c24b0297a28607d30edf65ae1/analysis/1584903312/ … Threat: TSPY_TINCLEX.SM1  (TrendMicro)\n",
      "1241974219728191488 2020-03-22 23:25:03 Pacific Daylight Time <HeliosCert> Sample analysed on #virustotal VirusTotal-Score: 48 VirusTotal:  https://www.virustotal.com/file/6143ceae54d8a20d00e96f5665e4a0a6218fce9dc724ef9b55fa50a15e83459d/analysis/1537105181/ … Threat: Ransom:Win32/WannaCrypt.A!rsm  (Microsoft)\n",
      "1241930178101743616 2020-03-22 20:30:03 Pacific Daylight Time <HeliosCert> Sample analysed on #virustotal VirusTotal-Score: 54 VirusTotal:  https://www.virustotal.com/file/299af7f15d174ff027a719a08a4fde2d269a5b90e2c2a41eea5fb7769d4b7f5e/analysis/1584884711/ … Threat: BKDR_REVET.SM  (TrendMicro)\n",
      "1241892251934081026 2020-03-22 17:59:20 Pacific Daylight Time <pacopadilcyber> Detecting malicious downloads with Osquery, Rsyslog, Kafka, Python3 and Virustotal | by Ben Bornholm  https://eforensicsmag.com/detecting-malicious-downloads-with-osquery-rsyslog-kafka-python3-and-virustotal-by-ben-bornholm/ … vía @eForensics_Mag\n",
      "1241866001375006720 2020-03-22 16:15:02 Pacific Daylight Time <HeliosCert> Sample analysed on #virustotal VirusTotal-Score: 61 VirusTotal:  https://www.virustotal.com/file/753883fa972dda966abb3adad3cfc94f0a82ca128d1908df58bac3ba93e60bd3/analysis/1584892927/ … Threat: BKDR_SOCMER.SM  (TrendMicro)\n",
      "1241817267521937410 2020-03-22 13:01:23 Pacific Daylight Time <mandapeitonadm> te amo virustotal lindo gostoso\n",
      "1241815673556402176 2020-03-22 12:55:03 Pacific Daylight Time <HeliosCert> Sample analysed on #virustotal VirusTotal-Score: 30 VirusTotal:  https://www.virustotal.com/file/6a7a76dc24062c8de3a001cfea013cdd72f3ed131278b15be243f926fc4b0e48/analysis/1584875651/ … Threat: Trojan:Win32/Fuery.C!cl  (Microsoft)\n",
      "1241804312893886465 2020-03-22 12:09:54 Pacific Daylight Time <RsdntEvl> .@MasterGberry hello. Why is the Badlion client exe installer a downloader and not a full installer? What is the reason behind it? If I had the full installer I could easily upload it to VirusTotal and check it. The CheatBreaker was a full installer and VirusTotal flagged it as\n"
     ]
    },
    {
     "name": "stdout",
     "output_type": "stream",
     "text": [
      "1241777409751318533 2020-03-22 10:23:00 Pacific Daylight Time <eForensics_Mag> Detecting malicious downloads with Osquery, Rsyslog, Kafka, Python3 and Virustotal  https://bit.ly/2UrrWis  #detecting #malicious #downloads #osquery #rsyslog #kafka #python3 #virustotal #forensics #digitalforensics\n",
      "1241774149363785730 2020-03-22 10:10:02 Pacific Daylight Time <HeliosCert> Sample analysed on #virustotal VirusTotal-Score: 0 VirusTotal:  https://www.virustotal.com/file/71f040514dd4c60d3b43524ba2235b3c58c399019c0da2955819a1ae745030b6/analysis/1584869709/ … Threat:\n",
      "1241716036191375360 2020-03-22 06:19:07 Pacific Daylight Time <j0hn__f> Unfortunately it's not publicly available. VirusTotal:  https://developers.virustotal.com/v3.0/reference#public-vs-premium-api … do provide an API with reputation data too that may help you out.\n",
      "1241689475626856453 2020-03-22 04:33:35 Pacific Daylight Time <malr1na> 弊サークル「noraneco」ではセキュリティに関わる人に必須でディープな世界が広がっています。@techbookfest  新刊①『Vt:ゼロから始める偵察活動』 #VirusTotal 大活用  新刊②『インサイドExploitProtection』 Windowsセキュリティ保護機構   https://techbookfest.org/market/search?q=noraneco%20-%E5%AD%A3%E5%A0%B1 … #技術書典 #推し祭出展者の陣 pic.twitter.com/ADmeHaUWpW\n",
      "1241678043720167430 2020-03-22 03:48:09 Pacific Daylight Time <farshid_ravan> کانفیگ سیستمت چیه؟ اینجوری ک خوندم اکثرا گفتن اپدیت بازی رو نصب کردن و مشکل برطرف شده اگرم برطرف نشد در اخر شما را به تماشای این فیلم از یوتیوب دعوت میکنم 😅  https://m.youtube.com/watch?v=b5y3dj1Y6yU … فقط فایلی ک دانلود میکنی از virustotal  چکش کن\n",
      "1241663416810553344 2020-03-22 02:50:02 Pacific Daylight Time <HeliosCert> Sample analysed on #virustotal VirusTotal-Score: 2 VirusTotal:  https://www.virustotal.com/file/d303a3a65dfcc999f9a54d7326101d1f78050d5e2ef81c5d53b70796001427b5/analysis/1584841443/ … Threat:\n",
      "1241623734718357505 2020-03-22 00:12:21 Pacific Daylight Time <bad_packets> Active DDoS malware payload detected:  http://218.31.3.187:34103/Mozi.m VirusTotal URL detections: 0 ( https://www.virustotal.com/gui/url/024ce8bdcae7ee3f7b7c680ef097647574a62c3e80ae8fa9579689b7ea9d7571/details …)  Exploit attempt source IP: 218.31.3.187 (🇨🇳) Target: D-Link routers ( https://nvd.nist.gov/vuln/detail/CVE-2013-7471 …) #threatintel pic.twitter.com/s6ods9P2B7\n",
      "1241611831392731136 2020-03-21 23:25:03 Pacific Daylight Time <HeliosCert> Sample analysed on #virustotal VirusTotal-Score: 67 VirusTotal:  https://www.virustotal.com/file/8fb8affd012c7c103942c3c544ca7a2e31375428bb6cd17fbd49a6be08e47103/analysis/1579188018/ … Threat: Ransom_WCRY.THBOGH  (TrendMicro)\n",
      "1241544132893519872 2020-03-21 18:56:02 Pacific Daylight Time <jjrruiz> #virustotal reports:  http://virustotal.com/#/file/3b411de4575a3c232e86e34e2ef49e8313f4dc9bbdfa670a5b41b157520dcad6/detection … &  http://virustotal.com/gui/url/4580c2d1cb7688315d6ee92d0e680cc3d34fedfb05adb25fd1c98baf5bcb050a/detection … &  http://virustotal.com/gui/url/7e5031a7dff70eb9449be287169abf1a630715452391fde3f76ee46f9bb238f4/detection … &  http://virustotal.com/gui/url/d40af05a7e297a89ce496f81ab8144b42c4c4fd05af166d314276ec8349fc663/detection … &  http://virustotal.com/gui/url/df014096014e92fe510a4efaabe6fa7a05c15ac8ed1a3f7bd66aff8e584c7758/detection … &  http://virustotal.com/gui/url/d822f99182293b0275011b866e143179d14b26cf0f1208f935f1fde783c24d2f/detection … &  http://virustotal.com/gui/url/037dccafc2ef5be7ced296aabb210c1e81b704d03c1579f5943ca5bcd929f778/detection …\n",
      "1241543702515941379 2020-03-21 18:54:20 Pacific Daylight Time <jjrruiz> Proofs on #virustotal:  https://www.virustotal.com/gui/file/2fb7fb7b77a38a4d667f2c3db5b0a284b6eefc39dcbd73624ccb56d6318e91f3/detection …\n",
      "1241532432458924032 2020-03-21 18:09:33 Pacific Daylight Time <jjrruiz> It is used by the #Trojan (family #Cerberus) with MD5 33a7f3a429c10b122264f1817fb79751. Proofs on #virustotal:  https://www.virustotal.com/gui/file/1225e8d531dccdb4c5364b8a09f90f8262780374861a5afdbbb216ecd4e4045f/detection …\n",
      "1241531299019579394 2020-03-21 18:05:02 Pacific Daylight Time <littlejak22> @zbetcheckin is folding@home safe for Windows. Does it have trojans, worms, spyware? At Virustotal there is a virus scanner that sounds the alarm.\n",
      "1241525007500673024 2020-03-21 17:40:02 Pacific Daylight Time <HeliosCert> Sample analysed on #virustotal VirusTotal-Score: 36 VirusTotal:  https://www.virustotal.com/file/997ea048859835fd05d1128129c37370fa9d8144a9f264ffa3d260f549936ae1/analysis/1584778509/ … Threat: Backdoor:MSIL/Bladabindi.AJ  (Microsoft)\n",
      "1241521801492078593 2020-03-21 17:27:18 Pacific Daylight Time <hall_________> @virustotal Hello, are the intelligence/hunting features something an individual could afford for hobby purposes or are they more aimed at enterprises?   Thank you 🤟\n",
      "1241517455597502464 2020-03-21 17:10:02 Pacific Daylight Time <HeliosCert> Sample analysed on #virustotal VirusTotal-Score: 7 VirusTotal:  https://www.virustotal.com/file/d8c54f538cddc5e3c487da846795e28a208f5ef83ccea4b927b727408678dd89/analysis/1584792013/ … Threat: Trojan:Win32/Fuerboos.E!cl  (Microsoft)\n",
      "1241479694924615681 2020-03-21 14:39:59 Pacific Daylight Time <ElCamalenBipol1> @taniasandinista   Quién mas esta de acuerdo conmigo???🤢🤮 #COVIDー19 #VirusTotal #PLOMO19  pic.twitter.com/Jj57ipM5cJ #21Mar #CuarentenaEnFamilia #DiaMundialDeLaPoesia\n",
      "1241434100285784066 2020-03-21 11:38:48 Pacific Daylight Time <ThatStupidDoll> Oof, I see how that is a bad thing;  But is it only defender o do any other engines detect it? Can you try on virustotal? (Or nodistribute if you prefer)\n",
      "1241429987741310977 2020-03-21 11:22:28 Pacific Daylight Time <taniasandinista> Quién mas esta de acuerdo conmigo???🤢🤮 #COVIDー19 #VirusTotal #PLOMO19 pic.twitter.com/HKawlzgrAy\n",
      "1241396668441997313 2020-03-21 09:10:04 Pacific Daylight Time <HeliosCert> Sample analysed on #virustotal VirusTotal-Score: 1 VirusTotal:  https://www.virustotal.com/file/2df05bc44454904e883513bb9fed3e95d7c797b98be9d23f60d5aea9a78aa85b/analysis/1584794707/ … Threat:\n",
      "1241343814163476482 2020-03-21 05:40:03 Pacific Daylight Time <HeliosCert> Sample analysed on #virustotal VirusTotal-Score: 50 VirusTotal:  https://www.virustotal.com/file/f69854ce570bad400da69c7dd5c145b488f228c17d5f39aa5b31f65f81d2cbda/analysis/1537527609/ … Threat: Trojan:Win32/Eqtonex!rfn  (Microsoft)\n",
      "1241316366117896193 2020-03-21 03:50:58 Pacific Daylight Time <seguridadyredes> Parte de guerra. Remote #maltrail #virustotal #Blacklists ... pic.twitter.com/aoqFKpciS2\n",
      "1241314872023007232 2020-03-21 03:45:02 Pacific Daylight Time <HeliosCert> Sample analysed on #virustotal VirusTotal-Score: 63 VirusTotal:  https://www.virustotal.com/file/97dc18bb79043720cab83e9dbe61fc5178666ecc2b7d12c77f3d1498d5faec20/analysis/1578395112/ … Threat: TROJ_SWRORT.SMDSA  (TrendMicro)\n",
      "1241270834888609793 2020-03-21 00:50:03 Pacific Daylight Time <HeliosCert> Sample analysed on #virustotal VirusTotal-Score: 66 VirusTotal:  https://www.virustotal.com/file/54aa636dbc0be484bebe7d109631703ac63d5335fbfdb0f795329e6406463616/analysis/1584106518/ … Threat: Ransom_WCRY.THG715  (TrendMicro)\n",
      "1241220544386732033 2020-03-20 21:30:13 Pacific Daylight Time <jjrruiz> ...  &  http://gorgusuzler.com/enjk2mk2ssmksm/es_es.evobanco.bancamovil.php …  Proofs on #virustotal:   http://virustotal.com/#/file/5ff3be5b43f0248291c4f8c892981f56a8a4b1170259ea424951ceb230958bc2/detection … &  http://virustotal.com/#/url/864d07cd972f6ea30fd48f95499ba17114456bd36bf667f739288edd532c1da7/detection … &  http://virustotal.com/#/url/5dc1bac5edc1b1d124895075f100c45fcefbbf21332307d027d8f323d051869e/detection … &  http://virustotal.com/#/url/b00f36016ed0384c67ada4cbd05ad107f66788cc81761da84a516a81af8223af/detection … &  http://virustotal.com/#/url/7e721163a0cda5cc7c9f07adbc2bec59f599a43f6f9f6c5c75d0ba306d0bf1ab/detection … &  http://virustotal.com/#/url/ea53f06237296b6e383d78668923d122e062d2ed05096aca6e970bd73625e09c/detection … &  http://virustotal.com/#/url/94f687cdbbf559d73bd96a80bfaf1edab3efa3dd705cef515a0455faab1ebc75/detection … &  http://virustotal.com/#/url/80f7910d26f1f8cebafabf6e99d30653346673c180ca3e493890375cf488d8a5/detection …\n",
      "1241200368488456193 2020-03-20 20:10:02 Pacific Daylight Time <HeliosCert> Sample analysed on #virustotal VirusTotal-Score: 24 VirusTotal:  https://www.virustotal.com/file/223e1f3aa64ad3f51f7a01be1c755d0ad632261b42dd7f8fba4e91946b1c1bfd/analysis/1584715507/ … Threat: Trojan-Banker.MSIL.Evital.gen  (Kaspersky)\n",
      "1241197848454205440 2020-03-20 20:00:02 Pacific Daylight Time <HeliosCert> Sample analysed on #virustotal VirusTotal-Score: 1 VirusTotal:  https://www.virustotal.com/file/3b14ea57958013bab2669fab50a14244ac1660417c81898c51c2b1d2d573bc1a/analysis/1584710407/ … Threat:\n",
      "1241162616401264644 2020-03-20 17:40:02 Pacific Daylight Time <HeliosCert> Sample analysed on #virustotal VirusTotal-Score: 25 VirusTotal:  https://www.virustotal.com/file/71a1c1d34ed54207155a5d0ed74e5b739d8ffafac3a65be0d4154efe8a077672/analysis/1584715208/ … Threat: Trojan:Win32/Wacatac.D!ml  (Microsoft)\n",
      "1241137451479052288 2020-03-20 16:00:02 Pacific Daylight Time <HeliosCert> Sample analysed on #virustotal VirusTotal-Score: 23 VirusTotal:  https://www.virustotal.com/file/ff494dca2f56a8fd28f34b69106f0e948e192ada7756cd3329ffadb48dc92888/analysis/1584718498/ … Threat: Trojan-Banker.MSIL.Evital.gen  (Kaspersky)\n"
     ]
    },
    {
     "name": "stdout",
     "output_type": "stream",
     "text": [
      "1241113544260804608 2020-03-20 14:25:02 Pacific Daylight Time <HeliosCert> Sample analysed on #virustotal VirusTotal-Score: 64 VirusTotal:  https://www.virustotal.com/file/db9ef64d92a04be652b09b315df25f0ed1317aaf751396b7ee6312e7ab00b4c1/analysis/1581042901/ … Threat: TROJ_SWRORT.SMDSA  (TrendMicro)\n",
      "1241110646734946306 2020-03-20 14:13:31 Pacific Daylight Time <mrfanweb> Come usare #VirusTotal  https://www.mrfanweb.it/come-usare-virustotal/?utm_source=ReviveOldPost&utm_medium=social&utm_campaign=ReviveOldPost … #scansionafile\n",
      "1241099708770238468 2020-03-20 13:30:03 Pacific Daylight Time <blockapt> #iCyberShield Platform integrates with leading vendors using #API to monitor & respond faster to #cyberattacks.  @Cisco @F5Networks @Cloudflare @PaloAltoNtwks @CheckPointSW @virustotal @SentinelOne @KempTech @edgenexusio @splunk @Fortinet @qualys  Etc...   http://bit.ly/2Wl4Ix1  pic.twitter.com/queTuPvTth\n",
      "1241098448348360705 2020-03-20 13:25:03 Pacific Daylight Time <HeliosCert> Sample analysed on #virustotal VirusTotal-Score: 39 VirusTotal:  https://www.virustotal.com/file/b5bc8b7655013c1e22577e0d65611586ca200bde5520afed52a6d8de63040bb1/analysis/1584707711/ … Threat: HEUR:Trojan-Banker.MSIL.ClipBanker.gen  (Kaspersky)\n",
      "1241080195190267904 2020-03-20 12:12:31 Pacific Daylight Time <BarbuTortue> Virustotal, c'est un site qui permet de faire ce genre d'analyse si t'as un petit truc particulier à analyser\n",
      "1241060269637480448 2020-03-20 10:53:20 Pacific Daylight Time <BraveSampson> Thank you for the report, Leevi. I suspect this is another false-positive (these happen from time to time, unfortunately). Can you share the link to virustotal with the results?\n",
      "1241027940944470016 2020-03-20 08:44:52 Pacific Daylight Time <jax_wall> virustotal scan aint clean  https://www.virustotal.com/gui/file/88e7cfee2725b32282bca2cda47fa0e6a8f90dc8c50de15a9bbb20d06ffb61ae/detection …\n",
      "1240992749765234689 2020-03-20 06:25:02 Pacific Daylight Time <HeliosCert> Sample analysed on #virustotal VirusTotal-Score: 23 VirusTotal:  https://www.virustotal.com/file/bca1157ad0b242feadd4e0b38310c22cedb878d3244e36dbeb7a284930b3e218/analysis/1584692414/ … Threat: Trojan:Win32/Wacatac.D!ml  (Microsoft)\n",
      "1240979254696980483 2020-03-20 05:31:25 Pacific Daylight Time <AGrinsted> I got a meeting invitation using @GoToMeeting - But virustotal reports something susicious about their installer. I dont want to install it. So no meeting for me.  pic.twitter.com/yiBbA54dqz\n",
      "1240978913880420352 2020-03-20 05:30:03 Pacific Daylight Time <HeliosCert> Sample analysed on #virustotal VirusTotal-Score: 54 VirusTotal:  https://www.virustotal.com/file/eeaf113d6e791ddedd42166d33cbf74c74d05fdd3ab37c3d5e7cf736f47aae4f/analysis/1530516310/ … Threat: Ransom:Win32/WannaCrypt.A!rsm  (Microsoft)\n",
      "1240904670039560197 2020-03-20 00:35:02 Pacific Daylight Time <HeliosCert> Sample analysed on #virustotal VirusTotal-Score: 39 VirusTotal:  https://www.virustotal.com/file/42c192c4d0c4867218e35386408bb626bf7f812e503bda366a1adb2f7ecd79db/analysis/1584660910/ … Threat: Trojan:Win32/Wacatac.D!ml  (Microsoft)\n",
      "1240900896646627330 2020-03-20 00:20:03 Pacific Daylight Time <HeliosCert> Sample analysed on #virustotal VirusTotal-Score: 34 VirusTotal:  https://www.virustotal.com/file/99f95396006bbdb09dbee1058607ac7b735fd3febe110ac78707c28ac4a3afea/analysis/1584627175/ … Threat: Trojan:Win32/Wacatac.D!ml  (Microsoft)\n",
      "1240891723888410624 2020-03-19 23:43:36 Pacific Daylight Time <vanhybrid> Sad, but shows how you can use data in various ways, just by looking at it differently... On that note: too bad VirusTotal's pricing is way out there. I get they're good, but also way too expensive to get started with, IMHO...  https://twitter.com/JohnLaTwC/status/1240775891434655744 …\n",
      "1240887817011486720 2020-03-19 23:28:04 Pacific Daylight Time <lluvpeacee> ive scanned some approved files on rutracker and it comes with engines. idk if virustotal is just trippin or not\n",
      "1240878246956326912 2020-03-19 22:50:03 Pacific Daylight Time <HeliosCert> Sample analysed on #virustotal VirusTotal-Score: 41 VirusTotal:  https://www.virustotal.com/file/d7c1d54077fdc03288eae231fe16b18a440f81995b62b86aca6a8e97fd4810c9/analysis/1579375801/ … Threat: TROJ_DLOADER.COGAO  (TrendMicro)\n",
      "1240875025864916995 2020-03-19 22:37:15 Pacific Daylight Time <un_yossy> うちの環境、そんなに簡単にウイルス感染しないんですよね…。 実行ファイルとかは自分で書いたもの以外はすべてVirusTotal通してるし、署名とかあったら確認してる。\n",
      "1240855534422519810 2020-03-19 21:19:48 Pacific Daylight Time <ridapine> @comtec_jp PC用のビュワーソフト(ZDR-Viewer Type06.exe)、をVirusTotalのサイトでスキャンするとウイルスが発見されるんだけれど、大丈夫ですか？\n",
      "1240831661815652352 2020-03-19 19:44:56 Pacific Daylight Time <PrakashAjeet> Wow!! The things you can find, if you know to ask the right questions. #COVID19 #virustotal  https://twitter.com/JohnLaTwC/status/1240775891434655744 …\n",
      "1240802746665775105 2020-03-19 17:50:02 Pacific Daylight Time <HeliosCert> Sample analysed on #virustotal VirusTotal-Score: 53 VirusTotal:  https://www.virustotal.com/file/d478602bac8b8f334f06644dd92fbe60cbba6815ced96503c7aab4df6f305e77/analysis/1584659709/ … Threat: TSPY_TINCLEX.SM1  (TrendMicro)\n",
      "1240800090593394688 2020-03-19 17:39:29 Pacific Daylight Time <jjrruiz> Proofs on #virustotal:  http://virustotal.com/#/file/7e42570e0553c2d597c9218b383d336b95fce7230e07354a3a8a0616e61e229b/detection … &  http://virustotal.com/gui/url/3c081c7e406c93f816947ede4efb92407f3a090f7fb6e83ff9e9f770ee1df6a5/detection … &  http://virustotal.com/gui/url/c646be52e3c2d4dc2e90132fe4cb6f9fd2d25f62d0856e9ede4b278b999baeff/detection … &  http://virustotal.com/gui/url/1851d5c05bcdfe59773767d4f664fa308fe85ff25a3e9c744db8088ebf0a2742/detection … &  http://virustotal.com/gui/url/b229bf0c25f0c961f018b4d5f88a526ac2f629d4518a21840f6fed764f94d8f1/detection … &  http://virustotal.com/gui/url/502e292d347b4de81b3e3c9a3e7551259f1fc225cf893e1c10f2faaa4ff10a44/detection … &  http://virustotal.com/gui/url/66205f3e6959b94a54cd5c9bddb84091b54cc32111d2b68c36c9a5308121720d/detection …\n",
      "1240794939010809856 2020-03-19 17:19:00 Pacific Daylight Time <TonyP9195> VirusTotal Report  https://www.virustotal.com/en/file/56a6e3cba1ebb0c6e1257e3d15f715b39174bfc259ece918cfb353dc7b6d208c/analysis/ … #VTMobile\n",
      "1240781353811132416 2020-03-19 16:25:02 Pacific Daylight Time <HeliosCert> Sample analysed on #virustotal VirusTotal-Score: 49 VirusTotal:  https://www.virustotal.com/file/2d0c0b0759cd27ee951bc81b8d100cea799dab0d2b6a04c8cb0c6847289af096/analysis/1570882543/ … Threat: Ransom:Win32/CVE-2017-0147.A  (Microsoft)\n",
      "1240775891434655744 2020-03-19 16:03:19 Pacific Daylight Time <JohnLaTwC> VirusTotal can tell you about more than malware  😢  pic.twitter.com/8IYEBJGJUl\n",
      "1240731025149440002 2020-03-19 13:05:02 Pacific Daylight Time <HeliosCert> Sample analysed on #virustotal VirusTotal-Score: 48 VirusTotal:  https://www.virustotal.com/file/95a191b5e1728a1dc9a0007719ae7adba5be88b1ae5e8919185c91a201148a51/analysis/1584629175/ … Threat: Backdoor:MSIL/Bladabindi.AJ  (Microsoft)\n",
      "1240712149153898496 2020-03-19 11:50:02 Pacific Daylight Time <HeliosCert> Sample analysed on #virustotal VirusTotal-Score: 55 VirusTotal:  https://www.virustotal.com/file/e88243928025a87dfec7eeca40ca7095332a6cfa6d6e6e196ab02fd28b81dd2c/analysis/1550572878/ … Threat: Ransom:Win32/CVE-2017-0147.A  (Microsoft)\n",
      "1240709633548877824 2020-03-19 11:40:02 Pacific Daylight Time <HeliosCert> Sample analysed on #virustotal VirusTotal-Score: 52 VirusTotal:  https://www.virustotal.com/file/cf45d48f9544f2c2ff6ebe7707ac8dca3fcb06082277209a211fe74828caeead/analysis/1531075027/ … Threat: Trojan-Ransom.Win32.Wanna.m  (Kaspersky)\n",
      "1240666924331274254 2020-03-19 08:50:19 Pacific Daylight Time <KrystianAndrz20> Do was to chyba oficjalny trwitter Virus Total. https://twitter.com/KrystianAndrz20/status/1240665775867904001 …\n",
      "1240663214100221952 2020-03-19 08:35:35 Pacific Daylight Time <pmelson> I keep the originals, plus the bot uploads them to VirusTotal. If you ever want a copy of a paste, don’t hesitate to ask.\n",
      "1240636169890619393 2020-03-19 06:48:07 Pacific Daylight Time <BingShan1024> virustotalでの結果が落ち着くのを待つあいだに文字列変数の一部（ｎ回目）とこれをやっていく。後者はゲームエンジンのほうはもうできてるんだけどエディタで一か所不安な部分があってうまくいかなければ最悪なかったことになる  pic.twitter.com/fnh3BFGe31\n",
      "1240613868671512578 2020-03-19 05:19:30 Pacific Daylight Time <runnaroo> Just added a deep search for IP information that pulls info from @ipinfoio and @virustotal.    https://www.runnaroo.com/search?term=8.8.4.4 … pic.twitter.com/VocirtySYo\n"
     ]
    },
    {
     "name": "stdout",
     "output_type": "stream",
     "text": [
      "1240600406813704194 2020-03-19 04:26:00 Pacific Daylight Time <datisnetwork> #ویروس توتال یا #VirusTotal یک وب سایت رایگان است که سرویس آنلاین #اسکن ویروس، کرم، بدافزار و #تروجان ها و URL را ارائه می دهد. در این مقاله #داتیس_نتورک قصد داریم شما را با وب سایت ویروس توتال دات کام آشنا کنیم، همراه ما باشید.   https://www.datisnetwork.com/virustotal.html  pic.twitter.com/xnPgcoZE05\n",
      "1240599342752370691 2020-03-19 04:21:47 Pacific Daylight Time <TraderStf>  https://theamericangenius.com/business-news/facebook-sues-namecheap-for-allegedly-deceptive-domain-names/ …  Facebook sues Namecheap  All spams I received 90% use domains/hosting of NAMECHEAP They pretend to act against sp/cams but react 5+ days after, totally useless, it's blacklisted. Even with proofs, virustotal, urlscan, RBL links they do nothing!\n",
      "1240593838055587841 2020-03-19 03:59:54 Pacific Daylight Time <im_verum> scan your pirated games with virustotal next time lol\n",
      "1240592486612873217 2020-03-19 03:54:32 Pacific Daylight Time <espionageware> Some even use put encase certification on their CV applying cyber IR jobs. One guy told me Redline is the forensic tool and upload a sample to virustotal will leak PII 🤔  https://twitter.com/int0x00/status/1240564195847835648 …\n",
      "1240582954096701440 2020-03-19 03:16:39 Pacific Daylight Time <aalmubarak88> New phishing scam using LinkedIn connection with a malicious shortened suspicious URL. It was detected by one engine in VirusTotal.  #CyberSec #ScamAlert #infosec  hybrid-analysis report:   https://www.hybrid-analysis.com/sample/52aaf09cd56c691b4a64ee4dbda507f27313e06be3d1c7b30af93fcd99689b6e … pic.twitter.com/KQQm4lgWDJ\n",
      "1240554866021367814 2020-03-19 01:25:03 Pacific Daylight Time <HeliosCert> Sample analysed on #virustotal VirusTotal-Score: 60 VirusTotal:  https://www.virustotal.com/file/d08765b2635e1c040aa95d112e69c8e0ac00d48e07276ced5f73cc2494a48536/analysis/1584588301/ … Threat: TROJ_GEN.R017C0CCI20  (TrendMicro)\n",
      "1240509563234922496 2020-03-18 22:25:02 Pacific Daylight Time <HeliosCert> Sample analysed on #virustotal VirusTotal-Score: 42 VirusTotal:  https://www.virustotal.com/file/6b5bceabbd58a0acbed0fb3fd212a75a080672bcc8855ef537f4d6749ece5406/analysis/1584566707/ … Threat: Trojan.MSIL.KILLREVRUN.SMJM09  (TrendMicro)\n",
      "1240502016461373442 2020-03-18 21:55:02 Pacific Daylight Time <HeliosCert> Sample analysed on #virustotal VirusTotal-Score: 55 VirusTotal:  https://www.virustotal.com/file/36c9ef20aa5346d7b8c75f63a09342ad52e061a9fa119d231d2a6252dab53d33/analysis/1527605053/ … Threat: Ransom_Wanna.R00EC0DAV18  (TrendMicro)\n",
      "1240485658428350467 2020-03-18 20:50:02 Pacific Daylight Time <HeliosCert> Sample analysed on #virustotal VirusTotal-Score: 51 VirusTotal:  https://www.virustotal.com/file/843097123a40e1442b2f08ce9c77ebc909a3e77e1ea3b6f21981a579ab2ea9be/analysis/1584579607/ … Threat: Coinminer.MSIL.LIMERAT.SMA  (TrendMicro)\n",
      "1240459589176291329 2020-03-18 19:06:27 Pacific Daylight Time <Taoretara> VirusTotalが誤検出しているSpamhaus 以外の評価に問題はありません、Spamhaus元サイトでの検出にも問題はありませんので、警告が出てたとしても安心してご利用下さい。  pic.twitter.com/sQdkUislZg\n",
      "1240458151402430466 2020-03-18 19:00:44 Pacific Daylight Time <Taoretara> VirusTotalに問い合わせたら最新の情報に更新して下さいとのこと。最新の情報に更新したが状況は変わらず。再度問い合わせ中。  pic.twitter.com/nflzQ5Fzwt\n",
      "1240434096737746951 2020-03-18 17:25:09 Pacific Daylight Time <Abyss56628963> Lamentablemente es muy frecuente el que las aplicaciones no se pueden actualizar por \"problemas de compatibilidad\" que aparecen de forma constante.\n",
      "1240433832106418176 2020-03-18 17:24:06 Pacific Daylight Time <428rinsuki> aviutlシングルウィンドウ化プラグイン、あるにはあるらしいがvirustotalでそれなりにウイルス判定くらってて怖いねえってなっちゃう (OSSなら自分でソース読んでビルドしたやつ使うとかできるんだが)\n",
      "1240431741908770818 2020-03-18 17:15:48 Pacific Daylight Time <jjrruiz> @njal_la #fraudulent domain for #malware (MD5 09c7dc06c34c1ece617cf3610d957552) using your nameservers:  http://judnbas.eu/o1o/a8.php  &  http://judnbas.eu/bb/fafa.php?f=es_es.lacaixa.mobile.android.newwapicon … Proofs on #virustotal:  https://www.virustotal.com/gui/url/41ec024362188026c2c7c17ab89cb535ea8ef44c2fdd20b9cc434866d60ca2e4/detection … &  https://www.virustotal.com/gui/url/5988a51e8e6e0ea8dab08d96fc4080e11a5475622896d87af2633d06ee021d5e/detection … &  https://www.virustotal.com/gui/file/0c9873b3ade4db788cb21613b3b301de7320bf8fb32087ce6fa1b6e127e64f31/detection … Please disable it asap!\n",
      "1240424000939065344 2020-03-18 16:45:02 Pacific Daylight Time <HeliosCert> Sample analysed on #virustotal VirusTotal-Score: 59 VirusTotal:  https://www.virustotal.com/file/b0ec952cace84ae20fd6357d1bcbaf3adad4cd4e6129a154d32a26fa447c7b0c/analysis/1584538513/ … Threat: DDOS_NITOL_GK170003.UVPM  (TrendMicro)\n",
      "1240419376601407496 2020-03-18 16:26:39 Pacific Daylight Time <klon> I guess that @zbetcheckin will be happy to share a FULL writeup explaining how he reversed the binaries that started all of this drama and found their malicious content before reporting them, won't he? Or did he just blindly VirusTotal them?  https://twitter.com/WomanCorn/status/1240296088193716224 …\n",
      "1240408627057438725 2020-03-18 15:43:57 Pacific Daylight Time <InfosecSapper> I found one malware domain manually, but that's untenable seeing as there were around 2250 and climbing! X-reffing the list with @virustotal will be step one, then honing investigations on each one until we go from bad to iffy to meh. #Cyber #volunteers #CV19\n",
      "1240375673291759616 2020-03-18 13:33:00 Pacific Daylight Time <troutman> Virustotal says it is clean. And has a real person claiming authorship.\n",
      "1240374929650003969 2020-03-18 13:30:02 Pacific Daylight Time <HeliosCert> Sample analysed on #virustotal VirusTotal-Score: 57 VirusTotal:  https://www.virustotal.com/file/184c91760df0ecbf6e3f4e1e8cf7e5c2bd23cf5199a2a5e08dfb7290ce6bc6ec/analysis/1550572800/ … Threat: Ransom:Win32/CVE-2017-0147.A  (Microsoft)\n",
      "1240362592931020801 2020-03-18 12:41:01 Pacific Daylight Time <Uptodown_es> Por desgracia no podemos protegeros de este virus. Del resto sí. @VirusTotal  pic.twitter.com/vURjdrhNM0\n",
      "1240361213378379777 2020-03-18 12:35:32 Pacific Daylight Time <2sec4u> No? no it's not..\n",
      "1240357563859943424 2020-03-18 12:21:02 Pacific Daylight Time <Uptodown> Sadly, we can't protect you from COVID19, but we'll take care of the rest of the viruses! @VirusTotal  pic.twitter.com/MyK3PbR1AS\n",
      "1240356576067751942 2020-03-18 12:17:07 Pacific Daylight Time <emircaneren34> Windows Platformları için indirme linki   https://yadi.sk/d/GH67XBC_k5KMPg … VirusTotal Güvenlik Taraması  https://www.virustotal.com/gui/file/f0cd17639207f3b97c004824661f0e1a418f1b2b28bd19ac77edc71de9361ef0/detection …\n",
      "1240334688276840449 2020-03-18 10:50:08 Pacific Daylight Time <erayavz> Özellikle whatsapp dâhil herhangi bir sosyal medya aracı ile gelen, PDF(vb.) formatındaki dosyaları kaynağının güvenilir olduğundan şüpheliyseniz açmayınız. En azından dosyayı virustotal'e yükleyip taratınız. Şu sıralar, bu derece paranoyak olmak güvenliği sağlar.\n",
      "1240320573827436545 2020-03-18 09:54:03 Pacific Daylight Time <msolnik> Probably thinks he can use it to detect new strains of COVID\n",
      "1240317992287830016 2020-03-18 09:43:48 Pacific Daylight Time <cibernicola_es> Nuevo correo phishing, un excel, en @virustotal solo @Fortinet da señales de peligro. No hay escaneos previos. Es un \"downloader\". Me faltan sandboxes y manos. Nombre archivo: Inbound-Fax 585[.]zip => Inbound-Fax 585.xls  Dominio de respuesta  http://bloomingbuds.com.hk  #ransomware\n",
      "1240315787862212610 2020-03-18 09:35:02 Pacific Daylight Time <HeliosCert> Sample analysed on #virustotal VirusTotal-Score: 57 VirusTotal:  https://www.virustotal.com/file/59eee303cf6cbf5bc6019b07f3e49714cbcc8f98639b36d55a9e0289de456c91/analysis/1557662257/ … Threat: Ransom:Win32/CVE-2017-0147.A  (Microsoft)\n",
      "1240307414395695105 2020-03-18 09:01:46 Pacific Daylight Time <malwaregroup> ukemi: A CLI tool for querying passive DNS services - CIRCL passive DNS, PassiveTotal, SecurityTrails and VirusTotal.   https://github.com/ninoseki/ukemi \n",
      "1240290623778947072 2020-03-18 07:55:02 Pacific Daylight Time <HeliosCert> Sample analysed on #virustotal VirusTotal-Score: 49 VirusTotal:  https://www.virustotal.com/file/8b25d86de1410f3e169511f360fd35fa89e0d9fe99b938e2e9bac770cfe6c2b3/analysis/1565174327/ … Threat: Ransom:Win32/CVE-2017-0147.A  (Microsoft)\n"
     ]
    },
    {
     "name": "stdout",
     "output_type": "stream",
     "text": [
      "1240278407931260928 2020-03-18 07:06:30 Pacific Daylight Time <Taoretara> リンクに警告が出るのはVirusTotalに何故かスパムだと誤認されているからのようです。しかし、改善方法が分からないのです。 Spamhausのリストに乗っているとなっていますが、実際はSpamhausのリストには乗っていないので解除申請しようにも出来ず対処のしようがない状態です。  pic.twitter.com/xicohulKiR\n",
      "1240253071101485057 2020-03-18 05:25:49 Pacific Daylight Time <caliskanfurkan_>  http://Abuse.ch  ekibinden Virustotal benzeri zararlı yazılım kataloğu: MalwareBazaar    https://bazaar.abuse.ch/browse/ \n",
      "1240251131135221760 2020-03-18 05:18:07 Pacific Daylight Time <recluising> You can also contact me by DM if you want.\n",
      "1240246454221930498 2020-03-18 04:59:32 Pacific Daylight Time <recluising> HI, could you reach me at reciomoran at  http://virustotal.com ?  thanks!\n",
      "1240245465792348160 2020-03-18 04:55:36 Pacific Daylight Time <joserguezdeleon> Hi @virustotal is your website OK? Doesn't seem to work. Impossible to upload file and url analysis freezes.\n",
      "1240224128793300992 2020-03-18 03:30:49 Pacific Daylight Time <sofytu6_7> Virustotal  Urlscan   Check the links  https://twitter.com/PSsafercomms/status/1240223791751614464 …\n",
      "1240221418094317569 2020-03-18 03:20:02 Pacific Daylight Time <HeliosCert> Sample analysed on #virustotal VirusTotal-Score: 56 VirusTotal:  https://www.virustotal.com/file/1f512cbb43f01873fdca7310a3b8a438022dc04e4d917b44ee5c1c46d27943c5/analysis/1556119929/ … Threat: Ransom:Win32/CVE-2017-0147.A  (Microsoft)\n",
      "1240208007209914368 2020-03-18 02:26:45 Pacific Daylight Time <GossiTheDog> Lol\n",
      "1240207730083799041 2020-03-18 02:25:39 Pacific Daylight Time <fjw09080> Scam software\n",
      "1240207231158759424 2020-03-18 02:23:40 Pacific Daylight Time <iblametom> Interesting - the president's office just bought a $90,000 @virustotal subscription!\n",
      "1240205909902733313 2020-03-18 02:18:25 Pacific Daylight Time <CybertiOsint> New crown pneumonia prevention covid-19 prophylaxis and treatment   http://www.covid-19.chat  #Osint #shodan #virustotal #COVID2019 pic.twitter.com/qOTigc3yvU\n",
      "1240197509399621632 2020-03-18 01:45:02 Pacific Daylight Time <HeliosCert> Sample analysed on #virustotal VirusTotal-Score: 62 VirusTotal:  https://www.virustotal.com/file/a29d02251f54567edb1d32f7c17ce4c04d5c54e317eb3b2bea2a068da728e59a/analysis/1574093095/ … Threat: TROJ_MEREDROP.II  (TrendMicro)\n",
      "1240162664258498560 2020-03-17 23:26:34 Pacific Daylight Time <chadloder> Someone has to volunteer to upload the lead tablets to VirusTotal so future generations don’t make the same mistake\n",
      "1240150591294275584 2020-03-17 22:38:36 Pacific Daylight Time <pioneerhfy> Virustotal command line tool VT-CLI.   https://github.com/VirusTotal/vt-cli …\n",
      "1240104949272494081 2020-03-17 19:37:14 Pacific Daylight Time <jjrruiz> @getDotClub #fraudulent .CLUB domain for #scam against @LidlRomania:  http://www.lidl-ro .club/ ( Creation Date: 2020-03-05T14:47:53Z ). Proofs on #virustotal:  https://www.virustotal.com/gui/url/8533210687c849be9ec255f3473eaf873d51f57010ce82cdff29fe6c3a834341/detection … Please, DISABLE the domain name as soon as possible!\n",
      "1240104279555346444 2020-03-17 19:34:34 Pacific Daylight Time <jjrruiz> @namesilo #fraudulent domain for #scam against @LidlRomania registered on your services:  http://www.lidl-ro .club/ ( Creation Date: 2020-03-05T14:47:53Z ). Proofs on #virustotal:  https://www.virustotal.com/gui/url/8533210687c849be9ec255f3473eaf873d51f57010ce82cdff29fe6c3a834341/detection … Please, DISABLE the domain name as soon as possible!\n",
      "1240079897629847552 2020-03-17 17:57:41 Pacific Daylight Time <ntsekai> やっと見つけた。 おそらく原因はこれだとお思う。VirusTotalがSpamhausにスパム認定されていると誤検出している。コレのせいでリンクがスパムだと思われているのだろう。  pic.twitter.com/2C9sCI5orc\n",
      "1240037706404630530 2020-03-17 15:10:02 Pacific Daylight Time <HeliosCert> Sample analysed on #virustotal VirusTotal-Score: 60 VirusTotal:  https://www.virustotal.com/file/e3634398aa9863012b7c0cffb5281167e0dbf3ca08aeb26cd5a5c17ad2ef8966/analysis/1567344898/ … Threat: Ransom:Win32/CVE-2017-0147.A  (Microsoft)\n",
      "1240033832834924544 2020-03-17 14:54:39 Pacific Daylight Time <PolySwarm> Latest #Emotet sample in PolySwarm -- not seen in #VirusTotal. (This sample is from the Emotet #botnet, used for updating nodes inside their infrastructure.)   LINK:  https://hubs.ly/H0nF_tw0   + Checkout Emotet tracking in the \"Emerging Threats\" feed on our homepage. pic.twitter.com/5C42EPywXn\n",
      "1240032196955693057 2020-03-17 14:48:09 Pacific Daylight Time <_raw_data_> #MalSilo now also available in #VirusTotal 🤖🎉\n",
      "1239992408017960962 2020-03-17 12:10:02 Pacific Daylight Time <HeliosCert> Sample analysed on #virustotal VirusTotal-Score: 53 VirusTotal:  https://www.virustotal.com/file/bec74488ca37dd0fa9a2165435c27c5f8c2ac0af3787470c931adac8bb4c9048/analysis/1551008887/ … Threat: Ransom:Win32/CVE-2017-0147.A  (Microsoft)\n",
      "1239987604537462784 2020-03-17 11:50:57 Pacific Daylight Time <aykutestisi> virustotal sitesinde koronavirüs testi yapma fikri çık aklımdan\n",
      "1239986115613986819 2020-03-17 11:45:02 Pacific Daylight Time <HeliosCert> Sample analysed on #virustotal VirusTotal-Score: 55 VirusTotal:  https://www.virustotal.com/file/68918757cd4686e1e33e9e412e04b46fd95b8d25e0d77398c3b5b0001b08ad6f/analysis/1553776502/ … Threat: Ransom:Win32/CVE-2017-0147.A  (Microsoft)\n",
      "1239976851545579520 2020-03-17 11:08:13 Pacific Daylight Time <wreath> テキストのAV Evasionで書かれてる内容の通りに適当なPEバイナリにReverseShellを埋め込んだものを作って、試しにVirusTotalに突っ込んだら72製品中1製品しか検出出来なかったんだけど、これ実行したら振る舞い検知で引っかかるのかな。\n",
      "1239972273315930118 2020-03-17 10:50:02 Pacific Daylight Time <HeliosCert> Sample analysed on #virustotal VirusTotal-Score: 57 VirusTotal:  https://www.virustotal.com/file/14a6bf9093043d90c08a0a3fc4139fa7c45ac35e33146be42e7f5cd7c50b1a21/analysis/1550572781/ … Threat: Ransom:Win32/CVE-2017-0147.A  (Microsoft)\n",
      "1239959674167803906 2020-03-17 09:59:58 Pacific Daylight Time <_pubgevent> Şüpheli Uygulamalardaki Virüsleri Bulan Uygulama: VirusTotal Tags: #pubgevent #corona #coronavirus #haber #türkiye #turkey #news #korona #koronavirüs #china #health #ncov #coranatürkiye #nCoV2019 #ncov19 #ncov Go content -->  https://wp.me/pbxaby-4Uj?utm_source=ReviveOldPost&utm_medium=social&utm_campaign=ReviveOldPost … pic.twitter.com/dU2EHSzLZ5\n",
      "1239940294998519808 2020-03-17 08:42:57 Pacific Daylight Time <DsilverOps> If we could get users to stop clicking on things that would be great!\n",
      "1239938305745211392 2020-03-17 08:35:03 Pacific Daylight Time <phat_hobbit> \"We have the best security technology in place!\" This is exactly why you need to train your users not to action fraudulent emails. Only 1 out of 71 security products on @virustotal  saw this.  pic.twitter.com/Glv4KPCzxm\n",
      "1239935786717515778 2020-03-17 08:25:03 Pacific Daylight Time <HeliosCert> Sample analysed on #virustotal VirusTotal-Score: 46 VirusTotal:  https://www.virustotal.com/file/be4211fe5c1a19ff393a2bcfa21dad8d0a687663263a63789552bda446d9421b/analysis/1583722964/ … Threat: HKTL_NETCAT  (TrendMicro)\n",
      "1239930610681962501 2020-03-17 08:04:29 Pacific Daylight Time <matthewjetthall> This is worth it! A song about Zoom and Panopto!!! Gotta check it out --- don't forget to virustotal my link!   https://www.youtube.com/watch?v=CCe5PaeAeew&feature=youtu.be&fbclid=IwAR2LyVTQF5_T7T1wzk9iNoDJc5j8-oq_kXVzBxM9EK5pEBAQFXtvojkZix8 … #covid19 #onlineteaching #ucsb #socialdistance #remote #uc\n",
      "1239918624879415298 2020-03-17 07:16:51 Pacific Daylight Time <GarethFK> FireEye Video | 📺 Learn about the capabilities of the #FireEyeSecurityOrchestrator (#FSO) VirusTotal plug-in.  https://feye.io/2TPxtQT  #FireEyeCommunityTips http://bit.ly/2x5t6rS \n",
      "1239914131936940033 2020-03-17 06:59:00 Pacific Daylight Time <eForensics_Mag> Detecting malicious downloads with Osquery, Rsyslog, Kafka, Python3 and Virustotal  http://bit.ly/2Unven9  #detecting #malicious #downloads #osquery #rsyslog #kafka #python3 #virustotal #forensics #digitalforensics\n",
      "1239901697268277248 2020-03-17 06:09:35 Pacific Daylight Time <vvlado>  http://abuse.ch  | Introducing MalwareBazaar -> new Virustotal?   https://flip.it/v9r7GV \n",
      "1239874129874092034 2020-03-17 04:20:02 Pacific Daylight Time <HeliosCert> Sample analysed on #virustotal VirusTotal-Score: 30 VirusTotal:  https://www.virustotal.com/file/c607bdda1cbf1a8f9b08104c7ce717f2b6be34cbc26ba1e7c26108ba3b75fbff/analysis/1583815075/ … Threat: TROJ_GEN.R014C0PC920  (TrendMicro)\n",
      "1239801266466729986 2020-03-16 23:30:30 Pacific Daylight Time <CarlosMCorderoB> Ran it on VirusTotal: no malware.  It is plain propaganda.\n",
      "1239801150557257728 2020-03-16 23:30:03 Pacific Daylight Time <marcoessomba> #iCyberShield Platform integrates with leading vendors using #API to monitor & respond faster to #cyberattacks.  @Cisco @F5Networks @Cloudflare @PaloAltoNtwks @CheckPointSW @virustotal @SentinelOne @KempTech @edgenexusio @splunk @Fortinet @qualys  Etc...   http://bit.ly/2xERaSJ  pic.twitter.com/0h36ZhPM4m\n"
     ]
    },
    {
     "name": "stdout",
     "output_type": "stream",
     "text": [
      "1239801146950266883 2020-03-16 23:30:02 Pacific Daylight Time <HeliosCert> Sample analysed on #virustotal VirusTotal-Score: 8 VirusTotal:  https://www.virustotal.com/file/da9294c7ec44616ae8742a8fc850339a3c29bbe9f164418d158539b0bb885254/analysis/1584374401/ … Threat:\n",
      "1239799887845363713 2020-03-16 23:25:02 Pacific Daylight Time <HeliosCert> Sample analysed on #virustotal VirusTotal-Score: 0 VirusTotal:  https://www.virustotal.com/file/4b27a0b11a20fa722aa1be42a6aee68eba79ac05113b28a5b7f59653f4e3b312/analysis/1584399307/ … Threat:\n",
      "1239784648193916928 2020-03-16 22:24:28 Pacific Daylight Time <pjsim2001> as you can see, Iv was originally the main character but then a strange electrical anomaly occurred that caused the bits that made up Fub Fabules to be beamed over to Insanity Santa's computer, causing Iv's yellow sister \"Vi\" (short for \"Virustotal\") to be the main char instead  pic.twitter.com/t9rQIZggYx\n",
      "1239757576457207809 2020-03-16 20:36:54 Pacific Daylight Time <malr1na> API や vt-cli の Intelligent Search でも使えるので、これまで探しにくかった  http://hoge.com  を含む URL で VirusTotal でスキャンされたのを一気に検索してファイルに書き出す、とからも楽々できるようになりました。  例 vt search -n 1000 \"entity:url url: http://hoge.com \"\n",
      "1239754276865482754 2020-03-16 20:23:47 Pacific Daylight Time <2508040397Yy> maybe there is something wrong?same sha-256 but diff length?@virustotal  pic.twitter.com/E0dF1UxL18\n",
      "1239753199180861440 2020-03-16 20:19:30 Pacific Daylight Time <malr1na> 2月26日くらいに VirusTotal の機能拡張が行われて、Domain, URL, IPアドレスでも Intelligent Search ができるようになっています。   https://blog.virustotal.com/2020/02/uncovering-threat-infrastructure-via.html …\n",
      "1239741726828498944 2020-03-16 19:33:55 Pacific Daylight Time <mitchparkerciso> Why not?  Enough EDR programs hit up VirusTotal to do the same thing.\n",
      "1239676574926077953 2020-03-16 15:15:02 Pacific Daylight Time <HeliosCert> Sample analysed on #virustotal VirusTotal-Score: 50 VirusTotal:  https://www.virustotal.com/file/54e8e80ccea30e0e8e884cf4b73d2451f83ce74512f9e41eacbd12ff1097df34/analysis/1584341710/ … Threat: Trojan.MSIL.BLADABINDI.SMJM06  (TrendMicro)\n",
      "1239660698763960320 2020-03-16 14:11:57 Pacific Daylight Time <2020_infinite> در مورادی که سایت شناخته شده است مشکلی نیست. در مواردی که تردید وجود دارد استفاده از سرویس virustotal توصیه می شود (سرویس شناخت ویروس و بدافزار که برای فایها هم عالی است).  https://www.virustotal.com/gui/home/url \n",
      "1239649759549444102 2020-03-16 13:28:28 Pacific Daylight Time <Abo_N_nology> أدوات فحص الروابط :  Google  https://transparencyreport.google.com/safe-browsing/search?url= https:%2F%2Fcoronavirus.app%2F … virustotal  https://www.virustotal.com/gui/home/search   تطبيقات فحص جهازك :  Avast  https://apps.apple.com/us/app/avast-security-privacy/id1276551855 …  Lookout   https://apps.apple.com/us/app/lookout/id434893913 …  والله يحفظ الجميع\n",
      "1239648558397239297 2020-03-16 13:23:42 Pacific Daylight Time <PMBGuedes> Hoje na empresa, recebemos emails com ficheiros .tar  anexo, que prometiam uma vacina para a covid-19.  O e-mail foi enviado através de um server em Espanha.  Submeti o ficheiro no virustotal.\n",
      "1239641952557162503 2020-03-16 12:57:27 Pacific Daylight Time <GarWarner> Everybody wants to infect me today ... no, I am not going to fall for your Court Summons.  VirusTotal = 12/61  https://www.virustotal.com/gui/file/48d6ae7a281b01424545adbd041a2ed8b7053b176ccf34b29ec63f8d1d5b7ba9/ … pic.twitter.com/ok61OGdvqH\n",
      "1239636310211641344 2020-03-16 12:35:02 Pacific Daylight Time <HeliosCert> Sample analysed on #virustotal VirusTotal-Score: 41 VirusTotal:  https://www.virustotal.com/file/83200d64a920af3351f315a0c51b854e287917b94579eb4d455c7c1ab945ab0e/analysis/1584331508/ … Threat: Program:Win32/Wacapew.C!ml  (Microsoft)\n",
      "1239571038498967554 2020-03-16 08:15:40 Pacific Daylight Time <BlizzardCSEU_FR> Bonjour et navré pour cette réponse tardive. Ce fichier n'est pas lié au problème survenu vendredi, mais je vous suggère de le passer sur un site comme virustotal  pour le tester  https://blizz.ly/33k6gJl \n",
      "1239532881648726017 2020-03-16 05:44:03 Pacific Daylight Time <relationsatwork> Right, ma non solo.  Con sibling di #lzplay non basta infatti chk preliminare Virustotal.  Non usano packer, che triggeri controlli, e ancora non risultano aggiornamenti dopo le vendor submission.  P.S.: sorry, non potevo taggarti nelle reply a @SofiaSZM  https://twitter.com/relationsatwork/status/1239526904555806721 … pic.twitter.com/xItzRiuEEc\n",
      "1239526840827555840 2020-03-16 05:20:02 Pacific Daylight Time <HeliosCert> Sample analysed on #virustotal VirusTotal-Score: 0 VirusTotal:  https://www.virustotal.com/file/090d1757f45d6d17efb598da3e05f882fb450bb6c7b0c80e7bd37618ad688158/analysis/1584273892/ … Threat:\n",
      "1239471475284942849 2020-03-16 01:40:02 Pacific Daylight Time <HeliosCert> Sample analysed on #virustotal VirusTotal-Score: 40 VirusTotal:  https://www.virustotal.com/file/a324263f8734bb62ba035022d5533419994482ccd63f8adbf717ae52a9c2e6e1/analysis/1584330312/ … Threat: Trojan:Win32/Wacatac.D!ml  (Microsoft)\n",
      "1239470991945981953 2020-03-16 01:38:07 Pacific Daylight Time <michal1758945> uwaga bo niektóre z tych stron mają malware.  certyfikat + virustotal 🙂\n",
      "1239466687583354880 2020-03-16 01:21:01 Pacific Daylight Time <stefant> Ukemi is a CIL tool for querying passive DNS services. It supports the following services:  - CIRCL passive DNS  - PassiveTotal  - SecurityTrails  - VirusTotal  https://github.com/ninoseki/ukemi \n",
      "1239466247273791488 2020-03-16 01:19:16 Pacific Daylight Time <grupotecnoideas> Ya que muchos, los que puede y les dejan, se quedan en casa, nunca viene de más protegerse. #malware #virus #ciberseguridad #ransomware @virustotal  https://lnkd.in/eiDyFCg \n",
      "1239457211799257088 2020-03-16 00:43:21 Pacific Daylight Time <eugnik62> New sample malware @JAMESWT_MHT @malwrhunterteam Virustotal 8/60  https://www.virustotal.com/gui/file/d254176707fb8aba3be7e70a15198dca314571c6bd3b678c010d3cc70d1e1e7a/detection … pic.twitter.com/4FSEJvrHud\n",
      "1239454507085553665 2020-03-16 00:32:37 Pacific Daylight Time <sonoclaudio> Note a margine:  1) essere paranoici, paga 2) es. del perché qualsiasi file scaricato dalla rete (anche se proviene da siti ufficiali - vedi questione hack @ccleaner) deve essere preventivamente scansionato. Si chiama #Virustotal, usatelo: √  https://www.virustotal.com/gui/home/upload  @SofiaSZM 🙏 https://twitter.com/SofiaSZM/status/1239406170789593088 …\n",
      "1239435567013609472 2020-03-15 23:17:21 Pacific Daylight Time <CSA2O2O> To avoid falling for such scams install a security plugin for your browser, install reliable anti-virus software and scan for malicious domains on VirusTotal.  Stay safe online!   Read more:   https://www.hackread.com/hackers-use-fake-live-coronavirus-map-spread-malware/ …\n",
      "1239376103346778112 2020-03-15 19:21:04 Pacific Daylight Time <LSELabs> Tool review: Malice (VirusTotal clone) #analysis #malware #detection https://linuxsecurity.expert/tools/malice/ \n",
      "1239370811129188352 2020-03-15 19:00:02 Pacific Daylight Time <HeliosCert> Sample analysed on #virustotal VirusTotal-Score: 26 VirusTotal:  https://www.virustotal.com/file/ce0ef96819b1a70fb64a7f64b6fed1475d19af8c6220d8ca4b83320be5c957bc/analysis/1584264459/ … Threat: Backdoor:MSIL/Revetrat.A!bit  (Microsoft)\n",
      "1239349046113759232 2020-03-15 17:33:33 Pacific Daylight Time <blueteamsec1> ukemi: A CLI tool for querying passive DNS services - CIRCL passive DNS, PassiveTotal, SecurityTrails and VirusTotal - needs keys/credentials  http://dlvr.it/RRxtwB  #cyber #security #DFIR pic.twitter.com/D6XYwfs1za\n",
      "1239292629709287424 2020-03-15 13:49:22 Pacific Daylight Time <Z3r0xploit> ukemi: A CLI tool for querying passive DNS services - CIRCL passive DNS, PassiveTotal, SecurityTrails and VirusTotal - needs keys/credentials   http://github.com/ninoseki/ukemi  #infosec #cybersecurity #threathunting #DFIR #blueteam #OSINT #pentesting #threatintel #incidentresponse\n",
      "1239266463711715329 2020-03-15 12:05:24 Pacific Daylight Time <GlassSec> I wonder how much additional traffic VirusTotal has seen recently?\n",
      "1239261339643793412 2020-03-15 11:45:02 Pacific Daylight Time <HeliosCert> Sample analysed on #virustotal VirusTotal-Score: 1 VirusTotal:  https://www.virustotal.com/file/b17dc4ec9b885140333ffd560f227c387f89ff3fca09579fc3bc0b2571b6cc91/analysis/1584276308/ … Threat:\n",
      "1239259089928159233 2020-03-15 11:36:06 Pacific Daylight Time <Kirby0Louise> It would be a REAL shame if someone were to download their malware and \"\"accidentally\"\" upload it to VirusTotal, thus making sure 70+ antivirus companies get it as a sample...\n",
      "1239253331333259266 2020-03-15 11:13:13 Pacific Daylight Time <aa419> Report to abuse@ so your can 'abuse the reporter  with your ignorance and deniability? That's why we just blacklist at the @APWG, @Virustotal - get it done with. We're not willing to lose a war due to clueless abuse ops.  https://twitter.com/WixHelp/status/1239098607850176513 …\n",
      "1239226294354706439 2020-03-15 09:25:46 Pacific Daylight Time <SuccBoyy> Here's the VirusTotal:   https://www.virustotal.com/gui/file/6a366b388668c03132b9edb566ba2c121883b10d970335c25cbf3af3b5422e9c/detection …\n",
      "1239214328856731653 2020-03-15 08:38:14 Pacific Daylight Time <bsmuir> More #coronavirus / #covid19 themed #malware.  https://lnkd.in/gUWG-Ff   https://lnkd.in/gvDiPRi  Cc @anyrun_app, @virustotal & @alienvault. #infosec #Cybersecurity #DFIR #cybercrime #forensics #IOC  https://lnkd.in/gRvxs-c  https://lnkd.in/gzEZyfs \n"
     ]
    },
    {
     "name": "stdout",
     "output_type": "stream",
     "text": [
      "1239182809572442112 2020-03-15 06:32:59 Pacific Daylight Time <fedepohl> Creo que es un bot o no tiene sentido del humor :v\n",
      "1239162489742426112 2020-03-15 05:12:14 Pacific Daylight Time <thebdaman> Virustotal has no issue with this arcgis site. What's the Malware threat?\n",
      "1239138534214103040 2020-03-15 03:37:03 Pacific Daylight Time <ninoseki> Today I created a simple CLI tool for querying passive DNS services (CRICL, PassiveTotal, SecurityTrails and VirusTotal).  https://github.com/ninoseki/ukemi  It provides passive DNS resolutions as JSON with a unified format. pic.twitter.com/cTp2FF495Z\n",
      "1239100279947132929 2020-03-15 01:05:02 Pacific Daylight Time <HeliosCert> Sample analysed on #virustotal VirusTotal-Score: 1 VirusTotal:  https://www.virustotal.com/file/5db09f17855e3e0fb6d77fe8c84f883fd01d2b9ed10538fb02f68183433c43ce/analysis/1584225014/ … Threat:\n",
      "1239054520170106881 2020-03-14 22:03:12 Pacific Daylight Time <malr1na> VirusTotal をなんとなく使っていたら勿体ない。そんな思いで書いた本です。冊子版ちょびっとあります。  ・ゲスト/無料/有償会員の違い ・Intelligence Search ・URL, Domain 調査 ・VT Graph ・ハンティング ・API, vt-cli ・調査事例   https://techbookfest.org/product/5704881256005632 …\n",
      "1239000872916484096 2020-03-14 18:30:02 Pacific Daylight Time <HeliosCert> Sample analysed on #virustotal VirusTotal-Score: 41 VirusTotal:  https://www.virustotal.com/file/ed5c6f06e459285fa5e621026be965558add0841e7426ecee6d3e41d5e9b9761/analysis/1584196212/ … Threat: Trojan:Win32/Wacatac.D!ml  (Microsoft)\n",
      "1238993324725469185 2020-03-14 18:00:02 Pacific Daylight Time <HeliosCert> Sample analysed on #virustotal VirusTotal-Score: 32 VirusTotal:  https://www.virustotal.com/file/509607c23436a0d4ef33b21734a19aa129fbcd63bad4cb2965f06fc3f32c2554/analysis/1584218407/ … Threat: Trojan:Win32/Wacatac.D!ml  (Microsoft)\n",
      "1238969728204406785 2020-03-14 16:26:16 Pacific Daylight Time <billycontra> It is also possible that the scanners that pegged the activity are not high on fidelity.   I would definitely raise my brows if 5-10 scanners from major security vendors labeled the binary as malicious.  Nevertheless, I believe we have consensus. Hope you are folding proteins!\n",
      "1238960811252445185 2020-03-14 15:50:50 Pacific Daylight Time <optoio> The goal here is to garner much community participation and positives on VT doesn't help.\n",
      "1238960702045347840 2020-03-14 15:50:24 Pacific Daylight Time <optoio> Yeah I assumed it's a false positive, but I've seen issues in the past of downloads from reputable websites being compromised, and it's not a good look. Probably something that the team should potentially remediate.\n",
      "1238930637698084865 2020-03-14 13:50:56 Pacific Daylight Time <Sumit11445055> I have this, virustotal says its clean but hybrid-analysis points out sone suspicious items:  https://www.arcgis.com/apps/opsdashboard/index.html#/bda7594740fd40299423467b48e9ecf6 …\n",
      "1238928982789234689 2020-03-14 13:44:22 Pacific Daylight Time <TheBull963> Are you using VirusTotal to scan?\n",
      "1238905242479218695 2020-03-14 12:10:02 Pacific Daylight Time <HeliosCert> Sample analysed on #virustotal VirusTotal-Score: 50 VirusTotal:  https://www.virustotal.com/file/8eee7183404a9161fbabb05cb5b295649d79e911f1dea7b2abc3929a4d3dd80d/analysis/1584203108/ … Threat: BKDR_REVET.SM  (TrendMicro)\n",
      "1238897498766393350 2020-03-14 11:39:15 Pacific Daylight Time <adrian_perello> Has comprobado en la web de virustotal la URL? www.segurisoft .es /software/es _ ES/sss21intwr.exe\n",
      "1238870483388399616 2020-03-14 09:51:54 Pacific Daylight Time <GentLucas> Do you maybe want to elaborate on why i found a trojan when i scanned the download with VirusTotal?\n",
      "1238864210412679173 2020-03-14 09:26:59 Pacific Daylight Time <Ranmzoxe> * Le 7 septembre 2012, VirusTotal a été racheté par Google en vue notamment d'améliorer la sécurité de ses services. Ce rachat n'a pas affecté la fonctionnalité de base du site pour le grand public, à savoir l'analyse de fichiers... De Wikipédia\n",
      "1238863495208329217 2020-03-14 09:24:08 Pacific Daylight Time <Ranmzoxe> * VirusTotal est un site web qui analyse les fichiers suspects et facilite la détection rapide des virus, vers, chevaux de Troie et toutes sortes de logiciels malveillants (« malware » en anglais) détectés par les moteurs antivirus... De Wikipedia\n",
      "1238850610415403009 2020-03-14 08:32:56 Pacific Daylight Time <billycontra> Correcting myself: it is an installer FOR an application that uses a lot of CPU resources and communicates over the internet. The installer itself will not be pegging your CPU/GPU.  Sorry for the infinitesimal correction. But as I said, the installer from Folding@Home is legit.\n",
      "1238844844870598659 2020-03-14 08:10:02 Pacific Daylight Time <HeliosCert> Sample analysed on #virustotal VirusTotal-Score: 51 VirusTotal:  https://www.virustotal.com/file/0e659c7f42d4e96e05821b1df99216e5887904ada083fd61c6f77b9628a7890c/analysis/1584147909/ … Threat: TSPY_COOLVIDOOR_DD3004DC.UVPA  (TrendMicro)\n",
      "1238834207872385027 2020-03-14 07:27:46 Pacific Daylight Time <billycontra> That's a false positive. An installer that uses a lot of CPU resources (protein folding) and communicates over the web might (get work units) seem like a cryptominer or some other trojanized software.  The installer from Folding@Home's website is legitimate and not malware.\n",
      "1238832262160044035 2020-03-14 07:20:02 Pacific Daylight Time <HeliosCert> Sample analysed on #virustotal VirusTotal-Score: 55 VirusTotal:  https://www.virustotal.com/file/4570ea374aabac8e3b6f149a32999475a23cf4d6339a4f2eca2062d573803144/analysis/1584086114/ … Threat: VirTool:MSIL/Injector.SX!bit  (Microsoft)\n",
      "1238826375886196736 2020-03-14 06:56:38 Pacific Daylight Time <optoio> The @virustotal site is telling me that the @foldingathome installer (fah-installer_7.5.1_x86.exe) may contain malware. Are you able to confirm this file is indeed safe to execute? pic.twitter.com/DZwnoZlMs5\n",
      "1238812213701414912 2020-03-14 06:00:22 Pacific Daylight Time <FireEyeSupport> FireEye Video | 📺  Learn about the capabilities of the #FireEyeSecurityOrchestrator (#FSO) VirusTotal plug-in.  https://feye.io/2TPxtQT  #FireEyeCommunityTips\n",
      "1238720273706356736 2020-03-13 23:55:02 Pacific Daylight Time <HeliosCert> Sample analysed on #virustotal VirusTotal-Score: 48 VirusTotal:  https://www.virustotal.com/file/b84de0e74fbc2a22849fd59942c050a2d55a0a6886aef46629074c1cc5b42fcd/analysis/1584154808/ … Threat: Trojan.MSIL.BLADABINDI.SMJM06  (TrendMicro)\n",
      "1238703915841064960 2020-03-13 22:50:02 Pacific Daylight Time <HeliosCert> Sample analysed on #virustotal VirusTotal-Score: 39 VirusTotal:  https://www.virustotal.com/file/9aecbc7a7071aa575839d87e0963cd72e0d89332f2bd7c44f7c3f92ca3bedc3f/analysis/1584102614/ … Threat: TrojanSpy.MSIL.ASYNCRAT.SMAL02  (TrendMicro)\n",
      "1238667258760540161 2020-03-13 20:24:22 Pacific Daylight Time <WindowsBoy111> Can you believe this? #MEMZ is safe! It is clean! #Malware #trojanhorse #trojan #virustotal  pic.twitter.com/NJVoPcX4No\n",
      "1238654038226288640 2020-03-13 19:31:50 Pacific Daylight Time <arjun_go> @virustotal and @nextstrain have many parallels in their individual domains. I do wonder if a genealogy of malware will add value (esp. with attribution being less of a priority) by identifying variants. Then again anti malware does this implicitly.\n",
      "1238625903850278913 2020-03-13 17:40:02 Pacific Daylight Time <HeliosCert> Sample analysed on #virustotal VirusTotal-Score: 41 VirusTotal:  https://www.virustotal.com/file/08207a5d33bc74709348ebed03eb368dd65f30d7296e112fe4bb0bc7c5e55ea0/analysis/1584140408/ … Threat: Trojan:Win32/Wacatac.C!ml  (Microsoft)\n",
      "1238607028970565632 2020-03-13 16:25:02 Pacific Daylight Time <HeliosCert> Sample analysed on #virustotal VirusTotal-Score: 57 VirusTotal:  https://www.virustotal.com/file/46a7dd461b7a8c85805be2427ebe758d540ab04ac5a64f77694b9db4fdff5d50/analysis/1584137414/ … Threat: BKDR_BLADABI.SMC  (TrendMicro)\n",
      "1238598462763151363 2020-03-13 15:51:00 Pacific Daylight Time <iAnazi> موقع @virustotal  تابع لشركة Chronicle  احد شركات Alphabet\n",
      "1238598460686970883 2020-03-13 15:50:59 Pacific Daylight Time <iAnazi> يمكنك فحص الملفات او الروابط عن طريق موقع @virustotal  https://www.virustotal.com/gui/home/upload  pic.twitter.com/D6ceZaQMuI\n",
      "1238588153809850383 2020-03-13 15:10:02 Pacific Daylight Time <HeliosCert> Sample analysed on #virustotal VirusTotal-Score: 67 VirusTotal:  https://www.virustotal.com/file/4cfeefd1ca5a4a0b91c90534adab69fc60649cd052c42ed8b258117754bfb361/analysis/1584106209/ … Threat: TSPY_KEYLOG.SMC  (TrendMicro)\n",
      "1238573020450521090 2020-03-13 14:09:54 Pacific Daylight Time <demonslay335> VirusTotal..?\n",
      "1238572153953554433 2020-03-13 14:06:27 Pacific Daylight Time <TeknikselHaber1> Pratiklerdeki Virüsleri Bulan Pratik: VirusTotal  http://tekniksel.com/2020/03/14/pratiklerdeki-virusleri-bulan-pratik-virustotal/ … pic.twitter.com/EWXv5sfJJx\n",
      "1238562992045928453 2020-03-13 13:30:03 Pacific Daylight Time <HeliosCert> Sample analysed on #virustotal VirusTotal-Score: 33 VirusTotal:  https://www.virustotal.com/file/68da691feb5857d209c2671d5365c3a63f13b0e60a803392233d94e11619b353/analysis/1584102909/ … Threat: TrojanSpy.MSIL.ASYNCRAT.SMAL02  (TrendMicro)\n",
      "1238559404217204738 2020-03-13 13:15:47 Pacific Daylight Time <SeverTeknoloji> Uygulamalardaki Virüsleri Bulan Uygulama: VirusTotal Tablet, telefon, akıllı TV gibi cihazlarınızı en verimli şekilde kullanmak için pek çok farklı uygulama yüklemeniz gerekiyor. Ancak söz konusu ...  #AkıllıTelevizyon #Android #Uygulama #virüs  https://www.severteknoloji.com/uygulamalardaki-virusleri-bulan-uygulama-virustotal/ … pic.twitter.com/diMIyfoJON\n",
      "1238554764574633984 2020-03-13 12:57:21 Pacific Daylight Time <AjansEsam> Mobil Uygulamalardaki Virüslerden VirusTotal İle Korunun!!  https://eajansi.wordpress.com/2020/03/13/mobil-uygulamalardaki-viruslerden-virustotal-ile-korunun/ … pic.twitter.com/yaiY2sSr4x\n",
      "1238532562462572544 2020-03-13 11:29:08 Pacific Daylight Time <F0007F> A ver si contrastáis las noticias antes pero de forma fiable que es una vergüenza vuestros titulares después del esfuerzo que están haciendo las empresas del PTA, dándole pábulo a cuatro indocumentados\n"
     ]
    },
    {
     "name": "stdout",
     "output_type": "stream",
     "text": [
      "1238515173675216896 2020-03-13 10:20:02 Pacific Daylight Time <istgztcom> Pratiklerdeki Virüsleri Bulan Pratik: VirusTotal  https://istgzt.com/teknoloji/mobil/pratiklerdeki-virusleri-bulan-pratik-virustotal/ … pic.twitter.com/jCuq94RSIO\n",
      "1238508882852528131 2020-03-13 09:55:02 Pacific Daylight Time <HeliosCert> Sample analysed on #virustotal VirusTotal-Score: 52 VirusTotal:  https://www.virustotal.com/file/6ae39500e204ecb0b77181bcb1063bf19fc86d1605b57a9f3209021ed95290c1/analysis/1584104107/ … Threat: BKDR_BLADABI.SMC  (TrendMicro)\n",
      "1238500075988553728 2020-03-13 09:20:02 Pacific Daylight Time <HeliosCert> Sample analysed on #virustotal VirusTotal-Score: 54 VirusTotal:  https://www.virustotal.com/file/09277fda08860febda2652dc57b28a7b34618d7fccf12b02433403a6d490fb62/analysis/1584068027/ … Threat: TSPY_TINCLEX.SM1  (TrendMicro)\n",
      "1238498614005116928 2020-03-13 09:14:14 Pacific Daylight Time <D1GG3R_US> Most infected programs were configured for feedback from one of the two domains The most commonly used domain is  http://capeturk.com  registered using #Vietnam credentials Also many of the #Trojan utilities were uploaded to the VirusTotal service from the Vietnamese IP address  pic.twitter.com/nhfAHetyV0\n",
      "1238498405338529794 2020-03-13 09:13:24 Pacific Daylight Time <recluising> Hi!  This bug has been detected,  we're releasing a patch soon.\n",
      "1238496540538306560 2020-03-13 09:06:00 Pacific Daylight Time <pewpew_lazors> Yeah had a few conversations about that not working in the office and UK TI community today.\n",
      "1238490915812999168 2020-03-13 08:43:39 Pacific Daylight Time <KorbenD_Intel> Anyone else having this @virustotal issue? Cannot delete selected VTI hits.  pic.twitter.com/ulS4xaRGT1\n",
      "1238479941794234368 2020-03-13 08:00:02 Pacific Daylight Time <HeliosCert> Sample analysed on #virustotal VirusTotal-Score: 52 VirusTotal:  https://www.virustotal.com/file/a2bb938c9adbf68b0fe47d3e2c1618e30fbc65e220c5c7747c6ea6bdb2d0ee09/analysis/1584087608/ … Threat: BKDR_BLADABI.SMC  (TrendMicro)\n",
      "1238476164383064065 2020-03-13 07:45:02 Pacific Daylight Time <HeliosCert> Sample analysed on #virustotal VirusTotal-Score: 54 VirusTotal:  https://www.virustotal.com/file/d1bea15a8aa31c9acdff02a129db3ba4924541158f2a21c57657092d9a262d6b/analysis/1584088814/ … Threat: VirTool:MSIL/Injector.SX!bit  (Microsoft)\n",
      "1238469878157389826 2020-03-13 07:20:03 Pacific Daylight Time <HeliosCert> Sample analysed on #virustotal VirusTotal-Score: 64 VirusTotal:  https://www.virustotal.com/file/e254294e1124fe3c8bfdab94840d8b505f80a05337383a1951e700f776f3365f/analysis/1584068409/ … Threat: BKDR_BLADABI.SMC  (TrendMicro)\n",
      "1238463585321398275 2020-03-13 06:55:02 Pacific Daylight Time <HeliosCert> Sample analysed on #virustotal VirusTotal-Score: 53 VirusTotal:  https://www.virustotal.com/file/ffc5da2ff3ce317947fe1325d280ea954cb4f0931a80fe6e0feeb038521ff4e3/analysis/1584093307/ … Threat: BKDR_BLADABI.SMC  (TrendMicro)\n",
      "1238454775647174656 2020-03-13 06:20:02 Pacific Daylight Time <HeliosCert> Sample analysed on #virustotal VirusTotal-Score: 50 VirusTotal:  https://www.virustotal.com/file/8bd3d47f18523ff7a5f6735973c660e652fc10b92b455c9e206d10b2a2c3ecb7/analysis/1584078911/ … Threat: BKDR_BLADABI.SMC  (TrendMicro)\n",
      "1238450951238926336 2020-03-13 06:04:50 Pacific Daylight Time <iblametom> From yesterday but still very relevant - here’s a list of dangerous websites/domains that are taking advantage of coronavirus for malware/scams. Verified by the @VirusTotal team.  And example phishing emails doing the same:  https://www.forbes.com/sites/thomasbrewster/2020/03/12/coronavirus-scam-alert-watch-out-for-these-risky-covid-19-websites-and-emails/ …\n",
      "1238445965549461506 2020-03-13 05:45:02 Pacific Daylight Time <HeliosCert> Sample analysed on #virustotal VirusTotal-Score: 51 VirusTotal:  https://www.virustotal.com/file/b4e39383f52acb66962fa77ad8de72af20529f2c5a96ea181e494dc0df8b9451/analysis/1584035711/ … Threat: BKDR_BLADABINDI.SMJC4  (TrendMicro)\n",
      "1238444709049184256 2020-03-13 05:40:02 Pacific Daylight Time <HeliosCert> Sample analysed on #virustotal VirusTotal-Score: 28 VirusTotal:  https://www.virustotal.com/file/bb28cbc1f6fe7d4619976cd20d13a60b3ac8de67bea7755d26aea274a7e6f297/analysis/1584080202/ … Threat: HEUR:Trojan.Win32.Generic  (Kaspersky)\n",
      "1238439846101860354 2020-03-13 05:20:43 Pacific Daylight Time <rossamoore> \"You can always double-check the safety of a link by copying it and pasting into a web-based tool like VirusTotal or Sucuri’s SiteCheck.\"  https://lnkd.in/dqwerNR \n",
      "1238415766686482433 2020-03-13 03:45:02 Pacific Daylight Time <HeliosCert> Sample analysed on #virustotal VirusTotal-Score: 61 VirusTotal:  https://www.virustotal.com/file/f931d3d41aed7b46c2a14cf2c1b26f7f10e7177ceb7818c736db4441aee7c1de/analysis/1571542405/ … Threat: Ransom_WCRY.SMALYM  (TrendMicro)\n",
      "1238414397946691584 2020-03-13 03:39:35 Pacific Daylight Time <Genesys_Test_12> Şüpheli Uygulamalardaki Virüsleri Bulan Uygulama: VirusTotal  https://www.webtekno.com/virustotal-android-apk-indir-h87680.html … pic.twitter.com/psK6HeayrU\n",
      "1238414387230265344 2020-03-13 03:39:33 Pacific Daylight Time <PIZM_DarkarLIVE> La mejor cerrada de orto ahreeee\n",
      "1238404273572110336 2020-03-13 02:59:21 Pacific Daylight Time <josiller13> esto es deformacion profesional no? trabajas en virustotal, literalmente!\n",
      "1238400666877526017 2020-03-13 02:45:02 Pacific Daylight Time <HeliosCert> Sample analysed on #virustotal VirusTotal-Score: 68 VirusTotal:  https://www.virustotal.com/file/357ae8bdaa57334484b81fb2cd95930d5fd7a60f21c0de17553c67f5ac097707/analysis/1584073808/ … Threat: TSPY_SPATET.SMT  (TrendMicro)\n",
      "1238397656420007936 2020-03-13 02:33:04 Pacific Daylight Time <SATINFOSL> Informes de los Preanalisis de VirusTotal sobre nuevas muestras que pasaremos a controlar con EliStarA 43.14  https://ift.tt/2IHuweG \n",
      "1238387143484919813 2020-03-13 01:51:17 Pacific Daylight Time <rneelmani> @bquintero, #malware repository & #antivirus testing service @VirusTotal, takes a look at domains. His recommendation are:  corona-virus[.]healthcare survivecoronavirus[.]org vaccine-coronavirus[.]com coronavirus[.]cc bestcoronavirusprotect[.]tk coronavirusupdate[.]tk\n",
      "1238350339285409793 2020-03-12 23:25:02 Pacific Daylight Time <HeliosCert> Sample analysed on #virustotal VirusTotal-Score: 66 VirusTotal:  https://www.virustotal.com/file/5d8a6872230e772098fb5ee8cf09bbdb123c32680720868cb82016d7572ce611/analysis/1579201792/ … Threat: Ransom_WCRY.SMALYM  (TrendMicro)\n",
      "1238339010499616768 2020-03-12 22:40:01 Pacific Daylight Time <HeliosCert> Sample analysed on #virustotal VirusTotal-Score: 52 VirusTotal:  https://www.virustotal.com/file/6b0f33bb810bfd8ca9ca50eb924fc207a30e89677cd2e98e7137dc30b0c71eae/analysis/1584041115/ … Threat: BKDR_BLADABI.SMC  (TrendMicro)\n",
      "1238299492870508545 2020-03-12 20:03:00 Pacific Daylight Time <masmasjp> またまた VirusTotal の分母が増えていますね。\n",
      "1238282379887882240 2020-03-12 18:55:00 Pacific Daylight Time <eForensics_Mag> Detecting malicious downloads with Osquery, Rsyslog, Kafka, Python3 and Virustotal | by Ben Bornholm  http://bit.ly/2TYLQRQ \n",
      "1238267092601692162 2020-03-12 17:54:15 Pacific Daylight Time <opcode_raeg> This is a massive farce. You try to make a clean as possible executable. Still gets detected. And then people will think its malicious because of @VirusTotal\n",
      "1238200431232323584 2020-03-12 13:29:22 Pacific Daylight Time <QSp4ll> VirusTotal Report  https://www.virustotal.com/url/a1f34560f9cc301a27fac20737def54b7c7f34bda25ef74394d684d76faf004d/analysis/1562167874/ … #VTMobile\n",
      "1238168884345212928 2020-03-12 11:24:00 Pacific Daylight Time <hackerg1rl> #Virustotal viendo que vuelvo a meter el mismo hash nadamas para asegurarme que sí era falso positivo  pic.twitter.com/xsGG6lS6Nx\n",
      "1238164869116915712 2020-03-12 11:08:03 Pacific Daylight Time <loganabbott> We will keep looking but just did a fresh scan on virustotal again and it's clean\n",
      "1238164074023837697 2020-03-12 11:04:53 Pacific Daylight Time <gerardofn> A new version of the VirusTotal IDA Pro plugin is available (v0.9). Now supports ARM processors and includes a new abstraction layer to foster portability.  Check it:  https://github.com/VirusTotal/vt-ida-plugin …\n",
      "1238159079023009796 2020-03-12 10:45:02 Pacific Daylight Time <HeliosCert> Sample analysed on #virustotal VirusTotal-Score: 67 VirusTotal:  https://www.virustotal.com/file/39bd267783fcf409b06ed6a459c7b4bdbae18d91ddd2836b7d81636adea83838/analysis/1579199554/ … Threat: Ransom_WCRY.SMALYM  (TrendMicro)\n",
      "1238125482408685573 2020-03-12 08:31:32 Pacific Daylight Time <TecnicGT> NEWS Informes de los preanalisis de virustotal sobre nuevas muestras que pasaremos a controlar con elistara 43.13  http://dlvr.it/RRll15  News and Information\n",
      "1238109438768185348 2020-03-12 07:27:47 Pacific Daylight Time <DaveWestgard> Just post it on Virustotal and make sure it hits a few Yara rules.\n",
      "1238085479389704192 2020-03-12 05:52:35 Pacific Daylight Time <SteveBellovin> I'm astonished at how quickly bioscience can move these days. (I have this vague urge to feed  https://www.ncbi.nlm.nih.gov/nuccore/MN908947 … to virustotal…)\n",
      "1238042825947840512 2020-03-12 03:03:06 Pacific Daylight Time <SATINFOSL> Informes de los Preanalisis de VirusTotal sobre nuevas muestras que pasaremos a controlar con EliStarA 43.13  https://ift.tt/38GUDgn \n",
      "1238039151028498432 2020-03-12 02:48:29 Pacific Daylight Time <hainn92> @virustotal how can i contact with you. i sent email to info@virustotal.com but dont see any response  https://twitter.com/virustotal/status/1232701318285971456 …\n",
      "1238013113179529216 2020-03-12 01:05:02 Pacific Daylight Time <HeliosCert> Sample analysed on #virustotal VirusTotal-Score: 49 VirusTotal:  https://www.virustotal.com/file/231452579c23f41a0bcb752fe9af675625caf92137ace95d3c286bc6eedc78ed/analysis/1583960111/ … Threat: Backdoor:MSIL/Bladabindi.B  (Microsoft)\n",
      "1238011665976786944 2020-03-12 00:59:16 Pacific Daylight Time <MrAbandonware> I've run both using images of the disks copied to HD, patches & infinitycracker v1.1 to remove the CD check.  You can get the crack from here:  https://www.gamecopyworld.com/games/pc_baldurs_gate.shtml … (it checks out safe with VirusTotal)  I can give you instructions on how to do this if you want?\n"
     ]
    },
    {
     "name": "stdout",
     "output_type": "stream",
     "text": [
      "1237997819409072130 2020-03-12 00:04:15 Pacific Daylight Time <sonoclaudio> Dio @Sophos | @SophosLabs 🤨 #Virustotal:  ✓  https://www.virustotal.com/gui/url/3d57861f90db072e8d71999ead529b3f5ee784578c642def381e1e8a6730c153/detection … pic.twitter.com/8ssR7gJcn5\n",
      "1237880997149999104 2020-03-11 16:20:03 Pacific Daylight Time <HeliosCert> Sample analysed on #virustotal VirusTotal-Score: 37 VirusTotal:  https://www.virustotal.com/file/88c93fb2359cc5f0da6886983c67d923955d210daf5a458e382d024124a67458/analysis/1583939109/ … Threat: BKDR_NOANCOOE.SMUPS  (TrendMicro)\n",
      "1237873445037199360 2020-03-11 15:50:02 Pacific Daylight Time <HeliosCert> Sample analysed on #virustotal VirusTotal-Score: 62 VirusTotal:  https://www.virustotal.com/file/682f05626c7acbe582308ac3ae86c2069f03118901bcc1513bf1f398bacf04c4/analysis/1583937610/ … Threat: BKDR_BLADABI.SMC  (TrendMicro)\n",
      "1237863380896997378 2020-03-11 15:10:03 Pacific Daylight Time <HeliosCert> Sample analysed on #virustotal VirusTotal-Score: 64 VirusTotal:  https://www.virustotal.com/file/97110eb0379949f84070869444db1fb50a1f895310ef6ceab7eca5799b2d3d3c/analysis/1576204178/ … Threat: Ransom_WCRY.SMALYM  (TrendMicro)\n",
      "1237786258702659584 2020-03-11 10:03:35 Pacific Daylight Time <washoi_soramane> virustotalというコンピュータウィルス版ウィキあるからそれ見ればいいのか。実際の動作とかは\n",
      "1237772780151738368 2020-03-11 09:10:02 Pacific Daylight Time <HeliosCert> Sample analysed on #virustotal VirusTotal-Score: 64 VirusTotal:  https://www.virustotal.com/file/d1f6f25741126fe4ce7691dbe49ea6ab7f0d7c69013c9f886fe2e943f73d9db0/analysis/1583916608/ … Threat: BKDR_BLADABI.SMC  (TrendMicro)\n",
      "1237724530795335681 2020-03-11 05:58:18 Pacific Daylight Time <NuriaTriguero> Las empresas se preparan en #Málaga para el siguiente escenario del #coronavirus con medidas que van desde teletrabajo hasta ERTE, según el nivel de afectación  https://www.diariosur.es/malaga/teletrabajo-vacaciones-forzosas-20200310185448-nt.html … @virustotal, de las primeras en implantar teletrabajo preventivo  https://www.diariosur.es/malaga/empleados-google-malaga-20200311124023-nt.html …\n",
      "1237713643002683393 2020-03-11 05:15:02 Pacific Daylight Time <HeliosCert> Sample analysed on #virustotal VirusTotal-Score: 60 VirusTotal:  https://www.virustotal.com/file/7946422c2a59532f4ca6e668f0225edd2f95848dbea227e1d3ff62d0474f7a79/analysis/1583901610/ … Threat:  http://TrojanSpy.Win32.MOCRT.SM   (TrendMicro)\n",
      "1237710666527637504 2020-03-11 05:03:13 Pacific Daylight Time <TonyP9195> VirusTotal Report  https://www.virustotal.com/en/file/6d81b8ef4188540c37c3f3e0b1f4d6098ae3487511891929e363f648e942af0b/analysis/ … #VTMobile\n",
      "1237672871482159105 2020-03-11 02:33:02 Pacific Daylight Time <especialistase6> Informes de los preanalisis de virustotal sobre nuevas muestras que pasaremos a controlar con elistara 43.12  http://dlvr.it/RRfv41  | Interesante\n",
      "1237623044308455424 2020-03-10 23:15:02 Pacific Daylight Time <HeliosCert> Sample analysed on #virustotal VirusTotal-Score: 36 VirusTotal:  https://www.virustotal.com/file/0be9187465c4e3b34f2d94c2514e11ef8caf4ec2359faa4f78051f968dc33633/analysis/1583847909/ … Threat: Backdoor:MSIL/Bladabindi.AP  (Microsoft)\n",
      "1237595784289218562 2020-03-10 21:26:43 Pacific Daylight Time <hadi_wejdan> في اليوم الثاني من #أساسيات_الأمن_السيبراني تحدثت لنا المدربة الدكتورة سارة ابو غزالة عن برنامج موثوق لفحص الڤيروس virustotal ،يقوم الموقع بفحص الملفات و الروابط اللتي يشتبه فيها المستخدم @kkuxedu pic.twitter.com/xIV4bPWcku\n",
      "1237592839552262145 2020-03-10 21:15:00 Pacific Daylight Time <JayTHL> i can think of a faster and easier method.\n",
      "1237592535968534529 2020-03-10 21:13:48 Pacific Daylight Time <openprovider> Thank you for your concern. For the fastest and easy way to report such cases offline, please send an email to our abuse@openprovider.com. You can always find more information in our Knowledge Base https://support.openprovider.eu/hc/en-us/articles/360001725008-Reporting-abuse …\n",
      "1237592368104136706 2020-03-10 21:13:08 Pacific Daylight Time <openprovider> Thank you for your concern. For the fastest and easy way to report such cases offline, please send an email to our abuse@openprovider.com. You can always find more information in our Knowledge Base  https://support.openprovider.eu/hc/en-us/articles/360001725008-Reporting-abuse …\n",
      "1237591097884340225 2020-03-10 21:08:05 Pacific Daylight Time <openprovider> Thank you for your concern. For the fastest and easy way to report such cases offline, please send an email to our abuse@openprovider.com. You can always find more information in our Knowledge Base  https://support.openprovider.eu/hc/en-us/articles/360001725008-Reporting-abuse …\n",
      "1237540061731639297 2020-03-10 17:45:17 Pacific Daylight Time <nashy_shadowban> Virustotalを信じろ\n",
      "1237538794263343104 2020-03-10 17:40:15 Pacific Daylight Time <nashy_shadowban> 毎回exeをVirustotalでスキャンしててよかったと思える今頃\n",
      "1237521123249491969 2020-03-10 16:30:02 Pacific Daylight Time <HeliosCert> Sample analysed on #virustotal VirusTotal-Score: 45 VirusTotal:  https://www.virustotal.com/file/7d52a5ff551433abec9041aff885ae1fc8ac568f851db52e16edf08f4a61e2d4/analysis/1583851211/ … Threat: Backdoor:MSIL/Bladabindi.B  (Microsoft)\n",
      "1237519863792328704 2020-03-10 16:25:02 Pacific Daylight Time <HeliosCert> Sample analysed on #virustotal VirusTotal-Score: 49 VirusTotal:  https://www.virustotal.com/file/7bc562ab987756841469f54c6284a50d515bd6f565e26f53bf6bab34dd3111d0/analysis/1583874910/ … Threat: Backdoor:MSIL/Bladabindi.B  (Microsoft)\n",
      "1237517444442275841 2020-03-10 16:15:25 Pacific Daylight Time <xyz> Thank you for your vigilance. This will be investigated by the XYZ Anti-Abuse Team. For the fastest way to help get bad actors offline, please submit reports and evidence of abuse directly by opening a ticket at  http://gen.xyz/abuse  and we will take action.\n",
      "1237506463129653248 2020-03-10 15:31:47 Pacific Daylight Time <PELock> Yeah I have all the insider information. Its called bypassing AV products by testing it with every possible AV- by NOT using VirusTotal but underground scanners. So you can install your shiny AV and you will be infected anyway if you are dumb enough to click on everything you see\n",
      "1237493449051353089 2020-03-10 14:40:04 Pacific Daylight Time <tsalehsec> Check out passive DNS for the C2 domain: > 0kjkwds4ex.r7ssh1ng[.]xyz on 03-08-2020  > cpcalendars.g0dproject[.]xyz on 03-03-2020  > webdisk.g0dproject[.]xyz on 03-03-2020  > 4lmighty[.]xyz on 02-29-2020\n",
      "1237475825064259586 2020-03-10 13:30:02 Pacific Daylight Time <HeliosCert> Sample analysed on #virustotal VirusTotal-Score: 23 VirusTotal:  https://www.virustotal.com/file/7c060c1e6c66cac4a572eef40485f8add7a9f15da6f345d8a3e34fefb918be97/analysis/1583848513/ … Threat: Trojan:Win32/Wacatac.C!ml  (Microsoft)\n",
      "1237465760919945217 2020-03-10 12:50:03 Pacific Daylight Time <HeliosCert> Sample analysed on #virustotal VirusTotal-Score: 0 VirusTotal:  https://www.virustotal.com/file/80b9776303fea596ea5a979a29e4fd801e9522455664a950741f282e11ec18f5/analysis/1583849679/ … Threat:\n",
      "1237414650767122432 2020-03-10 09:26:57 Pacific Daylight Time <Nethanella> All #bankBot #Anubis Samples from @virustotal for this campaign: e491d383e9f89ba76864491598734e96 d5577c5f181d5496ae2ebd295a705a73 ce448fb2d1575f3a74ee59c611f6ec06 a62ea74fa4ec43d3a8f1e0a05cb26aeb da630a3291e2bcffa62acf9e14685b15\n",
      "1237404100347727873 2020-03-10 08:45:02 Pacific Daylight Time <HeliosCert> Sample analysed on #virustotal VirusTotal-Score: 63 VirusTotal:  https://www.virustotal.com/file/281204b1ee37e38933fb57d83f77420be5a7016ac292318253e71728e97577bd/analysis/1583841310/ … Threat: BKDR_BLADABI.SMC  (TrendMicro)\n",
      "1237401751541579776 2020-03-10 08:35:42 Pacific Daylight Time <sucurisecurity> \"You can always double-check the safety of a link by copying it and pasting into a web-based tool like VirusTotal or Sucuri’s SiteCheck.\"  Everyone make sure to take precautions both online and IRL! Learn more via @Forbes:  https://sucur.it/39Qumhn  #COVID19 #coronavirus\n",
      "1237396958291079170 2020-03-10 08:16:39 Pacific Daylight Time <dubstard> Fraudulent content ought to be removed now.  Tickets: 🎟EUK-860-58177  🎟521835  Previous instance, spotted on January 14, 2020 - possibly same adversary:  http://www.virustotal.com/gui/file/3fb55b8a5e613c3eb8354796ab3e0c4927686568da00815fa6af1e08ce01c571/detection … pic.twitter.com/MgtMRrryB7\n",
      "1237389569693061123 2020-03-10 07:47:17 Pacific Daylight Time <500mk500>  https://www.virustotal.com/gui/ip-address/181.214.86.150/relations …  marketplace-magento[.]com marketplace-magento[.]net get-js[.]com (potentially).\n",
      "1237389375786201089 2020-03-10 07:46:31 Pacific Daylight Time <SeraphimDomain> Example of the code: https://gist.github.com/Blevene/f4fb98538fbbcbb47064984c946f1053 …\n",
      "1237386595625394177 2020-03-10 07:35:28 Pacific Daylight Time <JWilsonSecurity> Some more Magecart JS:  marketplace-magento[.]com  Many actively still hosts/running.  https://www.virustotal.com/gui/url/28ab7ce3a95c9bf5aa8b926dbf4079643c2673dc399b307eb9b614a3612b6396/detection …  https://urlscan.io/responses/2b1c2d913544dbcda0ee19bce1e379fecbcb7e7f59d2bb860330354b433d147d/ … #magecart #skimmer @urlscanio @virustotal  https://twitter.com/JWilsonSecurity/status/1229863965204844545 … pic.twitter.com/5AmURz481R\n"
     ]
    },
    {
     "name": "stdout",
     "output_type": "stream",
     "text": [
      "1237382428978597888 2020-03-10 07:18:55 Pacific Daylight Time <NathOnSecurity> Familiar with the name from VirusTotal. Apparently it's been around since 1987.\n",
      "1237381475928027138 2020-03-10 07:15:07 Pacific Daylight Time <Nethanella> #BankBot #Anubis\n",
      "1237343606119100416 2020-03-10 04:44:39 Pacific Daylight Time <nakapyo> kiyaの特徴として、 ウイルス対策ソフトが 検知できないこと。  kiyaに使われた マルウエアの初期サンプルを 3つ入手した直後に マルウエア検査サイトVirusTotalで 調べたところ、  同サイトに登録された 50以上の ウイルス対策ソフトすべてで 検知できなかったとしている。   https://xtech.nikkei.com/atcl/nxt/column/18/00598/121900053/ …\n",
      "1237340095067365378 2020-03-10 04:30:41 Pacific Daylight Time <UnrealSec> Uploaded it to VirusTotal  https://www.virustotal.com/gui/file/11cf906553bef02887a9f92bb552917f2c014e8db0953f228800dd4a69fb157b/detection …\n",
      "1237325681866014721 2020-03-10 03:33:25 Pacific Daylight Time <4chr4f2> @Spam404Online for the c&c\n",
      "1237324323557388288 2020-03-10 03:28:01 Pacific Daylight Time <SATINFOSL> Informes de los Preanalisis de VirusTotal sobre nuevas muestras que pasaremos a controlar con EliStarA 43.11  https://ift.tt/2VZlKRh \n",
      "1237300467161538560 2020-03-10 01:53:13 Pacific Daylight Time <LukasStefanko> Drops Anubis payload (16/59):  https://www.virustotal.com/gui/file/7978c6cef7b934373f218da8a6510c631aa9abb6ff5e3527e9e3051dc3b63bb5/detection …  c&c:  http:// r7ssh1ng .xyz encryption key: ericcartman pic.twitter.com/plc5gPUG7O\n",
      "1237291002718797824 2020-03-10 01:15:37 Pacific Daylight Time <malwrhunterteam> cc @LukasStefanko @virqdroid\n",
      "1237290736292368384 2020-03-10 01:14:33 Pacific Daylight Time <ni_fi_70> seems to be #Cerberus V2\n",
      "1237282412054413312 2020-03-10 00:41:29 Pacific Daylight Time <dubstard> \"Santander Security\" apk  🎯@santanderukhelp @bancosantander ⚠santander-movilsecure­.info/Blindaje.apk [185.149.112.50] #banker #trojan @virustotal 9/62  🌐@a2hosting  🖧 @openprovider_nl @openprovider @executemalware @JayTHL @JAMESWT_MHT @demonslay335 @malwrhunterteam pic.twitter.com/aT13Og8V0M\n",
      "1237282046336217088 2020-03-10 00:40:02 Pacific Daylight Time <HeliosCert> Sample analysed on #virustotal VirusTotal-Score: 53 VirusTotal:  https://www.virustotal.com/file/2bb44181c7547a69b7ea6a4d7c13baba0e623dd5049c055ad3902b3e04c68f62/analysis/1583787611/ … Threat: BKDR_REVET.SM  (TrendMicro)\n",
      "1237260913427673089 2020-03-09 23:16:03 Pacific Daylight Time <techadversary> VirusTotal is not an Incident Responder - a tool that aids in analysis should not be a “one-stop-shop” in determining if content is malicious. Attackers can easily manipulate these results.  https://www.reddit.com/r/netsec/comments/esv9j1/virustotal_is_not_an_incident_responder_a_tool/?utm_source=dlvr.it&utm_medium=twitter … pic.twitter.com/Fm2eYryznB\n",
      "1237249441582714880 2020-03-09 22:30:28 Pacific Daylight Time <jloidl> Amyone use VirusTotal? You should read this advisory:  https://lnkd.in/f7gqXFy \n",
      "1237183901602365440 2020-03-09 18:10:02 Pacific Daylight Time <HeliosCert> Sample analysed on #virustotal VirusTotal-Score: 51 VirusTotal:  https://www.virustotal.com/file/cf1ccd1cd7b7a29601129f5eda08a0dfbbd3bb010100bcfaf55850d4302c0c6b/analysis/1583788513/ … Threat: BKDR_REVET.SM  (TrendMicro)\n",
      "1237181459078631424 2020-03-09 18:00:20 Pacific Daylight Time <smelly_nbo> kiyaの特徴として、ウイルス対策ソフトが検知できないことを挙げている。同社はkiyaに使われたマルウエアの初期サンプルを3つ入手。入手直後にマルウエア検査サイトVirusTotalで調べたところ、同サイトに登録された50以上のウイルス対策ソフトすべてで検知できなかった  https://xtech.nikkei.com/atcl/nxt/column/18/00598/121900053/ …\n",
      "1237162511805419526 2020-03-09 16:45:02 Pacific Daylight Time <HeliosCert> Sample analysed on #virustotal VirusTotal-Score: 40 VirusTotal:  https://www.virustotal.com/file/796ba5fabb87cd8f8682a1f81d28a1f2fe8268bec9fe2ade245d7a0d6f9f5bc6/analysis/1583770194/ … Threat: Trojan:Win32/Wacatac.C!ml  (Microsoft)\n",
      "1237119838822313988 2020-03-09 13:55:28 Pacific Daylight Time <nikkeibpITpro> マルウエアを駆使する新たなサイバー攻撃「kiya」出現、その恐るべき特徴とは #NTTセキュリティ #VirusTotal #LINE #ITセキュリティ #セキュリティ総合  https://xtech.nikkei.com/atcl/nxt/column/18/00598/121900053/?n_cid=nbpnxt_twcm_it …\n",
      "1237098969395638272 2020-03-09 12:32:33 Pacific Daylight Time <cnoanalysis> if the data wasn't stolen, yes. people upload things everyday to places by mistake and they get used.  See: Company files and emails on VirusTotal. Classified files? As long as you never had a clearance in the US you have no obligation to protect classified information.\n",
      "1237086613118881795 2020-03-09 11:43:27 Pacific Daylight Time <janvonkirchheim> You need to know how you can circumvent phishing checks by VirusTotal and others to improve your investigation techniques.   Great article by ⁦@ruddawg26⁩ https://link.medium.com/shExyBELI4 \n",
      "1237081107167768576 2020-03-09 11:21:34 Pacific Daylight Time <TheGuruAU> Had to include the XKCD link -  https://xkcd.com/350/   Many public sandboxes will let you d/l individual samples if you register.  eg -  https://zeltser.com/malware-sample-sources/ … VirusTotal - bit of a firehose, can find some interesting stuff but depends on if you want curated lists or 0 day.\n",
      "1237070035841175562 2020-03-09 10:37:34 Pacific Daylight Time <malware_traffic> 2020-03-09 - Word doc with macro for #Lokibot - Didn't work in a Win 7 environment in #AnyRun sandbox - works just fine in their Win 10 environment -  https://app.any.run/tasks/b799a194-ff60-465f-b781-2914d50d3696 … - Saw at least 3 docs with this same template submitted to VirusTotal today.  pic.twitter.com/EzKqQEkoi1\n",
      "1237045688023896065 2020-03-09 09:00:49 Pacific Daylight Time <ESETresearch> Great analysis by @jpcert_en of ELF_TSCookie Linux malware used by BlackTech APT, samples now available at VirusTotal: ffe8d4f87b6e0e9166226ebf4836f50ecf771ced2d9509e572dc8013e359843c #ESETresearch 1/2 https://twitter.com/jpcert_en/status/1235447797513482241 …\n",
      "1237025403098869761 2020-03-09 07:40:13 Pacific Daylight Time <lottapub> Nothing as amusing to me, for some reason, as when I submit a received business-related file to @virustotal for scanning and get the results that were generated for someone else just minutes ago. Nice to know that others are as diligent with scanning as I am!\n",
      "1236992893828468738 2020-03-09 05:31:02 Pacific Daylight Time <especialistase6> Informes de los preanalisis de virustotal sobre nuevas muestras que pasaremos a controlar con elistara 43.10  http://dlvr.it/RRXDVy  | Interesante\n",
      "1236961979803238401 2020-03-09 03:28:12 Pacific Daylight Time <SATINFOSL> Informes de los Preanalisis de VirusTotal sobre nuevas muestras que pasaremos a controlar con EliStarA 43.10  https://ift.tt/39Hgl5y \n",
      "1236954892067115009 2020-03-09 03:00:02 Pacific Daylight Time <Tmo_Wizard> Kostenloser Virenscanner: Android-App bringt Googles starken VirusTotal-Scanner auf das Smartphone  https://www.googlewatchblog.de/2020/03/kostenloser-virenscanner-android-app/ …\n",
      "1236918537819734016 2020-03-09 00:35:34 Pacific Daylight Time <affiliatetrick> Kostenloser Virenscanner: Android-App bringt Googles starken VirusTotal-Scanner auf das Smartphone  https://ift.tt/3cHWbKj  #seo #affiliate\n",
      "1236866812182245376 2020-03-08 21:10:02 Pacific Daylight Time <HeliosCert> Sample analysed on #virustotal VirusTotal-Score: 51 VirusTotal:  https://www.virustotal.com/file/bc26623b17ea5fd5783725192c0f561a2950ea45755ebe62478d1501fcc5bdad/analysis/1583618107/ … Threat: BKDR_REVET.SM  (TrendMicro)\n",
      "1236861779688525825 2020-03-08 20:50:02 Pacific Daylight Time <HeliosCert> Sample analysed on #virustotal VirusTotal-Score: 47 VirusTotal:  https://www.virustotal.com/file/4ff5f248b78f8ed8a809fa43da697c09c878be63d337ab4cdac53c5dd2978646/analysis/1583699114/ … Threat: Backdoor:MSIL/Bladabindi.B  (Microsoft)\n",
      "1236819284774408192 2020-03-08 18:01:11 Pacific Daylight Time <milksizegene> 【過去記事】 「VirusTotal」への個人情報を記載したファイルに関するアップロードについて   https://www.japan-secure.com/?p=1193  #ネットセキュリティブログ\n",
      "1236785022071459851 2020-03-08 15:45:02 Pacific Daylight Time <HeliosCert> Sample analysed on #virustotal VirusTotal-Score: 9 VirusTotal:  https://www.virustotal.com/file/628813be3ee08f6f049b7f85f46138f6c10adc09f9b35a03c824c9831f94f264/analysis/1583690710/ … Threat:\n",
      "1236763885954371584 2020-03-08 14:21:03 Pacific Daylight Time <RocioVerdeal> muchísimas gracias,le agradecemos mucho. funciona muy bien ahora\n",
      "1236755651025612802 2020-03-08 13:48:19 Pacific Daylight Time <leviaingenia> Lo sé, Fernando. Me consta por familiares que han estado de viaje recientemente. Como decía alguien por aquí, sin pánico pero con (mucha) prudencia.\n",
      "1236709525480226818 2020-03-08 10:45:02 Pacific Daylight Time <HeliosCert> Sample analysed on #virustotal VirusTotal-Score: 55 VirusTotal:  https://www.virustotal.com/file/40540698cb54e1c9f80ebdf156d62d777e28c2a30872cdba10b6a4553c3bfc2f/analysis/1583670010/ … Threat: BKDR_NOANCOOE.SM  (TrendMicro)\n"
     ]
    },
    {
     "name": "stdout",
     "output_type": "stream",
     "text": [
      "1236690503346860035 2020-03-08 09:29:27 Pacific Daylight Time <entdark_> Me tire 14 dias aislado cuando volví de Japon por precaución, pero en el aeropuerto (málaga al menos) no estan haciendo ningún tipo de control... Estan confiando en que el lugar de origen haya hecho los controles pertinentes. Y ahora vendran las fallas y semana santa...\n",
      "1236680476905091080 2020-03-08 08:49:36 Pacific Daylight Time <leviaingenia> En este caso, viniendo de alguien en @virustotal, ¡esa es una opinión autorizada, amigo Fernando!\n",
      "1236679235655184384 2020-03-08 08:44:40 Pacific Daylight Time <BingShan1024> 開発版、virustotalに投げたら烈火のごとく怒られる\n",
      "1236677277003452420 2020-03-08 08:36:53 Pacific Daylight Time <ASYSinghuber> VirusTotal-App: bekannter Meta-Scanner #VirusTotal (Teil von Google-Gruppe) nun via anerkannter & kostenfreier App eines Drittanbieters (ergo nicht Google-Gruppe) verfügbar.    https://www.googlewatchblog.de/2020/03/kostenloser-virenscanner-android-app/ …\n",
      "1236630173522333696 2020-03-08 05:29:43 Pacific Daylight Time <Shady07090477> Virustotal\n",
      "1236606589727117312 2020-03-08 03:56:00 Pacific Daylight Time <cadirneca> Pues sí, confirmo que los requisitos para la inscripción en el título serán los mismos, ya está publicada la ficha resumida del curso, pondremos más detalles en la web de @nics_lab:  http://www.titulacionespropias.uma.es/informacion_curso.php?id_curso=6903144 ….\n",
      "1236588833900126208 2020-03-08 01:45:27 Pacific Daylight Time <hackernextdoor7> VirusTotal shows all the subdomains. What domain it is.\n",
      "1236586556175024128 2020-03-08 01:36:24 Pacific Daylight Time <dark_moon2019> Lookout for some C2 domains registered today... 47575756635login(.)com 64477475756login(.)com 98373738login(.)com Can these be attribiuted to Caronavirus Themed attack in Middle East ? @VK_Intel @mal_share @Arkbird_SOLG @virusbay_io @virustotal\n",
      "1236577263417798656 2020-03-08 00:59:28 Pacific Daylight Time <GruenderUni> Kostenloser Virenscanner: Android-App bringt Googles starken VirusTotal-Scanner auf das... - GoogleWatchBlog #Digitalisierung #Apps #Smartphone  https://www.googlewatchblog.de/2020/03/kostenloser-virenscanner-android-app/ …\n",
      "1236576146390683653 2020-03-08 00:55:02 Pacific Daylight Time <HeliosCert> Sample analysed on #virustotal VirusTotal-Score: 13 VirusTotal:  https://www.virustotal.com/file/d4df029151a20715bdf2e28dded5492361da5f55b16ae5a0faa1d193950bf494/analysis/1583590450/ … Threat:\n",
      "1236575136029052929 2020-03-08 00:51:01 Pacific Daylight Time <SimonZerafa> He will be the last person standing. Steve's immune system is like VirusTotal for Human Malware 🙂\n",
      "1236548837759569920 2020-03-07 23:06:31 Pacific Daylight Time <_n0p_> any plans to add your service to VirusTotal?\n",
      "1236545947804499968 2020-03-07 22:55:02 Pacific Daylight Time <HeliosCert> Sample analysed on #virustotal VirusTotal-Score: 37 VirusTotal:  https://www.virustotal.com/file/34f043efa754cc47df860523847f45160a192a77d0949643d39d77bfa83df8d6/analysis/1583579410/ … Threat: VirTool:MSIL/Covent.A  (Microsoft)\n",
      "1236538398220967937 2020-03-07 22:25:02 Pacific Daylight Time <HeliosCert> Sample analysed on #virustotal VirusTotal-Score: 36 VirusTotal:  https://www.virustotal.com/file/ebe37e58ad73be76b4178d8b99d64c6505909113a9c3820f4aa2444bb551ef09/analysis/1583622308/ … Threat: Trojan:Win32/Wacatac.C!ml  (Microsoft)\n",
      "1236535465332879360 2020-03-07 22:13:23 Pacific Daylight Time <omanimo> VirusTotal is not an Incident Responder by @ruddawg26 https://link.medium.com/NB1Mthqao4 \n",
      "1236530449285033984 2020-03-07 21:53:27 Pacific Daylight Time <CKsTechNews> Fileless BTC miner increasingly on the rise  VirusTotal example (ps.bat) ecc827b8ea9f0d115594d81862c794bb4a27492ef8fe18e5e952ebcd18cddd79  pic.twitter.com/cpL40hYtSZ\n",
      "1236486323151630336 2020-03-07 18:58:06 Pacific Daylight Time <littlebear_6w6> #技術書典 で買おうと思っていた書籍が届きました！  @malr1na さん著の『Vt:ゼロから始める偵察活動』！  何となく触っていたVirusTotalのサービスを理解するために勉強します(^-^)v  pic.twitter.com/kX6h5NIdaa\n",
      "1236480583527620610 2020-03-07 18:35:18 Pacific Daylight Time <bad_packets> Active DDoS malware payload detected:  http://121.226.153.162:57131/Mozi.m  VirusTotal URL detections: 0 ( https://www.virustotal.com/gui/url/9cf77812b811a3ce1d03fbb07fa7bb47b6311e731fb8009865621a3c04ea77b7/details …)  Exploit attempt source IP: 121.226.153.162 (🇨🇳)  Vulnerability exploited: Netgear router RCE ( https://kb.cert.org/vuls/id/582384/ ) #threatintel pic.twitter.com/4eJJmvKfkJ\n",
      "1236471967236014080 2020-03-07 18:01:04 Pacific Daylight Time <computeramade> Kostenloser Virenscanner: Android-App bringt Googles starken VirusTotal-Scanner auf das... - GoogleWatchBlog  http://dlvr.it/RRSL4C  Smartphone Kurt pic.twitter.com/GacMLPAut9\n",
      "1236440427160461314 2020-03-07 15:55:44 Pacific Daylight Time <FF_Freak> I would virustotal that link... I mean I'm not at bsides.. So my entertainment is limited to virus totaling things. Cool find and hope you all are having a great time (no real need to virus total)\n",
      "1236436476298252296 2020-03-07 15:40:02 Pacific Daylight Time <HeliosCert> Sample analysed on #virustotal VirusTotal-Score: 55 VirusTotal:  https://www.virustotal.com/file/dea4ce38b0d4002c80c7c048ae5052c37b8969a65b73735212b32d0f1652f7c8/analysis/1570179405/ … Threat: Ransom:Win32/CVE-2017-0147.A  (Microsoft)\n",
      "1236431445301870592 2020-03-07 15:20:03 Pacific Daylight Time <HeliosCert> Sample analysed on #virustotal VirusTotal-Score: 10 VirusTotal:  https://www.virustotal.com/file/82c0a4e0882fde3fd22d8296a5d4de2fecb6fff3eedf1f622fc2f771819c6c68/analysis/1583619307/ … Threat:\n",
      "1236431051536228352 2020-03-07 15:18:29 Pacific Daylight Time <opcode_raeg> Yeah, my packer is tagged as fuck now. You just cannot win. Tho that won't stop me coding it purely for fun tho.\n",
      "1236416754005532672 2020-03-07 14:21:40 Pacific Daylight Time <Abo_Ameera1424> If the hash on Virustotal matches the hash published on the official site, they should blame Virustotal instead of you. Please check.\n",
      "1236409078861017089 2020-03-07 13:51:10 Pacific Daylight Time <NationalCyberS1> Xencrypt:-- A #PowerShell #script #antivirus #Evasion #tools. 1. #Bypasses #AMSI and all modern #AVs in use on #VirusTotal (as of writing)  #Download #Link:-  https://github.com/the-xentropy/xencrypt … #infosec #security #Malware #cybersecurity #cybersec #Hackers #technology pic.twitter.com/RuI8q9ydQ9\n",
      "1236389869762613253 2020-03-07 12:34:50 Pacific Daylight Time <yourcompanionAI> similar group to the one that gets antsy whenever you point out \"appeared on VirusTotal\" ≠ \"in the wild\"\n",
      "1236381662432329730 2020-03-07 12:02:13 Pacific Daylight Time <PrubanSchmidt> Kostenloser Virenscanner: Android-App bringt Googles starken VirusTotal-Scanner auf das Smartphone  https://ift.tt/3cHWbKj \n",
      "1236374407980998658 2020-03-07 11:33:24 Pacific Daylight Time <Asura1508> Kostenloser Virenscanner: Android-App bringt Googles starken VirusTotal-Scanner auf das Smartphone  https://ift.tt/3cHWbKj \n",
      "1236369983174782978 2020-03-07 11:15:49 Pacific Daylight Time <googlewatchblog> Google betreibt seit vielen Jahren den extrem starken, aber kaum bekannten, Virenscanner VirusTotal. Dieser lässt sich mit einer kostenlosen Android-App auch auf dem Smartphone nutzen.  https://www.googlewatchblog.de/2020/03/kostenloser-virenscanner-android-app/ … pic.twitter.com/eOVLFjXXhC\n",
      "1236341508741017601 2020-03-07 09:22:40 Pacific Daylight Time <kichpeach1> @VB_Audio I checked your program with virustotal but Antiy 161 ms 2020-03-07 Trojan/Win32.Swrort   can you check that? or contact with them?\n",
      "1236321241402945539 2020-03-07 08:02:08 Pacific Daylight Time <Wuolah> :(\n",
      "1236300783269838848 2020-03-07 06:40:50 Pacific Daylight Time <cadirneca> Aquí los requisitos de inscripción para la primera edición, que salvo cambios de última hora (lo dudo) serán los mismos que para la segunda:  https://www.titulacionespropias.uma.es/informacion_curso.php?id_curso=6902960 …\n",
      "1236247619497865216 2020-03-07 03:09:35 Pacific Daylight Time <cbrocas> sent :) Thx a lot for the help!\n",
      "1236245082925301760 2020-03-07 02:59:30 Pacific Daylight Time <cbrocas> Thanks a lot Victor (and Raghla!) for the support! Will send you an email with all the details :)\n",
      "1236241462259523584 2020-03-07 02:45:07 Pacific Daylight Time <eduardomanchon> 😂😂😂 disfruta\n",
      "1236240589244506113 2020-03-07 02:41:39 Pacific Daylight Time <plusvic> You can write me to vmalvarez [at]  virustotal with more  details and I'll look into it.\n",
      "1236228472277737472 2020-03-07 01:53:30 Pacific Daylight Time <wbtsec> The Anaconda Python IDE tosses up a CRDF Malicious alert at VirusTotal. Even though it doesn't infect the user's OS it should be addressed.  .@firstdraftnews @anacondainc  https://www.virustotal.com/gui/url/14109cccb0d058bdbba9094559b141720af7876ea54c44f63d914b63f0ce99c0/detection … https://twitter.com/secou/status/1236177384979775488 …\n",
      "1236206877693956097 2020-03-07 00:27:41 Pacific Daylight Time <J0SM1> Buenas, hay detalles de la primera edición? Es abierto? Algún requisito para apuntarse? Temario? Gracias!\n",
      "1236174447566086144 2020-03-06 22:18:49 Pacific Daylight Time <W4nn4Die> Uy uy, habrá que estar al tanto jeje\n"
     ]
    },
    {
     "name": "stdout",
     "output_type": "stream",
     "text": [
      "1236119194523103232 2020-03-06 18:39:16 Pacific Daylight Time <f3ll3y> 📃 \"Conoce estas 5 herramientas para no entrar en páginas maliciosas\"  https://www.redeszone.net/tutoriales/seguridad/herramientas-detectar-sitios-web-maliciosos/ … 🛠 Sucuri  https://sitecheck.sucuri.net/  🛠 PCRisk  https://scanner.pcrisk.com/  🛠 MyWOT  https://chrome.google.com/webstore/detail/wot-web-of-trust-website/bhmmomiinigofkjcapegjjndpbikblnp … 🛠 URLVoid  https://www.urlvoid.com/  🛠 VirusTotal  https://www.virustotal.com/gui/home/url \n",
      "1236083366568570881 2020-03-06 16:16:54 Pacific Daylight Time <CarlosThepap>  http://amzn.to/2tKdzwp  UVC Lamp #coronavirususa #corona #cornonaviruschina #virusoutbreak #VirusCorona #VirusThreatInCamps #virus #VirusWuhan #viruscoronachina #virustotal #coronaviruswuhan #ChinaCoronaVirus #China #ChinaCoronaVirus #COVID19 #Covid19usa #COVIDー19\n",
      "1236070054439071749 2020-03-06 15:24:00 Pacific Daylight Time <manugut> Jajajajaja debería haber separado en dos tweets 🤦🏻‍♂️  Por un lado empresas andaluzas y por el otro lado grandes referentes tecnológicos de España.   Es que aquí en Alicante tenéis mucho mucho talento.  Hoy estuve con el amigo @antor En el Instituto de Inteligencia Artficial 😁\n",
      "1236067644245028864 2020-03-06 15:14:26 Pacific Daylight Time <xifumi> @plusvic might be able to find someone :)\n",
      "1236064023134842882 2020-03-06 15:00:02 Pacific Daylight Time <HeliosCert> Sample analysed on #virustotal VirusTotal-Score: 56 VirusTotal:  https://www.virustotal.com/file/08c0209ce6617b4737872ac19223aacd84a752b8f4b013823ac6107f7f1d74ab/analysis/1583527511/ … Threat:  http://TrojanSpy.Win32.MOCRT.SM   (TrendMicro)\n",
      "1236057342074118150 2020-03-06 14:33:29 Pacific Daylight Time <PELock> Modern #antivirus industry - tagging EVERYTHING as malicious just to get more scores & scare users.  Known tool ProcessHacker tagged 20/72 detection on @virustotal  https://www.virustotal.com/gui/file/70211a3f90376bbc61f49c22a63075d1d4ddd53f0aefa976216c46e6ba39a9f4/detection … @cylanceinc @kaspersky @TrendMicro @SophosLabs   What's next, detecting Regedit as malware? pic.twitter.com/MOFA515B4q\n",
      "1236049036764905472 2020-03-06 14:00:29 Pacific Daylight Time <cbrocas> problem :)\n",
      "1236048421032783872 2020-03-06 13:58:02 Pacific Daylight Time <jlcasal> No perdáis de vista tampoco @taalentfy y a su CEO @alejandroglez.\n",
      "1236043139820945409 2020-03-06 13:37:03 Pacific Daylight Time <cadirneca> Ya se ha aprobado la II Edición del Título de Experto en Ingeniería Inversa e Inteligencia #Malware!! @nics_lab y @virustotal. Pronto daremos más detalles, incluyendo el programa actualizado... más horas y un nuevo docente en nuestras filas, bienvenido @entdark_!!! https://twitter.com/gerardofn/status/1154388858433351680 …\n",
      "1236041171123781633 2020-03-06 13:29:14 Pacific Daylight Time <CarlosThepap>  http://amzn.to/2tKdzwp  UVC Lamp  #coronavirususa #corona #cornonaviruschina #virusoutbreak #VirusCorona #VirusThreatInCamps #virus #VirusWuhan #viruscoronachina #virustotal #coronaviruswuhan #ChinaCoronaVirus #China #ChinaCoronaVirus #COVID19 #Covid19usa #COVIDー19\n",
      "1236025112391864320 2020-03-06 12:25:25 Pacific Daylight Time <polaritybrowser> I can assure you there isn't anything malicious. Unfortunately, it seems they are doing a blanket sweep on applications that are not \"popular\" with threats.\n",
      "1235990333097308160 2020-03-06 10:07:13 Pacific Daylight Time <xifumi> pb?\n",
      "1235987061620039684 2020-03-06 09:54:13 Pacific Daylight Time <cbrocas> Dear TI/DFIR friends, any clue about a potential pb at @virustotal with account reset password email sending or email for account activation? Zero email received on 2 different email addresses from 2 different providers several hours after request :-/ Thx in advance!\n",
      "1235979573956878336 2020-03-06 09:24:28 Pacific Daylight Time <CarlosThepap>  http://amzn.to/2tKdzwp  UVC Lamp #coronavirususa #coronavirus #cornonaviruschina #virusoutbreak #VirusCorona #VirusThreatInCamps #virus #VirusWuhan #viruscoronachina #virustotal #coronaviruswuhan #ChinaCoronaVirus #China #ChinaCoronaVirus #COVID19 #Covid19usa #COVIDー19\n",
      "1235978459031232514 2020-03-06 09:20:02 Pacific Daylight Time <HeliosCert> Sample analysed on #virustotal VirusTotal-Score: 29 VirusTotal:  https://www.virustotal.com/file/72f4256f3e689f4d90727072c031c7adccdd3638c267ea360a481370cc085a12/analysis/1583478010/ … Threat: Backdoor:MSIL/Bladabindi  (Microsoft)\n",
      "1235975853793628161 2020-03-06 09:09:41 Pacific Daylight Time <SQLInterstellar> Okay fine. BTW Virustotal is free\n",
      "1235975644166709248 2020-03-06 09:08:51 Pacific Daylight Time <NotRaghav2_0> Let it be Sir... I have found a Malayalam movie... I will watch that.. I don't even have virustotal☺️Thank you though.. 🙏\n",
      "1235974954182529024 2020-03-06 09:06:07 Pacific Daylight Time <SQLInterstellar> DMing you one link. The first step is:  just scan that link using virustotal and the second step is please don't share it with anyone. Okay?\n",
      "1235955279138783233 2020-03-06 07:47:56 Pacific Daylight Time <eduardomanchon> Eh, eh, eh, imperialista, no tan rápido, que el Cuenca, aunque se haya aficinado a los espetos \"eh de Coh\". Y el collar de explosivos de Torrubia peta si no tiene cerca donde comer Coca Antoñina.\n",
      "1235931744915910658 2020-03-06 06:14:25 Pacific Daylight Time <manugut> 👇🔝 Startups Andalucía  @besoccer_ES @Freepik_Vectors @GeneraGames @GlampingHub @UniversalDX @virustotal @Uptodown_es  Y de paso os dejo tres referentes a los que seguir:  @bquintero @cuenca @antor https://www.elmundo.es/andalucia/2020/02/27/5e581ca2fc6c83782a8b45d5.html …\n",
      "1235917842333212679 2020-03-06 05:19:10 Pacific Daylight Time <tjluoma> @atpfm #followup @siracusa talked about login items not showing up in “Login Items”.  Only way I know to see everything that launches at login is “KnockKnock” by @patrickwardle  It also looks at VirusTotal to check for malware but it’s handy just as info.   https://objective-see.com/products/knockknock.html …\n",
      "1235901700399120386 2020-03-06 04:15:01 Pacific Daylight Time <HeliosCert> Sample analysed on #virustotal VirusTotal-Score: 46 VirusTotal:  https://www.virustotal.com/file/a26ce6d5aa6f892cae96172ea867527828ea6c483b693945af203c3a1852c141/analysis/1583434209/ … Threat: Backdoor:MSIL/Bladabindi.B  (Microsoft)\n",
      "1235899902514913280 2020-03-06 04:07:53 Pacific Daylight Time <CarlosThepap>  http://amzn.to/2tKdzwp  UVC Lamp  virus #coronavirususa #coronavirus #cornonaviruschina #virusoutbreak #VirusCorona #VirusThreatInCamps #virus #VirusWuhan #viruscoronachina #virustotal #coronaviruswuhan #ChinaCoronaVirus #China #ChinaCoronaVirus #COVID19 #Covid19usa #COVIDー19\n",
      "1235871555290312705 2020-03-06 02:15:14 Pacific Daylight Time <jonasl> Ny intressant makro-attack mot Excel som använder Excel 4 makron. VirusTotal score på 0/60, via @sans_isc pic.twitter.com/lRIPFOGXv9\n",
      "1235862495614529538 2020-03-06 01:39:14 Pacific Daylight Time <SATINFOSL> Informes de los Preanalisis de VirusTotal sobre nuevas muestras que pasaremos a controlar con EliStarA 43.09  https://ift.tt/3cB3jIr \n",
      "1235823573018628097 2020-03-05 23:04:34 Pacific Daylight Time <StratosphereIPS> The new version of Stratosphere Linux IPS (SLIPS) was designed to be highly modular. Anyone can write new modules to expand SLIPS capabilities. In this blog post we show how to write a simple module to enrich the output using @virustotal information.  https://buff.ly/2TCPwIy  pic.twitter.com/XYo9IzpIxT\n",
      "1235819911911366656 2020-03-05 22:50:02 Pacific Daylight Time <HeliosCert> Sample analysed on #virustotal VirusTotal-Score: 46 VirusTotal:  https://www.virustotal.com/file/c7ec43a85dbbd04df3b77d02a6aff58a1494facbce42b032a693087db40ea3a3/analysis/1583434810/ … Threat: Backdoor:MSIL/Bladabindi.B  (Microsoft)\n",
      "1235799138622525440 2020-03-05 21:27:29 Pacific Daylight Time <Cat08Chaos> guys, i am not sure i can trust this twitter page.  when going onto the link of this page, not just that mcafee is stopping but also after entering the link into virustotal, it results came out saying it's a phishing website.  be careful folks!  pic.twitter.com/9t6FNpDD7k\n",
      "1235751941700911104 2020-03-05 18:19:56 Pacific Daylight Time <bistarai785> VirusTotalオンライン・マルウェアスキャナを紹介 51種類のアンチウィルス製品を総合的に駆使して、 ウェブサイトやファイルのマルウェア感染を スキャンするツール  PC、モバイル端末、ブラウザのアドオンに対応  VirusTotalの運営スポンサーはGoogle。無料で利用可。   https://bistarai.info/archives/1089  https://twitter.com/samezonBlog/status/1235745397328343040 …\n"
     ]
    },
    {
     "name": "stdout",
     "output_type": "stream",
     "text": [
      "1235734835668439040 2020-03-05 17:11:58 Pacific Daylight Time <CarlosThepap>  http://amzn.to/2tKdzwp    UVC Lamp   #coronavirususa #coronavirus #cornonaviruschina #virusoutbreak #VirusCorona #VirusThreatInCamps #virus #VirusWuhan #viruscoronachina #virustotal #coronaviruswuhan #ChinaCoronaVirus #China #ChinaCoronaVirus #COVID19 #Covid19usa #COVIDー19\n",
      "1235724185634131968 2020-03-05 16:29:39 Pacific Daylight Time <intisariforlyfe> Aman terbebas dari virus kok, coba disable dulu AVnya. Trus scan file exenya pakai VirusTotal.\n",
      "1235713099677814785 2020-03-05 15:45:36 Pacific Daylight Time <T5_D6> virustotal افضل منه\n",
      "1235709183619747841 2020-03-05 15:30:02 Pacific Daylight Time <HeliosCert> Sample analysed on #virustotal VirusTotal-Score: 44 VirusTotal:  https://www.virustotal.com/file/6ccafcf59d7cb00cac7f491d96188f2d8d08fafef5f02e5d947162c6d309ad2b/analysis/1583403912/ … Threat: Trojan.MSIL.KILLREVRUN.SMJM09  (TrendMicro)\n",
      "1235704149611855875 2020-03-05 15:10:02 Pacific Daylight Time <HeliosCert> Sample analysed on #virustotal VirusTotal-Score: 44 VirusTotal:  https://www.virustotal.com/file/6ba563174ba2887b5a2557c19c99be673cbe91010620670e1d7d26c71a012980/analysis/1583405410/ … Threat: Trojan:Win32/Wacatac.D!ml  (Microsoft)\n",
      "1235694083152191488 2020-03-05 14:30:02 Pacific Daylight Time <HeliosCert> Sample analysed on #virustotal VirusTotal-Score: 43 VirusTotal:  https://www.virustotal.com/file/0356d9192ce85886661f161524142a4b18ef7348f13332f6a5165139193d8ef8/analysis/1583405108/ … Threat: Trojan:Win32/Wacatac.D!ml  (Microsoft)\n",
      "1235680767834898433 2020-03-05 13:37:07 Pacific Daylight Time <zenitrame> Suggestion: when missing, calculate imphash and ssdeep and open up browser against VT Intelligence search to find other variants that might be in VT.\n",
      "1235666403916738561 2020-03-05 12:40:02 Pacific Daylight Time <HeliosCert> Sample analysed on #virustotal VirusTotal-Score: 0 VirusTotal:  https://www.virustotal.com/file/6b46ba4a3fc92f8fea1d1bf777aab927b747e64b007b19e27d04c1cc332fe8ec/analysis/1583432406/ … Threat:\n",
      "1235654903692918784 2020-03-05 11:54:21 Pacific Daylight Time <Ledtech3> I guess that is better than the \"Failed\" message ??\n",
      "1235652561501327362 2020-03-05 11:45:02 Pacific Daylight Time <HeliosCert> Sample analysed on #virustotal VirusTotal-Score: 27 VirusTotal:  https://www.virustotal.com/file/8622d914b621a6d4a64cfd5c97917ef2d6d8d83064bb35a5d8391f0bdd3b7b47/analysis/1583419474/ … Threat: Backdoor:MSIL/Revetrat.A!bit  (Microsoft)\n",
      "1235652407343878149 2020-03-05 11:44:25 Pacific Daylight Time <ochsenmeier> fyi, now #pestudio shows the message originating from @virustotal when a #Malware sample does not exist in the repository pic.twitter.com/mSQeHEDzZm\n",
      "1235636717471686657 2020-03-05 10:42:05 Pacific Daylight Time <ChandrasekharMu> @Britec09 Sir I thought of shifting from WinRaR to 7zip, so I downloaded the 64bit version installer of 7zip & scanned the file on virustotal before installing. Virustotal detected malware in the installer. What Should I do sir? Please help.  pic.twitter.com/c4qHSeM1tr\n",
      "1235634871910965248 2020-03-05 10:34:45 Pacific Daylight Time <CarlosThepap>  http://amzn.to/2tKdzwp    UVC Lamp #coronavirususa #coronavirus #cornonaviruschina #virusoutbreak #VirusCorona #VirusThreatInCamps #virus #VirusWuhan #viruscoronachina #virustotal #coronaviruswuhan #ChinaCoronaVirus #China #ChinaCoronaVirus #COVID19 #Covid19usa #COVIDー19\n",
      "1235625240853651458 2020-03-05 09:56:28 Pacific Daylight Time <WeldPond> Bigness is a detection bypass. \"The dropper also appends 80MB of binary data at the end of the Bisonal binary, which Talos suspects may be an anti-analysis technique to combat tools and sandboxes with size restrictions, such as the VirusTotal API\"  https://www.zdnet.com/article/chinese-hackers-use-decade-old-bisonal-trojan-to-strike-russian-targets/ …\n",
      "1235601467781730305 2020-03-05 08:22:00 Pacific Daylight Time <LucaBongiorni> Someone will write a schedule job that  check for commits and automatically push the execs to VirusTotal... 🤪  pic.twitter.com/rmRQCLsFv4\n",
      "1235582098053844993 2020-03-05 07:05:02 Pacific Daylight Time <HeliosCert> Sample analysed on #virustotal VirusTotal-Score: 58 VirusTotal:  https://www.virustotal.com/file/30f64c712c4a49dd03cdecb8b7adc78b4a345eb3588868026e02635c9ff97902/analysis/1581181802/ … Threat: TROJ_DLOADER.THBOFH  (TrendMicro)\n",
      "1235578323561922561 2020-03-05 06:50:02 Pacific Daylight Time <HeliosCert> Sample analysed on #virustotal VirusTotal-Score: 55 VirusTotal:  https://www.virustotal.com/file/8ceb370e5f32dd732809c827f8eda38cc9b746d40adea3dca33b8c27ee38eb6f/analysis/1579182930/ … Threat: TROJ_DLOADR.AUSUDG  (TrendMicro)\n",
      "1235573513643266049 2020-03-05 06:30:56 Pacific Daylight Time <CarlosThepap>  http://amzn.to/2tKdzwp  UVC Lamp #coronavirususa #coronavirus #cornonaviruschina #virusoutbreak #VirusCorona #VirusThreatInCamps #virus #VirusWuhan #viruscoronachina #virustotal #coronaviruswuhan #ChinaCoronaVirus #China #ChinaCoronaVirus #COVID19 #Covid19usa #COVIDー19\n",
      "1235559447294029824 2020-03-05 05:35:02 Pacific Daylight Time <HeliosCert> Sample analysed on #virustotal VirusTotal-Score: 57 VirusTotal:  https://www.virustotal.com/file/15005820e628c7ffeb245bfc4ce91797b1976847017c72fec362b688cc214c0d/analysis/1583408108/ … Threat: BKDR_NOANCOOE.SM  (TrendMicro)\n",
      "1235558187769532417 2020-03-05 05:30:02 Pacific Daylight Time <HeliosCert> Sample analysed on #virustotal VirusTotal-Score: 0 VirusTotal:  https://www.virustotal.com/file/df64928574c024a445dd382885d84a6fef57080a0f5fb640e2de7aee69482c44/analysis/1578115022/ … Threat:\n",
      "1235543090158612480 2020-03-05 04:30:02 Pacific Daylight Time <HeliosCert> Sample analysed on #virustotal VirusTotal-Score: 0 VirusTotal:  https://www.virustotal.com/file/0085089ae2b849620a14900178ea0adc2bbcfdfe50152652ca43f6ab9fadaee7/analysis/1583407139/ … Threat:\n",
      "1235541078247276544 2020-03-05 04:22:02 Pacific Daylight Time <especialistase6> Informes de los preanalisis de virustotal sobre nuevas muestras que pasaremos a controlar con elistara 43.08  http://dlvr.it/RRHwYf  | Interesante\n",
      "1235527989896417286 2020-03-05 03:30:02 Pacific Daylight Time <Zprof2> AnyRun、いちいち自分で仮想環境用意せんでも怪しいファイル動かして学習できるのめちゃ良いな これからVirusTotalより重宝するかもしれん\n",
      "1235504868913278978 2020-03-05 01:58:09 Pacific Daylight Time <SATINFOSL> Informes de los Preanalisis de VirusTotal sobre nuevas muestras que pasaremos a controlar con EliStarA 43.08  https://ift.tt/2TxUIgQ \n",
      "1235444609221898241 2020-03-04 21:58:42 Pacific Daylight Time <historiade> Cuando todo falla, utiliza VirusTotal  https://wp.me/p1qyfB-jP0  vía @fabriciano\n",
      "1235442426724024320 2020-03-04 21:50:02 Pacific Daylight Time <HeliosCert> Sample analysed on #virustotal VirusTotal-Score: 57 VirusTotal:  https://www.virustotal.com/file/b774cbd9f4e983108d0ae4caf26218b798cac1e76caf520efb662e482358b69e/analysis/1565424914/ … Threat: Ransom_WCRY.THBOGH  (TrendMicro)\n",
      "1235412225977876480 2020-03-04 19:50:02 Pacific Daylight Time <HeliosCert> Sample analysed on #virustotal VirusTotal-Score: 0 VirusTotal:  https://www.virustotal.com/file/6e07a7ed4750275b2d8ebea80888e397f03941c678e934adae3625e7d6fd205a/analysis/1583329213/ … Threat:\n",
      "1235394613030117376 2020-03-04 18:40:02 Pacific Daylight Time <HeliosCert> Sample analysed on #virustotal VirusTotal-Score: 64 VirusTotal:  https://www.virustotal.com/file/b91defce09e432733fb78a296fb776b53fbb6e6cc636c8bbfa0152f32a8ec677/analysis/1583346873/ … Threat: BKDR_BLADABI.SMC  (TrendMicro)\n",
      "1235383632531017728 2020-03-04 17:56:24 Pacific Daylight Time <CarlosThepap>  http://amzn.to/2tKdzwp   UVC Lamp   #coronavirususa #coronavirus #cornonaviruschina #virusoutbreak #VirusCorona #VirusThreatInCamps #virus #VirusWuhan #viruscoronachina #virustotal #coronaviruswuhan #ChinaCoronaVirus #China #ChinaCoronaVirus #COVID19 #Covid19usa #COVIDー19\n",
      "1235328716714250240 2020-03-04 14:18:12 Pacific Daylight Time <EyeHaveYou5> Tenemos la opción de mandarle un mensaje al rumano y preguntarle, oye tío para que haces esto, si es un cibermalo  enrollado a lo mejor nos lo explica. 😂🤣😂\n",
      "1235328060519518208 2020-03-04 14:15:35 Pacific Daylight Time <seguridadyredes> Date cuenta, también, y hablo de memoria, que un proveedor u organización, puede tener su propio ASN. Te lo comento por lo que dices de virustotal.\n",
      "1235327673779589120 2020-03-04 14:14:03 Pacific Daylight Time <laMar_s> Cuando todo falla, utiliza VirusTotal  http://dlvr.it/RRG2yk  Batiburrillo – De todo un poco @fabriciano pic.twitter.com/Oyr3cFnNua\n",
      "1235327187642966016 2020-03-04 14:12:07 Pacific Daylight Time <cibernicola_es> Teniendo en cuenta que está jugando con la ip, y engañando al honeypot, la cosa se pone interesante.\n",
      "1235326306168057862 2020-03-04 14:08:37 Pacific Daylight Time <EyeHaveYou5> Hay una cosa que no entiendo (delata mis pocos conocimientos) Te has fijado q abre el,  /proc/net/route  seguramente para esta intentando redirigir todo el  trafico a la  ip 93.*.*.179 ¿pero para que hacer eso si con el wget descarga y ejecuta el troyano?\n",
      "1235325739370713090 2020-03-04 14:06:22 Pacific Daylight Time <cibernicola_es> dejo esto por aqui  https://www.virustotal.com/gui/ip-address/93.114.82.179/relations …\n",
      "1235324080028618756 2020-03-04 13:59:46 Pacific Daylight Time <cibernicola_es> vale, via virustotal, el ASN de esa IP cambia   https://www.virustotal.com/gui/ip-address/93.114.82.179/details …  ¿es una trampa para la trampa?\n",
      "1235322358904377346 2020-03-04 13:52:56 Pacific Daylight Time <cibernicola_es> a la segunda ha pillado el hash de la subida original de ayer, pero el primer report ha mutado a algo sin sentido\n",
      "1235322132084805634 2020-03-04 13:52:02 Pacific Daylight Time <cibernicola_es> lo curioso es eso, que ambos reportes son del mismo archivo, subidos dos veces !:!\n"
     ]
    },
    {
     "name": "stdout",
     "output_type": "stream",
     "text": [
      "1235321400392593411 2020-03-04 13:49:07 Pacific Daylight Time <EyeHaveYou5> En el de antes si, el de ahora es este pic.twitter.com/SCl7ituS6p\n",
      "1235320712811995137 2020-03-04 13:46:23 Pacific Daylight Time <cibernicola_es> pero es que este lo he resubido ahora :S arg, o estoy ya cansado o no sé que ha pasado -_-\n",
      "1235320546117775363 2020-03-04 13:45:43 Pacific Daylight Time <cibernicola_es> no lo entiendo xD Ves esto en el report? pic.twitter.com/iMtrSQZlWF\n",
      "1235320197013262343 2020-03-04 13:44:20 Pacific Daylight Time <EyeHaveYou5> ahora ya tiene más sentido la cosa. XDDD\n",
      "1235319983418286086 2020-03-04 13:43:29 Pacific Daylight Time <EyeHaveYou5> En tu report - DETAILS - Names y pulsas en el desplegable. Lo q más raruno me parece es el tamaño.  File size 0 B (0 bytes) hara un wget e intentara ejecutar el malware supongo. ¿no?\n",
      "1235319831920029696 2020-03-04 13:42:53 Pacific Daylight Time <cibernicola_es> no entiendo nada,  https://www.virustotal.com/gui/file/97a16377dbadee33941b84d7d3b4a5dceb90360d282b1fd67e06b67355ea0cbe/community …\n",
      "1235318146388680705 2020-03-04 13:36:11 Pacific Daylight Time <cibernicola_es> !_! dónde lo has visto?  El report que subí hace un rato ha \"mutado\" :S\n",
      "1235316905096990724 2020-03-04 13:31:15 Pacific Daylight Time <EyeHaveYou5> wtf van a pillar los cabrones 😂🤣😂🤣 pic.twitter.com/BscOl5smxW\n",
      "1235313747692007433 2020-03-04 13:18:43 Pacific Daylight Time <cibernicola_es> No lo dudemos no....  \"The T-Sec Radar shows cyber attacks happening worldwide on our and our partners' honeypot infrastructure.\"   https://sicherheitstacho.eu/start/main  pic.twitter.com/yrCIkK9n8p\n",
      "1235312306587869186 2020-03-04 13:12:59 Pacific Daylight Time <EyeHaveYou5> Q interesante gracias por compartirlo, enseñar estas cosas ayudan muchísimo a concienciarnos de la jungla a la q exponemos nuestros equipos.\n",
      "1235311327570251777 2020-03-04 13:09:06 Pacific Daylight Time <cibernicola_es> El script que descarga contiene esto: me ha dado por bajar el exe y echarle un ojo con @virustotal ->  https://www.virustotal.com/gui/file/e3b0c44298fc1c149afbf4c8996fb92427ae41e4649b934ca495991b7852b855/behavior/VirusTotal …  o es una chorrada o no lo es :S si te apetece echar un ojo... pic.twitter.com/9aDlaMcSfF\n",
      "1235306110661332997 2020-03-04 12:48:22 Pacific Daylight Time <notasbit> Cuando todo falla, utiliza VirusTotal  https://www.notasbit.com/item/cuando-todo-falla-utiliza-virustotal-sospechas-que/ …\n",
      "1235300511181664257 2020-03-04 12:26:07 Pacific Daylight Time <CarlosThepap>  http://amzn.to/2tKdzwp    UVC Lamp #coronavirususa #coronavirus #cornonaviruschina #virusoutbreak #VirusCorona #VirusThreatInCamps #virus #VirusWuhan #viruscoronachina #virustotal #coronaviruswuhan #ChinaCoronaVirus #China #ChinaCoronaVirus #COVID19 #Covid19usa #COVIDー19\n",
      "1235289858270277633 2020-03-04 11:43:47 Pacific Daylight Time <NotAFile> Especially if your dropper is just going to dump a boring af banking trojan with 20 virustotal hits\n",
      "1235279140963614720 2020-03-04 11:01:12 Pacific Daylight Time <AdliceSoftware> Need a place to store your malware files, why not trying #MRF ? It has a nice UI and a lot of pre-analysis features (VirusTotal, PE/PDF/Office data extraction, BinImage, ...) Give a try to MRF:  https://www.adlice.com/download/mrf/  , or register to  https://malshare.io  for a public demo\n",
      "1235278439562858499 2020-03-04 10:58:25 Pacific Daylight Time <fabriciano> Cuando todo falla, utiliza VirusTotal  https://www.batiburrillo.net/cuando-falla-utiliza-virustotal/ … pic.twitter.com/1N9m8iLhQk\n",
      "1235278431203610624 2020-03-04 10:58:23 Pacific Daylight Time <Batiburrillonet> Cuando todo falla, utiliza VirusTotal  https://www.batiburrillo.net/cuando-falla-utiliza-virustotal/ … pic.twitter.com/yBqDEDMlGA\n",
      "1235235712670273537 2020-03-04 08:08:38 Pacific Daylight Time <CarlosThepap>  http://amzn.to/2tKdzwp    UVC Lamp   #coronavirususa #coronavirus #cornonaviruschina #virusoutbreak #VirusCorona #VirusThreatInCamps #virus #VirusWuhan #viruscoronachina #virustotal #coronaviruswuhan #ChinaCoronaVirus #China #ChinaCoronaVirus #COVID19 #Covid19usa #COVIDー19\n",
      "1235212932654432257 2020-03-04 06:38:06 Pacific Daylight Time <majorgeeks> I dream of the day that *some* people learn how #VirusTotal works.  pic.twitter.com/3tzip4QV8F\n",
      "1235199574379290626 2020-03-04 05:45:02 Pacific Daylight Time <HeliosCert> Sample analysed on #virustotal VirusTotal-Score: 27 VirusTotal:  https://www.virustotal.com/file/485cf5508c19b1fb136aad9c90c94decfa0ded8df8f51e78ccbce4a7d8bf0986/analysis/1583286983/ … Threat: Trojan:Win32/Wacatac.D!ml  (Microsoft)\n",
      "1235186233883664384 2020-03-04 04:52:01 Pacific Daylight Time <CarlosThepap>  http://amzn.to/2tKdzwp  UVC Lamp   #coronavirususa #coronavirus #cornonaviruschina #virusoutbreak #VirusCorona #VirusThreatInCamps #virus #VirusWuhan #viruscoronachina #virustotal #coronaviruswuhan #ChinaCoronaVirus #China #ChinaCoronaVirus #COVID19 #Covid19usa #COVIDー19\n",
      "1235177807791017985 2020-03-04 04:18:32 Pacific Daylight Time <especialistase6> Informes de los preanalisis de virustotal sobre nuevas muestras que pasaremos a controlar con elistara 43.07  http://dlvr.it/RRDB0K  | Interesante\n",
      "1235171274441162752 2020-03-04 03:52:34 Pacific Daylight Time <csirac2> Federated bioinformatics systems make me embarrassed for how we do things underpinning $trillions worth of economy - github - packaging - virustotal, stix etc. (srsly, biologists are the ultimate REs)  Fascinating to think what makes federation thrive/fail  https://mobile.twitter.com/AcaciaJoe/status/1235156625188630528 …\n",
      "1235165544061571074 2020-03-04 03:29:48 Pacific Daylight Time <nthcolumn> Sorry - do I understand this? Someone renaming a sample, submitting it virustotal and then claiming to have found a new variant?  pic.twitter.com/p6B8NLt79S\n",
      "1235163086920790021 2020-03-04 03:20:02 Pacific Daylight Time <HeliosCert> Sample analysed on #virustotal VirusTotal-Score: 56 VirusTotal:  https://www.virustotal.com/file/2e09f7bd717206781f6b57393c0d139128d110aa993662bd515924fc55754a98/analysis/1583250608/ … Threat: BKDR_BLADABI.SMC  (TrendMicro)\n",
      "1235150058796060672 2020-03-04 02:28:16 Pacific Daylight Time <SATINFOSL> Informes de los Preanalisis de VirusTotal sobre nuevas muestras que pasaremos a controlar con EliStarA 43.07  https://ift.tt/2TlJfSP \n",
      "1235138664679829505 2020-03-04 01:43:00 Pacific Daylight Time <tunecom_ru> Онлайн-антивирус VirusTotal предназначен анализировать подозрительные файлы и вызывающие сомнения сайты для быстрого обнаружения вирусов и других разновидностей вредоносных программ, позволяющий автоматически делиться результатами...    https://tunecom.ru/online-antivirus/546-virustotal.html … pic.twitter.com/rIxbFijCBJ\n",
      "1235130370401669121 2020-03-04 01:10:02 Pacific Daylight Time <HeliosCert> Sample analysed on #virustotal VirusTotal-Score: 62 VirusTotal:  https://www.virustotal.com/file/6e002a6348591672b1a422d3f55088557e7258b2ba14cbf38677259143ebaf48/analysis/1583274610/ … Threat: BKDR_BLADABI.SMC  (TrendMicro)\n",
      "1235013368060108800 2020-03-03 17:25:07 Pacific Daylight Time <taku888infinity> ウイルスチェックのつもりで情報漏えい？　VirusTotalの使い方に注意  https://www.itmedia.co.jp/enterprise/articles/1603/14/news104.html#utm_term=share_sp …  昔の記事ですが、ちょっと思うことがあったので共有。#にゃんたくメモ\n",
      "1235010167604989953 2020-03-03 17:12:23 Pacific Daylight Time <CarlosThepap>  http://amzn.to/2tKdzwp  UVC Lamp #coronavirususa #coronavirus #cornonaviruschina #virusoutbreak #VirusCorona #VirusThreatInCamps #virus #VirusWuhan #viruscoronachina #virustotal #coronaviruswuhan #ChinaCoronaVirus #China #ChinaCoronaVirus #COVID19 #Covid19usa #COVIDー19\n",
      "1234993611017576448 2020-03-03 16:06:36 Pacific Daylight Time <darks95> Could you upload the first files to virustotal ?, to know that the threat exists\n",
      "1234960993689595904 2020-03-03 13:57:00 Pacific Daylight Time <karimhamdanali> Security folks, do you know if somebody has correlated malware reports from the VirusTotal database to potential CVEs that such malware might have exploited. Does that info exists somewhere?\n",
      "1234956334858145797 2020-03-03 13:38:29 Pacific Daylight Time <AndaluzaJASP> Esos son los de @virustotal @bquintero @jcanto @angeladini @fcojsantos @antonioroman &co  \"Se aplaza porque algunos asistentes extranjeros tienen RESTRICCIONES para VIAJAR ✈ NO tiene que ver con la situación de Málaga respecto al Coronavirus CoVid-19\" https://twitter.com/bquintero/status/1234910406600163330?s=19 …\n",
      "1234953615623802880 2020-03-03 13:27:40 Pacific Daylight Time <CarlosThepap>  http://amzn.to/2tKdzwp    UVC Lamp   #coronavirususa #coronavirus #cornonaviruschina #virusoutbreak #VirusCorona #VirusThreatInCamps #virus #VirusWuhan #viruscoronachina #virustotal #coronaviruswuhan #ChinaCoronaVirus #China #ChinaCoronaVirus #COVID19 #Covid19usa #COVIDー19\n",
      "1234951692359258115 2020-03-03 13:20:02 Pacific Daylight Time <HeliosCert> Sample analysed on #virustotal VirusTotal-Score: 3 VirusTotal:  https://www.virustotal.com/file/0f0cd76103d3f2d5914f07cba916470767a6a43e60508b5b3602c1441072eb9d/analysis/1583258708/ … Threat:\n",
      "1234951258596937731 2020-03-03 13:18:18 Pacific Daylight Time <UnitedsoftO> VIRTUALWEBWARE WORKSTATION | The virtual machine for websites! We implemented the useful websites: VirusTotal and HaveIBeenPwned for a safer day in your online world!  #100DaysOfCode #Update #internet #infosec #cybersecurity #websecurity https://twitter.com/UnitedsoftO/status/1232475760654311424 …\n",
      "1234951217303842816 2020-03-03 13:18:09 Pacific Daylight Time <ntami73> ヘッダー情報を確認できるメーラー or アプリしょうか。 そこでなりすましは確認出来ます。  URLが手打ちできるなら virustotal 等のサイトでチェック。 まぁ、危険を伴うので開かないが正解かな。  ヘッダーごとメール転送出来るなら自分がチェックしても良いですが。\n"
     ]
    },
    {
     "name": "stdout",
     "output_type": "stream",
     "text": [
      "1234944975227572225 2020-03-03 12:53:20 Pacific Daylight Time <gatubit> Lo irónico es que Google tiene oficinas en Málaga porque compró Virustotal.  pic.twitter.com/b7zDmc2UVZ\n",
      "1234917742001651712 2020-03-03 11:05:08 Pacific Daylight Time <WTM_Malaga> 👉 @Mrs_DarkDonado is Software Engineer at @virustotal  Come at #IWD2020Malaga and get your hands dirty: learn how to create apps in the cloud! 🤯 #cloud #TogetherWeRise @WomenTechmakers pic.twitter.com/BobEANbMQY\n",
      "1234903749199630339 2020-03-03 10:09:31 Pacific Daylight Time <IT_securitynews> VirusTotal MultiSandbox += QiAnXin RedDrip: VirusTotal MultiSandbox += QiAnXin RedDrip Advertise on IT…  https://goo.gl/fb/zRYkGi  #infosec\n",
      "1234903311175864320 2020-03-03 10:07:47 Pacific Daylight Time <IT_securitynews> Official VirusTotal Plugin for IDA Pro 7: Official VirusTotal Plugin for IDA Pro 7 Advertise on IT…  https://goo.gl/fb/9MGgxo  #infosec\n",
      "1234903309909209095 2020-03-03 10:07:47 Pacific Daylight Time <IT_securitynews> VirusTotal MultiSandbox += BitDam ATP: VirusTotal would like to welcome BitDam to the multi-sandbox…  https://goo.gl/fb/W411Lf  #infosec\n",
      "1234894226934157314 2020-03-03 09:31:41 Pacific Daylight Time <dstadulis> FTAs: >the malware was uploaded to[...]VirusTotal[...]on June 13, 2018,[...]three hours after the app had been compiled. Within minutes, the file was marked as “Safe” by two community members: johnbroox200 (which matches the[...]WHOIS e-mail address) and waliydarwish222\n",
      "1234885163869442048 2020-03-03 08:55:40 Pacific Daylight Time <CarlosThepap>  http://amzn.to/2tKdzwp  UVC Lamp #coronavirususa #coronavirus #cornonaviruschina #virusoutbreak #VirusCorona #VirusThreatInCamps #virus #VirusWuhan #viruscoronachina #virustotal #coronaviruswuhan #ChinaCoronaVirus #China #ChinaCoronaVirus #COVID19 #Covid19usa #COVIDー19\n",
      "1234845885739257858 2020-03-03 06:19:36 Pacific Daylight Time <tr4cefl0w> Newest version of virustotal3, a Python 3 implementation of the latest @VirusTotal v3 API with support for Enterprise features is finally up on PyPI.  pip install virustotal3  https://pypi.org/project/virustotal3/ …  https://github.com/tr4cefl0w/virustotal3 … #Malware #DFIR #ThreatIntel #Security #ThreatHunting\n",
      "1234838586052239363 2020-03-03 05:50:35 Pacific Daylight Time <CarlosThepap>  http://amzn.to/2tKdzwp    UVC Lamp   #coronavirususa #coronavirus #cornonaviruschina #virusoutbreak #VirusCorona #VirusThreatInCamps #virus #VirusWuhan #viruscoronachina #virustotal #coronaviruswuhan #ChinaCoronaVirus #China #ChinaCoronaVirus #COVID19 #Covid19usa #COVIDー19\n",
      "1234813911041359872 2020-03-03 04:12:32 Pacific Daylight Time <especialistase6> Informes de los preanalisis de virustotal sobre nuevas muestras que pasaremos a controlar con elistara 43.06  http://dlvr.it/RR8TzM  | Interesante\n",
      "1234798183454212097 2020-03-03 03:10:03 Pacific Daylight Time <HeliosCert> Sample analysed on #virustotal VirusTotal-Score: 67 VirusTotal:  https://www.virustotal.com/file/88f6f20e3d2851adc879f033466ff3bdfa50e6975a1dc3a51da1bb55266994b5/analysis/1579201454/ … Threat: Ransom_WCRY.THBOGH  (TrendMicro)\n",
      "1234795166524985345 2020-03-03 02:58:03 Pacific Daylight Time <SATINFOSL> Informes de los Preanalisis de VirusTotal sobre nuevas muestras que pasaremos a controlar con EliStarA 43.06  https://ift.tt/3cquqFX \n",
      "1234786668651204609 2020-03-03 02:24:17 Pacific Daylight Time <RocioVerdeal> @recluising ok. Muchas gracias. Se lo enviamos\n",
      "1234782872994746368 2020-03-03 02:09:12 Pacific Daylight Time <recluising> Hola, podéis enviarme el caso de uso y vuestro entorno (SO, navegador) a reciomoran [at] virustotal . com  intentaremos reproducirlo e investigar el caso  un saludo\n",
      "1234780077495406597 2020-03-03 01:58:06 Pacific Daylight Time <RocioVerdeal> así es está fallando mucho... y hace un año y medio que funciona mal. desde que la actualizaron. también funciona mal el virustotal para navegadores antiguos. carga los archivos muy lento jamás termina de analizarlos. era mejor antes virustotal\n",
      "1234777832590577664 2020-03-03 01:49:11 Pacific Daylight Time <JuanMB58558124> @virustotal Está fallando, la página se recarga al analizar una archivo 🙁\n",
      "1234774157331697666 2020-03-03 01:34:34 Pacific Daylight Time <RocioVerdeal> porque #virustotal falla tanto? subis un archivo y se regresa a búsqueda de paginas  https://vk.com/video334288395_456240775 … vamos a tener que usar kapersky online al final como segunda opción....\n",
      "1234741555904286720 2020-03-02 23:25:01 Pacific Daylight Time <HeliosCert> Sample analysed on #virustotal VirusTotal-Score: 41 VirusTotal:  https://www.virustotal.com/file/a035c97a6615a8b045b2ecd7f30f1aac70d58d432c84f4616faeea49ea5a4ba7/analysis/1583198111/ … Threat: Trojan:Win32/Wacatac.C!ml  (Microsoft)\n",
      "1234691232271675392 2020-03-02 20:05:03 Pacific Daylight Time <Nahr3n> Xencrypt PowerShell Crypter v 1.0 - A PowerShell script anti-virus evasion tool: - bypasses AMSI and all modern AVs in use on VirusTotal (as of writing) - compresses and encrypts powershell scripts - randomizes variables   https://github.com/the-xentropy/xencrypt …\n",
      "1234650961836204032 2020-03-02 17:25:02 Pacific Daylight Time <HeliosCert> Sample analysed on #virustotal VirusTotal-Score: 0 VirusTotal:  https://www.virustotal.com/file/991ed18d3e0c01483076eddbc77d4df1a58d8252da76358abba77335bf3eb993/analysis/1583178215/ … Threat:\n",
      "1234647865366061057 2020-03-02 17:12:44 Pacific Daylight Time <CarlosThepap>  http://amzn.to/2tKdzwp  UVC Lamp #coronavirususa #coronavirus #cornonaviruschina #virusoutbreak #VirusCorona #VirusThreatInCamps #virus #VirusWuhan #viruscoronachina #virustotal #coronaviruswuhan #ChinaCoronaVirus #China #ChinaCoronaVirus #COVID19 #Covid19usa #COVIDー19\n",
      "1234614852234117120 2020-03-02 15:01:33 Pacific Daylight Time <HackingLZ> Take cool thing one from VirusTotal and smash it together with cool thing two from VT and whammy no AV/EDR/sandbox detections\n",
      "1234586638740852736 2020-03-02 13:09:26 Pacific Daylight Time <joshua_crigger> @yoroisecurity we've got a false positive on virustotal from you. Can you remedy this please?  http://tiny.cc/n7trkz \n",
      "1234577030064283648 2020-03-02 12:31:15 Pacific Daylight Time <CarlosThepap>  http://amzn.to/2tKdzwp  UVC Lamp   #coronavirususa #coronavirus #cornonaviruschina #virusoutbreak #VirusCorona #VirusThreatInCamps #virus #VirusWuhan #viruscoronachina #virustotal #coronaviruswuhan #ChinaCoronaVirus #China #ChinaCoronaVirus #COVID19 #Covid19usa #COVIDー19\n",
      "1234501726553636864 2020-03-02 07:32:02 Pacific Daylight Time <CarlosThepap>  http://amzn.to/2tKdzwp  UVC Lamp   #coronavirususa #coronavirus #cornonaviruschina #virusoutbreak #VirusCorona #VirusThreatInCamps #virus #VirusWuhan #viruscoronachina #virustotal #coronaviruswuhan #ChinaCoronaVirus #China #ChinaCoronaVirus #COVID19 #Covid19usa #COVIDー19\n",
      "1234492417795117056 2020-03-02 06:55:02 Pacific Daylight Time <HeliosCert> Sample analysed on #virustotal VirusTotal-Score: 40 VirusTotal:  https://www.virustotal.com/file/d85497f61b07d8f8cc30c3c66ab21883a0274c7a3e7bc982a3a622ca2eed39a4/analysis/1583129110/ … Threat: Trojan:Win32/Wacatac.C!ml  (Microsoft)\n",
      "1234492290837729282 2020-03-02 06:54:32 Pacific Daylight Time <44CON> (From  http://github.com ): VTSCAN - scan a malicious file from terminal using VirusTotal API  http://dlvr.it/RR5MQY \n",
      "1234473277529239553 2020-03-02 05:38:59 Pacific Daylight Time <RonW123> 5) Beware of clicking on shortened links. Know where they take you. Use @virustotal to check.  [The link below is safe goes to a @bbb_us news article with more information.😀] #scams #consumeralert #cybersecurity https://twitter.com/BBBAtlanta/status/1233126663308926976 …\n",
      "1234463475772088322 2020-03-02 05:00:02 Pacific Daylight Time <HeliosCert> Sample analysed on #virustotal VirusTotal-Score: 44 VirusTotal:  https://www.virustotal.com/file/21d1f5d2ad4ac80ac110333403909a91fe7094a91dc822400768cf10f8b346ec/analysis/1583091906/ … Threat: Trojan:Win32/Wacatac.C!ml  (Microsoft)\n",
      "1234458870371815424 2020-03-02 04:41:44 Pacific Daylight Time <n0ipr0cs> VirusTotal Blog: Uncovering threat infrastructure via URL, domain and IP address advanced pivots a.k.a. Netloc Intelligence  https://blog.virustotal.com/2020/02/uncovering-threat-infrastructure-via.html …\n",
      "1234450898950057985 2020-03-02 04:10:03 Pacific Daylight Time <especialistase6> Informes de los preanalisis de virustotal sobre nuevas muestras que pasaremos a controlar con elistara 43.05  http://dlvr.it/RR4rfq  | Interesante\n",
      "1234449451210592257 2020-03-02 04:04:18 Pacific Daylight Time <yang42763849> I see,Thank you for your answer\n",
      "1234444124419448832 2020-03-02 03:43:08 Pacific Daylight Time <SATINFOSL> Informes de los Preanalisis de VirusTotal sobre nuevas muestras que pasaremos a controlar con EliStarA 43.05  https://ift.tt/32IP2oC \n",
      "1234436272258715648 2020-03-02 03:11:56 Pacific Daylight Time <CarlosThepap>  http://amzn.to/2tKdzwp  UVC Lamp #coronavirususa #coronavirus #cornonaviruschina #virusoutbreak #VirusCorona #VirusThreatInCamps #virus #VirusWuhan #viruscoronachina #virustotal #coronaviruswuhan #ChinaCoronaVirus #China #ChinaCoronaVirus #COVID19 #Covid19usa #COVIDー19\n"
     ]
    },
    {
     "name": "stdout",
     "output_type": "stream",
     "text": [
      "1234434803828695040 2020-03-02 03:06:06 Pacific Daylight Time <migohe14> @TwitterSafety Hi, I have developed a tool to analyze malicious links in real time using Twitter API and Virustotal (@virustotal) API. You can check it here  https://virustotal-tweets-analyzer.netlify.com  pic.twitter.com/Vet1HidXTT\n",
      "1234426958219485185 2020-03-02 02:34:56 Pacific Daylight Time <migohe14> @yoyoel @delbius Hi, I have developed a tool to analyze malicious links in real time using Twitter API and Virustotal (@virustotal) API. You can check it here  https://virustotal-tweets-analyzer.netlify.com  pic.twitter.com/TQt12m6NEL\n",
      "1234414480471339008 2020-03-02 01:45:21 Pacific Daylight Time <Smvasii> Awesome !!!!!!!!!!!!!\n",
      "1234394268690722816 2020-03-02 00:25:02 Pacific Daylight Time <HeliosCert> Sample analysed on #virustotal VirusTotal-Score: 0 VirusTotal:  https://www.virustotal.com/file/7690063582c8b2395ea1f3adb62132ba71a33a9abdfa954190b6298bb13b1fd1/analysis/1583090676/ … Threat:\n",
      "1234393402642518016 2020-03-02 00:21:35 Pacific Daylight Time <sw4rfega> @majorgeeks Samsung NVME driver:  https://drive.google.com/file/d/1fl-8cHml65JDQBOt_QDwcKP1yoalfQVo/view … scanned it with VirusTotal and its clean.\n",
      "1234390786684473345 2020-03-02 00:11:12 Pacific Daylight Time <k_dmitriev> Syenta1 virustotal Thanks for reporting. Those are false alarms - we are doing our builds in secure Linux environments, using crosscompilation, so it is not possible it could be infected. I will contact developers of those antiviruses to make sure they fix their algorithms. …\n",
      "1234389319089082376 2020-03-02 00:05:22 Pacific Daylight Time <morevnaproject> Thanks for reporting. Those are false alarms - we are doing our builds in secure Linux environments, using crosscompilation, so it is not possible it could be infected. I will contact developers of those antiviruses to make sure they fix their algorithms. Thanks again!\n",
      "1234372607232729088 2020-03-01 22:58:57 Pacific Daylight Time <0xbharath> That's the maximum number of sub-domains VT returns using this HTTP request\n",
      "1234369080003457024 2020-03-01 22:44:56 Pacific Daylight Time <yang42763849> Why does the second parameter have to be 40 and I'm out of range if I use more than 40\n",
      "1234282446155386886 2020-03-01 17:00:41 Pacific Daylight Time <TheArtOfInfoSec> VirusTotal is not an Incident Responder by @ruddawg26 https://link.medium.com/NB1Mthqao4 \n",
      "1234279804851163136 2020-03-01 16:50:11 Pacific Daylight Time <binaryz0ne> Thanks for the update, Marc!\n",
      "1234269893849120770 2020-03-01 16:10:48 Pacific Daylight Time <CarlosThepap>  http://amzn.to/2tKdzwp  UVC Lamp   #coronavirususa #coronavirus #cornonaviruschina #virusoutbreak #VirusCorona #VirusThreatInCamps #virus #VirusWuhan #viruscoronachina #virustotal #coronaviruswuhan #ChinaCoronaVirus #China #ChinaCoronaVirus #COVID19 #Covid19usa #COVIDー19\n",
      "1234221185841467396 2020-03-01 12:57:16 Pacific Daylight Time <colCERT> Cordial saludo, tenemos una cuenta oficial para reportar  #phishing ➡️ phishing-report[at] http://colcert.gov.co , agradecemos nos envíe la información de cualquier nuevo reporte. Gracias.\n",
      "1234204984083963907 2020-03-01 11:52:53 Pacific Daylight Time <CarlosThepap>  http://amzn.to/2tKdzwp    UVC Lamp #coronavirususa #coronavirus #cornonaviruschina #virusoutbreak #VirusCorona #VirusThreatInCamps #virus #VirusWuhan #viruscoronachina #virustotal #coronaviruswuhan #ChinaCoronaVirus #China #ChinaCoronaVirus #COVID19 #Covid19usa #COVIDー19\n",
      "1234201819951325185 2020-03-01 11:40:18 Pacific Daylight Time <DinoRoss> VirusTotal inspects items with 70 antivirus scanners & URL/domain blacklisting services, Any user can select a file from their computer using their browser and send it to VirusTotal.#malware #viruses #spyware #Ransomware  https://www.virustotal.com/gui/home/upload \n",
      "1234194081225547777 2020-03-01 11:09:33 Pacific Daylight Time <NtSetDefault> Really useful ;)\n",
      "1234183804694204416 2020-03-01 10:28:43 Pacific Daylight Time <codeyourweb> It may reinvent the wheel, but it made me pass the time while it was raining this weekend, here's a little homemade tool to do some data enrichment with the VirusTotal API (also working with the public version of their platform)  https://github.com/codeyourweb/hnuke …\n",
      "1234161484340461569 2020-03-01 09:00:02 Pacific Daylight Time <HeliosCert> Sample analysed on #virustotal VirusTotal-Score: 48 VirusTotal:  https://www.virustotal.com/file/52f823f080421f18ef2ebbaa91032ab74256e4c9d528e8c99d6bf69805a812bf/analysis/1514375128/ … Threat: Ransom:Win32/WannaCrypt.A!rsm  (Microsoft)\n",
      "1234156464530448389 2020-03-01 08:40:05 Pacific Daylight Time <ochsenmeier> #pestudio 9.02 now available  http://www.winitor.com  to fix bugs and allow direct queries to @virustotal intelligence to accelerate #Malware Initial Assessment  https://www.winitor.com/tools/pestudio/changes.log … pic.twitter.com/PQ5Nkp88zI\n",
      "1234153937273544704 2020-03-01 08:30:02 Pacific Daylight Time <HeliosCert> Sample analysed on #virustotal VirusTotal-Score: 0 VirusTotal:  https://www.virustotal.com/file/97a854c20ddc0028797db76ee332ff994b326d277f8beb9cf98fb008c5dc0038/analysis/1583055907/ … Threat:\n",
      "1234125301149577217 2020-03-01 06:36:15 Pacific Daylight Time <Gabry89> 4/ Ho provato a fare qualche verifica. Su virustotal, lo zip ha una detection rate ridicola, così come l'APK.  ZIP:  https://www.virustotal.com/gui/file/d7c671ac9b1d00224d9a8fa0537bfaafa374bb6362642ccde951efc06f578099/detection …  APK:  https://www.virustotal.com/gui/file/42344ae56337fe802340385c821b6be151483d99ae3572e50e76dfc8b790033a/detection …\n",
      "1234119476477677569 2020-03-01 06:13:06 Pacific Daylight Time <CarlosThepap>  http://amzn.to/2tKdzwp    UVC Lamp   #coronavirususa #coronavirus #cornonaviruschina #virusoutbreak #VirusCorona #VirusThreatInCamps #virus #VirusWuhan #viruscoronachina #virustotal #coronaviruswuhan #ChinaCoronaVirus #China #ChinaCoronaVirus #COVID19 #Covid19usa #COVIDー19\n",
      "1234117115365318657 2020-03-01 06:03:43 Pacific Daylight Time <RyansNotAHacker> Holy shitballs Batman!!  Reversing the sandbox stack in Virustotal  https://twitter.com/virustotal/status/1232701318285971456 …\n",
      "1234077642917322753 2020-03-01 03:26:52 Pacific Daylight Time <jjrruiz> #virustotal reports  http://virustotal.com/#/file/af710a8432674b2b6a35a76e4766da3451a4a13c73dc2799669086e8d444b661/detection … &  http://virustotal.com/#/url/df91be6ac88892eacb8b0d6058f55d8e789875610e659814cb1ad6705ce22d8d/detection … &  http://virustotal.com/#/url/28a8f3309ca9065407296f41240d55051496eb88959ba7350ffea4a631e32609/detection … &  http://virustotal.com/#/url/ae5a7cb8747430255f82771a7818b364e3fe74b5ec722dc6a70bdd86fc326b61/detection … &  http://virustotal.com/#/url/fb7d80b528154766b0f0294641bec6974656984156abab1f2d596b6a44066ea5/detection … &  http://virustotal.com/#/url/4acdadbeb8ccbf0a41c4596aed343d681bdef88dfd3866b5144395acb09c852c/detection … &  http://virustotal.com/#/url/112f669e8353b33da9a231fa8c8ddc8373270be4fcf7c66389995b01476be2cb/detection …\n",
      "1234069371418501120 2020-03-01 02:54:00 Pacific Daylight Time <jjrruiz> #virustotal reports   http://virustotal.com/#/file/97e74aa74e9f543fab40ff0f5d7a499c1c13e59586a7e01381644cf229c0b781/detection … &  http://virustotal.com/#/url/7daf8bb98d65c153d24864ebac44f8e4d1ac2bb03ce974b68a01532d4e058948/detection … &  http://virustotal.com/#/url/bdc6063686146cc6198c3510dfb8829ecacd972eecbda79a0f40eca7638c9b68/detection … &  http://virustotal.com/#/url/dfa826636582e26cf116a2ab0894ed6f5e40ebf978563282b772c2be1a823514/detection … &  http://virustotal.com/#/url/e034cfeef273a8b5a3835a2bc3a0375ae0fa0b53a7f60d30a161f9c40d1c4bb4/detection … &  http://virustotal.com/#/url/4581b9ba4313d3bc8f88cb53277b05731a1c109ad9408a83b7c3f86a35cfb035/detection … &  http://virustotal.com/#/url/d3533f5cf47a799228e60cb02003437e747c494b5dd242ee57c5564c0d9fd3e0/detection … &  http://virustotal.com/#/url/dde29bba3112275b46b5aaf9dd3080abd441fa4b5d2600d75141725969c0942d/detection …\n",
      "1234040690344169472 2020-03-01 01:00:02 Pacific Daylight Time <HeliosCert> Sample analysed on #virustotal VirusTotal-Score: 40 VirusTotal:  https://www.virustotal.com/file/cfbb077b6def89d534a4fc5dc04022a9b65eb0780082d57495a72487c5f0c09a/analysis/1583031891/ … Threat: Trojan:Win32/Wacatac.D!ml  (Microsoft)\n",
      "1234039457537347589 2020-03-01 00:55:08 Pacific Daylight Time <Syenta1> I've just downloaded the 32-bit portable version and scanned it using @virustotal which throw back the following results  1. BitDefenderTheta - Gen:NN.ZexaF.34096.y8Z@aWjg1ui  2. Sangfor Engine Zero - Malware  Here is the link to the results hope it helps   https://www.virustotal.com/gui/file/6bb969cbaee68ab61b4e97f4b9ff2b944a258da98c2685d6db33d6f6ec777580/detection …\n",
      "1234034397428486144 2020-03-01 00:35:02 Pacific Daylight Time <HeliosCert> Sample analysed on #virustotal VirusTotal-Score: 47 VirusTotal:  https://www.virustotal.com/file/cf729c46717f95052092cc40b03b455f6c4f7b31f0720d5b79f80dc963a10b35/analysis/1583026213/ … Threat: TSPY_TINCLEX.SM1  (TrendMicro)\n",
      "1234022270512893953 2020-02-29 23:46:50 Pacific Daylight Time <Syenta1> I've just downloaded Polarity 10 directly from the link on your site and after a scan via @virustotal was presented with:   \"Sangfor Engine Zero - Malware\"  Here's the link to the results:   https://www.virustotal.com/gui/file/7aa086a49ae0d3892dbf26d8637ae0832d126be6f31047458bd221cc00428a79/detection …\n",
      "1234017806880067584 2020-02-29 23:29:06 Pacific Daylight Time <Nahr3n> Current Updates 1/2:  I2P Network 0.9.45 + I2Pd Client 2.30.0  https://geti2p.net/ru/blog/post/2020/02/25/0.9.45-Release …  https://github.com/PurpleI2P/i2pd  Munin - Online hash checker for Virustotal and other services  https://github.com/Neo23x0/munin#hugin-for-virustotal-retrohunts … Wireshark 3.2.2  https://www.wireshark.org/#download \n"
     ]
    },
    {
     "name": "stdout",
     "output_type": "stream",
     "text": [
      "1233935022631112709 2020-02-29 18:00:09 Pacific Daylight Time <CarlosThepap>  http://amzn.to/2tKdzwp  UVC Lamp #coronavirususa #coronavirus #cornonaviruschina #virusoutbreak #VirusCorona #VirusThreatInCamps #virus #VirusWuhan #viruscoronachina #virustotal #coronaviruswuhan #ChinaCoronaVirus #China #ChinaCoronaVirus #COVID19 #Covid19usa #COVIDー19\n",
      "1233921153950986241 2020-02-29 17:05:02 Pacific Daylight Time <HeliosCert> Sample analysed on #virustotal VirusTotal-Score: 26 VirusTotal:  https://www.virustotal.com/file/b4144c428fc0e674c6701442f0804bb4e20739dd5f98c65ec446dc32e27af404/analysis/1583004608/ … Threat: Gen:Heur.MSIL.Dakar.2  (BitDefender)\n",
      "1233918753399767041 2020-02-29 16:55:30 Pacific Daylight Time <IndocCyber> #Informate En Colombia estan enviando mensajes de texto suplantando a @NetflixLAT con vinculos maliciosos identificado en @virustotal, no se trata de un mensaje de Netflix, se trata de virus para hackearte.  Recomendación: Eliminar los mensajes.  @colCERT @CaiVirtual @mindefensa pic.twitter.com/fBxMCpIBGT\n",
      "1233895945626099713 2020-02-29 15:24:52 Pacific Daylight Time <CarlosThepap>  http://amzn.to/2tKdzwp   UVC Lamp #coronavirususa #coronavirus #cornonaviruschina #virusoutbreak #VirusCorona #VirusThreatInCamps #virus #VirusWuhan #viruscoronachina #virustotal #coronaviruswuhan #ChinaCoronaVirus #China #ChinaCoronaVirus #COVID19 #Covid19usa #COVIDー19\n",
      "1233884927222927360 2020-02-29 14:41:05 Pacific Daylight Time <polaritybrowser> Apologies for the incorrect URL. Not too sure what I can do about the results since someone has been developing a malware with the same name as the browser. I will try to contact them to get this rectified.\n",
      "1233864501503680513 2020-02-29 13:19:55 Pacific Daylight Time <turaiel> I'm curious about what would happen if you dumped it into VirusTotal.\n",
      "1233835589939728387 2020-02-29 11:25:02 Pacific Daylight Time <HeliosCert> Sample analysed on #virustotal VirusTotal-Score: 37 VirusTotal:  https://www.virustotal.com/file/2b70dd97d36efbbadd5f63afc22e28dc53d26302bae846b4f4e49e27cf95a70f/analysis/1582996209/ … Threat: Trojan:Win32/Wacatac.D!ml  (Microsoft)\n",
      "1233829857840246785 2020-02-29 11:02:16 Pacific Daylight Time <Syenta1> I managed to download a copy of your portable version from SourceForge which on scanning with @virustotal throws up three issues:   1. Cyren - W32/Dealply.YDAD-7791 2. F-Prot  - W32/Dealply.R 3. Sangfor Engine Zero - Malware   https://www.virustotal.com/gui/file/4ed01bad1a3259b9bf48a1d4d9daec0667a1de1d017a735926385d333ffe7f71/detection …  Hope this helps\n",
      "1233816536412020737 2020-02-29 10:09:20 Pacific Daylight Time <benmcga> Despite the blatant domain looking like a Phish, they were adamant for 100% solid proof. Sent everything I had but constantly got pushback asking for further proof. At this point the domains were being blocked by SmartScreen, VirusTotal detected etc etc\n",
      "1233809163853221890 2020-02-29 09:40:02 Pacific Daylight Time <HeliosCert> Sample analysed on #virustotal VirusTotal-Score: 52 VirusTotal:  https://www.virustotal.com/file/f25f43f5cea51647e82413accd831b93fe8c2b7f072fc1468cd1d13bf08224ec/analysis/1582980613/ … Threat: Trojan:Win32/Wacatac.D!ml  (Microsoft)\n",
      "1233805271916519424 2020-02-29 09:24:34 Pacific Daylight Time <asculthorpe> It would be fairly trivial to create an anti-phishing solution that's better than all 71 of those engines that failed to detect it, but I see it as more of a feature for an existing product than a standalone app.\n",
      "1233797567990775808 2020-02-29 08:53:57 Pacific Daylight Time <CindyBiSV> Detective work 🤩  I have a theory who kept sending me that phishing link😡  I don’t click on things that I don’t recognize, but this is getting annoying. pic.twitter.com/sf0aAYNNXK\n",
      "1233793003971579908 2020-02-29 08:35:49 Pacific Daylight Time <asculthorpe> And now visitors will see this, instead of the phishing page. pic.twitter.com/uZ8GVc5hgE\n",
      "1233789994604601344 2020-02-29 08:23:52 Pacific Daylight Time <CarlosThepap>  http://amzn.to/2tKdzwp    UVC Lamp  #coronavirususa #coronavirus #cornonaviruschina #virusoutbreak #VirusCorona #VirusThreatInCamps #virus #VirusWuhan #viruscoronachina #virustotal #coronaviruswuhan #ChinaCoronaVirus #China #ChinaCoronaVirus #COVID19 #Covid19usa #COVIDー19\n",
      "1233787773301280768 2020-02-29 08:15:02 Pacific Daylight Time <HeliosCert> Sample analysed on #virustotal VirusTotal-Score: 50 VirusTotal:  https://www.virustotal.com/file/ea6378babfd25379ade0b1187ee53cf41f2a01c6b105b867fe23e8b5696e7958/analysis/1530691638/ … Threat: Ransom:Win32/WannaCrypt.A!rsm  (Microsoft)\n",
      "1233777707932098560 2020-02-29 07:35:02 Pacific Daylight Time <HeliosCert> Sample analysed on #virustotal VirusTotal-Score: 49 VirusTotal:  https://www.virustotal.com/file/ad4c7342f0394336560063d9ea2d53c4e39dd280e776b69a9f0fb1364126dab0/analysis/1582929009/ … Threat: Trojan:Win32/Wacatac.C!ml  (Microsoft)\n",
      "1233762138617008128 2020-02-29 06:33:10 Pacific Daylight Time <asculthorpe> Oh look, it finally turned red!  Shame it took 16 hours, but late is better than never!  @CindyBiSV  https://www.virustotal.com/gui/url/0296b5dfc2e1e9ef40145856d166e5d45ce2592856143e62b92b1bb7de7ca348/detection …\n",
      "1233699243526889472 2020-02-29 02:23:15 Pacific Daylight Time <hotLiverLips9> ►►► Love their browser extension! I use VT4 daily to be much safer now. Fast & easy.  Be vigilant, my friends. 💜 VirusTotal analyzes files & URLs for viruses, worms, trojans & malicious content. Their goal: make the internet a safer place.   https://www.virustotal.com/  pic.twitter.com/HiZFfvbKW5\n",
      "1233681670873714689 2020-02-29 01:13:25 Pacific Daylight Time <jjrruiz> Proofs on #virustotal:  http://virustotal.com/#/file/97e74aa74e9f543fab40ff0f5d7a499c1c13e59586a7e01381644cf229c0b781/detection … &  http://virustotal.com/gui/file/66aa5353a29060c85250ad20a87285c168c7cf838e1c90593da50427c21bac14/detection … &  http://virustotal.com/gui/file/1948b7a1902885696817eb234a3897d6451fbbe3e7d2d295a11c2cb0a6c7b95f/detection … &  http://virustotal.com/#/file/af710a8432674b2b6a35a76e4766da3451a4a13c73dc2799669086e8d444b661/detection … &  http://virustotal.com/gui/file/bb31e924ca54d115f4f0da00ef90f5547365d47fa338f7d124976a744f3ce1b9/detection … &  http://virustotal.com/gui/file/dff1e771a07bf9c7740ad1564e5135ca0ec5e3577d4b89169242ef960a695f16/detection … &  http://virustotal.com/#/url/7daf8bb98d65c153d24864ebac44f8e4d1ac2bb03ce974b68a01532d4e058948/detection … &  http://virustotal.com/#/url/bdc6063686146cc6198c3510dfb8829ecacd972eecbda79a0f40eca7638c9b68/detection … &  http://virustotal.com/#/url/dfa826636582e26cf116a2ab0894ed6f5e40ebf978563282b772c2be1a823514/detection … &  http://virustotal.com/#/url/e034cfeef273a8b5a3835a2bc3a0375ae0fa0b53a7f60d30a161f9c40d1c4bb4/detection …\n",
      "1233673268336504833 2020-02-29 00:40:02 Pacific Daylight Time <HeliosCert> Sample analysed on #virustotal VirusTotal-Score: 56 VirusTotal:  https://www.virustotal.com/file/56dededa09c602a20079ec6aa5b5be0cab897c92f2b5ad98c9d9c1f401b13fd7/analysis/1579203289/ … Threat: HT_SMALL_GG3107D0.UVPM  (TrendMicro)\n",
      "1233615107176878080 2020-02-28 20:48:55 Pacific Daylight Time <p_X1_a> 難読化したJarファイルがVirusTotalで検出される問題\n",
      "1233550544691699712 2020-02-28 16:32:22 Pacific Daylight Time <CarlosThepap>  http://amzn.to/2tKdzwp  UVC Lamp  #coronavirususa #coronavirus #cornonaviruschina #virusoutbreak #VirusCorona #VirusThreatInCamps #virus #VirusWuhan #viruscoronachina #virustotal #coronaviruswuhan #ChinaCoronaVirus #China #ChinaCoronaVirus #COVID19 #Covid19usa #COVIDー19\n",
      "1233537124307062785 2020-02-28 15:39:03 Pacific Daylight Time <MiroHQ> We'd love to hear more about what kinds of projects you're working on and what your workflow looks like! Shoot us a dm if you're willing to chat :)\n",
      "1233524080990547968 2020-02-28 14:47:13 Pacific Daylight Time <asculthorpe> Anyone clicking that doesn't stand a chance.  All 71 anti-malware phishing detection engines at VirusTotal fail to detect it, and browsers fail to detect it.  Bottom line is \"we're it\", awareness is critical and for those that entered their details it's already too late.\n",
      "1233523530953826305 2020-02-28 14:45:02 Pacific Daylight Time <HeliosCert> Sample analysed on #virustotal VirusTotal-Score: 57 VirusTotal:  https://www.virustotal.com/file/18db1652c1fc7f011a7c2f30c3e2e26451e29437300f3a40fa92a2d83e3f61ba/analysis/1582913712/ … Threat: BKDR_BLADABINDI.SM  (TrendMicro)\n",
      "1233519108320374785 2020-02-28 14:27:27 Pacific Daylight Time <asculthorpe> Source of Link  @CindyBiSV https://twitter.com/CindyBiSV/status/1233504550969135104 …\n",
      "1233515024913747972 2020-02-28 14:11:14 Pacific Daylight Time <asculthorpe> Let's play a game.  It's called let's see how long it takes @WellsFargo to make this phishing link at @virustotal go from green to red.  Ready...steady...go!  ⏲️ #CyberSecurity #Infosec #CyberCrime #Tech #Technology #Phishing  https://www.virustotal.com/gui/url/0296b5dfc2e1e9ef40145856d166e5d45ce2592856143e62b92b1bb7de7ca348/detection …\n"
     ]
    },
    {
     "name": "stdout",
     "output_type": "stream",
     "text": [
      "1233511878284005383 2020-02-28 13:58:43 Pacific Daylight Time <tsam28> Λίγο πολύ πλέον όλα τα ίδια είναι. Avast το δωρεάν που δεν είναι κ βαρύ,τέρμα όλες οι ρυθμίσεις για επικινδυνότητα,adblock plus για διαφημίσεις κ στις ρυθμίσεις επιλογή να μη φαίνεται καμία διαφήμιση. Κ στο σαιτ Virustotal για έλεγχο διευθύνσεων αν πιστεύεις ότι είναι ύποπτες\n",
      "1233511013867311107 2020-02-28 13:55:17 Pacific Daylight Time <OddBreadtwt> Send a picture of any file inside of the folder that might be anything CLOSE to a virus.   Or better yet, scan the folder with virustotal and send the results  I’ve looked through the files, and it would be hard to disguise malware in a folder like this\n",
      "1233502226183671808 2020-02-28 13:20:22 Pacific Daylight Time <masaka_k> 空のhspファイルをコンパイルしたものでもVirusTotalに1個は引っかかるのね pic.twitter.com/wpGPnAdguY\n",
      "1233482094556274688 2020-02-28 12:00:22 Pacific Daylight Time <BhiseHna> USCYBERCOM uploaded six new malware samples to the scanning engine VirusTotal. Believed to be behind the samples is the Lazarus Group, which has connections to North Korea. The harmful files allow hackers to execute a range of illegal schemes.   https://www.securityweek.com/uscybercom-shares-more-north-korean-malware-samples …\n",
      "1233460619044675586 2020-02-28 10:35:02 Pacific Daylight Time <HeliosCert> Sample analysed on #virustotal VirusTotal-Score: 0 VirusTotal:  https://www.virustotal.com/file/a8623bbb75552127866f927d76d3c010d9ed799c593254dd180c68fb8a45ce68/analysis/1582883411/ … Threat:\n",
      "1233444280217329670 2020-02-28 09:30:07 Pacific Daylight Time <CHEN_PR> .@FBI says victims paid over $140M to #Ransomware in 6 years. At #RSAC2020, Agent Joel DeCapua says he used @Bitcoin wallets & ransom notes that were shared/found by private partners on @virustotal to see how much money was paid. @BleepinComputer reports  http://bit.ly/2Pz6Rkx  pic.twitter.com/aIpAUk654Y\n",
      "1233423133396197376 2020-02-28 08:06:05 Pacific Daylight Time <jfslowik> Live view of some of the ML-based engines in VirusTotal:  pic.twitter.com/D45IMUqagV\n",
      "1233422895298367491 2020-02-28 08:05:08 Pacific Daylight Time <CarlosThepap>  http://amzn.to/2tKdzwp  #coronavirususa #coronavirus #cornonaviruschina #virusoutbreak #VirusCorona #VirusThreatInCamps #virus #VirusWuhan #viruscoronachina #virustotal #coronaviruswuhan #ChinaCoronaVirus #China #ChinaCoronaVirus #COVID19 #Covid19usa #COVIDー19 #VIRUS_CORONA\n",
      "1233415515156074496 2020-02-28 07:35:49 Pacific Daylight Time <bonjinjpn> 「Vt:ゼロから始まる偵察活動（インテリジェンス）（PDF版）」を noranecoわーるど@malrina支店 で購入しました！  https://booth.pm/ja/items/1859191 … #booth_pm #Cybersecurity #infosec #VirusTotal #OSINT\n",
      "1233380655024738304 2020-02-28 05:17:17 Pacific Daylight Time <beatrizbecerrab> Qué buena y oportuna esta entrevista a @bquintero Conozcan por qué su empresa #VirusTotal, líder mundial en #ciberseguridad y uno de los buque insignia de #Google, es DE y está EN #Málaga Fantástica lectura para el #28Febrero #DiaDeAndalucia https://elpais.com/ccaa/2020/02/25/andalucia/1582632797_029398.amp.html#click= https://t.co/2rwpcXPwkm …\n",
      "1233377571204673537 2020-02-28 05:05:02 Pacific Daylight Time <HeliosCert> Sample analysed on #virustotal VirusTotal-Score: 1 VirusTotal:  https://www.virustotal.com/file/2789f4dbbcdeb8ebff855829c734fad4e466fdd736d441e62888b8de5bc31826/analysis/1582852156/ … Threat:\n",
      "1233358192576327681 2020-02-28 03:48:02 Pacific Daylight Time <masaka_k> kshootmania.exeとeditor.exeの両方がVirusTotalでもめっちゃ誤検出に引っかかるんだけど、HSP本体のバージョン上げたからかなあ…(v1.68cは1個以外引っかからない)\n",
      "1233353289619603457 2020-02-28 03:28:33 Pacific Daylight Time <FormacionElPais> El ingeniero que prefirió Málaga a Silicon Valley: VirusTotal posee la mayor base de datos mundial de ciberseguridad y analiza más de dos millones de archivos y URL al día, de los que medio millón son sospechosos  https://elpais.com/ccaa/2020/02/25/andalucia/1582632797_029398.html?ssm=TW_CC … vía @el_pais\n",
      "1233319688278593536 2020-02-28 01:15:02 Pacific Daylight Time <HeliosCert> Sample analysed on #virustotal VirusTotal-Score: 0 VirusTotal:  https://www.virustotal.com/file/a5ea2fad1e7a10a00738f9dbc362b39d55b34fa2152684aa89626060274426e7/analysis/1546819203/ … Threat:\n",
      "1233313982158602240 2020-02-28 00:52:21 Pacific Daylight Time <SATINFOSL> Informes de los Preanalisis de VirusTotal sobre nuevas muestras que pasaremos a controlar con EliStarA 43.04  https://ift.tt/2PtcdxK \n",
      "1233309620728365056 2020-02-28 00:35:02 Pacific Daylight Time <HeliosCert> Sample analysed on #virustotal VirusTotal-Score: 39 VirusTotal:  https://www.virustotal.com/file/9be010b45a81a22f2d50c1d35f31384152c5b91dd7e3a1fe81b2c4fa95bb468c/analysis/1582821912/ … Threat: Trojan:Win32/Wacatac.C!ml  (Microsoft)\n",
      "1233305299177627649 2020-02-28 00:17:51 Pacific Daylight Time <elpaiseducacion> El ingeniero que prefirió Málaga a Silicon Valley. VirusTotal, creada por el malagueño Bernardo Quintero, es líder mundial en ciberseguridad  https://elpais.com/ccaa/2020/02/25/andalucia/1582632797_029398.html …\n",
      "1233250481125961733 2020-02-27 20:40:02 Pacific Daylight Time <HeliosCert> Sample analysed on #virustotal VirusTotal-Score: 50 VirusTotal:  https://www.virustotal.com/file/7a5f26049488c885e95778f9a2352179be3a2f0721bba044039263214765d781/analysis/1582827240/ … Threat: Trojan:Win32/Wacatac.D!ml  (Microsoft)\n",
      "1233206441739247618 2020-02-27 17:45:02 Pacific Daylight Time <HeliosCert> Sample analysed on #virustotal VirusTotal-Score: 60 VirusTotal:  https://www.virustotal.com/file/aea3597f24009ec7a5212edf353080643e43839f2a5e6933c456c8d3aa147da5/analysis/1582831425/ … Threat: BKDR_NOANCOOE.SM  (TrendMicro)\n",
      "1233169290553184256 2020-02-27 15:17:24 Pacific Daylight Time <CarlosThepap>  http://amzn.to/2tKdzwp  #coronavirususa #coronavirus #cornonaviruschina #virusoutbreak #VirusCorona #VirusThreatInCamps #virus #VirusWuhan #viruscoronachina #virustotal #coronaviruswuhan #ChinaCoronaVirus #China #ChinaCoronaVirus #COVID19 #Covid19usa #COVIDー19 #VIRUS_CORONA\n",
      "1233143970626031616 2020-02-27 13:36:47 Pacific Daylight Time <binaryz0ne> You’re welcome. I did that now.\n",
      "1233132860149837831 2020-02-27 12:52:39 Pacific Daylight Time <Cybintelligence>  https://www.vice.com/amp/en_us/article/5dmwyx/documents-how-cybercom-publishes-russian-north-korean-malware-virustotal … “that Cyber Command deploys VirusTotal uploads for both offensive and defensive purposes at the same time—to ‘impose costs on nation state malicious cyber actors’ and to ‘enhance our shared global cybersecurity,'\" #ThreatIntelligence #Cybercom\n",
      "1233131722914639872 2020-02-27 12:48:07 Pacific Daylight Time <ochsenmeier> Hello Ali, thank you very much for the notification! Can you pls DM?\n",
      "1233115259189309441 2020-02-27 11:42:42 Pacific Daylight Time <CyberSecCorp> especial del FBI, Joel DeCapua, explicó cómo usó billeteras bitcoin y notas de rescate que fueron recopiladas por el FBI, compartidas por socios privados o encontradas en VirusTotal para calcular cuánto dinero se pagó en pagos de rescate durante 6 años.  https://cutt.ly/fr4PSeP \n",
      "1233114589769949190 2020-02-27 11:40:03 Pacific Daylight Time <HeliosCert> Sample analysed on #virustotal VirusTotal-Score: 63 VirusTotal:  https://www.virustotal.com/file/00d4903c9864c5b55f6cba9848f3bc2f2976ad18e9c5763408323c8d9505ff68/analysis/1582814713/ … Threat: BKDR_BLADABI.SMC  (TrendMicro)\n",
      "1233071222423875584 2020-02-27 08:47:43 Pacific Daylight Time <omgitsnewton> we are not, thankfully  the launcher itself has 28 positives on virustotal\n",
      "1233061470558138370 2020-02-27 08:08:58 Pacific Daylight Time <CarlosThepap>  http://amzn.to/2tKdzwp  #coronavirususa #coronavirus #cornonaviruschina #virusoutbreak #VirusCorona #VirusThreatInCamps #virus #VirusWuhan #viruscoronachina #virustotal #coronaviruswuhan #ChinaCoronaVirus #China #ChinaCoronaVirus #COVID19 #Covid19usa #COVIDー19 #VIRUS_CORONA\n",
      "1233058525275926528 2020-02-27 07:57:16 Pacific Daylight Time <andypiper> thanks, I'll take a look!\n",
      "1233042656264998912 2020-02-27 06:54:12 Pacific Daylight Time <john77665> VirusTotal Blog: Uncovering threat infrastructure via URL, domain and IP address advanced pivots a.k.a. Netloc Intelligence #osint  https://blog.virustotal.com/2020/02/uncovering-threat-infrastructure-via.html …\n",
      "1233042447078502402 2020-02-27 06:53:22 Pacific Daylight Time <Anastasis_King> s3-malware-scanner:-- Uses #VirusTotal to #scan #S3 files as they get populated into #buckets.  #Download #Link:- https://github.com/labriffa/s3-malware-scanner …\n",
      "1233040346210340865 2020-02-27 06:45:01 Pacific Daylight Time <HeliosCert> Sample analysed on #virustotal VirusTotal-Score: 0 VirusTotal:  https://www.virustotal.com/file/d6c15bcfd6c952dfa0918a70cac5333499e08146215785e068c7018f32532634/analysis/1582770906/ … Threat:\n"
     ]
    },
    {
     "name": "stdout",
     "output_type": "stream",
     "text": [
      "1233030775974420485 2020-02-27 06:07:00 Pacific Daylight Time <eForensics_Mag> This setup will utilize technologies such as Osquery, Rsyslog, Kafka, Docker, Python3, and VirusTotal for a logging pipeline. If this pipeline detects a malicious file, a Slack alert will be triggered.   http://bit.ly/2Tg8SmN  #malicious #download #detect #digitalforensics #tool\n",
      "1233023199585148929 2020-02-27 05:36:53 Pacific Daylight Time <markus_neis> you can literally burn the whole campaign with the new  @virustotal infrastructure advanced pivots  https://twitter.com/James_inthe_box/status/1233018468946997248 … pic.twitter.com/KmN97JEhxj\n",
      "1233017620464652289 2020-02-27 05:14:43 Pacific Daylight Time <Matchistador> US military is publihing signatures of russian and north korean #malware on @virustotal  (and a few comments on twitter: @CNMF_VirusAlert): https://www.vice.com/en_us/article/5dmwyx/documents-how-cybercom-publishes-russian-north-korean-malware-virustotal …\n",
      "1233012438766903297 2020-02-27 04:54:08 Pacific Daylight Time <OhadMZ> Finally!! @virustotal you are the best!  pic.twitter.com/fkdcXjrqx4\n",
      "1233008482258997254 2020-02-27 04:38:25 Pacific Daylight Time <CarlosThepap>  http://amzn.to/2tKdzwp  #coronavirususa #coronavirus #cornonaviruschina #virusoutbreak #VirusCorona #VirusThreatInCamps #virus #VirusWuhan #viruscoronachina #virustotal #coronaviruswuhan #ChinaCoronaVirus #China #ChinaCoronaVirus #COVID19 #Covid19usa #COVIDー19 #VIRUS_CORONA\n",
      "1232999114121584641 2020-02-27 04:01:11 Pacific Daylight Time <cyb3rops> No, never. I don't care about these projects.\n",
      "1232996309843562496 2020-02-27 03:50:02 Pacific Daylight Time <HeliosCert> Sample analysed on #virustotal VirusTotal-Score: 56 VirusTotal:  https://www.virustotal.com/file/ef0e0fbd18aabdacd4a366f4c4713d64563292455d148cbe8e4f3ff49b000145/analysis/1553736483/ … Threat: Ransom:Win32/CVE-2017-0147.A  (Microsoft)\n",
      "1232996169971834880 2020-02-27 03:49:29 Pacific Daylight Time <DanielRufde> I first thought you mean the already known munin and huginn oss projects :D\n",
      "1232996147448492032 2020-02-27 03:49:24 Pacific Daylight Time <jcanto> si ves las relaciones en Graph, pinta feillo expandiendo la IP https://www.virustotal.com/graph/srv2.caxa5url.com …\n",
      "1232994826322358273 2020-02-27 03:44:09 Pacific Daylight Time <mikinjapan> Ya lo tenéis reenviado y con las cabeceras adjuntadas para que podáis analizar todo el mensaje! 🤘🏻\n",
      "1232992804957249539 2020-02-27 03:36:07 Pacific Daylight Time <caixabank> Gracias por el aviso. Efectivamente, se trata de un intento de phishing. ¿Nos podrías remitir el correo a posible.phishing@caixabank.com ? Un saludo.\n",
      "1232991710596255744 2020-02-27 03:31:46 Pacific Daylight Time <mikinjapan> Ojo con este correo, puede ser un nuevo #phising haciéndose pasar por @caixabank? el enlace realmente apunta a “ http://srv2.caxa5url.com/to2.html ” y aunque en @virustotal no aparece como malo a mi no me parece muy bueno...  pic.twitter.com/g7UgCOlT29\n",
      "1232974167731036160 2020-02-27 02:22:03 Pacific Daylight Time <SATINFOSL> Informes de los Preanalisis de VirusTotal sobre nuevas muestras que pasaremos a controlar con EliStarA 43.03  https://ift.tt/2uyWSV8 \n",
      "1232971547771580416 2020-02-27 02:11:39 Pacific Daylight Time <markus_neis> Thats why Antivirus is not dead\n",
      "1232969773996236800 2020-02-27 02:04:36 Pacific Daylight Time <migohe14> @andypiper Hi, I have developed a tool to analyze malicious links in real time using Twitter API and Virustotal (@virustotal) API. You can check it here  https://virustotal-tweets-analyzer.netlify.com/  pic.twitter.com/NNAL0X7UhA\n",
      "1232961077991919616 2020-02-27 01:30:02 Pacific Daylight Time <HeliosCert> Sample analysed on #virustotal VirusTotal-Score: 1 VirusTotal:  https://www.virustotal.com/file/c3da58821b1fabafda8a2b5dd226fcdcb55e2f75f90f67c613da5603760c972e/analysis/1582738030/ … Threat:\n",
      "1232957932121313281 2020-02-27 01:17:32 Pacific Daylight Time <_odisseus> #Mirai like #IoT #Malware #Backdoor #ELF VirusTotal: totally undetected.  𝗜𝗣: 104.244.72[.]54 Payload 𝗟𝗜𝗡𝗞: hxxp://104.244.72[.]54:80/RHOMBUS.x86_64 CnC port: 2020 Currently 𝗔𝗰𝘁𝗶𝘃𝗲 Bins at:  https://urlhaus.abuse.ch/host/104.244.72.54/ …  Great find by @0xrb pic.twitter.com/9nvBe6SSVM\n",
      "1232957298122874882 2020-02-27 01:15:01 Pacific Daylight Time <cyb3rops> not yet\n",
      "1232956277032132614 2020-02-27 01:10:58 Pacific Daylight Time <Rico_Walde> But can it fight #coronavirus ?\n",
      "1232955172617441281 2020-02-27 01:06:35 Pacific Daylight Time <cyb3rops> New script Hugin by my co-worker @AltgeltMax queries the @virustotal API for JSON results of a #Retrohunt and immediately returns all matches using Munin's output formats (coloured command line & CSV)  [+] no 15 seconds wait between each lookup 🚀  https://github.com/Neo23x0/munin#hugin-for-virustotal-retrohunts … pic.twitter.com/HSapW5CM5L\n",
      "1232920715088846848 2020-02-26 22:49:39 Pacific Daylight Time <2sec4u> another day... another TLP breach on VirusTotal. oof\n",
      "1232910294642458624 2020-02-26 22:08:15 Pacific Daylight Time <binaryz0ne> Hello Marc. I think the current update if used without being connected to the Internet, will freeze and crash. I've tested different samples (32/64) and all lead to the same thing.\n",
      "1232891869186662400 2020-02-26 20:55:02 Pacific Daylight Time <HeliosCert> Sample analysed on #virustotal VirusTotal-Score: 63 VirusTotal:  https://www.virustotal.com/file/2b54d8ac1e78e75cc3737fe24ed0ad4ad558033f76feb1cee362b90fc215fbed/analysis/1582723508/ … Threat: BKDR_BLADABI.SMC  (TrendMicro)\n",
      "1232886378305871873 2020-02-26 20:33:13 Pacific Daylight Time <xristo_cRad> Cyber Command (aka CYBERCOM) publishes North Korean malware samples onto VirusTotal #Adversary #cyberWar #information https://www.vice.com/en_us/article/5dmwyx/documents-how-cybercom-publishes-russian-north-korean-malware-virustotal …\n",
      "1232867955131736064 2020-02-26 19:20:00 Pacific Daylight Time <ESETLA> ❓ ¿Conoses Virus Total? En éste post de WLS te acercamos ▶️ 5 Trucos y 7 mitos sobre el uso de VirusTotal que quizá no conocías  https://eset.la/2yNhuFy \n",
      "1232860414020591617 2020-02-26 18:50:02 Pacific Daylight Time <HeliosCert> Sample analysed on #virustotal VirusTotal-Score: 62 VirusTotal:  https://www.virustotal.com/file/26f7e1788c2656cd64e69ac68873acfdd0160ff6ed07880720c4a52f5d52bc10/analysis/1582733411/ … Threat: BKDR_BLADABI.SMC  (TrendMicro)\n",
      "1232852957609127937 2020-02-26 18:20:25 Pacific Daylight Time <Stephen_Lynch> Has anyone built a “VirusTotal for infectious diseases” yet?\n",
      "1232847815786758145 2020-02-26 17:59:59 Pacific Daylight Time <CarlosThepap>  http://amzn.to/2tKdzwp  #coronavirususa #coronavirus #cornonaviruschina #virusoutbreak #VirusCorona #VirusThreatInCamps #virus #VirusWuhan #viruscoronachina #virustotal #coronaviruswuhan #ChinaCoronaVirus #China #ChinaCoronaVirus #COVID19 #Covid19usa #COVIDー19 #VIRUS_CORONA\n",
      "1232838293550592000 2020-02-26 17:22:08 Pacific Daylight Time <craw32> 社内でvirustotalに機密情報アップしたバカがいるらしい…。クビにしよう…。\n",
      "1232819527722946560 2020-02-26 16:07:34 Pacific Daylight Time <MIGS_AI> Internal and formerly secret documents shed further light on why Cyber Command is publishing Russian and North Korean hacking tools on VirusTotal  https://www.vice.com/en_us/article/5dmwyx/documents-how-cybercom-publishes-russian-north-korean-malware-virustotal …\n",
      "1232804978084978695 2020-02-26 15:09:45 Pacific Daylight Time <CarlosThepap>  http://amzn.to/2tKdzwp  #coronavirususa #coronavirus #cornonaviruschina #virusoutbreak #VirusCorona #VirusThreatInCamps #virus #VirusWuhan #viruscoronachina #virustotal #coronaviruswuhan #ChinaCoronaVirus #China #ChinaCoronaVirus #COVID19 #Covid19usa #COVIDー19 #VIRUS_CORONA\n",
      "1232767661664276484 2020-02-26 12:41:28 Pacific Daylight Time <CarlosThepap>  http://amzn.to/2tKdzwp  #coronavirususa #coronavirus #cornonaviruschina #virusoutbreak #VirusCorona #VirusThreatInCamps #virus #VirusWuhan #viruscoronachina #virustotal #coronaviruswuhan #ChinaCoronaVirus #China #ChinaCoronaVirus #COVID19 #Covid19usa #COVIDー19 #VIRUS_CORONA\n",
      "1232765244088340480 2020-02-26 12:31:52 Pacific Daylight Time <CyberSecDN> USCYBERCOM Shares More North Korean Malware Samples -  https://www.securityweek.com/uscybercom-shares-more-north-korean-malware-samples … #VirusTotal #Lazarus via @SecurityWeek\n",
      "1232752523053805569 2020-02-26 11:41:19 Pacific Daylight Time <chrisplummer> This is by *no* means \"everything you need to know about malicious attachments\" but a basic step anyone can take is to install Hashtab (Windows only; if you have a Mac, good for you) and query the file hash on @virustotal. This is flawed, but it's at least something.  pic.twitter.com/t8XVWWgm16\n",
      "1232744166859399169 2020-02-26 11:08:07 Pacific Daylight Time <StratosphereIPS> We want to thank @MiroHQ @RiskIQ @virustotal @slimwiki @mondaydotcom @urlscanio and @CESNET_cz for their continuous support to our cyber security research group at @ctu_cs !♥️\n",
      "1232721999237189644 2020-02-26 09:40:02 Pacific Daylight Time <HeliosCert> Sample analysed on #virustotal VirusTotal-Score: 49 VirusTotal:  https://www.virustotal.com/file/8a31c332dfb8714bc0c66300102fa84ee54a4027ed40e2c7082957abb431c34e/analysis/1582718522/ … Threat: Coinminer.MSIL.LIMERAT.SMA  (TrendMicro)\n",
      "1232721997169192961 2020-02-26 09:40:01 Pacific Daylight Time <cybersecboardrm> Internal Docs Show Why the U.S. Military Publishes North Korean and Russian Malware - VICE  https://www.vice.com/en_us/article/5dmwyx/documents-how-cybercom-publishes-russian-north-korean-malware-virustotal … #malware #NorthKorea #Russia #published #CYBERCOM #VirusTotal #CyberSecurity @VICE pic.twitter.com/UtrNlCDvLo\n",
      "1232708159741005825 2020-02-26 08:45:02 Pacific Daylight Time <HeliosCert> Sample analysed on #virustotal VirusTotal-Score: 63 VirusTotal:  https://www.virustotal.com/file/fbfea1db4497202597c91cfda1d44136e85ca74fbf780baab2f1b1520c724cd8/analysis/1582703223/ … Threat: BKDR_BLADABI.SMC  (TrendMicro)\n",
      "1232703707105710086 2020-02-26 08:27:20 Pacific Daylight Time <huseyinrencber_> [entity:url path:\"/zehir/z3hir\"] bunlar güzel örnekler 😄\n"
     ]
    },
    {
     "name": "stdout",
     "output_type": "stream",
     "text": [
      "1232701906792960009 2020-02-26 08:20:11 Pacific Daylight Time <sh1shk0va> Packed #Joker Trojans found on Google Play with 0 detections on VirusTotal:  https://play.google.com/store/apps/details?id=com.neon.photo.editor.ddd.color.effect … Feb 12, 100,000 installs  https://play.google.com/store/apps/details?id=com.editor.name.on.nacklace.pro … Feb 21, 1,000+ installs pic.twitter.com/EHsqsmbu5H\n",
      "1232701605839089664 2020-02-26 08:18:59 Pacific Daylight Time <CarlosThepap>  http://amzn.to/2tKdzwp  #coronavirususa #coronavirus #cornonaviruschina #virusoutbreak #VirusCorona #VirusThreatInCamps #virus #VirusWuhan #viruscoronachina #virustotal #coronaviruswuhan #ChinaCoronaVirus #China #ChinaCoronaVirus #COVID19 #Covid19usa #COVIDー19 #VIRUS_CORONA\n",
      "1232701318285971456 2020-02-26 08:17:51 Pacific Daylight Time <virustotal> Uncovering threat infrastructure via URL, domain and IP address advanced pivots a.k.a. Netloc Intelligence  https://blog.virustotal.com/2020/02/uncovering-threat-infrastructure-via.html … pic.twitter.com/dZsbMqHD36\n",
      "1232700088478158849 2020-02-26 08:12:58 Pacific Daylight Time <RRalstonAgile> Internal Docs Show Why the U.S. Military Publishes North Korean and Russian Malware   CYBERCOM, publishes the malware samples onto VirusTotal, a semi-public repository that researchers and defenders can then pore over to make systems more secure.  https://www.vice.com/en_us/article/5dmwyx/documents-how-cybercom-publishes-russian-north-korean-malware-virustotal …\n",
      "1232698852584587266 2020-02-26 08:08:03 Pacific Daylight Time <megan_roddie> Super awesome additions to @virustotal ! Will definitely be taking full advantage of these features.   https://blog.virustotal.com/2020/02/uncovering-threat-infrastructure-via.html …\n",
      "1232692614211596289 2020-02-26 07:43:16 Pacific Daylight Time <infostruction> Malicious Excel document is 0/58 on #VirusTotal #Malware. Here's the #JoeSandBox  https://www.joesandbox.com/analysis/211178/1/html … (MD5 f6d8e81bfd8ac8de4f4f8bd1c4551ff3) pic.twitter.com/3uRusjRUGN\n",
      "1232664480107991040 2020-02-26 05:51:28 Pacific Daylight Time <jeffreycarr> CYBERCOM has been publishing malware samples from APT28 and other bad actors to VirusTotal since 2018. So much for the \"exclusive use\" argument that has been the mainstay of cyber attribution assessments for years now.    https://www.vice.com/en_us/article/5dmwyx/documents-how-cybercom-publishes-russian-north-korean-malware-virustotal …\n",
      "1232652966928244737 2020-02-26 05:05:43 Pacific Daylight Time <CPUprogramme> L'Armée Américaine dévoile sur VirusTotal les malwares utilisés par la Corée du Nord et la Russie. PAs seulement pour le name&shame, mais aussi pour que leurs armes logicielles soit détectées et parées  https://www.vice.com/en_us/article/5dmwyx/documents-how-cybercom-publishes-russian-north-korean-malware-virustotal …\n",
      "1232643984830451712 2020-02-26 04:30:02 Pacific Daylight Time <HeliosCert> Sample analysed on #virustotal VirusTotal-Score: 49 VirusTotal:  https://www.virustotal.com/file/2ee99a16d48e78d04877da7f749da12d6ba252f12c246c709f48c6a187cedc74/analysis/1581732301/ … Threat: TROJ_GEN.R002C0PH419  (TrendMicro)\n",
      "1232642013616648193 2020-02-26 04:22:12 Pacific Daylight Time <CarlosThepap>  http://amzn.to/2tKdzwp  #coronavirususa #coronavirus #cornonaviruschina #virusoutbreak #VirusCorona #VirusThreatInCamps #virus #VirusWuhan #viruscoronachina #virustotal #coronaviruswuhan #ChinaCoronaVirus #China #ChinaCoronaVirus #COVID19 #Covid19usa #COVIDー19 #VIRUS_CORONA\n",
      "1232626941913640960 2020-02-26 03:22:18 Pacific Daylight Time <SATINFOSL> Informes de los Preanalisis de VirusTotal sobre nuevas muestras que pasaremos a controlar con EliStarA 43.02  https://ift.tt/3c840J2 \n",
      "1232608261750370304 2020-02-26 02:08:05 Pacific Daylight Time <mtnalonso> Please stop uploading personal photos / IDs to @virustotal. They are not able to identify if you have been infected with coronavirus or not. This is not how it works.\n",
      "1232596790324625408 2020-02-26 01:22:30 Pacific Daylight Time <_RPMConsulting_> \"#CyberCommand deploys #VirusTotal uploads for both offensive and defensive purposes at the same time—to ‘impose costs on nation state malicious cyber actors’ and to ‘enhance our shared global #cybersecurity,'\"  #cyberwar #cyberdefense #cyberwarfare  https://www.vice.com/en_us/article/5dmwyx/documents-how-cybercom-publishes-russian-north-korean-malware-virustotal …\n",
      "1232584039388897280 2020-02-26 00:31:49 Pacific Daylight Time <jjrruiz> @awscloud #malware on your networks:  http://107.23.228.234/arquivo/android/ConexaoCentral.php It is used by a banking Trojan with md5 32536f633c76aeeba39be7fe47bb426a. Proofs on #virustotal:  https://www.virustotal.com/gui/url/3f740abba7c30e603d07abe64eafb0abbdd87259327ad077e996a7a927b51bb3/detection …\n",
      "1232571006956515328 2020-02-25 23:40:02 Pacific Daylight Time <HeliosCert> Sample analysed on #virustotal VirusTotal-Score: 57 VirusTotal:  https://www.virustotal.com/file/20ac68ff16a384573ab93d2c89cbf91ddea3d7c9cbaf71233f078d035c0c7de9/analysis/1567077293/ … Threat: Ransom:Win32/CVE-2017-0147.A  (Microsoft)\n",
      "1232561499719290882 2020-02-25 23:02:16 Pacific Daylight Time <Aaronm04118128> Super interested in this talk. Having played with Emotet doing the same sort of thing (the 1st stage payload was macros) I’m interested to find out how did you “check” your results? Everyone often defends virustotal as not having vendors full commercial products on there...\n",
      "1232501798319116288 2020-02-25 19:05:02 Pacific Daylight Time <HeliosCert> Sample analysed on #virustotal VirusTotal-Score: 47 VirusTotal:  https://www.virustotal.com/file/913851e5df38bc271b82c28d0678781aa2afe9aa46c9d7a3effdd2717c53852c/analysis/1582619110/ … Threat: Trojan:Win32/Wacatac.C!ml  (Microsoft)\n",
      "1232489313905999872 2020-02-25 18:15:25 Pacific Daylight Time <CarlosThepap>  http://amzn.to/2tKdzwp  #coronavirususa #coronavirus #cornonaviruschina #virusoutbreak #VirusCorona #VirusThreatInCamps #virus #VirusWuhan #viruscoronachina #virustotal #coronaviruswuhan #ChinaCoronaVirus #China #ChinaCoronaVirus #COVID19 #Covid19usa #COVIDー19 #VIRUS_CORONA\n",
      "1232474696060325888 2020-02-25 17:17:20 Pacific Daylight Time <jskasia> @VXShare and @virustotal  thank you very much for the dataset from you repositories. I have published a malware detection method based on HMM algorithm using datasets from Virrusshare. You may find the paper here:  https://doi.org/10.1016/j.cose.2020.101773 …\n",
      "1232474441436684288 2020-02-25 17:16:19 Pacific Daylight Time <CollabVM> MSIL, and the gui KIND OF looks akin to that of Jigsaw, potential relation? (cant access virustotal samples so I cannot test this theory.)\n",
      "1232447566282805249 2020-02-25 15:29:32 Pacific Daylight Time <CarlosThepap>  http://amzn.to/2tKdzwp  #coronavirususa #coronavirus #cornonaviruschina #virusoutbreak #VirusCorona #VirusThreatInCamps #virus #VirusWuhan #viruscoronachina #virustotal #coronaviruswuhan #ChinaCoronaVirus #China #ChinaCoronaVirus #COVID19 #Covid19usa #COVIDー19 #VIRUS_CORONA\n",
      "1232444264358928384 2020-02-25 15:16:24 Pacific Daylight Time <javiespejo> @virustotal @cuckoosandbox  some sample available? https://twitter.com/elmundoes/status/1232425827519823873 …\n",
      "1232419694566572040 2020-02-25 13:38:47 Pacific Daylight Time <CarlosThepap>  http://amzn.to/2tKdzwp  #coronavirususa #coronavirus #cornonaviruschina #virusoutbreak #VirusCorona #VirusThreatInCamps #virus #VirusWuhan #viruscoronachina #virustotal #coronaviruswuhan #ChinaCoronaVirus #China #ChinaCoronaVirus #COVID19 #Covid19usa #TuesdayMotivation #COVIDー19\n",
      "1232411701905108992 2020-02-25 13:07:01 Pacific Daylight Time <infosecnews_> Internal Docs Show Why the U.S. Military Publishes North Korean and Russian Malware  https://www.vice.com/en_us/article/5dmwyx/documents-how-cybercom-publishes-russian-north-korean-malware-virustotal … #InfoSec #InfoSecNews #Security #CyberSecurity #Russia #Malware #NorthKorea #VirusTotal #APT28 #USCYBERCOM\n",
      "1232399879932170240 2020-02-25 12:20:02 Pacific Daylight Time <HeliosCert> Sample analysed on #virustotal VirusTotal-Score: 14 VirusTotal:  https://www.virustotal.com/file/693ef75be08d25cf619e2abbd2aba4d1bcd8a6c3c8e34e46f67f9f85ff8e5f36/analysis/1582651808/ … Threat: Trojan:Win32/Wacatac.C!ml  (Microsoft)\n",
      "1232360872691077126 2020-02-25 09:45:02 Pacific Daylight Time <HeliosCert> Sample analysed on #virustotal VirusTotal-Score: 49 VirusTotal:  https://www.virustotal.com/file/c0cd9c51c4fc4f7805d5d2e5e08e3701c2214ab9ee25a239b2ab3c7af0c8e797/analysis/1582636819/ … Threat: TSPY_TINCLEX.SM1  (TrendMicro)\n",
      "1232354082381291521 2020-02-25 09:18:03 Pacific Daylight Time <WylieNewmark> People will disagree about the scale of impacts, but the operative logic - \"The objectives of VirusTotal uploads are to impose cost on adversary nationstate MCAs and increase the resiliency of vulnerable networks\" - is pretty much exactly what I expected.   https://www.vice.com/en_us/article/5dmwyx/documents-how-cybercom-publishes-russian-north-korean-malware-virustotal …\n",
      "1232349298483965952 2020-02-25 08:59:03 Pacific Daylight Time <CarlosThepap>  http://amzn.to/2tKdzwp  #coronavirususa #coronavirus #cornonaviruschina #virusoutbreak #VirusCorona #VirusThreatInCamps #virus #VirusWuhan #viruscoronachina #virustotal #coronaviruswuhan #ChinaCoronaVirus #China #ChinaCoronaVirus #COVID19 #Covid19usa #TuesdayMotivation #COVIDー19\n",
      "1232348861299134464 2020-02-25 08:57:19 Pacific Daylight Time <mehrdad_2000> کاش ی جا مثل virustotal بود #کورونا آپلود میکردیم توش آنالیز میکرد برامون. 🦠\n"
     ]
    },
    {
     "name": "stdout",
     "output_type": "stream",
     "text": [
      "1232338069036109826 2020-02-25 08:14:26 Pacific Daylight Time <RidT> First, kudos to Joseph Cox for filing the request, and kudos to CYBERCOM for being so responsive. Just to state the obvious: the official CYBERCOM releases on Virustotal are a good thing: an innovative, productive, and effective counterintelligence tactic.\n",
      "1232336669015187458 2020-02-25 08:08:52 Pacific Daylight Time <RidT> Cyber Command FOIA released some of the rationale behind revealing secret hacking tools used by adversarial governments on Virustotal to @josephfcox  https://www.vice.com/en_us/article/5dmwyx/documents-how-cybercom-publishes-russian-north-korean-malware-virustotal …  ^ Joseph quotes me prominently there, so I'd like to add some context.\n",
      "1232311365768867840 2020-02-25 06:28:19 Pacific Daylight Time <shanvav> Cybercom’s posting of malware from nation-states on VirusTotal is, as has long been thought, intended to signal to adversaries/“disrupt” their activities by “putting pressure on malicious cyber actors\" — not just a boost for defense, per FOIA. @josephfcox  https://bit.ly/2HWpef0 \n",
      "1232306763715817472 2020-02-25 06:10:02 Pacific Daylight Time <HeliosCert> Sample analysed on #virustotal VirusTotal-Score: 65 VirusTotal:  https://www.virustotal.com/file/67e6c96d995da1cf7052d9c27ac740c5b42fc5982b79f53ceb201b0a8f894663/analysis/1579997718/ … Threat: Ransom_WCRY.THBOGH  (TrendMicro)\n",
      "1232304808326909952 2020-02-25 06:02:16 Pacific Daylight Time <ForestHouse16>  https://www.youtube.com/watch?v=SbaPJZ5gkMk …  바이러스 있습니다. Win32:Zorex-A [Wrm] 이며 virustotal 에서 검색 및 SNDBOX에서 실제로 테스트해보고 로그 분석해보았습니다. ProgramData에  h 및 s를 가진  Synaptics 폴더가 생성됩니다. 이 바이러스는 키보드 키로그 수집을 하는 것만은  명백합니다.  pic.twitter.com/BKKPVPYULC\n",
      "1232303907172421639 2020-02-25 05:58:41 Pacific Daylight Time <CarlosThepap>  http://amzn.to/2tKdzwp  #coronavirususa #coronavirus #cornonaviruschina #virusoutbreak #VirusCorona #VirusThreatInCamps #virus #VirusWuhan #viruscoronachina #virustotal #coronaviruswuhan #ChinaCoronaVirus #China #ChinaCoronaVirus #COVID19 #Covid19usa #TuesdayMotivation\n",
      "1232302512897740800 2020-02-25 05:53:08 Pacific Daylight Time <LuzGCajete> Sorry!\n",
      "1232301897530462208 2020-02-25 05:50:42 Pacific Daylight Time <gerardofn> Gracias!, pero no me des más trabajo de la cuenta. El CEO de VT es @bquintero\n",
      "1232293335814983682 2020-02-25 05:16:40 Pacific Daylight Time <josephfcox> Here is the process CYBERCOM follows when it decides to dump some Russian malware onto VirusTotal  https://www.vice.com/en_us/article/5dmwyx/documents-how-cybercom-publishes-russian-north-korean-malware-virustotal … pic.twitter.com/E9GfcQJzL0\n",
      "1232290355006959616 2020-02-25 05:04:50 Pacific Daylight Time <josephfcox> New: obtained previously secret CYBERCOM docs showing how, and why, the agency publicly releases malware from North Korean, Russian hackers onto VirusTotal. As suspected, it's not just to help defenders, but to impose costs on other nation state hackers  https://www.vice.com/en_us/article/5dmwyx/documents-how-cybercom-publishes-russian-north-korean-malware-virustotal …\n",
      "1232277822410051586 2020-02-25 04:15:02 Pacific Daylight Time <HeliosCert> Sample analysed on #virustotal VirusTotal-Score: 66 VirusTotal:  https://www.virustotal.com/file/408d55f5079c3c771c5e5dd310332cb9ac85cfec02fa9469538d4fb83e51efac/analysis/1579183741/ … Threat: Ransom_WCRY.ENCBSH  (TrendMicro)\n",
      "1232276435391459329 2020-02-25 04:09:31 Pacific Daylight Time <jcanto>  https://developers.virustotal.com/v3.0/reference \n",
      "1232275354653483008 2020-02-25 04:05:13 Pacific Daylight Time <LuzGCajete> Muy interesante la intervención del CEO de @virustotal sobre #ciberseguridad de la mano de #Google. Ejemplos que te hacen pensar. Los #malos no descansan😫 #SemanaDelSeguro pic.twitter.com/oInhVZJzeF\n",
      "1232274724622868480 2020-02-25 04:02:43 Pacific Daylight Time <GrupoPreventiva> Gerardo Fernandez experto de VIRUSTOTAL nos cuenta la próximas amenazas en cibercrimen.   Una de las amenazas que deben conocer las empresas para este año es el incremento de ataques dirigidos.   #SemanaDelSeguro @Inese_seguros\n",
      "1232273498904682499 2020-02-25 03:57:51 Pacific Daylight Time <Inese_seguros> Conectamos en directo con Gerardo Fernandez experto de VIRUSTOTAL y que nos va a hablar sobre cibercrimen: armas contra un nuevo competidor  pic.twitter.com/G5nQ63lq03\n",
      "1232271947289047040 2020-02-25 03:51:41 Pacific Daylight Time <Inese_seguros> Los principales proyectos de Ciberseguridad de @GoogleCloud_ES son Project Zero (800 ingenieros #ciberataques) y VIRUSTOTAL (gestión forense de ataques a la seguridad) #SemanaDelSeguro pic.twitter.com/xiFp8sR2Yt\n",
      "1232270704911028224 2020-02-25 03:46:45 Pacific Daylight Time <valarsecuris> Just spent a good amount of time on @virustotal. I’m pretty sure I know how to utilize this total but just to be sure is there full documentation?\n",
      "1232251974453780480 2020-02-25 02:32:19 Pacific Daylight Time <SATINFOSL> Informes de los Preanalisis de VirusTotal sobre nuevas muestras que pasaremos a controlar con EliStarA 43.01  https://ift.tt/37Ty9Zr \n",
      "1232248477658361856 2020-02-25 02:18:25 Pacific Daylight Time <valarsecuris> VirusTotal Academy - Using VirusTotal Intelligence to dissect a cryptomi...  https://youtu.be/4DjHNtKWkes  via @YouTube\n",
      "1232248409131646976 2020-02-25 02:18:09 Pacific Daylight Time <valarsecuris> How to analyze websites (URLs) in VirusTotal  https://youtu.be/snCeY9QPH6A  via @YouTube\n",
      "1232227837928755200 2020-02-25 00:56:24 Pacific Daylight Time <amdre_young> Boa! Sabe uma coisa que pouparia tempo e esforço no front? Fazer um painel tipo blog onde os organizadores pudessem escolher as cores e imagens de fundo, dai vc n precisaria se importar com o design\n",
      "1232177223467257857 2020-02-24 21:35:17 Pacific Daylight Time <cyberg0100> I just posted \"Detecting malicious downloads with Osquery, Rsyslog, Kafka, Python3 and Virustotal | by Ben Bornholm\" on Reddit   https://www.reddit.com/r/CyberSpaceVN/comments/f95euw/detecting_malicious_downloads_with_osquery/?utm_content=post&utm_medium=twitter&utm_source=share&utm_name=submit&utm_term=t3_f95euw …\n",
      "1232176101570400256 2020-02-24 21:30:49 Pacific Daylight Time <JiaYu_521> Yeah, they always kill each other. That's why I think they(#systemdMiner #LSDMiner ) belong to different groups.  https://twitter.com/JiaYu_521/status/1196691027718893568?s=20 …  The #GreedyAntd variant is interesting, I haven't seen that sample👍👍\n",
      "1232169611191341059 2020-02-24 21:05:02 Pacific Daylight Time <HeliosCert> Sample analysed on #virustotal VirusTotal-Score: 53 VirusTotal:  https://www.virustotal.com/file/34ad2ac29ee174e60645a5f20f3563066f78a9dc05b07f18193f3b76aa0b5b10/analysis/1551062565/ … Threat: Ransom:Win32/CVE-2017-0147.A  (Microsoft)\n",
      "1232146932732219393 2020-02-24 19:34:55 Pacific Daylight Time <PxLucasF> @amdre_young, aqui estou eu novamente pra mostrar algum progresso. Dessa vez, sem inspiração pro front, resolvi desenvolver o back-end. Emocionei? Talvez, mas agora já dá pra enviar o jogo e escanear os arquivos pela API do @virustotal + cadastro e perfil funcionando parcialmente  pic.twitter.com/PTj2OLzKRw\n",
      "1232133121052749824 2020-02-24 18:40:02 Pacific Daylight Time <HeliosCert> Sample analysed on #virustotal VirusTotal-Score: 45 VirusTotal:  https://www.virustotal.com/file/b76b157a8d6ccfd5cc7ea8eed54af4d0aab9e97f8d641f886617252d9acc48bc/analysis/1582586107/ … Threat: Trojan:Win32/CoinMiner.GG!MTB  (Microsoft)\n",
      "1232127381621682178 2020-02-24 18:17:14 Pacific Daylight Time <CarlosThepap>  http://amzn.to/2tKdzwp  #coronavirususa #earthquake #coronavirus #cornonaviruschina #virusoutbreak #VirusCorona #VirusThreatInCamps #virus #VirusWuhan #viruscoronachina #virustotal #coronaviruswuhan #ChinaCoronaVirus #China #ChinaCoronaVirus #COVID19 #Covid19usa #MondayMorning\n",
      "1232115527621005312 2020-02-24 17:30:08 Pacific Daylight Time <da_667> save that piss for trend micro. at least symantec logs give you hashes so you can do something useful. like look up the hash on virustotal  *baleful eye towards TM*\n",
      "1232111728718229505 2020-02-24 17:15:02 Pacific Daylight Time <HeliosCert> Sample analysed on #virustotal VirusTotal-Score: 52 VirusTotal:  https://www.virustotal.com/file/43c99a5829184d5d766ba5a5f089cd32a324bcdc20660ad201e1975e4573438b/analysis/1582584310/ … Threat: Trojan:Win32/Wacatac.C!ml  (Microsoft)\n"
     ]
    },
    {
     "name": "stdout",
     "output_type": "stream",
     "text": [
      "1232101661277028354 2020-02-24 16:35:02 Pacific Daylight Time <HeliosCert> Sample analysed on #virustotal VirusTotal-Score: 53 VirusTotal:  https://www.virustotal.com/file/76a6adf9ef71e6bc42f0d1087c427e9bd35f8eadb1fb33a04d8b7c490183d636/analysis/1550734442/ … Threat: Ransom:Win32/CVE-2017-0147.A  (Microsoft)\n",
      "1232091837537673216 2020-02-24 15:55:59 Pacific Daylight Time <CarlosThepap>  http://amzn.to/2tKdzwp  #coronavirususa #earthquake #coronavirus #cornonaviruschina #virusoutbreak #VirusCorona #VirusThreatInCamps #virus #VirusWuhan #viruscoronachina #virustotal #coronaviruswuhan #ChinaCoronaVirus #China #ChinaCoronaVirus #COVID19 #Covid19usa #MondayMorning\n",
      "1232046363350913033 2020-02-24 12:55:17 Pacific Daylight Time <CarlosThepap>  http://amzn.to/2tKdzwp  #coronavirususa #earthquake #coronavirus #cornonaviruschina #virusoutbreak #VirusCorona #VirusThreatInCamps #virus #VirusWuhan #viruscoronachina #virustotal #coronaviruswuhan #ChinaCoronaVirus #China #ChinaCoronaVirus #COVID19 #Covid19usa #MondayMorning,,,\n",
      "1232040794099503104 2020-02-24 12:33:10 Pacific Daylight Time <iliketrainsorn1> is the ad a virus? cause virustotal detected it\n",
      "1232003103026794497 2020-02-24 10:03:23 Pacific Daylight Time <CarlosThepap>  http://amzn.to/31RmUiR  #Coronavirus #coronavirususa #CoronaOutbreak #coronaviruschina #viruscoronachina #virusoutbreak #VirusWuhan #virustotal #VirUshka #AmazonPrime #ChinaCoronaVirus #ChinaVirusSesungguhnya #COVIDー19 #COVD19 #Covid19usa #COVID #COVID19Korea #Covid_19\n",
      "1232002594282889216 2020-02-24 10:01:22 Pacific Daylight Time <CarlosThepap>  http://amzn.to/2tKdzwp  #coronavirususa #earthquake #coronavirus #cornonaviruschina #virusoutbreak #VirusCorona #VirusThreatInCamps #virus #VirusWuhan #viruscoronachina #virustotal #coronaviruswuhan #ChinaCoronaVirus #China #ChinaCoronaVirus #COVID19 #Covid19usa #MondayMorning\n",
      "1231993649489203200 2020-02-24 09:25:50 Pacific Daylight Time <0x4A_0x4D> Phishing/C&C operation discovered @ 193[.]35[.]50[.]251 with 300 domains and .apk malware #ThreatIntel #ThreatHunting #otx  https://otx.alienvault.com/pulse/5e540259fd6b0906444b9c95 … #virustotal  https://virustotal.com/graph/embed/g6  pic.twitter.com/TXMkinP9Tc\n",
      "1231977791832199168 2020-02-24 08:22:49 Pacific Daylight Time <IntezerLabs> 🆕 #QNAPCrypt samples found in VirusTotal (1/61 detections). Follow same implementation as last reported variants -  * AES CFB for encrypted files * Random sequence as AES key encrypted with shipped RSA public key * Checks for RU/UA Locale ->>> 1/2  pic.twitter.com/hpxdJRD8Ie\n",
      "1231956566154280962 2020-02-24 06:58:28 Pacific Daylight Time <CarlosThepap>  http://amzn.to/2tKdzwp  #coronavirususa #earthquake #coronavirus #cornonaviruschina #virusoutbreak #VirusCorona #VirusThreatInCamps #virus #VirusWuhan #viruscoronachina #virustotal #coronaviruswuhan #ChinaCoronaVirus #China #ChinaCoronaVirus #COVID19 #Covid19usa #MondayMorning\n",
      "1231956207054790661 2020-02-24 06:57:03 Pacific Daylight Time <CarlosThepap>  http://amzn.to/31RmUiR  #Coronavirus #coronavirususa #CoronaOutbreak #coronaviruschina #viruscoronachina #virusoutbreak #VirusWuhan #virustotal #VirUshka #AmazonPrime #ChinaCoronaVirus #ChinaVirusSesungguhnya #COVIDー19 #COVD19 #Covid19usa #COVID #COVID19Korea #Covid_19\n",
      "1231954309677506560 2020-02-24 06:49:30 Pacific Daylight Time <cyber__sloth> Not sure why would people upload ebooks to Virustotal. The book costs £38 and it's free to download from VT.  pic.twitter.com/nqFkDqI6H1\n",
      "1231943441044688896 2020-02-24 06:06:19 Pacific Daylight Time <c3rb3ru5d3d53c> @virustotal  is great at detection and not diagnosis, on the other hand, @malpedia is great at diagnosis and not detection. pic.twitter.com/EJKiGpL9bo\n",
      "1231943254498738179 2020-02-24 06:05:34 Pacific Daylight Time <elcanalrandom> Una vez comprimido lo subo a la web de VIRUSTOTAL, actualmente propiedad de GOOGLE y solamente un antivirus es capaz de detectarlo, con lo que decido enviarlo directamente a mi Partner de antivirus.  pic.twitter.com/48MIPhNNDq\n",
      "1231913037663109121 2020-02-24 04:05:30 Pacific Daylight Time <distchocomp> 今の最新の書き込みによると、Bitdefenderでスキャンした後、VirusTotalにアップロードしてクリーンメッセージもらって確認しているそうです。なので作業はゆっくりとのこと。まず特にWin版をすでに入れた人はウイルススキャンしましょう。  https://twitter.com/ChilloutBeats/status/1231910851986087936 …\n",
      "1231911236209647616 2020-02-24 03:58:21 Pacific Daylight Time <CarlosThepap>  http://amzn.to/31RmUiR  #Coronavirus #coronavirususa #CoronaOutbreak #coronaviruschina #viruscoronachina #virusoutbreak #VirusWuhan #virustotal #VirUshka #AmazonPrime #ChinaCoronaVirus #ChinaVirusSesungguhnya #COVIDー19 #COVD19 #Covid19usa #COVID #COVID19Korea #Covid_19...\n",
      "1231910382597484545 2020-02-24 03:54:57 Pacific Daylight Time <CarlosThepap>  http://amzn.to/2tKdzwp  #coronavirususa #earthquake #coronavirus #cornonaviruschina #virusoutbreak #VirusCorona #VirusThreatInCamps #virus #VirusWuhan #viruscoronachina #virustotal #coronaviruswuhan #ChinaCoronaVirus #China #ChinaCoronaVirus #COVID19 #Covid19usa #MondayMorning\n",
      "1231908719212007425 2020-02-24 03:48:21 Pacific Daylight Time <nicoBonnetR> 📌 Just bookmarked: VirusTotal #security  https://nightowls.ninja/go/uPBLh3hvT  via @nightowlsninja\n",
      "1231908718830288896 2020-02-24 03:48:20 Pacific Daylight Time <nicoBonnetR> 📌 Just bookmarked: VirusTotal #security  https://nightowls.ninja/go/4x1ukri7  via @nightowlsninja\n",
      "1231885839782662150 2020-02-24 02:17:26 Pacific Daylight Time <malr1na> #技術書典 8 で頒布予定だった「Vt: ゼロから始める偵察活動」」は、BOOTH にて 2月29日から電子書籍版を販売する予定です。閲覧用、観賞用、保存用、贈呈用などお一人様何冊でも大丈夫です♪  https://malrina.booth.pm/  #VirusTotal #OSINT #技術書 #積読 pic.twitter.com/Jrs2Yy739C\n",
      "1231874500498776064 2020-02-24 01:32:22 Pacific Daylight Time <SATINFOSL> Informes de los Preanalisis de VirusTotal sobre nuevas muestras que pasaremos a controlar con EliStarA 43.00  https://ift.tt/3c6UJkG \n",
      "1231860081370767368 2020-02-24 00:35:04 Pacific Daylight Time <tinyhelpersdev> New helper added: VirusTotal – Analyze suspicious files and URLs to detect types of malware, automatically share them with the security community..  https://ift.tt/KJ4aYi \n",
      "1231852398051807232 2020-02-24 00:04:33 Pacific Daylight Time <ItsKevBarnes> Read my Feb 24 Newsletter featuring “VirusTotal”  https://nzzl.us/mRPZxiC \n",
      "1231841821451603968 2020-02-23 23:22:31 Pacific Daylight Time <andrea_data> Virustotal for checking if a link in an email is dodgy\n",
      "1231838740521390080 2020-02-23 23:10:16 Pacific Daylight Time <STT60861270> #backdoor #lokibot #malware #ThreatIntel #infosec #ThreatHunting #appanyrun  https://app.any.run/tasks/fe602e8b-1563-45d1-a223-cbc33e000be7 … #virustotal  https://www.virustotal.com/gui/file/a49828bcd17c415c29cc334205aa662de8be7db33eb5ebb6d031b5e6db53ee16/detection …\n",
      "1231792939669409804 2020-02-23 20:08:17 Pacific Daylight Time <KAS_stoner> @virustotal\n",
      "1231786249809063937 2020-02-23 19:41:42 Pacific Daylight Time <RussianBlue25> 検体はVirusTotalでとってきた、という一文を見ると暗い気持ちになる。\n",
      "1231766959525629952 2020-02-23 18:25:02 Pacific Daylight Time <HeliosCert> Sample analysed on #virustotal VirusTotal-Score: 47 VirusTotal:  https://www.virustotal.com/file/def7ecf8aa63604355204120f9c28e669b33268e3440e689b7e9beaaf7e7e7ef/analysis/1582478409/ … Threat: Trojan:Win32/Wacatac.C!ml  (Microsoft)\n",
      "1231761622257020928 2020-02-23 18:03:50 Pacific Daylight Time <CarlosThepap>  http://amzn.to/2tKdzwp  #coronavirususa #earthquake #coronavirus #cornonaviruschina #corona #virusoutbreak #VirusCorona #VirusThreatInCamps #virus #VirusWuhan #viruscoronachina #virustotal #coronaviruswuhan #ChinaCoronaVirus #China #ChinaCoronaVirus #COVID19 #Covid19usa\n",
      "1231760643121983489 2020-02-23 17:59:56 Pacific Daylight Time <CarlosThepap>  http://amzn.to/31RmUiR  #Coronavirus #coronavirususa #CoronaOutbreak #coronaviruschina #viruscoronachina #virusoutbreak #VirusWuhan #virustotal #VirUshka #AmazonPrime #ChinaCoronaVirus #ChinaVirusSesungguhnya #COVIDー19 #COVD19 #Covid19usa #COVID #COVID19Korea #Covid_19\n",
      "1231753350959554562 2020-02-23 17:30:58 Pacific Daylight Time <premo36> #Doom mod loader source code release on @github and also the new version release on @ModDB are on hold as I'm waiting both @cylanceinc and @SecureAPlusFree to resolve the false positive issue with the 2.2b version on @virustotal\n",
      "1231728280836935680 2020-02-23 15:51:21 Pacific Daylight Time <CarlosThepap>  http://amzn.to/2tKdzwp  #coronavirususa #earthquake #coronavirus #cornonaviruschina #corona #virusoutbreak #VirusCorona #VirusThreatInCamps #virus #VirusWuhan #viruscoronachina #virustotal #coronaviruswuhan #ChinaCoronaVirus #China #ChinaCoronaVirus #COVID19 #Covid19usa #COVID\n",
      "1231726799333330945 2020-02-23 15:45:27 Pacific Daylight Time <CarlosThepap>  http://amzn.to/31RmUiR  #Coronavirus #coronavirususa #CoronaOutbreak #coronaviruschina #viruscoronachina #virusoutbreak #VirusWuhan #virustotal #VirUshka #AmazonPrime #ChinaCoronaVirus #ChinaVirusSesungguhnya #COVIDー19 #COVD19 #Covid19usa #COVID #COVID19Korea #Covid_19\n"
     ]
    },
    {
     "name": "stdout",
     "output_type": "stream",
     "text": [
      "1231706559757025283 2020-02-23 14:25:02 Pacific Daylight Time <HeliosCert> Sample analysed on #virustotal VirusTotal-Score: 0 VirusTotal:  https://www.virustotal.com/file/c8f936ae78bb808abe60b827d61049ce2443e1786c7e113b8dc07947e8175ab2/analysis/1582491912/ … Threat:\n",
      "1231685135684308993 2020-02-23 12:59:54 Pacific Daylight Time <CarlosThepap>  http://amzn.to/31RmUiR  #Coronavirus #coronavirususa #CoronaOutbreak #coronaviruschina #viruscoronachina #virusoutbreak #VirusWuhan #virustotal #VirUshka #AmazonPrime #ChinaCoronaVirus #ChinaVirusSesungguhnya #COVIDー19 #COVD19 #Covid19usa #COVID #COVID19Korea #Covid_19 ....\n",
      "1231684184789352449 2020-02-23 12:56:07 Pacific Daylight Time <CarlosThepap>  http://amzn.to/2tKdzwp  #coronavirususa #earthquake #coronavirus #cornonaviruschina #corona #virusoutbreak #VirusCorona #VirusThreatInCamps #virus #VirusWuhan #viruscoronachina #virustotal #coronaviruswuhan #ChinaCoronaVirus #China #ChinaCoronaVirus #COVID19 #Covid19usa #COVID...\n",
      "1231644904998219782 2020-02-23 10:20:02 Pacific Daylight Time <HeliosCert> Sample analysed on #virustotal VirusTotal-Score: 48 VirusTotal:  https://www.virustotal.com/file/1f2ae650fdefb75fd7775dd7ad86aa81ca7d19595f58b4a07b32a6502079d815/analysis/1582462809/ … Threat: Trojan:Win32/Wacatac.C!ml  (Microsoft)\n",
      "1231608471243644930 2020-02-23 07:55:16 Pacific Daylight Time <CarlosThepap>  http://amzn.to/2tKdzwp  #coronavirususa #earthquake #coronavirus #cornonaviruschina #corona #virusoutbreak #VirusCorona #VirusThreatInCamps #virus #VirusWuhan #viruscoronachina #virustotal #coronaviruswuhan #ChinaCoronaVirus #China #ChinaCoronaVirus #COVID19 #Covid19usa #COVID...\n",
      "1231607985455104002 2020-02-23 07:53:20 Pacific Daylight Time <CarlosThepap>  http://amzn.to/31RmUiR  #Coronavirus #coronavirususa #CoronaOutbreak #coronaviruschina #viruscoronachina #virusoutbreak #VirusWuhan #virustotal #VirUshka #AmazonPrime #ChinaCoronaVirus #ChinaVirusSesungguhnya #COVIDー19 #COVD19 #Covid19usa #COVID #COVID19Korea #Covid_19 ....\n",
      "1231566974423093248 2020-02-23 05:10:22 Pacific Daylight Time <CarlosThepap>  http://amzn.to/31RmUiR  #Coronavirus #coronavirususa #CoronaOutbreak #coronaviruschina #viruscoronachina #virusoutbreak #VirusWuhan #virustotal #VirUshka #AmazonPrime #ChinaCoronaVirus #ChinaVirusSesungguhnya #COVIDー19 #COVD19 #Covid19usa #COVID #COVID19Korea #Covid_19\n",
      "1231566218668187648 2020-02-23 05:07:22 Pacific Daylight Time <CarlosThepap>  http://amzn.to/2tKdzwp  #coronavirususa #earthquake #coronavirus #cornonaviruschina #corona #virusoutbreak #VirusCorona #VirusThreatInCamps #virus #VirusWuhan #viruscoronachina #virustotal #coronaviruswuhan #ChinaCoronaVirus #China #ChinaCoronaVirus #COVID19 #Covid19usa #COVID\n",
      "1231538928072712198 2020-02-23 03:18:55 Pacific Daylight Time <kimberling_149> Conoce estas 5 herramientas para no entrar en páginas maliciosas  https://www.redeszone.net/tutoriales/seguridad/herramientas-detectar-sitios-web-maliciosos/ … 🛠 Sucuri  https://sitecheck.sucuri.net/  🛠 PCRisk  https://scanner.pcrisk.com/  🛠 MyWOT  https://chrome.google.com/webstore/detail/wot-web-of-trust-website/bhmmomiinigofkjcapegjjndpbikblnp … 🛠 URLVoid  https://www.urlvoid.com/  🛠 VirusTotal  https://www.virustotal.com/gui/home/url \n",
      "1231483843774947329 2020-02-22 23:40:02 Pacific Daylight Time <HeliosCert> Sample analysed on #virustotal VirusTotal-Score: 48 VirusTotal:  https://www.virustotal.com/file/457d91ee381a341869f0c6e317361acf58606842e3eb2535e6d5e18c4aee378c/analysis/1577238258/ … Threat: TROJ_GEN.R002C0DLO19  (TrendMicro)\n",
      "1231470002269827072 2020-02-22 22:45:02 Pacific Daylight Time <HeliosCert> Sample analysed on #virustotal VirusTotal-Score: 61 VirusTotal:  https://www.virustotal.com/file/c0f31771fbc18ba5e68ff7cd29cdf82bc2806a5b6652019ba820ab6146474bee/analysis/1566031433/ … Threat: Ransom:Win32/CVE-2017-0147.A  (Microsoft)\n",
      "1231464968555520000 2020-02-22 22:25:02 Pacific Daylight Time <HeliosCert> Sample analysed on #virustotal VirusTotal-Score: 19 VirusTotal:  https://www.virustotal.com/file/27c9843e9b8df04614c753007091a24c3f3c84668b5122a2d39bc0cfe54e659b/analysis/1582337510/ … Threat: Gen:Variant.MSILKrypt.46  (BitDefender)\n",
      "1231451125406224384 2020-02-22 21:30:02 Pacific Daylight Time <HeliosCert> Sample analysed on #virustotal VirusTotal-Score: 36 VirusTotal:  https://www.virustotal.com/file/65da4ede295a31428f8a1ae2ea76f27c92dc5d9c8cb5cc440a69c82bc0cbd6e5/analysis/1582370019/ … Threat: Backdoor:MSIL/Bladabindi.AJ  (Microsoft)\n",
      "1231445735746478081 2020-02-22 21:08:37 Pacific Daylight Time <86_compatible> UPDATE: we have a virustotal entry now:  https://www.virustotal.com/gui/file/0a937d4fe8aa6cb947b95841c490d73e452a3cafcd92645afc353006786aba76/details …  and boy oh boy is this particular bit of malware thorough\n",
      "1231405829087203331 2020-02-22 18:30:02 Pacific Daylight Time <HeliosCert> Sample analysed on #virustotal VirusTotal-Score: 58 VirusTotal:  https://www.virustotal.com/file/149979213411fcac20f7cbc1a26e1521b80073aff05d4c0f967046ef5f23b13a/analysis/1574595189/ … Threat: TROJ_AGENT.SMAI  (TrendMicro)\n",
      "1231403602805215232 2020-02-22 18:21:11 Pacific Daylight Time <CarlosThepap>  http://amzn.to/2tKdzwp  #coronavirususa #earthquake #coronavirus #cornonaviruschina #corona #virusoutbreak #VirusCorona #VirusThreatInCamps #virus #VirusWuhan #viruscoronachina #virustotal #coronaviruswuhan #ChinaCoronaVirus #China #ChinaCoronaVirus #COVID19 #Covid19usa #COVID ..\n",
      "1231402811017060353 2020-02-22 18:18:03 Pacific Daylight Time <CarlosThepap>  http://amzn.to/31RmUiR  #Coronavirus #coronavirususa #CoronaOutbreak #coronaviruschina #viruscoronachina #virusoutbreak #VirusWuhan #virustotal #VirUshka #AmazonPrime #ChinaCoronaVirus #ChinaVirusSesungguhnya #COVIDー19 #COVD19 #Covid19usa #COVID #COVID19Korea #Covid_19 ....\n",
      "1231397956600901633 2020-02-22 17:58:45 Pacific Daylight Time <cryptodotbi> Virustotal says it is virus totally.\n",
      "1231370596107374594 2020-02-22 16:10:02 Pacific Daylight Time <HeliosCert> Sample analysed on #virustotal VirusTotal-Score: 44 VirusTotal:  https://www.virustotal.com/file/30ef3d46a266114674f601d9d03f85029ec54821f104b9e86903113d47914b6f/analysis/1582390808/ … Threat: Trojan:Win32/Wacatac.C!ml  (Microsoft)\n",
      "1231365699441963009 2020-02-22 15:50:35 Pacific Daylight Time <CarlosThepap>  http://amzn.to/31RmUiR  #Coronavirus #coronavirususa #CoronaOutbreak #coronaviruschina #viruscoronachina #virusoutbreak #VirusWuhan #virustotal #VirUshka #AmazonPrime #ChinaCoronaVirus #ChinaVirusSesungguhnya #COVIDー19 #COVD19 #Covid19usa #COVID #COVID19Korea #Covid_19\n",
      "1231364425153687554 2020-02-22 15:45:31 Pacific Daylight Time <CarlosThepap>  http://amzn.to/2tKdzwp  #coronavirususa #earthquake #coronavirus #cornonaviruschina #corona #virusoutbreak #VirusCorona #VirusThreatInCamps #virus #VirusWuhan #viruscoronachina #virustotal #coronaviruswuhan #ChinaCoronaVirus #China #ChinaCoronaVirus #COVID19 #Covid19usa #COVID\n",
      "1231345429264109570 2020-02-22 14:30:02 Pacific Daylight Time <HeliosCert> Sample analysed on #virustotal VirusTotal-Score: 1 VirusTotal:  https://www.virustotal.com/file/35c5c9b18e73d2a03e724d8f422cf53511995dc6229dce6f654397e42816157b/analysis/1526611001/ … Threat:\n",
      "1231323726412537856 2020-02-22 13:03:47 Pacific Daylight Time <CarlosThepap>  http://amzn.to/2tKdzwp  #coronavirususa #earthquake #coronavirus #cornonaviruschina #corona #virusoutbreak #VirusCorona #VirusThreatInCamps #virus #VirusWuhan #viruscoronachina #virustotal #coronaviruswuhan #ChinaCoronaVirus #China #ChinaCoronaVirus #COVID19 #Covid19usa #COVID\n",
      "1231322274327859200 2020-02-22 12:58:01 Pacific Daylight Time <CarlosThepap>  http://amzn.to/31RmUiR  #Coronavirus #coronavirususa #CoronaOutbreak #coronaviruschina #viruscoronachina #virusoutbreak #VirusWuhan #virustotal #VirUshka #AmazonPrime #ChinaCoronaVirus #ChinaVirusSesungguhnya #COVIDー19 #COVD19 #Covid19usa #COVID #COVID19Korea\n",
      "1231313975310213125 2020-02-22 12:25:03 Pacific Daylight Time <HeliosCert> Sample analysed on #virustotal VirusTotal-Score: 36 VirusTotal:  https://www.virustotal.com/file/f0f425ab50a4839e3fcf9a69d944473ae37813e076aed3d6bc3b44ce8ae206b5/analysis/1582389609/ … Threat: Trojan:Win32/Wacatac.D!ml  (Microsoft)\n",
      "1231311456601354240 2020-02-22 12:15:02 Pacific Daylight Time <HeliosCert> Sample analysed on #virustotal VirusTotal-Score: 59 VirusTotal:  https://www.virustotal.com/file/860b2217cd9c289b17795d176001dd3771a80016c21b53310ce4b0502dbb3dbd/analysis/1551436258/ … Threat: Ransom:Win32/CVE-2017-0147.A  (Microsoft)\n",
      "1231278064325271553 2020-02-22 10:02:21 Pacific Daylight Time <CarlosThepap>  http://amzn.to/31RmUiR  #Coronavirus #coronavirususa #CoronaOutbreak #coronaviruschina #viruscoronachina #virusoutbreak #VirusWuhan #virustotal #VirUshka #AmazonPrime #ChinaCoronaVirus #ChinaVirusSesungguhnya #COVIDー19 #COVD19 #Covid19usa #COVID #COVID19Korea\n"
     ]
    },
    {
     "name": "stdout",
     "output_type": "stream",
     "text": [
      "1231277787094405127 2020-02-22 10:01:15 Pacific Daylight Time <CarlosThepap>  http://amzn.to/2tKdzwp  #coronavirususa #earthquake #coronavirus #cornonaviruschina #corona #virusoutbreak #VirusCorona #VirusThreatInCamps #virus #VirusWuhan #viruscoronachina #virustotal #coronaviruswuhan #ChinaCoronaVirus #China #ChinaCoronaVirus #COVID19 #Covid19usa #COVID\n",
      "1231275962253230080 2020-02-22 09:54:00 Pacific Daylight Time <NandanTech> What is Virus Total  | Scan Your Files with Multiple Antiviruses.  https://youtu.be/FBEFz5dcqtA  via @YouTube #technandan #VirusTotal #Virus #antivirus #website #malwarebytes #malware\n",
      "1231232450417827840 2020-02-22 07:01:06 Pacific Daylight Time <CarlosThepap>  http://amzn.to/2tKdzwp  #coronavirususa #earthquake #coronavirus #cornonaviruschina #corona #virusoutbreak #VirusCorona #VirusThreatInCamps #virus #VirusWuhan #viruscoronachina #virustotal #coronaviruswuhan #ChinaCoronaVirus #China #ChinaCoronaVirus #COVID19 #Covid19usa #COVID\n",
      "1231232258536804353 2020-02-22 07:00:20 Pacific Daylight Time <CarlosThepap>  http://amzn.to/31RmUiR  #Coronavirus #coronavirususa #CoronaOutbreak #coronaviruschina #viruscoronachina #virusoutbreak #VirusWuhan #virustotal #VirUshka #AmazonPrime #ChinaCoronaVirus #ChinaVirusSesungguhnya #COVIDー19 #COVD19 #Covid19usa #COVID #COVID19Korea .....\n",
      "1231220598208110598 2020-02-22 06:14:00 Pacific Daylight Time <eForensics_Mag> This setup will utilize technologies such as Osquery, Rsyslog, Kafka, Docker, Python3, and VirusTotal for a logging pipeline.   http://bit.ly/38PElmn  #malicious #detect #Osquery #Rsyslog #Python3 #kafka #virustotal #digitalforensics\n",
      "1231217085247823873 2020-02-22 06:00:02 Pacific Daylight Time <HeliosCert> Sample analysed on #virustotal VirusTotal-Score: 66 VirusTotal:  https://www.virustotal.com/file/248ab286f66c8623a3b3a787159daf6dc232cfcfec0592a3fd0eb23a30785bb4/analysis/1579482918/ … Threat: Ransom_WCRY.THBOGH  (TrendMicro)\n",
      "1231213309082423296 2020-02-22 05:45:02 Pacific Daylight Time <HeliosCert> Sample analysed on #virustotal VirusTotal-Score: 1 VirusTotal:  https://www.virustotal.com/file/bf3ebeb7a969d94058a79b0c90933edea714f80148d9d2c891ad05f00abddf8d/analysis/1582325942/ … Threat:\n",
      "1231208869197746176 2020-02-22 05:27:23 Pacific Daylight Time <pmelson> It was set to expire by the original uploader. A copy of the decoded PE binary gets uploaded to VirusTotal by @ScumBots each time it catches something:  https://www.virustotal.com/gui/file/1a125973511a94f7c42af9c6a4944b5b4b2d4ec87deb2fa73baec1d2e4bd4c5d/detection …\n",
      "1231203180895186944 2020-02-22 05:04:47 Pacific Daylight Time <EmailTough> #CyberSecurity with @virustotal . Thanks for your great work.  pic.twitter.com/BQNpZ2mepA\n",
      "1231196449381257217 2020-02-22 04:38:02 Pacific Daylight Time <CarlosThepap>  http://amzn.to/31RmUiR  #Coronavirus #coronavirususa #CoronaOutbreak #coronaviruschina #viruscoronachina #virusoutbreak #VirusWuhan #virustotal #VirUshka #AmazonPrime #ChinaCoronaVirus #ChinaVirusSesungguhnya #COVIDー19 #COVD19 #Covid19usa #COVID #COVID19Korea\n",
      "1231196221194326022 2020-02-22 04:37:08 Pacific Daylight Time <CarlosThepap>  http://amzn.to/2tKdzwp  #coronavirususa #earthquake #coronavirus #cornonaviruschina #corona #virusoutbreak #VirusCorona #VirusThreatInCamps #virus #VirusWuhan #viruscoronachina #virustotal #coronaviruswuhan #ChinaCoronaVirus #China #ChinaCoronaVirus #COVID19 #Covid19usa #COVID\n",
      "1231145360069976067 2020-02-22 01:15:02 Pacific Daylight Time <HeliosCert> Sample analysed on #virustotal VirusTotal-Score: 0 VirusTotal:  https://www.virustotal.com/file/2cbff69c3a9e42a53d5aa013093d500861f8714aed090354ad7f6ceabd30ad21/analysis/1582295110/ … Threat:\n",
      "1231141591567323136 2020-02-22 01:00:03 Pacific Daylight Time <HeliosCert> Sample analysed on #virustotal VirusTotal-Score: 54 VirusTotal:  https://www.virustotal.com/file/99f9fbb369f12393bb2077f441035dcbf9cf8f81a6b90b9f5a6e2fd0293599f8/analysis/1552289246/ … Threat: Ransom:Win32/CVE-2017-0147.A  (Microsoft)\n",
      "1231140925390442496 2020-02-22 00:57:24 Pacific Daylight Time <gwilburr> i had run a malwarebytes scan prior to posting that turned up no malware & checked most files on virustotal as well, all seems safe? but i figured it would be better to ask people as well bc of possible machine error or double positives or w/e. ty for the response btw\n",
      "1231121150102532097 2020-02-21 23:38:49 Pacific Daylight Time <sheikeinstein> We are waiting ❤️❤️❤️\n",
      "1231103838138064896 2020-02-21 22:30:02 Pacific Daylight Time <HeliosCert> Sample analysed on #virustotal VirusTotal-Score: 62 VirusTotal:  https://www.virustotal.com/file/5fa6bac297d009a6e61e08a9d5607bc8186fa0540aa1f8a98a8de6fc6a3eba31/analysis/1582332611/ … Threat: BKDR_BLADABI.SMC  (TrendMicro)\n",
      "1231101556235350016 2020-02-21 22:20:58 Pacific Daylight Time <lazyactivist192> If it walks like a duck and quacks like a duck it's probably an in-house system critical tool that <EDR solution> just uploaded to virustotal.\n",
      "1231084962243325952 2020-02-21 21:15:02 Pacific Daylight Time <HeliosCert> Sample analysed on #virustotal VirusTotal-Score: 54 VirusTotal:  https://www.virustotal.com/file/4f3602609938a6b5f7a021b20aa8013d75ab1088b052492d68dfb817c48c0f4d/analysis/1582319407/ … Threat: BKDR_BLADABI.SMC  (TrendMicro)\n",
      "1231062314868146177 2020-02-21 19:45:02 Pacific Daylight Time <HeliosCert> Sample analysed on #virustotal VirusTotal-Score: 46 VirusTotal:  https://www.virustotal.com/file/530d2f0345b4e64d7a15fce3c91ddd6f8b6122dc66fbf479bf20368d933c40c6/analysis/1582311013/ … Threat: Trojan:Win32/Wacatac.C!ml  (Microsoft)\n",
      "1231058543572406275 2020-02-21 19:30:03 Pacific Daylight Time <HeliosCert> Sample analysed on #virustotal VirusTotal-Score: 51 VirusTotal:  https://www.virustotal.com/file/0f0ad0df89b895ae4e7ad72b7d6bbea015fe566fe98b577553cb95cd3fb96766/analysis/1582311911/ … Threat: BKDR_REVET.SM  (TrendMicro)\n",
      "1231044700683063296 2020-02-21 18:35:03 Pacific Daylight Time <HeliosCert> Sample analysed on #virustotal VirusTotal-Score: 22 VirusTotal:  https://www.virustotal.com/file/6e817f08d2d16ba4ca55c8ae532382b34edc0544a48e47219f6358853f7566e2/analysis/1582337707/ … Threat: Gen:Variant.MSILPerseus.197526  (BitDefender)\n",
      "1231035891264770054 2020-02-21 18:00:02 Pacific Daylight Time <HeliosCert> Sample analysed on #virustotal VirusTotal-Score: 51 VirusTotal:  https://www.virustotal.com/file/f1116c248b3a5aad40d764b0774182a692db65b68be27cf607803226fbae3fc3/analysis/1552575289/ … Threat: Ransom:Win32/CVE-2017-0147.A  (Microsoft)\n",
      "1231016990472581121 2020-02-21 16:44:56 Pacific Daylight Time <c_stackoverflow> What could be causing VirusTotal to flag an empty program as a trojan? [Votes: 1] #c #antivirus https://stackoverflow.com/questions/60340213/what-could-be-causing-virustotal-to-flag-an-empty-program-as-a-trojan …\n",
      "1231007635660582922 2020-02-21 16:07:46 Pacific Daylight Time <RocioVerdeal> @recluising @virustotal esta parte queda aun cargando. corre peligro no poder ver las actividades de una aplicación aunque no tenga virus.  pic.twitter.com/X8dec5Jggb\n",
      "1231006858732802048 2020-02-21 16:04:40 Pacific Daylight Time <RocioVerdeal> bien. ahora se puede ver bien la fecha de la ultima detección. buen trabajo los felicito\n",
      "1231005998565019652 2020-02-21 16:01:15 Pacific Daylight Time <kelvinsecteamS> As3nt can target TLDs or subdomains. The enumeration uses; VirusTotal, HackerTarget, ThreatCrowd, ThreatMiner, BufferOver,  http://urlscan.io  and  http://crt.sh .    https://github.com/cinerieus/as3nt  pic.twitter.com/u5nQZWX2SS\n",
      "1231004431413661696 2020-02-21 15:55:02 Pacific Daylight Time <HeliosCert> Sample analysed on #virustotal VirusTotal-Score: 67 VirusTotal:  https://www.virustotal.com/file/e2a27efafec4e80d9af737cb7f10b7d2f605e4a64419fd68377ffffe217cb251/analysis/1579183803/ … Threat: Ransom_WCRY.SMALYM  (TrendMicro)\n",
      "1230999547796738049 2020-02-21 15:35:37 Pacific Daylight Time <CarlosThepap>  http://amzn.to/2tKdzwp  #coronavirususa #earthquake #coronavirus #cornonaviruschina #corona #virusoutbreak #VirusCorona #VirusThreatInCamps #virus #VirusWuhan #viruscoronachina #virustotal #coronaviruswuhan #ChinaCoronaVirus #China #ChinaCoronaVirus #COVID19 #Covid19usa #COVID\n",
      "1230999131432345601 2020-02-21 15:33:58 Pacific Daylight Time <CarlosThepap>  http://amzn.to/31RmUiR  #Coronavirus #coronavirususa #CoronaOutbreak #coronaviruschina #viruscoronachina #virusoutbreak #VirusWuhan #virustotal #VirUshka #AmazonPrime #ChinaCoronaVirus #ChinaVirusSesungguhnya #COVIDー19 #COVD19 #Covid19usa #COVID #COVID19Korea\n"
     ]
    },
    {
     "name": "stdout",
     "output_type": "stream",
     "text": [
      "1230991849554399232 2020-02-21 15:05:02 Pacific Daylight Time <HeliosCert> Sample analysed on #virustotal VirusTotal-Score: 59 VirusTotal:  https://www.virustotal.com/file/0bdbf7c1d5d76b84fe05ded15324ebce0dd75a6ef7426abf97a123e5f8895288/analysis/1546627492/ … Threat: Ransom_WCRY.SMALYM  (TrendMicro)\n",
      "1230980525554388994 2020-02-21 14:20:02 Pacific Daylight Time <HeliosCert> Sample analysed on #virustotal VirusTotal-Score: 65 VirusTotal:  https://www.virustotal.com/file/e391dc7cf81ba921d3601df8ddaf0cc6a7bccfaef43aa162a14759b11f5dabbf/analysis/1580477592/ … Threat: Ransom_WCRY.SMALYM  (TrendMicro)\n",
      "1230976749703483392 2020-02-21 14:05:02 Pacific Daylight Time <HeliosCert> Sample analysed on #virustotal VirusTotal-Score: 66 VirusTotal:  https://www.virustotal.com/file/5a675b17184d2d5495c19a334e46a50b5944d02fdd06b808931ef25f434f23e8/analysis/1579188803/ … Threat: Ransom_WCRY.SMALYM  (TrendMicro)\n",
      "1230975490619576324 2020-02-21 14:00:02 Pacific Daylight Time <HeliosCert> Sample analysed on #virustotal VirusTotal-Score: 63 VirusTotal:  https://www.virustotal.com/file/ca5d6e53bc00cda671071993bae2386681bff9a2c78d441559436273d4b5a58f/analysis/1564041482/ … Threat: Ransom_WCRY.SMALYM  (TrendMicro)\n",
      "1230965427087564802 2020-02-21 13:20:02 Pacific Daylight Time <HeliosCert> Sample analysed on #virustotal VirusTotal-Score: 66 VirusTotal:  https://www.virustotal.com/file/e8d57e94ed6321c0144baa3edc7ae0fcff5cc9b08206082d59b0f1d0ec4f5e05/analysis/1578919457/ … Threat: Ransom_WCRY.SMALYM  (TrendMicro)\n",
      "1230947812264857601 2020-02-21 12:10:03 Pacific Daylight Time <HeliosCert> Sample analysed on #virustotal VirusTotal-Score: 45 VirusTotal:  https://www.virustotal.com/file/4d4fe010edd8e5cb0a3dbe463a9bea549aaee512737ac1a8e1b81c2b1100d1fa/analysis/1582258807/ … Threat: Trojan:Win32/Wacatac.C!ml  (Microsoft)\n",
      "1230945295577600002 2020-02-21 12:00:02 Pacific Daylight Time <HeliosCert> Sample analysed on #virustotal VirusTotal-Score: 62 VirusTotal:  https://www.virustotal.com/file/10071b7fc8c1800063e60780b8c00b3c0045feecdb92e08ac45cc057127193dc/analysis/1582233313/ … Threat: BKDR_BLADABI.SMC  (TrendMicro)\n",
      "1230932954240749568 2020-02-21 11:11:00 Pacific Daylight Time <CarlosThepap>  http://amzn.to/31RmUiR  #Coronavirus #coronavirususa #CoronaOutbreak #coronaviruschina #viruscoronachina #virusoutbreak #VirusWuhan #virustotal #VirUshka #AmazonPrime #ChinaCoronaVirus #ChinaVirusSesungguhnya #COVIDー19 #COVD19 #Covid19usa #COVID\n",
      "1230932786963451906 2020-02-21 11:10:20 Pacific Daylight Time <CarlosThepap>  http://amzn.to/2tKdzwp  #coronavirususa #earthquake #coronavirus #cornonaviruschina #corona #virusoutbreak #VirusCorona #VirusThreatInCamps #virus #VirusWuhan #viruscoronachina #virustotal #coronaviruswuhan #ChinaCoronaVirus #China #ChinaCoronaVirus #COVID19 #Covid19usa\n",
      "1230930277108715521 2020-02-21 11:00:22 Pacific Daylight Time <zettlr> Nah, I just need to do the walk to Canossa and buy a certificate, which I‘ll do tomorrow!\n",
      "1230929462532935690 2020-02-21 10:57:08 Pacific Daylight Time <Syenta1> @zettlr on the topic of \"Zettlr's installers are not signed\". Can I suggest you upload new versions of your software to @virustotal so that when users scan it prior to installing they get an official signature check which will give some confidence it is genuine. Hope this helps.\n",
      "1230927667953885185 2020-02-21 10:50:00 Pacific Daylight Time <25al2012> #VirusTotal هو موقع إلكتروني يقدم مجاناً خدمة فحص ملفات الحاسوب المشتبه والروابط في كونها فيروسات أو ملفات من نوع \"حصان طروادة\" أو ملفات من نوع \"الدودة حاسوب\" أو أي ملف يشتبه في أن يكون برنامج ضار بالنظام \"برمجيات خبيثة\".   #كن_واعيا_تكن_آمنا #منشن_لشخص_تنصحه_بمتابعتنا_يستفيد pic.twitter.com/t8KB3NEfWC\n",
      "1230907591473147906 2020-02-21 09:30:13 Pacific Daylight Time <Smvasii> Waiting 🤓🤓\n",
      "1230897480222507008 2020-02-21 08:50:02 Pacific Daylight Time <HeliosCert> Sample analysed on #virustotal VirusTotal-Score: 50 VirusTotal:  https://www.virustotal.com/file/4f54c2e0def0a2a5b478220b3ddbccc3ee2a7302cddbfe0e8e1d394587589d88/analysis/1582213808/ … Threat:  http://Trojan.Win32.COBALTSTRIKE.SM   (TrendMicro)\n",
      "1230897414367739911 2020-02-21 08:49:47 Pacific Daylight Time <CarlosThepap>  http://amzn.to/2tKdzwp  #coronavirususa #earthquake #coronavirus #cornonaviruschina #corona #virusoutbreak #VirusCorona #VirusThreatInCamps #virus #VirusWuhan #viruscoronachina #virustotal #coronaviruswuhan #ChinaCoronaVirus #China #ChinaCoronaVirus #COVID19 #Covid19usa\n",
      "1230896967322087424 2020-02-21 08:48:00 Pacific Daylight Time <CarlosThepap>  http://amzn.to/31RmUiR  #Coronavirus #coronavirususa #CoronaOutbreak #coronaviruschina #viruscoronachina #virusoutbreak #VirusWuhan #virustotal #VirUshka #AmazonPrime #ChinaCoronaVirus #ChinaVirusSesungguhnya #COVIDー19 #COVD19 #Covid19usa #COVID\n",
      "1230887982053326848 2020-02-21 08:12:18 Pacific Daylight Time <ochsenmeier> if you have a @virustotal intelligence account you‘ll like the next update of #pestudio #malware\n",
      "1230886154188226560 2020-02-21 08:05:02 Pacific Daylight Time <HeliosCert> Sample analysed on #virustotal VirusTotal-Score: 0 VirusTotal:  https://www.virustotal.com/file/a5b2d90ff3e33006dea769782b895a876bef70a1e263f8516d1ddd63442ff334/analysis/1582288512/ … Threat:\n",
      "1230885823136051201 2020-02-21 08:03:43 Pacific Daylight Time <KPorteousLTD> Anyone thinking of updating or downloading AOS TV 1.8.0.6, I recommend staying away, VirusTotal is picking up 2 malicious engines.\n",
      "1230879259675197440 2020-02-21 07:37:38 Pacific Daylight Time <cyber_aaa> Today’s @cyber_aaa  tip of the Day with @RonW123 is on virus scanning. It's a basic tip for SMBs and Consumers about using VirusTotal.  Anti-virus programs aren’t perfect.    When in doubt, check it out.   https://youtu.be/wB2pfGJTC_U  #cybersecurity #infosec #antivirus #hackerswanted\n",
      "1230852180434989057 2020-02-21 05:50:02 Pacific Daylight Time <HeliosCert> Sample analysed on #virustotal VirusTotal-Score: 0 VirusTotal:  https://www.virustotal.com/file/88061021868003eea63222f609f421adf943b413cd34c945a849493d67fb68c9/analysis/1582228515/ … Threat:\n",
      "1230848140955258880 2020-02-21 05:33:59 Pacific Daylight Time <CarlosThepap>  http://amzn.to/31RmUiR  #Coronavirus #coronavirususa #CoronaOutbreak #coronaviruschina #viruscoronachina #virusoutbreak #VirusWuhan #virustotal #VirUshka #AmazonPrime #ChinaCoronaVirus #ChinaVirusSesungguhnya #COVIDー19 #COVD19 #Covid19usa #COVID\n",
      "1230847906342723584 2020-02-21 05:33:03 Pacific Daylight Time <CarlosThepap>  http://amzn.to/2tKdzwp  #coronavirususa ................   #coronavirus #cornonaviruschina #corona #virusoutbreak #VirusCorona #VirusThreatInCamps #virus #VirusWuhan #viruscoronachina #virustotal #coronaviruswuhan #ChinaCoronaVirus #China #ChinaCoronaVirus #COVID19 #Covid19usa\n",
      "1230832760966860800 2020-02-21 04:32:52 Pacific Daylight Time <zenitrame> Yeps, we currently have a pretty counterintuitive and painful logic that kicks you out of all your sessions if you log out in one of your devices. Plan to do something about it.\n",
      "1230826850550722560 2020-02-21 04:09:23 Pacific Daylight Time <ar4v3n> Yeah :(\n"
     ]
    }
   ],
   "source": [
    "# clear file\n",
    "#Twint Search\n",
    "d = twint.Config()\n",
    "d.Search = \"virustotal\"\n",
    "# d.Search = \"endpoint AND seminar\"\n",
    "d.Limit = 1000\n",
    "# d.Store_csv = True\n",
    "d.Store_object = True\n",
    "d.Store_json = True\n",
    "d.Output = \"./test1.json\"\n",
    "# d.Database = \"tweets.db\"\n",
    "\n",
    "x = twint.run.Search(d)"
   ]
  },
  {
   "cell_type": "code",
   "execution_count": 114,
   "metadata": {},
   "outputs": [],
   "source": [
    "# Search terms\n",
    "# 0-day AND exploit\n",
    "# “0-day”, “CVE-“, “CVE-2018-*”, “CVE-2020-*”\n",
    "# usernames:\n",
    "# kibbsy\n",
    "# it_securitynews\n",
    "# msftsecurity"
   ]
  },
  {
   "cell_type": "code",
   "execution_count": 115,
   "metadata": {},
   "outputs": [],
   "source": [
    "# x = twint.run.Search(d)\n",
    "# twint -u noneprivacy --csv --output \"/Users/psingh4/harsh/test4.json\" --lang en --translate --translate-dest it --limit 100"
   ]
  },
  {
   "cell_type": "code",
   "execution_count": 116,
   "metadata": {},
   "outputs": [],
   "source": [
    "# d.__dict__.keys()"
   ]
  },
  {
   "cell_type": "code",
   "execution_count": 117,
   "metadata": {},
   "outputs": [],
   "source": [
    "# twint.run.Search(d)\n",
    "# twint.output"
   ]
  },
  {
   "cell_type": "code",
   "execution_count": 118,
   "metadata": {},
   "outputs": [],
   "source": [
    "f= open(\"./test1.json\",\"r\",errors='ignore')\n",
    "line1 = f.readlines()\n",
    "arr = []\n",
    "for x in line1:\n",
    "    arr.append(x)\n",
    "f.close()    "
   ]
  },
  {
   "cell_type": "code",
   "execution_count": 119,
   "metadata": {},
   "outputs": [],
   "source": [
    "arr.insert(0,\"[\")\n",
    "arr.append(']')\n",
    "for i in range(1,len(arr)-2):\n",
    "    arr[i] = arr[i][:-1] + \",\" + arr[i][-1:]"
   ]
  },
  {
   "cell_type": "code",
   "execution_count": 120,
   "metadata": {},
   "outputs": [],
   "source": [
    "file = open(\"../test.json\",\"w\")\n",
    "for i in range(len(arr)):\n",
    "    file.write(arr[i])\n",
    "file.close()"
   ]
  },
  {
   "cell_type": "code",
   "execution_count": 121,
   "metadata": {},
   "outputs": [],
   "source": [
    "f= open(\"../test.json\",\"r\",errors='ignore')\n",
    "line1 = f.readlines()\n",
    "data = []\n",
    "for x in line1:\n",
    "    data.append(x)\n",
    "f.close()"
   ]
  },
  {
   "cell_type": "code",
   "execution_count": 122,
   "metadata": {},
   "outputs": [],
   "source": [
    "# Removing non ASCII characters\n",
    "for i in range(len(data)):\n",
    "    data[i] = (''.join([i if ord(i) < 128 else ' ' for i in str(data[i])]))"
   ]
  },
  {
   "cell_type": "code",
   "execution_count": 123,
   "metadata": {},
   "outputs": [],
   "source": [
    "file = open(\"./data.json\",\"w\")\n",
    "for i in range(len(data)):\n",
    "    file.write(data[i])\n",
    "file.close()"
   ]
  },
  {
   "cell_type": "code",
   "execution_count": 124,
   "metadata": {},
   "outputs": [],
   "source": [
    "import json\n",
    "with open(\"./data.json\", \"r\",errors='ignore') as read_file:\n",
    "    data = json.load(read_file)"
   ]
  },
  {
   "cell_type": "code",
   "execution_count": 125,
   "metadata": {},
   "outputs": [],
   "source": [
    "import mysql.connector"
   ]
  },
  {
   "cell_type": "code",
   "execution_count": 126,
   "metadata": {},
   "outputs": [],
   "source": [
    "mydb = mysql.connector.connect(user='admin', password='Private2712!',\n",
    "                              host='database-1.cok63qqiofsd.us-east-1.rds.amazonaws.com',\n",
    "                              database='data')"
   ]
  },
  {
   "cell_type": "code",
   "execution_count": 127,
   "metadata": {},
   "outputs": [],
   "source": [
    "mycursor = mydb.cursor()"
   ]
  },
  {
   "cell_type": "code",
   "execution_count": 128,
   "metadata": {},
   "outputs": [
    {
     "name": "stdout",
     "output_type": "stream",
     "text": [
      "1004 record inserted.\n"
     ]
    }
   ],
   "source": [
    "sql = \"\"\"INSERT INTO classified_tweets (relevant, created_at, conversation_id, id, date, time, timezone, user_id, username, name, place, tweet, mentions, urls, replies_count, \n",
    "        retweets_count, likes_count, hashtags, cashtags, link, retweet, video, near, geo, source, user_rt_id, user_rt, retweet_id,\n",
    "        retweet_date, translate, trans_src, trans_dest, photos, reply_to) VALUES (%s, %s, %s, %s, %s, %s, %s, %s, %s, %s, %s, %s, %s, %s, %s, %s, \n",
    "        %s, %s, %s, %s, %s, %s, %s, %s, %s, %s, %s, %s, %s, %s, %s, %s, %s, %s)\"\"\"\n",
    "\n",
    "val = []\n",
    "for i in range(1, len(data)):\n",
    "    val.append((1, data[i]['created_at'], data[i]['conversation_id'], str(data[i]['id']), data[i]['date'], data[i]['time'], data[i]['timezone'], data[i]['user_id'], data[i]['username'],\n",
    "      data[i]['name'], data[i]['place'], data[i]['tweet'], str(data[i]['mentions']), str(data[i]['urls']), data[i]['replies_count'],\n",
    "      data[i]['retweets_count'], data[i]['likes_count'], str(data[i]['hashtags']), str(data[i]['cashtags']), data[i]['link'], data[i]['retweet'],\n",
    "      data[i]['video'], data[i]['near'], data[i]['geo'], data[i]['source'], data[i]['user_rt_id'], data[i]['user_rt'],\n",
    "      data[i]['retweet_id'], data[i]['retweet_date'], data[i]['translate'], data[i]['trans_src'], data[i]['trans_dest'],str(data[i]['photos']), \n",
    "       str(data[i]['reply_to'])))\n",
    "    \n",
    "mycursor.executemany(sql, val)\n",
    "\n",
    "mydb.commit()\n",
    "\n",
    "print(mycursor.rowcount, \"record inserted.\")"
   ]
  },
  {
   "cell_type": "code",
   "execution_count": 129,
   "metadata": {},
   "outputs": [],
   "source": [
    "mydb.close()"
   ]
  },
  {
   "cell_type": "code",
   "execution_count": null,
   "metadata": {},
   "outputs": [],
   "source": [
    "data[0]"
   ]
  },
  {
   "cell_type": "code",
   "execution_count": null,
   "metadata": {},
   "outputs": [],
   "source": [
    "val = []\n",
    "for i in range(len(data)):\n",
    "    val.append((data[i]['created_at'], data[i]['conversation_id'], data[i]['date'], data[i]['time'], data[i]['timezone'], data[i]['user_id'], data[i]['username'],\n",
    "      data[i]['name'], data[i]['place'], data[i]['tweet'], str(data[i]['mentions']), str(data[i]['urls']), data[i]['replies_count'],\n",
    "      data[i]['retweets_count'], data[i]['likes_count'], str(data[i]['hashtags']), str(data[i]['cashtags']), data[i]['link'], data[i]['retweet'],\n",
    "      data[i]['video'], data[i]['near'], data[i]['geo'], data[i]['source'], data[i]['user_rt_id'], data[i]['user_rt'],\n",
    "      data[i]['retweet_id'], data[i]['retweet_date'], data[i]['translate'], data[i]['trans_src'], data[i]['trans_dest'],0,str(data[i]['photos']), \n",
    "       str(data[i]['reply_to'])))"
   ]
  },
  {
   "cell_type": "code",
   "execution_count": null,
   "metadata": {},
   "outputs": [],
   "source": [
    "# mydb.commit()\n",
    "# !pip install tensorflow\n",
    "# print(mycursor.rowcount, \"record inserted.\")"
   ]
  },
  {
   "cell_type": "code",
   "execution_count": null,
   "metadata": {},
   "outputs": [],
   "source": [
    "# !pip install bert-serving-server\n",
    "# !pip install bert-serving-client"
   ]
  },
  {
   "cell_type": "code",
   "execution_count": 1,
   "metadata": {},
   "outputs": [],
   "source": [
    "import nltk"
   ]
  },
  {
   "cell_type": "code",
   "execution_count": 5,
   "metadata": {},
   "outputs": [],
   "source": [
    "sentence = \"NSA exploit EternalRomance with CVE-2019-897 'formed basis for alleged Chinese tool' - iTWire Researchers Mark Lechtik and Nadav Grossman said in first offered NSA exploits that the hacking group, known variously as APT3 and Gothic Panda, had based its exploitation tool, https://ift.tt/2HRG9js\"\n",
    "# sentence = \"NowBrowsing: ESLint dependencies are vulnerable (ReDoS and Prototype Pollution) · CVE-2020-7598 · GitHub Advisory Database:  https://github.com/advisories/GHSA-7fhm-mqm4-2wp7\"\n",
    "tokens = nltk.word_tokenize(sentence)\n",
    "tagged = nltk.pos_tag(tokens)"
   ]
  },
  {
   "cell_type": "code",
   "execution_count": 6,
   "metadata": {},
   "outputs": [
    {
     "data": {
      "text/plain": [
       "[('NSA', 'NNP'),\n",
       " ('exploit', 'VBZ'),\n",
       " ('EternalRomance', 'NNP'),\n",
       " ('with', 'IN'),\n",
       " ('CVE-2019-897', 'NNP'),\n",
       " (\"'formed\", 'POS'),\n",
       " ('basis', 'NN'),\n",
       " ('for', 'IN'),\n",
       " ('alleged', 'VBN'),\n",
       " ('Chinese', 'JJ'),\n",
       " ('tool', 'NN'),\n",
       " (\"'\", 'POS'),\n",
       " ('-', ':'),\n",
       " ('iTWire', 'NN'),\n",
       " ('Researchers', 'NNP'),\n",
       " ('Mark', 'NNP'),\n",
       " ('Lechtik', 'NNP'),\n",
       " ('and', 'CC'),\n",
       " ('Nadav', 'NNP'),\n",
       " ('Grossman', 'NNP'),\n",
       " ('said', 'VBD'),\n",
       " ('in', 'IN'),\n",
       " ('first', 'JJ'),\n",
       " ('offered', 'VBN'),\n",
       " ('NSA', 'NNP'),\n",
       " ('exploits', 'VBZ'),\n",
       " ('that', 'IN'),\n",
       " ('the', 'DT'),\n",
       " ('hacking', 'VBG'),\n",
       " ('group', 'NN'),\n",
       " (',', ','),\n",
       " ('known', 'VBN'),\n",
       " ('variously', 'RB'),\n",
       " ('as', 'IN'),\n",
       " ('APT3', 'NNP'),\n",
       " ('and', 'CC'),\n",
       " ('Gothic', 'NNP'),\n",
       " ('Panda', 'NNP'),\n",
       " (',', ','),\n",
       " ('had', 'VBD'),\n",
       " ('based', 'VBN'),\n",
       " ('its', 'PRP$'),\n",
       " ('exploitation', 'NN'),\n",
       " ('tool', 'NN'),\n",
       " (',', ','),\n",
       " ('https', 'NN'),\n",
       " (':', ':'),\n",
       " ('//ift.tt/2HRG9js', 'NN')]"
      ]
     },
     "execution_count": 6,
     "metadata": {},
     "output_type": "execute_result"
    }
   ],
   "source": [
    "tagged"
   ]
  },
  {
   "cell_type": "code",
   "execution_count": 7,
   "metadata": {},
   "outputs": [],
   "source": [
    "# !python -m spacy download en\n",
    "# !python -m spacy download en_core_web_sm\n",
    "\n",
    "import spacy\n",
    "nlp = spacy.load('en_core_web_sm')"
   ]
  },
  {
   "cell_type": "code",
   "execution_count": 9,
   "metadata": {},
   "outputs": [
    {
     "name": "stdout",
     "output_type": "stream",
     "text": [
      "The sentence is:  NowBrowsing: ESLint dependencies are vulnerable (ReDoS and Prototype Pollution) · CVE-2020-7598 · GitHub Advisory Database:  https://github.com/advisories/GHSA-7fhm-mqm4-2wp7\n",
      "[NowBrowsing, CVE-2020-7598]\n"
     ]
    }
   ],
   "source": [
    "# sentence = \"NSA exploit EternalRomance with CVE-2019-897 'formed basis for alleged Chinese tool' - iTWire Researchers Mark Lechtik and Nadav Grossman said in first offered NSA exploits that the hacking group, known variously as APT3 and Gothic Panda, had based its exploitation tool, https://ift.tt/2HRG9js\"\n",
    "sentence = \"NowBrowsing: ESLint dependencies are vulnerable (ReDoS and Prototype Pollution) · CVE-2020-7598 · GitHub Advisory Database:  https://github.com/advisories/GHSA-7fhm-mqm4-2wp7\"\n",
    "doc = nlp(sentence)\n",
    "print(\"The sentence is: \", sentence)\n",
    "print([ent for ent in doc.ents])\n",
    "# for ent in doc.ents:\n",
    "# doc"
   ]
  },
  {
   "cell_type": "code",
   "execution_count": null,
   "metadata": {},
   "outputs": [],
   "source": [
    "print(\"Noun phrases:\", [chunk.text for chunk in doc.noun_chunks])"
   ]
  },
  {
   "cell_type": "code",
   "execution_count": null,
   "metadata": {},
   "outputs": [],
   "source": [
    "print(\"Verbs:\", [token.lemma_ for token in doc if token.pos_ == \"VERB\"])"
   ]
  },
  {
   "cell_type": "code",
   "execution_count": null,
   "metadata": {},
   "outputs": [],
   "source": [
    "# !pip install -U bert-serving-server bert-serving-client"
   ]
  },
  {
   "cell_type": "code",
   "execution_count": null,
   "metadata": {},
   "outputs": [],
   "source": [
    "# !bert-serving-start -model_dir /tmp/english_L-12_H-768_A-12/ -num_worker=4 "
   ]
  },
  {
   "cell_type": "code",
   "execution_count": null,
   "metadata": {},
   "outputs": [],
   "source": [
    "# from bert_serving.client import BertClient\n",
    "# bc = BertClient()\n",
    "# bc.encode(['First do it', 'then do it right', 'then do it better'])"
   ]
  },
  {
   "cell_type": "code",
   "execution_count": null,
   "metadata": {},
   "outputs": [],
   "source": [
    "# first neural network with keras tutorial\n",
    "import numpy as np\n",
    "from numpy import loadtxt\n",
    "from keras.models import Sequential\n",
    "from keras.layers import Dense\n",
    "# load the dataset\n",
    "data = np.load('./tweet_encodings.npy')\n",
    "label = np.load('./maybeincludedlabels.npy')\n",
    "# define the keras model\n",
    "model = Sequential()\n",
    "model.add(Dense(400, input_dim=768, activation='relu'))\n",
    "model.add(Dense(200, activation='relu'))\n",
    "model.add(Dense(2, activation='softmax'))\n",
    "# compile the keras model\n",
    "model.compile(loss='sparse_categorical_crossentropy', optimizer='adam', metrics=['accuracy'])\n",
    "# fit the keras model on the dataset\n",
    "# evaluate the keras model"
   ]
  },
  {
   "cell_type": "code",
   "execution_count": null,
   "metadata": {},
   "outputs": [],
   "source": [
    "model.fit(data, label, epochs=10, batch_size=1, validation_split=0.25)"
   ]
  },
  {
   "cell_type": "code",
   "execution_count": null,
   "metadata": {},
   "outputs": [],
   "source": [
    "import sklearn\n",
    "from sklearn.linear_model import LogisticRegression\n",
    "len(data), len(label)"
   ]
  },
  {
   "cell_type": "code",
   "execution_count": null,
   "metadata": {},
   "outputs": [],
   "source": [
    "clf = LogisticRegression(random_state=1).fit(data[:-900], label[:-900])"
   ]
  },
  {
   "cell_type": "code",
   "execution_count": null,
   "metadata": {},
   "outputs": [],
   "source": [
    "clf.score(data[-900:], label[-900:])"
   ]
  },
  {
   "cell_type": "code",
   "execution_count": null,
   "metadata": {},
   "outputs": [],
   "source": [
    "y_pred = clf.predict(data[-800:])"
   ]
  },
  {
   "cell_type": "code",
   "execution_count": null,
   "metadata": {},
   "outputs": [],
   "source": [
    "y_true = label[-800:]"
   ]
  },
  {
   "cell_type": "code",
   "execution_count": null,
   "metadata": {},
   "outputs": [],
   "source": [
    "from sklearn import metrics\n",
    "\n",
    "accuracy_score = metrics.accuracy_score(y_true,y_pred)\n",
    "print(\"Accuracy score: {}\".format(accuracy_score))\n",
    "fpr, tpr, thresholds = metrics.roc_curve(y_true,y_pred,pos_label = 1)\n",
    "auc_score = metrics.auc(fpr,tpr)\n",
    "print(\"AUC: {}\".format(auc_score))\n"
   ]
  },
  {
   "cell_type": "code",
   "execution_count": null,
   "metadata": {},
   "outputs": [],
   "source": [
    "from sklearn.model_selection import train_test_split\n",
    "from sklearn.linear_model import LogisticRegression\n",
    "from sklearn import svm\n",
    "from sklearn import metrics\n",
    "import numpy as np\n",
    "import sys\n",
    "import pdb\n",
    "import matplotlib.pyplot as plt\n",
    "\n",
    "\n",
    "def print_metrics(y_true,y_pred):\n",
    "    accuracy_score = metrics.accuracy_score(y_true,y_pred)\n",
    "    print(\"Accuracy score: {}\".format(accuracy_score))\n",
    "    fpr, tpr, thresholds = metrics.roc_curve(y_true,y_pred,pos_label = 1)\n",
    "    auc_score = metrics.auc(fpr,tpr)\n",
    "    print(\"AUC: {}\".format(auc_score))\n",
    "    return accuracy_score,auc_score\n",
    "\n",
    "def logistic_regression(x_train,x_test,y_train,y_test):\n",
    "    logisticRegr = LogisticRegression()\n",
    "    logisticRegr.fit(x_train,y_train)\n",
    "    predictions = logisticRegr.predict(x_test)\n",
    "    print_metrics(y_test,predictions)\n",
    "\n",
    "\n",
    "def support_vector(x_train,x_test,y_train,y_test):\n",
    "    model = svm.SVC()\n",
    "    model.fit(x_train,y_train)\n",
    "    predictions = model.predict(x_test)\n",
    "    print_metrics(y_test,predictions)\n",
    "\n",
    "def torch_label_creator(label):\n",
    "    if label.item() == 1:\n",
    "        return torch.tensor([1,0])\n",
    "    else:\n",
    "        return torch.tensor([0,1])\n",
    "\n",
    "    #plot test accuracies and auc over epochs    \n",
    "    plt.plot(test_accuracies)\n",
    "    plt.ylabel('Accuracy')\n",
    "    plt.xlabel('Epoch')\n",
    "    plt.title('Test Accuracy vs Epoch')\n",
    "    plt.show()\n",
    "    plt.plot(test_auc)\n",
    "    plt.ylabel('AUC')\n",
    "    plt.xlabel('Epoch')\n",
    "    plt.title('Test AUC vs Epoch')\n",
    "    plt.show()"
   ]
  },
  {
   "cell_type": "code",
   "execution_count": null,
   "metadata": {},
   "outputs": [],
   "source": [
    "encodings = np.load('tweet_encodings.npy')\n",
    "labels = np.load('maybeincludedlabels.npy')\n",
    "x_train,x_test,y_train,y_test = train_test_split(encodings,labels, test_size=0.25, random_state=0)"
   ]
  },
  {
   "cell_type": "code",
   "execution_count": null,
   "metadata": {},
   "outputs": [],
   "source": [
    "logistic_regression(x_train,x_test,y_train,y_test)"
   ]
  },
  {
   "cell_type": "code",
   "execution_count": null,
   "metadata": {},
   "outputs": [],
   "source": [
    "clf.score(x_test, y_test)"
   ]
  },
  {
   "cell_type": "code",
   "execution_count": null,
   "metadata": {},
   "outputs": [],
   "source": [
    "tagged"
   ]
  },
  {
   "cell_type": "code",
   "execution_count": null,
   "metadata": {},
   "outputs": [],
   "source": [
    "tagged[0][1] == 'NNP'\n",
    "noun = []\n",
    "for i in range(len(data)):\n",
    "    sentence = data[i]['tweet']\n",
    "    tokens = nltk.word_tokenize(sentence)\n",
    "    tagged = nltk.pos_tag(tokens)\n",
    "    sen_noun = []\n",
    "    for j in range(len(tagged)):\n",
    "        if (tagged[j][1] == 'NNP'):\n",
    "            sen_noun.append(tagged[j][0])\n",
    "    noun.append(sen_noun)"
   ]
  },
  {
   "cell_type": "code",
   "execution_count": null,
   "metadata": {},
   "outputs": [],
   "source": [
    "# noun"
   ]
  },
  {
   "cell_type": "code",
   "execution_count": null,
   "metadata": {},
   "outputs": [],
   "source": [
    "from neo4j import GraphDatabase\n",
    "import json\n",
    "#Indicate to driver where neo4j is running\n",
    "driver = GraphDatabase.driver(\"bolt://localhost\",auth=(\"test_user\",\"password\"))\n",
    "#Parse data\n",
    "counter = 0\n",
    "with open(\"./data.json\",'r') as file:\n",
    "    #Need to make a session where you will run all your cypher queries\n",
    "    with driver.session() as session:\n",
    "        tx = session.begin_transaction()\n",
    "        noun_count = 0\n",
    "        count = 0\n",
    "        for line in file.readlines(): #can limit lines with [:100] after ()\n",
    "            if (line == \"[\\n\" or line == \"]\"):\n",
    "                continue\n",
    "            item = json.loads(line[:-2])\n",
    "            sen_noun = noun[noun_count]\n",
    "            # print(item)\n",
    "            '''WITH {tweet} AS Tweet\n",
    "                Merge (a:Tweet{id:$value.id,date:value.date,train_id:value.train_id})\n",
    "                Merge (d:Date{date:value.date})\n",
    "                Merge (a)-[:SAME_DATE]->(d)'''\n",
    "            '''CREATE (a:Tweet{id:$value.id,date:$value.date,train_id:$value.train_id,nouns=sen_noun})'''\n",
    "            '''start n=node(*) return n'''\n",
    "            tx.run('''CREATE (a:Tweet{id:$value.id,date:$value.date,train_id:$value.train_id,nouns:$sen_noun})''',\n",
    "                   parameters={'tweet': item}, value=item, sen_noun=sen_noun) # add parameters here\n",
    "            #Batch processing to run 1000 tweets as a time as these commits are quite time intensive\n",
    "            count += 1\n",
    "            noun_count += 1\n",
    "#             tx.commit()\n",
    "#             break   # UNCOMMENT IF PUSHING MULTIPLE ROWS/NODES OF DATA \n",
    "            if count > 1000:\n",
    "                tx.commit()\n",
    "                tx = session.begin_transaction()\n",
    "                count = 0\n",
    "        tx.commit()\n",
    "# import json\n",
    "# with open(\"./data.json\", \"r\") as read_file:\n",
    "#     for line in read_file.readlines():\n",
    "#         print(line)\n",
    "#         if (line == \"[\\n\" or line == \"]\"):\n",
    "#             continue\n",
    "#         item = json.loads(line[:-2])\n",
    "#         print(item)"
   ]
  },
  {
   "cell_type": "code",
   "execution_count": null,
   "metadata": {},
   "outputs": [],
   "source": [
    "# Cypher code for graph db\n",
    "# Match (a:Tweet) where 'Malware' in a.nouns return a\n",
    "# start n=node(*) return n\n",
    "# Match (a:Tweet), (b:Tweet) where 'Malware' in a.nouns and 'Malware' in b.nouns create (a)-[r:Malware]->(b) return r\n",
    "\n",
    "#     MATCH (n:Tweet)-[m:Malware]-(b:Tweet)\n",
    "#     WHERE n.id = 1223562341540859904\n",
    "#     REturn b\n",
    "#     order by b.date"
   ]
  },
  {
   "cell_type": "code",
   "execution_count": 66,
   "metadata": {},
   "outputs": [],
   "source": [
    "import nltk\n",
    "sentence = \"NSA exploit EternalRomance 'formed basis for alleged Chinese tool' - iTWire Researchers Mark Lechtik and Nadav Grossman said in first offered NSA exploits that the hacking group, known variously as APT3 and Gothic Panda, had based its exploitation tool, https://ift.tt/2HRG9js\"\n",
    "tokens = nltk.word_tokenize(sentence)\n",
    "tagged = nltk.pos_tag(tokens)"
   ]
  },
  {
   "cell_type": "code",
   "execution_count": 68,
   "metadata": {},
   "outputs": [
    {
     "data": {
      "text/plain": [
       "['NSA',\n",
       " 'EternalRomance',\n",
       " 'Researchers',\n",
       " 'Mark',\n",
       " 'Lechtik',\n",
       " 'Nadav',\n",
       " 'Grossman',\n",
       " 'NSA',\n",
       " 'APT3',\n",
       " 'Gothic',\n",
       " 'Panda']"
      ]
     },
     "execution_count": 68,
     "metadata": {},
     "output_type": "execute_result"
    }
   ],
   "source": [
    "noun_list = []\n",
    "for i in range(len(tagged)):\n",
    "    if (tagged[i][1] == 'NNP'):\n",
    "        noun_list.append(tagged[i][0])\n",
    "noun_list"
   ]
  },
  {
   "cell_type": "code",
   "execution_count": 79,
   "metadata": {},
   "outputs": [],
   "source": [
    "from neo4j import GraphDatabase\n",
    "import json\n",
    "#Indicate to driver where neo4j is running\n",
    "driver = GraphDatabase.driver(\"bolt://localhost\",auth=(\"test_user\",\"password\"))\n",
    "\n",
    "with driver.session() as session:\n",
    "    tx = session.begin_transaction()\n",
    "    count = 0\n",
    "    for noun in noun_list:\n",
    "        tx.run('''Match (a:Tweet), (b:Tweet) where $noun in a.nouns and $noun in b.nouns \n",
    "        merge (a)-[r:'''+ noun.upper() + ''']->(b)''',\n",
    "               noun=noun, cap_noun=noun.upper()) # add parameters here\n",
    "        #Batch processing to run 1000 tweets as a time as these commits are quite time intensive\n",
    "    count += 1\n",
    "    if count > 1000:\n",
    "        tx.commit()\n",
    "        tx = session.begin_transaction()\n",
    "        count = 0\n",
    "    tx.commit()"
   ]
  },
  {
   "cell_type": "code",
   "execution_count": null,
   "metadata": {},
   "outputs": [],
   "source": [
    "driver = GraphDatabase.driver(\"bolt://localhost\",auth=(\"test_user\",\"password\"))\n",
    "x = None\n",
    "with driver.session() as session:\n",
    "    tx = session.begin_transaction()\n",
    "    result = tx.run(\"Match (a:Tweet),(b:Tweet) where 'Malware' in a.nouns and 'Malware' in  b.nouns return a,b\")\n",
    "    x = result.records()"
   ]
  },
  {
   "cell_type": "code",
   "execution_count": null,
   "metadata": {},
   "outputs": [],
   "source": [
    "result.single()[0]"
   ]
  },
  {
   "cell_type": "code",
   "execution_count": null,
   "metadata": {},
   "outputs": [],
   "source": [
    "xx = []\n",
    "for i in x:\n",
    "    xx.append(i)"
   ]
  },
  {
   "cell_type": "code",
   "execution_count": null,
   "metadata": {},
   "outputs": [],
   "source": [
    "# y = hash(xx)\n",
    "xx[2].value(key=1)\n",
    "# xx[2]\n",
    "# y[-6685369989889550852]"
   ]
  },
  {
   "cell_type": "code",
   "execution_count": null,
   "metadata": {},
   "outputs": [],
   "source": [
    "xx[2][1].items()"
   ]
  },
  {
   "cell_type": "code",
   "execution_count": null,
   "metadata": {},
   "outputs": [],
   "source": [
    "count = 0\n",
    "for i in range(len(noun)):\n",
    "    for j in range(len(noun[i])):\n",
    "        if ('Malware' == noun[i][j]):\n",
    "            count += 1\n",
    "count"
   ]
  },
  {
   "cell_type": "code",
   "execution_count": 1,
   "metadata": {},
   "outputs": [
    {
     "name": "stdout",
     "output_type": "stream",
     "text": [
      "The sentence is:  CVE-2019-897 NSA exploit EternalRomance 'formed basis for alleged Chinese tool' - iTWire Researchers Mark Lechtik and Nadav Grossman said in first offered NSA exploits that the hacking group, known variously as APT3 and Gothic Panda, had based its exploitation tool, https://ift.tt/2HRG9js\n",
      "Noun phrases: ['CVE-2019-897 NSA', \"EternalRomance 'formed basis\", \"alleged Chinese tool' - iTWire Researchers Mark Lechtik\", 'Nadav Grossman', 'the hacking group', 'APT3', 'Gothic Panda', 'its exploitation tool', 'https://ift.tt/2HRG9js']\n",
      "Verbs: ['exploit', 'form', 'say', 'offer', 'exploit', 'hack', 'know', 'base']\n"
     ]
    }
   ],
   "source": [
    "# !python -m spacy download en\n",
    "# !python -m spacy download en_core_web_sm\n",
    "\n",
    "import spacy\n",
    "nlp = spacy.load('en_core_web_sm')\n",
    "sentence = \"CVE-2019-897 NSA exploit EternalRomance 'formed basis for alleged Chinese tool' - iTWire Researchers Mark Lechtik and Nadav Grossman said in first offered NSA exploits that the hacking group, known variously as APT3 and Gothic Panda, had based its exploitation tool, https://ift.tt/2HRG9js\"\n",
    "doc = nlp(sentence)\n",
    "print(\"The sentence is: \", sentence)\n",
    "# print([ent for ent in doc.ents])\n",
    "# for ent in doc.ents:\n",
    "# doc\n",
    "print(\"Noun phrases:\", [chunk.text for chunk in doc.noun_chunks])\n",
    "print(\"Verbs:\", [token.lemma_ for token in doc if token.pos_ == \"VERB\"])"
   ]
  },
  {
   "cell_type": "code",
   "execution_count": null,
   "metadata": {},
   "outputs": [],
   "source": []
  },
  {
   "cell_type": "code",
   "execution_count": 18,
   "metadata": {},
   "outputs": [
    {
     "name": "stdout",
     "output_type": "stream",
     "text": [
      "The sentence is:  The texas virus incident is getting severe\n",
      "texas GPE\n",
      "Noun phrases: ['The texas virus incident']\n"
     ]
    }
   ],
   "source": [
    "sentence = \"CVE-2019-897 NSA exploit EternalRomance 'formed basis for alleged Chinese tool' - iTWire Researchers Mark Lechtik and Nadav Grossman said in first offered NSA exploits that the hacking group, known variously as APT3 and Gothic Panda, had based its exploitation tool, https://ift.tt/2HRG9js\"\n",
    "sentence = \"The texas virus incident is getting severe\"\n",
    "doc = nlp(sentence)\n",
    "print(\"The sentence is: \", sentence)\n",
    "for entity in doc.ents:\n",
    "    print(entity.text, entity.label_)\n",
    "# print([ent for ent in doc.ents])\n",
    "# for ent in doc.ents:\n",
    "# doc\n",
    "print(\"Noun phrases:\", [chunk.text for chunk in doc.noun_chunks])\n"
   ]
  },
  {
   "cell_type": "code",
   "execution_count": 19,
   "metadata": {},
   "outputs": [
    {
     "data": {
      "text/plain": [
       "(texas,)"
      ]
     },
     "execution_count": 19,
     "metadata": {},
     "output_type": "execute_result"
    }
   ],
   "source": [
    "doc.ents"
   ]
  },
  {
   "cell_type": "code",
   "execution_count": 20,
   "metadata": {},
   "outputs": [
    {
     "name": "stdout",
     "output_type": "stream",
     "text": [
      "Noun phrases: ['The texas virus incident']\n"
     ]
    }
   ],
   "source": [
    "print(\"Noun phrases:\", [chunk.text for chunk in doc.noun_chunks])"
   ]
  },
  {
   "cell_type": "code",
   "execution_count": 21,
   "metadata": {},
   "outputs": [
    {
     "name": "stdout",
     "output_type": "stream",
     "text": [
      "Verbs: ['get']\n"
     ]
    }
   ],
   "source": [
    "print(\"Verbs:\", [token.lemma_ for token in doc if token.pos_ == \"VERB\"])"
   ]
  },
  {
   "cell_type": "code",
   "execution_count": 22,
   "metadata": {},
   "outputs": [
    {
     "name": "stdout",
     "output_type": "stream",
     "text": [
      "texas GPE\n"
     ]
    }
   ],
   "source": [
    "for entity in doc.ents:\n",
    "    print(entity.text, entity.label_)"
   ]
  },
  {
   "cell_type": "code",
   "execution_count": null,
   "metadata": {},
   "outputs": [],
   "source": [
    "doc.ents"
   ]
  },
  {
   "cell_type": "code",
   "execution_count": null,
   "metadata": {},
   "outputs": [],
   "source": [
    "# oauth_consumer_key - ZYOj2R1VYsIUhaRvsrcRuHxk6\n",
    "# oauth_nonce\tkYjzVBB8Y0ZFabxSWbWovY3uYSQ2pTgmZeNu2VS4cg\n",
    "# Consumer Secret = API Secret Key = uTwMxW2CPXfv8wZCcqOSX8Yw46eqJVMNopqh5kh9O0VXiVQNRG\n",
    "# Access token secret = OAuth token secret: VB6fxb1akdtwRDf52sbQlPKE9tpHEPX1ZBSI3Y1t33REk\n",
    "# Signing key = uTwMxW2CPXfv8wZCcqOSX8Yw46eqJVMNopqh5kh9O0VXiVQNRG&VB6fxb1akdtwRDf52sbQlPKE9tpHEPX1ZBSI3Y1t33REk\n",
    "# oauth-token = 797644398670409728-I3aUqpmhD7uPscfFZFxMGfMWXPBmiaN\n",
    "# oauth_signature = Use HMAC\n",
    "# curl -XPOST \n",
    "#   --url 'https://api.twitter.com/1.1/statuses/update.json?status=hello' \n",
    "#   --header 'authorization: OAuth\n",
    "#   oauth_consumer_key=\"oauth_customer_key\",\n",
    "#   oauth_nonce=\"generated_oauth_nonce\",\n",
    "#   oauth_signature=\"generated_oauth_signature\",\n",
    "#   oauth_signature_method=\"HMAC-SHA1\",\n",
    "#   oauth_timestamp=\"generated_timestamp\",\n",
    "#   oauth_token=\"797644398670409728-I3aUqpmhD7uPscfFZFxMGfMWXPBmiaN\",\n",
    "#   oauth_version=\"1.0\"'\n",
    "\n",
    "# NEW KEYS: (DO NOT SHARE)\n",
    "# Access token :797644398670409728-Zwgcl9kcCFerhFNlFFGwR3emSbfpfpX\n",
    "# Copy\n",
    "# Access token secret :CzVCCqD8X9FC059X98deDiNYb24IWjhZYVeAhoU4F5v7l\n",
    "# Copy\n"
   ]
  },
  {
   "cell_type": "code",
   "execution_count": 1,
   "metadata": {},
   "outputs": [],
   "source": [
    "import twitter\n",
    "api = twitter.Api(consumer_key=\"ZYOj2R1VYsIUhaRvsrcRuHxk6\",\n",
    "                  consumer_secret=\"uTwMxW2CPXfv8wZCcqOSX8Yw46eqJVMNopqh5kh9O0VXiVQNRG\",\n",
    "                  access_token_key=\"797644398670409728-Zwgcl9kcCFerhFNlFFGwR3emSbfpfpX\",\n",
    "                  access_token_secret=\"CzVCCqD8X9FC059X98deDiNYb24IWjhZYVeAhoU4F5v7l\")"
   ]
  },
  {
   "cell_type": "code",
   "execution_count": 59,
   "metadata": {},
   "outputs": [],
   "source": [
    "results = api.GetSearch(\n",
    "    raw_query=\"q=from%3Atwitterdev&result_type=mixed&count=2&tweet_mode=extended\")"
   ]
  },
  {
   "cell_type": "code",
   "execution_count": 60,
   "metadata": {},
   "outputs": [],
   "source": [
    "# results[27].AsJsonString\n",
    "x = results[0].AsDict()"
   ]
  },
  {
   "cell_type": "code",
   "execution_count": 64,
   "metadata": {},
   "outputs": [],
   "source": [
    "#  dir(twitter.models.Status)\n",
    "# x"
   ]
  },
  {
   "cell_type": "code",
   "execution_count": 62,
   "metadata": {},
   "outputs": [
    {
     "data": {
      "text/plain": [
       "[Status(ID=1238217454226042880, ScreenName=BloomTV, Created=Thu Mar 12 21:37:00 +0000 2020, Text='Downtown San Francisco is so quiet it feels like a Sunday. At every table I pass, I hear conversation about the… https://t.co/BBVTjPL1pd'),\n",
       " Status(ID=1238280494011334658, ScreenName=SFPublicLibrary, Created=Fri Mar 13 01:47:30 +0000 2020, Text='We know it’s a scary time, but don’t lose your #Census. \\n\\nThe 2020 Census kicked off today, and we’re joining the e… https://t.co/jEmOKbCSgp'),\n",
       " Status(ID=1238398634766581761, ScreenName=20thcenturygoth, Created=Fri Mar 13 09:36:57 +0000 2020, Text='The Office\\n\\nWow!\\n\\n#theoffice #dwight #pepperspray #pam #jim #roy @ San Francisco, California, U.S.A https://t.co/6bvNCb3ddI')]"
      ]
     },
     "execution_count": 62,
     "metadata": {},
     "output_type": "execute_result"
    }
   ],
   "source": [
    ">>> api.GetSearch(geocode=[37.781157, -122.398720, \"1mi\"])"
   ]
  },
  {
   "cell_type": "code",
   "execution_count": 63,
   "metadata": {},
   "outputs": [
    {
     "data": {
      "text/plain": [
       "{'created_at': 'Tue Mar 10 17:47:52 +0000 2020',\n",
       " 'favorite_count': 78,\n",
       " 'full_text': 'Today we’re introducing a simplified &amp; more straightforward set of rules for developers. This policy is an important part of our commitment to protecting the safety &amp; privacy of the people who use our service. https://t.co/2ZYxJ2jOOO\\n\\nRead on for highlights from the policy \\U0001f9f5',\n",
       " 'hashtags': [],\n",
       " 'id': 1237435016134656006,\n",
       " 'id_str': '1237435016134656006',\n",
       " 'lang': 'en',\n",
       " 'retweet_count': 39,\n",
       " 'source': '<a href=\"https://mobile.twitter.com\" rel=\"nofollow\">Twitter Web App</a>',\n",
       " 'urls': [{'expanded_url': 'https://blog.twitter.com/developer/en_us/topics/community/2020/twitter_developer_policy_update.html',\n",
       "   'url': 'https://t.co/2ZYxJ2jOOO'}],\n",
       " 'user': {'created_at': 'Sat Dec 14 04:35:55 +0000 2013',\n",
       "  'description': \"The voice of Twitter's #DevRel team, and your official source for updates, news, & events about Twitter's API.\\n\\nNeed help? Visit https://t.co/DVDf7qKyS9\",\n",
       "  'favourites_count': 2188,\n",
       "  'followers_count': 508102,\n",
       "  'friends_count': 1801,\n",
       "  'geo_enabled': True,\n",
       "  'id': 2244994945,\n",
       "  'id_str': '2244994945',\n",
       "  'listed_count': 1657,\n",
       "  'location': '127.0.0.1',\n",
       "  'name': 'Twitter Dev',\n",
       "  'profile_background_color': 'FFFFFF',\n",
       "  'profile_background_image_url': 'http://abs.twimg.com/images/themes/theme1/bg.png',\n",
       "  'profile_background_image_url_https': 'https://abs.twimg.com/images/themes/theme1/bg.png',\n",
       "  'profile_banner_url': 'https://pbs.twimg.com/profile_banners/2244994945/1498675817',\n",
       "  'profile_image_url': 'http://pbs.twimg.com/profile_images/880136122604507136/xHrnqf1T_normal.jpg',\n",
       "  'profile_image_url_https': 'https://pbs.twimg.com/profile_images/880136122604507136/xHrnqf1T_normal.jpg',\n",
       "  'profile_link_color': '0084B4',\n",
       "  'profile_sidebar_border_color': 'FFFFFF',\n",
       "  'profile_sidebar_fill_color': 'DDEEF6',\n",
       "  'profile_text_color': '333333',\n",
       "  'screen_name': 'TwitterDev',\n",
       "  'statuses_count': 3535,\n",
       "  'url': 'https://t.co/3ZX3TNiZCY',\n",
       "  'verified': True},\n",
       " 'user_mentions': []}"
      ]
     },
     "execution_count": 63,
     "metadata": {},
     "output_type": "execute_result"
    }
   ],
   "source": [
    "x"
   ]
  },
  {
   "cell_type": "code",
   "execution_count": null,
   "metadata": {},
   "outputs": [],
   "source": []
  }
 ],
 "metadata": {
  "kernelspec": {
   "display_name": "Python 3",
   "language": "python",
   "name": "python3"
  },
  "language_info": {
   "codemirror_mode": {
    "name": "ipython",
    "version": 3
   },
   "file_extension": ".py",
   "mimetype": "text/x-python",
   "name": "python",
   "nbconvert_exporter": "python",
   "pygments_lexer": "ipython3",
   "version": "3.6.4"
  }
 },
 "nbformat": 4,
 "nbformat_minor": 2
}
