{
 "cells": [
  {
   "cell_type": "code",
   "execution_count": 335,
   "metadata": {},
   "outputs": [],
   "source": [
    "import twint\n",
    "file = open(\"./test1.json\",\"w\")\n",
    "file.close()\n"
   ]
  },
  {
   "cell_type": "code",
   "execution_count": 336,
   "metadata": {},
   "outputs": [
    {
     "name": "stdout",
     "output_type": "stream",
     "text": [
      "1220077926474973191 2020-01-22 12:17:00 Pacific Standard Time <msftsecurity> Hi Stephan, thank you for reaching out. We're forwarding this on our side, but could you also submit this via in-app feedback for our team to take a closer look? You can do that by going to Help > Give feedback in the Teams app.   Thank you.\n",
      "1219772787591720960 2020-01-21 16:04:29 Pacific Standard Time <msftsecurity> Connecting more than 625 million mobile customers, 27 million fixed broadband customers, and 22 million TV customers, Vodafone relies on #MicrosoftSecurity and compliance for cloud transformation. Learn more about their story here:  http://msft.it/6019TkvXU \n",
      "1219769834684211200 2020-01-21 15:52:45 Pacific Standard Time <msftsecurity> The goal of #MFA implementation is to enable it for all your users, on all of your systems, all of the time. Learn how to successfully roll out and support MFA in your organization: http://msft.it/6014TkvRm \n",
      "1219742540615888897 2020-01-21 14:04:18 Pacific Standard Time <msftsecurity> Learn what actions companies can take and controls they can validate in light of the current level of threats, and during any period of heightened risk on the #MicrosoftSecurity blog: http://msft.it/6017TkQFF \n",
      "1219715077844226048 2020-01-21 12:15:10 Pacific Standard Time <msftsecurity> Leverage #AI and automation to quickly identify and investigate insider threats with Insider Risk Management.  http://msft.it/6014TkQH0 \n",
      "1219610458900041729 2020-01-21 05:19:27 Pacific Standard Time <msftsecurity> Thanks for taking the time to give this feedback, Jan. You can also DM us here.\n",
      "1219608945599401984 2020-01-21 05:13:26 Pacific Standard Time <msftsecurity> Thanks for your feedback.\n",
      "1219501130398543872 2020-01-20 22:05:01 Pacific Standard Time <msftsecurity> Hi there, thanks for reaching out. More info on the security update for this here: http://msft.it/6010Tkq2K \n",
      "1219266524718010370 2020-01-20 06:32:47 Pacific Standard Time <msftsecurity> Hi Bernhard, we have an article on our Tech Community that offers guidelines on disabling automatic startup. See point no. 12 to disable wakeup for recent Windows update.  See link here:   http://msft.it/6013TkWFv  Hope this helps.\n",
      "1219239977718046720 2020-01-20 04:47:17 Pacific Standard Time <msftsecurity> Hi David, please contact our Microsoft support team here:  http://msft.it/6015TkWdH  Have you contacted your Office 365 Admin person about this?\n",
      "1219236231298670596 2020-01-20 04:32:24 Pacific Standard Time <msftsecurity> Glad you like it Luke and thanks for sharing. Let us know how you get on with this.\n",
      "1218317045437280256 2020-01-17 15:39:53 Pacific Standard Time <msftsecurity> Register for the Navigating Data Protection & Risk in the Cloud Era Using Intelligent Technology Solutions webcast happening January 23, 2020. Learn how legal and compliance pros are using tech to govern their data. Join the webcast here:  http://msft.it/6019TkgbS \n",
      "1218239307732979713 2020-01-17 10:30:59 Pacific Standard Time <msftsecurity> Microsoft Application Inspector is a new source code analyzer that helps you understand what a program does by identifying interesting features and characteristics. Learn more about it on the blog:  http://msft.it/6011Tk5J1  #MicrosoftSecurity\n",
      "1217949134117883904 2020-01-16 15:17:56 Pacific Standard Time <msftsecurity> Join the January Azure Sentinel webinars. January 22, 2020, join the End-to-End SOC Scenario webinar. On January 29, 2020, join the Threat Hunting Details webinar. Register now:  http://msft.it/6013Tkbez .\n",
      "1217925731323469824 2020-01-16 13:44:56 Pacific Standard Time <msftsecurity> In Part 2 of this new blog series by Microsoft Chief Security Adviser Joseph Davis, he addresses considerations for the cybersecurity team itself, the organization’s business leaders, and the employees whose buy-in is critical. http://msft.it/6012TkbJM \n",
      "1217918718157762560 2020-01-16 13:17:04 Pacific Standard Time <msftsecurity> #MicrosoftSecurity a leader in the 2019 Access Management Magic Quadrant.\n",
      "1217250057608626176 2020-01-14 17:00:03 Pacific Standard Time <msftsecurity> Gamified cybersecurity learning is an increasingly important part of your #SecOps program. Microsoft and Circadence are working together to democratize and scale cyber readiness globally - learn how: http://msft.it/6016TkrDk \n",
      "1216777812339806208 2020-01-13 09:43:31 Pacific Standard Time <msftsecurity> Hi Patrick. Thank you for reaching out and sharing your concerns. Have you had a chance to submit your findings to our Microsoft Security Intelligence site? You can submit a report at the following link:  http://msft.it/6012Tkzv6 \n",
      "1215728358421671939 2020-01-10 12:13:22 Pacific Standard Time <msftsecurity> Learn how to better manage risky 3rd party app permissions with Microsoft's #CASB: http://msft.it/6011Tk8HP \n",
      "1215684468251484161 2020-01-10 09:18:58 Pacific Standard Time <msftsecurity> Digital transformation is a daunting task. In this new series on the #MicrosoftSecurity blog, we explore how change is possible when addressing the components of people, process, and technology that make up the organization. http://msft.it/6019TkBPB \n",
      "1215641946687000576 2020-01-10 06:30:00 Pacific Standard Time <msftsecurity> Learn to simplify security information and event management (SIEM) deployment with a cloud-native approach during the Azure Security Expert webinar, January 23 at 1:00 PM PT. Register here:  http://msft.it/6014TXC0k \n",
      "1215641160875741189 2020-01-10 06:26:52 Pacific Standard Time <msftsecurity> Hey Marius, unfortunately a security pin is a required backup measure for creating additional login options with Windows Hello. Apologies for any inconvenience caused!\n",
      "1215326317715116032 2020-01-09 09:35:48 Pacific Standard Time <msftsecurity> With #Microsoft365 security services, governments can take confident steps to adopt a #ZeroTrust approach to cybersecurity. http://msft.it/6018TXfqp \n",
      "1215314147107393536 2020-01-09 08:47:26 Pacific Standard Time <msftsecurity> Thank you for the tag, we've sent you a DM.\n",
      "1215041590655438848 2020-01-08 14:44:24 Pacific Standard Time <msftsecurity> #MicrosoftSecurity is a leader in 5 Gartner Magic Quadrants. Learn more:  http://msft.it/6011TXFCS \n",
      "1212139699936075778 2019-12-31 14:33:19 Pacific Standard Time <msftsecurity> Thank you for that information. Can you try the solution listed by one of our community experts:  http://msft.it/6015TXT4h \n",
      "1211798386657157122 2019-12-30 15:57:04 Pacific Standard Time <msftsecurity> Well deserved, Tracie! Congrats\n",
      "1211744118159872002 2019-12-30 12:21:25 Pacific Standard Time <msftsecurity> Hi Chee, thank you for reaching out. What kind of problem are you experiencing?\n",
      "1211676222746513414 2019-12-30 07:51:38 Pacific Standard Time <msftsecurity> Hi Tim, thanks for posting this. Could you DM us the links that you used to access this? https://twitter.com/messages/compose?recipient_id=208214219 …\n",
      "1211596790086217729 2019-12-30 02:35:59 Pacific Standard Time <msftsecurity> Hi Rob, thanks for your feedback on this. We have passed this on to the team. We are aware of the conversation around this here:  http://msft.it/6013TXM0t \n",
      "1211594245062176768 2019-12-30 02:25:53 Pacific Standard Time <msftsecurity> Hi there, thanks for your feedback on this. We encourage you to submit your experience directly to our developers via in-app feedback. You can find instructions on how to do that here:    http://msft.it/6013TXMLH \n",
      "1209251906847232002 2019-12-23 15:18:16 Pacific Standard Time <msftsecurity> We hope you find the perfect spot for those stickers and enjoy the swag, Francesco!\n",
      "1209175553485484034 2019-12-23 10:14:52 Pacific Standard Time <msftsecurity> In this next installment of the CISO series, we provide insight into the day in the life of our SOC analysts investigating common front door attacks. Read more on the blog: http://msft.it/6017Tn2Bh \n",
      "1208117127644930049 2019-12-20 12:09:03 Pacific Standard Time <msftsecurity> Hear stories and advice from experts, learn tips for taking full advantage of your Microsoft Security products and more! Tune in here:  http://msft.it/6013TnsxU \n",
      "1208024252886196224 2019-12-20 06:00:00 Pacific Standard Time <msftsecurity> To safeguard company assets, organizations need to augment their global cyber defense strategy with mobile threat intelligence. Get the full perspective on the blog: http://msft.it/6018TnUdr \n"
     ]
    },
    {
     "name": "stdout",
     "output_type": "stream",
     "text": [
      "1207782231495892993 2019-12-19 13:58:18 Pacific Standard Time <msftsecurity> Hi there, thank you for reaching out. Account emails come from account-security-noreply AT accountprotection. microsoft. com   Please submit phishing scam emails to Microsoft by sending an email with the scam as an attachment to: phish @ microsoft. com.  Thanks again.\n",
      "1207780143311269891 2019-12-19 13:50:00 Pacific Standard Time <msftsecurity> Discover how to manage your data with @Microsoft’s integrated, intelligent governance solution. Read more here:  http://msft.it/6018TnoDk  #Microsoft365Compliance\n",
      "1207364123371151361 2019-12-18 10:16:53 Pacific Standard Time <msftsecurity> “Every organization needs to play a role in the integrity and security of its digital supply chains, as a lack of trust can impede business performance and innovation.” -Joram Borenstein, GM, Microsoft Cybersecurity Solutions Group. Read more: http://msft.it/6014Tn9jy \n",
      "1207357666260992001 2019-12-18 09:51:13 Pacific Standard Time <msftsecurity> #Microsoft365 has a built-in secure, highly capable data governance and retention capability. Get the details: http://msft.it/6016Tn9KY \n",
      "1206997799302238208 2019-12-17 10:01:14 Pacific Standard Time <msftsecurity> It’s complex work to define a security strategy for IoT—especially with a 3-million-person shortage of cybersecurity pros. But there is a way to augment existing security teams and resources. Learn how: http://msft.it/6014TnbUw \n",
      "1206726441917976578 2019-12-16 16:02:58 Pacific Standard Time <msftsecurity> Hi Bruce, that is correct. Microsoft Compliance Score is available to all Microsoft 365 and Office 365 enterprise licenses.\n",
      "1206625462392381441 2019-12-16 09:21:42 Pacific Standard Time <msftsecurity> As part of Microsoft’s Detection and Response Team (DART) Incident Response engagements, we regularly get asked by customers about \"paying the ransom\" following a ransomware attack. Get our take here: http://msft.it/6017Tnnlb \n",
      "1206612451778842626 2019-12-16 08:30:00 Pacific Standard Time <msftsecurity> Introducing Microsoft Compliance Score, a tool that gives continuous assess and monitor controls with a risk-based score. Easily stay up to date with regulatory requirements with Microsoft Compliance Score.  http://msft.it/6018TnpHY  #Microsoft365Compliance\n",
      "1206590772256088069 2019-12-16 07:03:52 Pacific Standard Time <msftsecurity> Hi Raymond, thanks for reaching out. Can you DM the Insider link you accessed this from? https://twitter.com/messages/compose?recipient_id=208214219 …\n",
      "1206552200379609089 2019-12-16 04:30:35 Pacific Standard Time <msftsecurity> Hey Chris, this is a real email from our team. More details here:  http://msft.it/6018TnVBE  Hope that helps.\n",
      "1205566374355046400 2019-12-13 11:13:16 Pacific Standard Time <msftsecurity> In collaboration with Harvard University’s Berkman Klein Center, Microsoft is publishing a series of materials we believe will contribute to solving a major challenge to securing #AI and machine learning systems. Learn more: http://msft.it/6014TnMcy \n",
      "1205546618805727233 2019-12-13 09:54:46 Pacific Standard Time <msftsecurity> Microsoft Threat Intelligence Center (MSTIC) is raising awareness of the ongoing activity by a group we call GALLIUM, targeting telecommunication providers. Learn more on the blog: http://msft.it/6017TnM3t \n",
      "1205544350148628482 2019-12-13 09:45:45 Pacific Standard Time <msftsecurity> Announcing Insider Risk Management, a new solution that uses AI and automation to quickly identify and take action on insider risks and threats. Learn more about Insider Risk Management here:  http://msft.it/6012TnMzi  #Microsoft365Compliance\n",
      "1205156675365289984 2019-12-12 08:05:16 Pacific Standard Time <msftsecurity> .@JoyChik, Microsoft CVP,  Identity,  explains how #passwordless works and provides steps to begin preparing your organization to eliminate passwords. Read more on the blog: http://msft.it/6016TnGdQ \n",
      "1205125149667872768 2019-12-12 06:00:00 Pacific Standard Time <msftsecurity> #AzureSentinel has been named one of the 10 hottest new cybersecurity tools of 2019 by @CRN. Learn more: http://msft.it/6013TnERc \n",
      "1204808882230571008 2019-12-11 09:03:16 Pacific Standard Time <msftsecurity> In 2019, we saw phishing attacks reach new levels of creativity and sophistication. Read about the most notable phishing techniques we spotted in the past year: http://msft.it/6019TV7LB \n",
      "1204442761484738562 2019-12-10 08:48:26 Pacific Standard Time <msftsecurity> Glad you are fond of this feature, Rob. Thanks for the comment!\n",
      "1204163876172029952 2019-12-09 14:20:15 Pacific Standard Time <msftsecurity> Learn how to improve cyber supply chain risk management by using #MicrosoftAzure: http://msft.it/6018TVa3e \n",
      "1204155006531899392 2019-12-09 13:45:00 Pacific Standard Time <msftsecurity> Learn how Microsoft @azuread and @zscaler combine authentication and identity management with adaptive, zero-trust access across all your apps — in the #cloud and #onprem - at our joint webinar on 12/12:  http://msft.it/6016TVvvO  #MISA #AAD #BetterTogether\n",
      "1204098392185606145 2019-12-09 10:00:02 Pacific Standard Time <msftsecurity> Do you know where your organization’s business-critical data is stored? Learn how to find, manage, and protect your data with the latest solutions from Microsoft. Read the blog for more:  http://msft.it/6011TVo9N  #Microsoft365Compliance pic.twitter.com/530mbQU9QB\n",
      "1202988576675450891 2019-12-06 08:30:01 Pacific Standard Time <msftsecurity> Our hard work pays off: Gartner names Microsoft a Leader in the Magic Quadrant for Enterprise Information Archiving 2019 report.  http://msft.it/6014TVZxu  pic.twitter.com/GCVwBkfiek\n",
      "1202950830162362368 2019-12-06 06:00:02 Pacific Standard Time <msftsecurity> Don’t risk your data. Check out the latest capabilities and solutions available to protect your data in the cloud era. Read more here:  http://msft.it/6017TVP3V  pic.twitter.com/ptrmmUGVqF\n",
      "1202383836966993920 2019-12-04 16:27:00 Pacific Standard Time <msftsecurity> With EDR capabilities for macOS, we continue to extend Microsoft Defender ATP capabilities to non-Windows platforms in line with our commitment to build security solutions from Microsoft, not just for Microsoft. https://twitter.com/MsftSecIntel/status/1202340565842575360 …\n",
      "1202282673714147328 2019-12-04 09:45:01 Pacific Standard Time <msftsecurity> eDiscovery for Teams is here. Follow the link to learn about conversation reconstruction and discover what else is new.  http://msft.it/6018TV31Q  #Microsoft365Compliance pic.twitter.com/BG123krJKw\n",
      "1201910467716927488 2019-12-03 09:06:00 Pacific Standard Time <msftsecurity> Microsoft Security has been named a leader in 5 Gartner Magic Quadrants. Learn more: http://msft.it/6014TVHou \n",
      "1201863658634141697 2019-12-03 06:00:00 Pacific Standard Time <msftsecurity> Uncover Microsoft’s commitment to security and data privacy on the updated Trust Center. Learn to create a safer world for digital transformation, to control your sensitive data, and about our compliance coverage:  http://msft.it/6016TVEd0 \n",
      "1201551185527877634 2019-12-02 09:18:21 Pacific Standard Time <msftsecurity> Spear phishing campaigns—they’re sharper than you think. Learn more from @dianakelley14 and @reachseemak on the blog: http://msft.it/6012TV85n \n",
      "1199804849090633728 2019-11-27 13:39:01 Pacific Standard Time <msftsecurity> 78% of mobile attacks come from apps. Facilitating device protection from the full spectrum threats, @MSIntune now offers new integration with @Pradeo’s #MobileSecurity technology. Don’t miss our webinar with their team to learn more. #MISA #BetterTogether  http://msft.it/6010TpS9p  pic.twitter.com/BT42lsZu4R\n",
      "1199779930709659652 2019-11-27 12:00:00 Pacific Standard Time <msftsecurity> Learn about Windows 10 random number generation, entropy, seeding, and more: https://twitter.com/MsftSecIntel/status/1199068992985587714 …\n",
      "1199351971150532608 2019-11-26 07:39:27 Pacific Standard Time <msftsecurity> Hi Ronny, we do not have ability to do this. We do have documentation on how to manage phishing and scam emails here:  http://msft.social/RfzAGw  Hope this helps.\n",
      "1199326944854265857 2019-11-26 06:00:00 Pacific Standard Time <msftsecurity> Learn how your organization can use @AzureAD and Zscaler for adaptive, zero-trust access across all your apps from cloud apps to legacy on-premises apps. Join our webinar on December 12 at 10:00 AM to learn more. Register here:  http://msft.it/6019Tp9md \n",
      "1198017067779317760 2019-11-22 15:15:01 Pacific Standard Time <msftsecurity> Our hard work pays off: Gartner names Microsoft a Leader in the Magic Quadrant for Enterprise Information Archiving 2019 report.  http://msft.social/6ULLHn  pic.twitter.com/kdnc0AbyZ5\n",
      "1197891385380216833 2019-11-22 06:55:36 Pacific Standard Time <msftsecurity> Hi there, that is the correct process to delist page. Have you tried the audio option instead of the captcha image? If audio does not work can you advise what platform you are on and what browser you use? Thanks.\n",
      "1197654607209598978 2019-11-21 15:14:44 Pacific Standard Time <msftsecurity> Hi Bryan, thanks for reaching out. You can find information in regard to that latest update here:  http://msft.social/5RpXgi \n",
      "1197199179887644673 2019-11-20 09:05:02 Pacific Standard Time <msftsecurity> Learn about the latest in cybersecurity with new webinars from the Microsoft Security Community. Sign up for one, two, or all five this November or check out the recordings for each webinar at  http://msft.social/3rU8Q4 .   Learn more:  http://msft.social/LCowFI  pic.twitter.com/Z9id86kCsI\n"
     ]
    },
    {
     "name": "stdout",
     "output_type": "stream",
     "text": [
      "1196929101753438208 2019-11-19 15:11:50 Pacific Standard Time <msftsecurity> Are you creating a #ZeroTrust strategy? Here's our take on what \"good\" looks like: http://msft.it/6012TpJiu \n",
      "1196883702476881920 2019-11-19 12:11:26 Pacific Standard Time <msftsecurity> #Microsoft works with researchers to detect and protect against new RDP exploits. Learn how on the blog: http://msft.social/LPR0lu \n",
      "1196382263807795201 2019-11-18 02:58:54 Pacific Standard Time <msftsecurity> Hi there, thanks for your feedback on this. We invite you to post your suggestion to our UserVoice forum here:  http://msft.social/hASmYH  where our team can review your suggestion and allows other users to vote for this feature.  Your ideas help improve our service.\n",
      "1195099552816279552 2019-11-14 14:01:51 Pacific Standard Time <msftsecurity> Hi there, thanks for bringing this to our attention. We will send this over to the team.   Thank you.\n",
      "1194732928946888706 2019-11-13 13:45:01 Pacific Standard Time <msftsecurity> Join Microsoft and @morphisec for a webinar on November 19 at 1:00 PM ET and learn how Morphisec's Moving Target Defense integrates with #MicrosoftDefender ATP to fight unknown #cybersecurity threats:  http://msft.it/6015TTQs7  pic.twitter.com/nn5AvvLP8i\n",
      "1194622159810895872 2019-11-13 06:24:52 Pacific Standard Time <msftsecurity> Hi there, thanks for posting this. We have passed this on to the team, and we invite you to submit this directly to our developers via in-app feedback. You can find instructions on how to do that here:   http://msft.social/0nCF89 \n",
      "1194309087187656705 2019-11-12 09:40:50 Pacific Standard Time <msftsecurity> You can also try this link to get in touch with support:  http://msft.social/cBhTaO   Hope that helps!\n",
      "1194308497866919937 2019-11-12 09:38:29 Pacific Standard Time <msftsecurity> The links we provided are the best way to get in touch with support. They will be able to assist you. Have a great day!\n",
      "1193972473408229376 2019-11-11 11:23:15 Pacific Standard Time <msftsecurity> Hi Roya, please reference the following link for troubleshooting tips surrounding delayed verification code issues.   http://msft.social/yzMzGn \n",
      "1193796915273633793 2019-11-10 23:45:38 Pacific Standard Time <msftsecurity> Hey there, sorry to hear you’re having so much trouble. You can contact our support team through the link at the bottom of the page here:  http://msft.social/gIbyJQ \n",
      "1192898410589933569 2019-11-08 12:15:18 Pacific Standard Time <msftsecurity> Join Enterprise Strategy Group and explore top industry trends in security analytics and operations. Register for the webinar today here:  http://msft.social/h8DdrI  pic.twitter.com/pGSaWu2b5B\n",
      "1192884536729907201 2019-11-08 11:20:10 Pacific Standard Time <msftsecurity> Can you tell us which regional team you tried to contact but could not reach? You can also reach out to support here:  http://msft.social/y3ATTm \n",
      "1192491500816470017 2019-11-07 09:18:23 Pacific Standard Time <msftsecurity> Are you a cyber defender? Don't miss these security-posture focused sessions at #MSIgnite:  http://msft.social/p2AHOt  pic.twitter.com/dPq350M4FC\n",
      "1192213529845280768 2019-11-06 14:53:50 Pacific Standard Time <msftsecurity> Learn how to balance compliance and security with limited resources from @ajohnsocyber on the blog: http://msft.social/o7H9K7 \n",
      "1192194446458273794 2019-11-06 13:38:00 Pacific Standard Time <msftsecurity> We're glad you're enjoying the updates. Also, you might've missed Ignite this year, but there's always Ignite 2020!\n",
      "1192194334101258240 2019-11-06 13:37:33 Pacific Standard Time <msftsecurity> Microsoft Cloud Security solutions provide comprehensive cross-cloud protection. Learn more on the blog:  http://msft.social/lBJcVh  #CASB\n",
      "1192186142805962755 2019-11-06 13:05:00 Pacific Standard Time <msftsecurity> What do identity protection, family history, and Microsoft have in common? Watch the video to discover how Bailey Bercik follows in her grandma’s footsteps working in cybersecurity.  http://msft.it/6015TTrGf \n",
      "1192181670281142273 2019-11-06 12:47:14 Pacific Standard Time <msftsecurity> EDR capabilities in Microsoft Defender ATP for Mac are now in public preview! Get started detecting and investigating advanced attacks on macOS devices today. https://twitter.com/MsftSecIntel/status/1192168750113533955 …\n",
      "1192181376440774657 2019-11-06 12:46:04 Pacific Standard Time <msftsecurity> CVP @Rob_Lefferts is not only an international man of mystery, he’s a man of security. You too can achieve mysterious chic with #MicrosoftSecurity shade by visiting Intersection at the Hub #MsIgnite #AlwaysSecureNeverShady pic.twitter.com/s5BGbsGKPc\n",
      "1192168598644707328 2019-11-06 11:55:17 Pacific Standard Time <msftsecurity> Staying secure is a constant battle, John! Stay vigilant and do hope you're enjoying all the new updates and features.\n",
      "1192154603627991042 2019-11-06 10:59:41 Pacific Standard Time <msftsecurity> That’s what leaders look like! #TeamCASB at #MSIgnite2019 Check out what analysts are saying:  http://msft.social/tApU3U  @RueLimones @AlexEsibov @AsafKashi @NivGolden @KimKischel @ani6gup #CASB pic.twitter.com/J7PsYgq9NE\n",
      "1192139589810556930 2019-11-06 10:00:01 Pacific Standard Time <msftsecurity> Join @Jairo_A_Cadena at #MSIgnite and learn how @AzureAD helps you connect and protect your legacy based applications. Read more about this session here:  http://msft.social/eUkXuN  pic.twitter.com/YktfePIInG\n",
      "1192138378109767681 2019-11-06 09:55:12 Pacific Standard Time <msftsecurity> What is it like to track the world’s most dangerous hackers? Go inside the human element of #SecOps with @HowellONeill from @TechReview: http://msft.social/b86Qpf \n",
      "1192130849334026240 2019-11-06 09:25:17 Pacific Standard Time <msftsecurity> Now that #MSIgnite is half-way over, you can get the latest in Cyber Tea with @ajohnsocyber! Listen to their podcast now:  http://msft.social/6u3wpF  #AlwaysSecureNeverShady pic.twitter.com/Xan0LreGgz\n",
      "1192129470251044864 2019-11-06 09:19:49 Pacific Standard Time <msftsecurity> .@Trustwave launches advanced threat detection and response services leveraging Microsoft Defender ATP! https://twitter.com/Trustwave/status/1191404610822529024 …\n",
      "1192079190830538752 2019-11-06 06:00:01 Pacific Standard Time <msftsecurity> Easily track who has access to what, and when, with @AzureAD entitlement management. Manage access to groups, applications, and @SharePoint sites for people inside and outside your organization from one portal. Learn more here:  http://msft.social/iw97kL  pic.twitter.com/TAtNHLaNRu\n",
      "1191912052039856128 2019-11-05 18:55:52 Pacific Standard Time <msftsecurity> Here are our Global Telephone Support numbers:  http://msft.social/cgyQtD . Please pick the one that's best suited for you.\n",
      "1191859306544664577 2019-11-05 15:26:17 Pacific Standard Time <msftsecurity> You too can save the world! Visit Security at the Hub and be a cyber defender! #MsIgnite #AlwaysSecureNeverShady pic.twitter.com/8I9JbtzHEn\n",
      "1191830908497801216 2019-11-05 13:33:26 Pacific Standard Time <msftsecurity> To protect your data is to protect your chi. Visit the Hub to learn how! #NinjaCat #MSIgnite pic.twitter.com/c7HEJXVSfX\n",
      "1191825642100273158 2019-11-05 13:12:30 Pacific Standard Time <msftsecurity> New capabilities for Threat & Vulnerability Management (TVM) are coming...  ✔️ Vulnerability Assessment (VA) support for Windows Servers ✔️ Streamlined integration across platforms ✔️ Automated analysis of remediation on user impact  Read more:  http://msft.social/lp3xSA  pic.twitter.com/1Jgyafo2gX\n",
      "1191820820382920705 2019-11-05 12:53:21 Pacific Standard Time <msftsecurity> We're glad you enjoyed the session, Linda. Any early key takeaways?\n",
      "1191818154432978946 2019-11-05 12:42:45 Pacific Standard Time <msftsecurity> .@Secureworks managed security service leverages Microsoft Defender ATP's capabilities: https://twitter.com/Secureworks/status/1191415569058344961 …\n",
      "1191780971433152513 2019-11-05 10:15:00 Pacific Standard Time <msftsecurity> #AzureSentinel update: Improve your security operations with innovations from a cloud-native SIEM. Learn more on the blog:  http://msft.social/KYTD3z  #MSIgnite\n",
      "1191772945191972864 2019-11-05 09:43:06 Pacific Standard Time <msftsecurity> The Microsoft Intelligent Security Association has grown to over 80 members 💪 Learn more: http://msft.social/gfGRkN \n",
      "1191746736261345280 2019-11-05 07:58:58 Pacific Standard Time <msftsecurity> We build partnerships to make Security work for our joint customers. @DropboxBusiness & #MicrosoftCloudAppSecurity Learn more:  http://msft.social/boruWF  @AlexEsibov #BetterTogether #MSIgnite #CASB pic.twitter.com/9k5tVDVHFS\n",
      "1191731901926694912 2019-11-05 07:00:01 Pacific Standard Time <msftsecurity> Do you have what it takes to be a top cyber defender? 👀 Get on the leaderboard when you go Into the Breach. Visit The Hub to learn more. #MSIgnite pic.twitter.com/WZFkcIadGb\n",
      "1191716801715027969 2019-11-05 06:00:01 Pacific Standard Time <msftsecurity> Pressed for time today? Don't worry, these theater sessions are only 20 minutes:  http://msft.social/dlrBmp  #MSIgnite pic.twitter.com/79mpX6vNw1\n",
      "1191490082139758593 2019-11-04 14:59:07 Pacific Standard Time <msftsecurity> Keep focus and get on the leaderboard with @Microsoft and @Circadence Into the Breach: Cyber Defense Experience. Visit the Hub and find out how. #MSIgnite pic.twitter.com/CRN5HlNghR\n",
      "1191467000003997697 2019-11-04 13:27:23 Pacific Standard Time <msftsecurity> Meet #MicrosoftSecurity very own Blues Brothers at #MSIgnite. Join us at The Hub! #AlwaysSecureNeverShady pic.twitter.com/hILFuU2HYH\n"
     ]
    },
    {
     "name": "stdout",
     "output_type": "stream",
     "text": [
      "1191448192153522176 2019-11-04 12:12:39 Pacific Standard Time <msftsecurity> The Microsoft Identity team is #AlwaysSecureNeverShady at #MSIgnite. You can be too, visit us at the Hub to learn more. #AzureAD pic.twitter.com/1ZocHql3r1\n",
      "1191441476921806849 2019-11-04 11:45:58 Pacific Standard Time <msftsecurity> Passwords are no longer enough–the Microsoft Authenticator app increases account security with passwordless authentication. Enable MFA for your organization now for free and easily secure employee and business partner accounts.  http://msft.social/K79Aue  pic.twitter.com/gnY950XIg2\n",
      "1191440174233899013 2019-11-04 11:40:48 Pacific Standard Time <msftsecurity> CVP @JoyChik announces @AzureAD Connect cloud provisioning will be available in public preview by end of November. Learn more:  http://msft.social/vQIuAt  pic.twitter.com/hvCaC3o1DI\n",
      "1191412415860219906 2019-11-04 09:50:29 Pacific Standard Time <msftsecurity> Hello there, we'd love to help. If you'd like to share some information about the problem you are having please DM us and we'll be happy to look into it.   You can also get in touch with Support via this link:  http://msft.social/N9wkXm   Hope that helps! https://twitter.com/messages/compose?recipient_id=208214219 …\n",
      "1191412179884486656 2019-11-04 09:49:33 Pacific Standard Time <msftsecurity> You're welcome. Let us know if you need help with anything else.\n",
      "1191411040174694402 2019-11-04 09:45:01 Pacific Standard Time <msftsecurity> CVP Kirk Koenigsbaur and CVP, CISO Bret Arsenault discuss #ZeroTrust informing attendees how to never trust anything inside or outside the corporate network. #MSIgnite\n",
      "1191401199226032128 2019-11-04 09:05:55 Pacific Standard Time <msftsecurity> .@ajohnsocyber explains how you cannot achieve operational resilience without cyber resilience. pic.twitter.com/KfSsywSrQT\n",
      "1191399051280957440 2019-11-04 08:57:23 Pacific Standard Time <msftsecurity> Announcing insider risk management. Now in private preview, this new solution leverages the Microsoft Graph along with third-party signals, like HR systems, to identify hidden patterns that traditional methods would likely miss.  http://msft.social/3JWJuh  pic.twitter.com/7atErBmstJ\n",
      "1191397598009217024 2019-11-04 08:51:37 Pacific Standard Time <msftsecurity> .@KimKischel explains how you don't need other identity solutions because you already have access to the best one. #MSIgnite #AzureAD #CASB pic.twitter.com/lTyEklS4rF\n",
      "1191395602459967488 2019-11-04 08:43:41 Pacific Standard Time <msftsecurity> \"Your data is your data.\" - @ajohnsocyber pic.twitter.com/iP7LAil7G1\n",
      "1191393514824835072 2019-11-04 08:35:23 Pacific Standard Time <msftsecurity> Hi Benajmin, please feel free to use the following link for \"Microsoft's Roadmap for Security, Compliance and Identity.\" http://msft.social/8e27kP \n",
      "1191383854004785152 2019-11-04 07:57:00 Pacific Standard Time <msftsecurity> .@Microsoft announces new innovations in security, compliance, and identity at Ignite. Read more on the blog:  http://msft.social/tDN9vo \n",
      "1191354196777455617 2019-11-04 05:59:09 Pacific Standard Time <msftsecurity> Experience real cyber security threats in our VR escape room! The council from the future, Intersection, needs your help defending against evil hacker 157! Solve a series of cybersecurity hacks using Microsoft solutions. Find us at The Hub. #Defeat157 #MSIgnite pic.twitter.com/Hf449xTnWv\n",
      "1191088910857854976 2019-11-03 12:25:00 Pacific Standard Time <msftsecurity> Wrapped up the first half of the #MSIgnite Cybersecurity Summit pre-day strong with an amazing panel of experts! Thanks to @BelsonTech, @K3r3n3, @AlexStamos, and @JeremiahG who took us on a deep dive into the evolution of geopolitical attacks. pic.twitter.com/zTo3u9H1Jw\n",
      "1191088223528923137 2019-11-03 12:22:16 Pacific Standard Time <msftsecurity> .@AlexStamos took us on a deep dive into the evolution of geopolitical attacks at the #MSIgnite Cybersecurity Summit. pic.twitter.com/xZNYEOg4i4\n",
      "1191087763292065792 2019-11-03 12:20:26 Pacific Standard Time <msftsecurity> Great panel discussion about #MicrosoftSecurity go to market strategy lead by  @JoramBorenstein with @KnappTara, Keith Vidal, and Mandana Javaheri! pic.twitter.com/UGx1pno1gT\n",
      "1191048979355705346 2019-11-03 09:46:19 Pacific Standard Time <msftsecurity> 🤖 Play as a cyber defense analyst and defend against online threats firsthand at #MSIgnite. Complete 5️⃣ levels of a ransomware attack with Microsoft Security solutions. Think you can make it onto the leaderboard? 📈 pic.twitter.com/Vj2plKkSVz\n",
      "1191027519069335553 2019-11-03 08:21:03 Pacific Standard Time <msftsecurity> Thanks, @K3r3n3 for sharing the friendly hacker perspective at the #MSIgnite Cybersecurity summit! pic.twitter.com/97gk2gkozj\n",
      "1190230538801557504 2019-11-01 04:34:08 Pacific Standard Time <msftsecurity> Thanks. Please follow the guide here to report those emails:  http://msft.social/Y82kJL  This will also help keep your account secured.\n",
      "1190185717848268801 2019-11-01 01:36:02 Pacific Standard Time <msftsecurity> Thanks. One more question: is this an Outlook account you’re using?\n",
      "1190169295294062592 2019-11-01 00:30:46 Pacific Standard Time <msftsecurity> Hey Chris, can we ask what programs are these emails coming from?\n",
      "1190163093151768577 2019-11-01 00:06:08 Pacific Standard Time <msftsecurity> Hi there, feel free to add your suggestion to our UserVoice site here:  http://msft.social/VnR5Yo  This will give other users a chance to vote for your idea. Our development engineers will be reviewing suggestions as well. Thanks for the feedback.\n",
      "1190021885528068097 2019-10-31 14:45:01 Pacific Standard Time <msftsecurity> Upgrade your security with multi-factor authentication recording is now available at  http://msft.social/3jJAI5  #AzureAD pic.twitter.com/hNDpEhTqPK\n",
      "1189904998320263168 2019-10-31 07:00:33 Pacific Standard Time <msftsecurity> Security Tip Of The Day: Cybersecurity is about more than just the attacks. Learn more here:  http://msft.social/3rtYqp  #NCSAM pic.twitter.com/bAd5xu1g7R\n",
      "1189606280572428288 2019-10-30 11:13:33 Pacific Standard Time <msftsecurity> Security Tip Of The Day: Ongoing and proactive communication with the board is critical. Find out more:  http://msft.social/py4Gq1  #NCSAM pic.twitter.com/qMwzVFuadR\n",
      "1189457081163833345 2019-10-30 01:20:41 Pacific Standard Time <msftsecurity> Hey Geo, yes it is. Take a look at the link here for details:  http://msft.social/SBulYD   And here:  http://msft.social/AVRYEG   Let us know if you have other questions.\n",
      "1189272058993270786 2019-10-29 13:05:29 Pacific Standard Time <msftsecurity> Thank you for the kind words, Dave. We are happy to introduce new features to secure the user experience.\n",
      "1189256744112984065 2019-10-29 12:04:37 Pacific Standard Time <msftsecurity> A Zero Trust access model can improve your security strategy. Get Bret Arsenault's perspective: http://msft.social/Os8BGk \n",
      "1189208900609937408 2019-10-29 08:54:30 Pacific Standard Time <msftsecurity> Gartner names #Microsoft a Leader in the 2019 Cloud Access Security Broker (#CASB) Magic Quadrant. Learn more: http://msft.social/ExmqxR \n",
      "1189074445211766784 2019-10-29 00:00:14 Pacific Standard Time <msftsecurity> Hi Bruce, all Microsoft Defender ATP customers will have access to Microsoft Threat Experts.\n",
      "1189074006269448193 2019-10-28 23:58:29 Pacific Standard Time <msftsecurity> Yes, the Standard Subscription is appropriate for your task. Take a look here for more information on testing: http://msft.social/CTXnTK \n",
      "1188953841984774145 2019-10-28 16:01:00 Pacific Standard Time <msftsecurity> Microsoft Threat Experts on Demand went to general availability today! Check out @LiamT's @ZDNet article to learn more about the ‘911’ on-demand service for emergency security threats: http://msft.social/ivP8px \n",
      "1188939300777410562 2019-10-28 15:03:13 Pacific Standard Time <msftsecurity> Security Tip of the Day: Use a common framework that helps you and your board understand #cybersecurity.  http://msft.social/lxaotg  #NSCAM pic.twitter.com/ZYI8PSyCqo\n",
      "1188937607339741189 2019-10-28 14:56:29 Pacific Standard Time <msftsecurity> Hi Simon, the standard version is enough, and you can learn more here: http://msft.social/EKX8mb \n",
      "1188934213376118785 2019-10-28 14:43:00 Pacific Standard Time <msftsecurity> Hi Bruce, experts on demand will be available to all Microsoft Defender ATP customers.\n",
      "1188922859768418304 2019-10-28 13:57:53 Pacific Standard Time <msftsecurity> .@Azure Sphere general availability scheduled for February 2020. Learn more on the blog: http://msft.social/tw9TcE \n",
      "1188898225375318016 2019-10-28 12:20:00 Pacific Standard Time <msftsecurity> Experts on demand: Your direct line to Microsoft security insight, guidance, and expertise. http://msft.social/0Zg0Io \n",
      "1187845907854831616 2019-10-25 14:38:28 Pacific Standard Time <msftsecurity> We apologize for the inconvenience, Cori. Thank you for bringing this to our attention and being vigilant about the scammers!\n",
      "1187799060125749248 2019-10-25 11:32:18 Pacific Standard Time <msftsecurity> Security Tip of the Day: The cloud enables you to implement Zero Trust.  Move away from a network based perimeter. Get more tips here:  http://msft.social/d6CTqe  #NCSAM pic.twitter.com/qkoyVSmmMG\n",
      "1187473842261786624 2019-10-24 14:00:00 Pacific Standard Time <msftsecurity> Microsoft’s new ‘Secured-core PCs’ aim to help companies protect sensitive information from hackers via @GeekWire & @NatJLevy http://msft.social/dwpmG3 \n",
      "1187447470906859521 2019-10-24 12:15:13 Pacific Standard Time <msftsecurity> Security Tip Of The Day: Demonstrate the value that your team can bring to the business. Learn more here:  http://msft.social/TnlFeL  #NCSAM pic.twitter.com/1EcKbA05Ca\n",
      "1187097867778961410 2019-10-23 13:06:01 Pacific Standard Time <msftsecurity> Zero Trust is a journey.  See where you are on the journey and how to optimize:  http://msft.social/DNfI5V  pic.twitter.com/srBlGCh0Fv\n",
      "1186999069450887168 2019-10-23 06:33:26 Pacific Standard Time <msftsecurity> Hi Emilio, we'll translate to the best of our ability but can only respond in English. Feel free to send us a PM with a screenshot of the email you got. https://twitter.com/messages/compose?recipient_id=208214219 …\n",
      "1186673888186515461 2019-10-22 09:01:16 Pacific Standard Time <msftsecurity> Security Tip of the Day: Take advantage of cloud security.  It gives you intelligent, agile and efficient threat protection. Find out more:  http://msft.social/qYcJya  #NCSAM pic.twitter.com/wYP8i7fiui\n",
      "1186355254146846725 2019-10-21 11:55:08 Pacific Standard Time <msftsecurity> Security Tip Of The Day: 81% of breaches leverage stolen or weak passwords. Multi Factor Authentication is key. Learn more here:  http://msft.social/HrjPXG  pic.twitter.com/WEdQrT5BcG\n"
     ]
    },
    {
     "name": "stdout",
     "output_type": "stream",
     "text": [
      "1185312234404270080 2019-10-18 14:50:33 Pacific Standard Time <msftsecurity> Thanks for sharing, Christopher!\n",
      "1185307108553699331 2019-10-18 14:30:11 Pacific Standard Time <msftsecurity> Security Tip Of The Day: The cloud provides flexibility to implement new technologies quickly. Learn more here:  http://msft.social/G05BS8  #NCSAM pic.twitter.com/I9BnwZPHhu\n",
      "1185238237348061184 2019-10-18 09:56:31 Pacific Standard Time <msftsecurity> Here are best practices for adding layered security to #Azure security with Check Point’s CloudGuard IaaS. Learn more: http://msft.social/bcftEs \n",
      "1184941015825895431 2019-10-17 14:15:27 Pacific Standard Time <msftsecurity> Hi there, we're sorry to hear the junk filter is not behaving as expected. To help us improve the Outlook experience, would you mind providing this feedback directly in-app for our engineers to take a look? Instructions here:  http://msft.social/HrynoF \n",
      "1184862551932395520 2019-10-17 09:03:40 Pacific Standard Time <msftsecurity> Congratulations, @ajohnsocyber, for being named @EWFUSA Woman of Influence! pic.twitter.com/y2Y5nUbgZN\n",
      "1184825668254781440 2019-10-17 06:37:06 Pacific Standard Time <msftsecurity> Security Tip of the Day: A diverse team brings a diversity of solutions in stopping potential threats. Find out more:  http://msft.social/HKtPdc  #NCSAM pic.twitter.com/bpLo04pyRw\n"
     ]
    }
   ],
   "source": [
    "# clear file\n",
    "#Twint Search\n",
    "d = twint.Config()\n",
    "# d.Search = \"CVE-2018-*\"\n",
    "d.Username = \"msftsecurity\"\n",
    "d.Limit = 150\n",
    "# d.Store_csv = True\n",
    "d.Store_object = True\n",
    "d.Store_json = True\n",
    "d.Output = \"./test1.json\"\n",
    "# d.Database = \"tweets.db\"\n",
    "\n",
    "\n",
    "x = twint.run.Search(d)"
   ]
  },
  {
   "cell_type": "code",
   "execution_count": 337,
   "metadata": {},
   "outputs": [],
   "source": [
    "# Search terms\n",
    "# 0-day AND exploit\n",
    "# “0-day”, “CVE-“, “CVE-2018-*”, “CVE-2019-*”\n",
    "# usernames:\n",
    "# kibbsy\n",
    "# it_securitynews\n",
    "# msftsecurity"
   ]
  },
  {
   "cell_type": "code",
   "execution_count": 338,
   "metadata": {},
   "outputs": [],
   "source": [
    "# x = twint.run.Search(d)\n",
    "# twint -u noneprivacy --csv --output \"/Users/psingh4/harsh/test4.json\" --lang en --translate --translate-dest it --limit 100"
   ]
  },
  {
   "cell_type": "code",
   "execution_count": 339,
   "metadata": {},
   "outputs": [],
   "source": [
    "# d.__dict__.keys()"
   ]
  },
  {
   "cell_type": "code",
   "execution_count": 340,
   "metadata": {},
   "outputs": [],
   "source": [
    "# twint.run.Search(d)\n",
    "# twint.output"
   ]
  },
  {
   "cell_type": "code",
   "execution_count": 341,
   "metadata": {},
   "outputs": [],
   "source": [
    "f= open(\"./test1.json\",\"r\",errors='ignore')\n",
    "line1 = f.readlines()\n",
    "arr = []\n",
    "for x in line1:\n",
    "    arr.append(x)\n",
    "f.close()    "
   ]
  },
  {
   "cell_type": "code",
   "execution_count": null,
   "metadata": {},
   "outputs": [],
   "source": []
  },
  {
   "cell_type": "code",
   "execution_count": 342,
   "metadata": {},
   "outputs": [],
   "source": [
    "arr.insert(0,\"[\")\n",
    "arr.append(']')\n",
    "for i in range(1,len(arr)-2):\n",
    "    arr[i] = arr[i][:-1] + \",\" + arr[i][-1:]"
   ]
  },
  {
   "cell_type": "code",
   "execution_count": 343,
   "metadata": {},
   "outputs": [],
   "source": [
    "file = open(\"../test.json\",\"w\")\n",
    "for i in range(len(arr)):\n",
    "    file.write(arr[i])\n",
    "file.close()"
   ]
  },
  {
   "cell_type": "code",
   "execution_count": 344,
   "metadata": {},
   "outputs": [],
   "source": [
    "f= open(\"../test.json\",\"r\",errors='ignore')\n",
    "line1 = f.readlines()\n",
    "data = []\n",
    "for x in line1:\n",
    "    data.append(x)\n",
    "f.close()"
   ]
  },
  {
   "cell_type": "code",
   "execution_count": 345,
   "metadata": {},
   "outputs": [],
   "source": [
    "# Removing non ASCII characters\n",
    "for i in range(len(data)):\n",
    "    data[i] = (''.join([i if ord(i) < 128 else ' ' for i in str(data[i])]))"
   ]
  },
  {
   "cell_type": "code",
   "execution_count": 346,
   "metadata": {},
   "outputs": [],
   "source": [
    "file = open(\"./data.json\",\"w\")\n",
    "for i in range(len(data)):\n",
    "    file.write(data[i])\n",
    "file.close()"
   ]
  },
  {
   "cell_type": "code",
   "execution_count": 347,
   "metadata": {},
   "outputs": [],
   "source": [
    "with open(\"./data.json\", \"r\",errors='ignore') as read_file:\n",
    "    data = json.load(read_file)"
   ]
  },
  {
   "cell_type": "code",
   "execution_count": 357,
   "metadata": {},
   "outputs": [],
   "source": [
    "import mysql.connector"
   ]
  },
  {
   "cell_type": "code",
   "execution_count": 358,
   "metadata": {},
   "outputs": [],
   "source": [
    "mydb = mysql.connector.connect(user='admin', password='Private2712!',\n",
    "                              host='database-1.cok63qqiofsd.us-east-1.rds.amazonaws.com',\n",
    "                              database='data')"
   ]
  },
  {
   "cell_type": "code",
   "execution_count": 359,
   "metadata": {},
   "outputs": [],
   "source": [
    "mycursor = mydb.cursor()"
   ]
  },
  {
   "cell_type": "code",
   "execution_count": 352,
   "metadata": {},
   "outputs": [
    {
     "name": "stdout",
     "output_type": "stream",
     "text": [
      "160 record inserted.\n"
     ]
    }
   ],
   "source": [
    "sql = \"\"\"INSERT INTO train_data (created_at, conversation_id, id, date, time, timezone, user_id, username, name, place, tweet, mentions, urls, replies_count, \n",
    "        retweets_count, likes_count, hashtags, cashtags, link, retweet, video, near, geo, source, user_rt_id, user_rt, retweet_id,\n",
    "        retweet_date, translate, trans_src, trans_dest, photos, reply_to) VALUES (%s, %s, %s, %s, %s, %s, %s, %s, %s, %s, %s, %s, %s, %s, %s, \n",
    "        %s, %s, %s, %s, %s, %s, %s, %s, %s, %s, %s, %s, %s, %s, %s, %s, %s, %s)\"\"\"\n",
    "\n",
    "val = []\n",
    "for i in range(len(data)):\n",
    "    val.append((data[i]['created_at'], data[i]['conversation_id'], str(data[i]['id']), data[i]['date'], data[i]['time'], data[i]['timezone'], data[i]['user_id'], data[i]['username'],\n",
    "      data[i]['name'], data[i]['place'], data[i]['tweet'], str(data[i]['mentions']), str(data[i]['urls']), data[i]['replies_count'],\n",
    "      data[i]['retweets_count'], data[i]['likes_count'], str(data[i]['hashtags']), str(data[i]['cashtags']), data[i]['link'], data[i]['retweet'],\n",
    "      data[i]['video'], data[i]['near'], data[i]['geo'], data[i]['source'], data[i]['user_rt_id'], data[i]['user_rt'],\n",
    "      data[i]['retweet_id'], data[i]['retweet_date'], data[i]['translate'], data[i]['trans_src'], data[i]['trans_dest'],str(data[i]['photos']), \n",
    "       str(data[i]['reply_to'])))\n",
    "    \n",
    "mycursor.executemany(sql, val)\n",
    "\n",
    "mydb.commit()\n",
    "\n",
    "print(mycursor.rowcount, \"record inserted.\")"
   ]
  },
  {
   "cell_type": "code",
   "execution_count": 353,
   "metadata": {},
   "outputs": [],
   "source": [
    "mydb.close()"
   ]
  },
  {
   "cell_type": "code",
   "execution_count": null,
   "metadata": {},
   "outputs": [],
   "source": [
    "val = []\n",
    "for i in range(len(data)):\n",
    "    val.append((data[i]['created_at'], data[i]['conversation_id'], data[i]['date'], data[i]['time'], data[i]['timezone'], data[i]['user_id'], data[i]['username'],\n",
    "      data[i]['name'], data[i]['place'], data[i]['tweet'], str(data[i]['mentions']), str(data[i]['urls']), data[i]['replies_count'],\n",
    "      data[i]['retweets_count'], data[i]['likes_count'], str(data[i]['hashtags']), str(data[i]['cashtags']), data[i]['link'], data[i]['retweet'],\n",
    "      data[i]['video'], data[i]['near'], data[i]['geo'], data[i]['source'], data[i]['user_rt_id'], data[i]['user_rt'],\n",
    "      data[i]['retweet_id'], data[i]['retweet_date'], data[i]['translate'], data[i]['trans_src'], data[i]['trans_dest'],0,str(data[i]['photos']), \n",
    "       str(data[i]['reply_to'])))"
   ]
  },
  {
   "cell_type": "code",
   "execution_count": null,
   "metadata": {},
   "outputs": [],
   "source": [
    "# mydb.commit()\n",
    "# !pip install tensorflow\n",
    "# print(mycursor.rowcount, \"record inserted.\")"
   ]
  },
  {
   "cell_type": "code",
   "execution_count": null,
   "metadata": {},
   "outputs": [],
   "source": [
    "mycursor.execute(\"SELECT * FROM information_schema.COLUMNS  WHERE TABLE_SCHEMA='data'\")"
   ]
  },
  {
   "cell_type": "code",
   "execution_count": null,
   "metadata": {},
   "outputs": [],
   "source": [
    "myresult = mycursor.fetchone()\n",
    "print(myresult)"
   ]
  },
  {
   "cell_type": "code",
   "execution_count": null,
   "metadata": {},
   "outputs": [],
   "source": [
    "created_at date time timezone user_id username name place tweet mentions urls replies_count \n",
    "retweets_count likes_count hastags cashtags link retweet video near geo source user_rt_id user_rt retweet_id\n",
    "retweet_date translate trans_src trans_dest relevant"
   ]
  },
  {
   "cell_type": "code",
   "execution_count": null,
   "metadata": {},
   "outputs": [],
   "source": [
    "print(data[0]['created_at'], data[0]['date'], data[0]['time'], data[0]['timezone'], data[0]['user_id'], data[0]['username'],\n",
    "      data[0]['name'], data[0]['place'], data[0]['tweet'], str(data[0]['mentions']), str(data[0]['urls']), data[0]['replies_count'],\n",
    "      data[0]['retweets_count'], data[0]['likes_count'], str(data[0]['hashtags']), str(data[0]['cashtags']), data[0]['link'], data[0]['retweet'],\n",
    "      data[0]['video'], data[0]['near'], data[0]['geo'], data[0]['source'], data[0]['user_rt_id'], data[0]['user_rt'],\n",
    "      data[0]['retweet_id'], data[0]['retweet_date'], data[0]['translate'], data[0]['trans_src'], data[0]['trans_dest'],0,str(data[0]['photos']), \n",
    "       str(data[0]['reply_to']))"
   ]
  },
  {
   "cell_type": "code",
   "execution_count": null,
   "metadata": {},
   "outputs": [],
   "source": [
    "import datetime\n",
    "x = datetime.time(17,59,51)\n",
    "print(x.date())\n",
    "t = datetime.time(1, 2, 3)\n",
    "print(t)\n",
    "x = datetime.datetime(2020,1,1,17,2,3)\n",
    "print(x.date().isoformat())\n",
    "import time    \n",
    "time.strftime('%Y-%m-%d %H:%M:%S')"
   ]
  },
  {
   "cell_type": "code",
   "execution_count": null,
   "metadata": {},
   "outputs": [],
   "source": [
    "# !pip install bert-serving-server\n",
    "# !pip install bert-serving-client"
   ]
  },
  {
   "cell_type": "code",
   "execution_count": 111,
   "metadata": {},
   "outputs": [
    {
     "data": {
      "text/plain": [
       "{'cashtags': [],\n",
       " 'conversation_id': '1218605167823806464',\n",
       " 'created_at': 1579387325000,\n",
       " 'date': '2020-01-18',\n",
       " 'geo': '',\n",
       " 'hashtags': [],\n",
       " 'id': 1218664887381041155,\n",
       " 'likes_count': 4,\n",
       " 'link': 'https://twitter.com/briankrebs/status/1218664887381041155',\n",
       " 'mentions': ['thewrongphil', 'redteamwrangler'],\n",
       " 'name': 'briankrebs',\n",
       " 'near': '',\n",
       " 'photos': [],\n",
       " 'place': '',\n",
       " 'quote_url': '',\n",
       " 'replies_count': 0,\n",
       " 'reply_to': [{'user_id': '22790881', 'username': 'briankrebs'},\n",
       "  {'user_id': '3560292449', 'username': 'thewrongphil'},\n",
       "  {'user_id': '200950703', 'username': 'redteamwrangler'}],\n",
       " 'retweet': False,\n",
       " 'retweet_date': '',\n",
       " 'retweet_id': '',\n",
       " 'retweets_count': 0,\n",
       " 'source': '',\n",
       " 'time': '14:42:05',\n",
       " 'timezone': 'Pacific Standard Time',\n",
       " 'trans_dest': '',\n",
       " 'trans_src': '',\n",
       " 'translate': '',\n",
       " 'tweet': 'You will soon....',\n",
       " 'urls': [],\n",
       " 'user_id': 22790881,\n",
       " 'user_rt': '',\n",
       " 'user_rt_id': '',\n",
       " 'username': 'briankrebs',\n",
       " 'video': 0}"
      ]
     },
     "execution_count": 111,
     "metadata": {},
     "output_type": "execute_result"
    }
   ],
   "source": [
    "data[0]"
   ]
  },
  {
   "cell_type": "code",
   "execution_count": 78,
   "metadata": {},
   "outputs": [
    {
     "data": {
      "text/plain": [
       "'1217152211056238593'"
      ]
     },
     "execution_count": 78,
     "metadata": {},
     "output_type": "execute_result"
    }
   ],
   "source": [
    "data[7]['conversation_id']"
   ]
  },
  {
   "cell_type": "code",
   "execution_count": 91,
   "metadata": {},
   "outputs": [
    {
     "data": {
      "text/plain": [
       "(1579387325000,\n",
       " '1218605167823806464',\n",
       " '2020-01-18',\n",
       " '14:42:05',\n",
       " 'Pacific Standard Time',\n",
       " 22790881,\n",
       " 'briankrebs',\n",
       " 'briankrebs',\n",
       " '',\n",
       " 'You will soon....',\n",
       " \"['thewrongphil', 'redteamwrangler']\",\n",
       " '[]',\n",
       " 0,\n",
       " 0,\n",
       " 4,\n",
       " '[]',\n",
       " '[]',\n",
       " 'https://twitter.com/briankrebs/status/1218664887381041155',\n",
       " False,\n",
       " 0,\n",
       " '',\n",
       " '',\n",
       " '',\n",
       " '',\n",
       " '',\n",
       " '',\n",
       " '',\n",
       " '',\n",
       " '',\n",
       " '',\n",
       " '[]',\n",
       " \"[{'user_id': '22790881', 'username': 'briankrebs'}, {'user_id': '3560292449', 'username': 'thewrongphil'}, {'user_id': '200950703', 'username': 'redteamwrangler'}]\")"
      ]
     },
     "execution_count": 91,
     "metadata": {},
     "output_type": "execute_result"
    }
   ],
   "source": [
    "val[0]"
   ]
  },
  {
   "cell_type": "code",
   "execution_count": null,
   "metadata": {},
   "outputs": [],
   "source": []
  }
 ],
 "metadata": {
  "kernelspec": {
   "display_name": "Python 3",
   "language": "python",
   "name": "python3"
  },
  "language_info": {
   "codemirror_mode": {
    "name": "ipython",
    "version": 3
   },
   "file_extension": ".py",
   "mimetype": "text/x-python",
   "name": "python",
   "nbconvert_exporter": "python",
   "pygments_lexer": "ipython3",
   "version": "3.6.4"
  }
 },
 "nbformat": 4,
 "nbformat_minor": 2
}
