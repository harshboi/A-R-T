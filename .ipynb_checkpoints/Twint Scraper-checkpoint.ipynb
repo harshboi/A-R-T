{
 "cells": [
  {
   "cell_type": "code",
   "execution_count": null,
   "metadata": {},
   "outputs": [],
   "source": [
    "import twint\n",
    "file = open(\"../security_tags.txt\",\"r\")\n",
    "arr = []\n",
    "line1 = file.readlines()\n",
    "for x in line1:\n",
    "    arr.append(x)\n",
    "f.close()    "
   ]
  },
  {
   "cell_type": "code",
   "execution_count": null,
   "metadata": {},
   "outputs": [],
   "source": [
    "for i in range(len(arr)):\n",
    "    arr[i] = arr[i][1:]"
   ]
  },
  {
   "cell_type": "code",
   "execution_count": null,
   "metadata": {},
   "outputs": [],
   "source": [
    "file = open(\"./test1.json\",\"w\")\n",
    "file.close()"
   ]
  },
  {
   "cell_type": "code",
   "execution_count": null,
   "metadata": {},
   "outputs": [],
   "source": [
    "# clear file\n",
    "#Twint Search\n",
    "for i in range(len(arr)):\n",
    "    d = twint.Config()\n",
    "    d.Search = arr[i]\n",
    "    d.Limit = 50\n",
    "    # d.Store_csv = True\n",
    "    d.Store_object = True\n",
    "    d.Store_json = True\n",
    "    d.Output = \"./test1.json\"\n",
    "    # d.Database = \"tweets.db\"\n",
    "\n",
    "\n",
    "    x = twint.run.Search(d)"
   ]
  },
  {
   "cell_type": "code",
   "execution_count": null,
   "metadata": {},
   "outputs": [],
   "source": [
    "# clear file\n",
    "#Twint Search\n",
    "d = twint.Config()\n",
    "d.Search = \"attacked AND security\"\n",
    "# d.Search = \"ransomware AND seminar\"\n",
    "d.Limit = 50\n",
    "# d.Store_csv = True\n",
    "d.Store_object = True\n",
    "d.Store_json = True\n",
    "d.Output = \"./test1.json\"\n",
    "# d.Database = \"tweets.db\"\n",
    "\n",
    "x = twint.run.Search(d)"
   ]
  },
  {
   "cell_type": "code",
   "execution_count": null,
   "metadata": {},
   "outputs": [],
   "source": [
    "# Search terms\n",
    "# 0-day AND exploit\n",
    "# “0-day”, “CVE-“, “CVE-2018-*”, “CVE-2019-*”\n",
    "# usernames:\n",
    "# kibbsy\n",
    "# it_securitynews\n",
    "# msftsecurity"
   ]
  },
  {
   "cell_type": "code",
   "execution_count": null,
   "metadata": {},
   "outputs": [],
   "source": [
    "# x = twint.run.Search(d)\n",
    "# twint -u noneprivacy --csv --output \"/Users/psingh4/harsh/test4.json\" --lang en --translate --translate-dest it --limit 100"
   ]
  },
  {
   "cell_type": "code",
   "execution_count": null,
   "metadata": {},
   "outputs": [],
   "source": [
    "# d.__dict__.keys()"
   ]
  },
  {
   "cell_type": "code",
   "execution_count": null,
   "metadata": {},
   "outputs": [],
   "source": [
    "# twint.run.Search(d)\n",
    "# twint.output"
   ]
  },
  {
   "cell_type": "code",
   "execution_count": null,
   "metadata": {},
   "outputs": [],
   "source": [
    "f= open(\"./test1.json\",\"r\",errors='ignore')\n",
    "line1 = f.readlines()\n",
    "arr = []\n",
    "for x in line1:\n",
    "    arr.append(x)\n",
    "f.close()    "
   ]
  },
  {
   "cell_type": "code",
   "execution_count": null,
   "metadata": {},
   "outputs": [],
   "source": [
    "arr.insert(0,\"[\")\n",
    "arr.append(']')\n",
    "for i in range(1,len(arr)-2):\n",
    "    arr[i] = arr[i][:-1] + \",\" + arr[i][-1:]"
   ]
  },
  {
   "cell_type": "code",
   "execution_count": null,
   "metadata": {},
   "outputs": [],
   "source": [
    "file = open(\"../test.json\",\"w\")\n",
    "for i in range(len(arr)):\n",
    "    file.write(arr[i])\n",
    "file.close()"
   ]
  },
  {
   "cell_type": "code",
   "execution_count": null,
   "metadata": {},
   "outputs": [],
   "source": [
    "f= open(\"../test.json\",\"r\",errors='ignore')\n",
    "line1 = f.readlines()\n",
    "data = []\n",
    "for x in line1:\n",
    "    data.append(x)\n",
    "f.close()"
   ]
  },
  {
   "cell_type": "code",
   "execution_count": null,
   "metadata": {},
   "outputs": [],
   "source": [
    "# Removing non ASCII characters\n",
    "for i in range(len(data)):\n",
    "    data[i] = (''.join([i if ord(i) < 128 else ' ' for i in str(data[i])]))"
   ]
  },
  {
   "cell_type": "code",
   "execution_count": null,
   "metadata": {},
   "outputs": [],
   "source": [
    "file = open(\"./data.json\",\"w\")\n",
    "for i in range(len(data)):\n",
    "    file.write(data[i])\n",
    "file.close()"
   ]
  },
  {
   "cell_type": "code",
   "execution_count": null,
   "metadata": {},
   "outputs": [],
   "source": [
    "import json\n",
    "with open(\"./data.json\", \"r\",errors='ignore') as read_file:\n",
    "    data = json.load(read_file)"
   ]
  },
  {
   "cell_type": "code",
   "execution_count": null,
   "metadata": {},
   "outputs": [],
   "source": [
    "import mysql.connector"
   ]
  },
  {
   "cell_type": "code",
   "execution_count": null,
   "metadata": {},
   "outputs": [],
   "source": [
    "mydb = mysql.connector.connect(user='admin', password='Private2712!',\n",
    "                              host='database-1.cok63qqiofsd.us-east-1.rds.amazonaws.com',\n",
    "                              database='data')"
   ]
  },
  {
   "cell_type": "code",
   "execution_count": null,
   "metadata": {},
   "outputs": [],
   "source": [
    "mycursor = mydb.cursor()"
   ]
  },
  {
   "cell_type": "code",
   "execution_count": null,
   "metadata": {},
   "outputs": [],
   "source": [
    "sql = \"\"\"INSERT INTO train_data (created_at, conversation_id, id, date, time, timezone, user_id, username, name, place, tweet, mentions, urls, replies_count, \n",
    "        retweets_count, likes_count, hashtags, cashtags, link, retweet, video, near, geo, source, user_rt_id, user_rt, retweet_id,\n",
    "        retweet_date, translate, trans_src, trans_dest, photos, reply_to) VALUES (%s, %s, %s, %s, %s, %s, %s, %s, %s, %s, %s, %s, %s, %s, %s, \n",
    "        %s, %s, %s, %s, %s, %s, %s, %s, %s, %s, %s, %s, %s, %s, %s, %s, %s, %s)\"\"\"\n",
    "\n",
    "val = []\n",
    "for i in range(1, len(data)):\n",
    "    val.append((data[i]['created_at'], data[i]['conversation_id'], str(data[i]['id']), data[i]['date'], data[i]['time'], data[i]['timezone'], data[i]['user_id'], data[i]['username'],\n",
    "      data[i]['name'], data[i]['place'], data[i]['tweet'], str(data[i]['mentions']), str(data[i]['urls']), data[i]['replies_count'],\n",
    "      data[i]['retweets_count'], data[i]['likes_count'], str(data[i]['hashtags']), str(data[i]['cashtags']), data[i]['link'], data[i]['retweet'],\n",
    "      data[i]['video'], data[i]['near'], data[i]['geo'], data[i]['source'], data[i]['user_rt_id'], data[i]['user_rt'],\n",
    "      data[i]['retweet_id'], data[i]['retweet_date'], data[i]['translate'], data[i]['trans_src'], data[i]['trans_dest'],str(data[i]['photos']), \n",
    "       str(data[i]['reply_to'])))\n",
    "    \n",
    "mycursor.executemany(sql, val)\n",
    "\n",
    "mydb.commit()\n",
    "\n",
    "print(mycursor.rowcount, \"record inserted.\")"
   ]
  },
  {
   "cell_type": "code",
   "execution_count": null,
   "metadata": {},
   "outputs": [],
   "source": [
    "mydb.close()"
   ]
  },
  {
   "cell_type": "code",
   "execution_count": null,
   "metadata": {},
   "outputs": [],
   "source": [
    "data[0]"
   ]
  },
  {
   "cell_type": "code",
   "execution_count": null,
   "metadata": {},
   "outputs": [],
   "source": [
    "val = []\n",
    "for i in range(len(data)):\n",
    "    val.append((data[i]['created_at'], data[i]['conversation_id'], data[i]['date'], data[i]['time'], data[i]['timezone'], data[i]['user_id'], data[i]['username'],\n",
    "      data[i]['name'], data[i]['place'], data[i]['tweet'], str(data[i]['mentions']), str(data[i]['urls']), data[i]['replies_count'],\n",
    "      data[i]['retweets_count'], data[i]['likes_count'], str(data[i]['hashtags']), str(data[i]['cashtags']), data[i]['link'], data[i]['retweet'],\n",
    "      data[i]['video'], data[i]['near'], data[i]['geo'], data[i]['source'], data[i]['user_rt_id'], data[i]['user_rt'],\n",
    "      data[i]['retweet_id'], data[i]['retweet_date'], data[i]['translate'], data[i]['trans_src'], data[i]['trans_dest'],0,str(data[i]['photos']), \n",
    "       str(data[i]['reply_to'])))"
   ]
  },
  {
   "cell_type": "code",
   "execution_count": null,
   "metadata": {},
   "outputs": [],
   "source": [
    "# mydb.commit()\n",
    "# !pip install tensorflow\n",
    "# print(mycursor.rowcount, \"record inserted.\")"
   ]
  },
  {
   "cell_type": "code",
   "execution_count": null,
   "metadata": {},
   "outputs": [],
   "source": [
    "# !pip install bert-serving-server\n",
    "# !pip install bert-serving-client"
   ]
  },
  {
   "cell_type": "code",
   "execution_count": null,
   "metadata": {},
   "outputs": [],
   "source": [
    "import nltk"
   ]
  },
  {
   "cell_type": "code",
   "execution_count": null,
   "metadata": {},
   "outputs": [],
   "source": [
    "sentence = \"NSA exploit EternalRomance 'formed basis for alleged Chinese tool' - iTWire Researchers Mark Lechtik and Nadav Grossman said in first offered NSA exploits that the hacking group, known variously as APT3 and Gothic Panda, had based its exploitation tool, https://ift.tt/2HRG9js\"\n",
    "tokens = nltk.word_tokenize(sentence)\n",
    "tagged = nltk.pos_tag(tokens)"
   ]
  },
  {
   "cell_type": "code",
   "execution_count": null,
   "metadata": {},
   "outputs": [],
   "source": [
    "tagged"
   ]
  },
  {
   "cell_type": "code",
   "execution_count": null,
   "metadata": {},
   "outputs": [],
   "source": [
    "# !pip install -U bert-serving-server bert-serving-client"
   ]
  },
  {
   "cell_type": "code",
   "execution_count": null,
   "metadata": {},
   "outputs": [],
   "source": [
    "# !bert-serving-start -model_dir /tmp/english_L-12_H-768_A-12/ -num_worker=4 "
   ]
  },
  {
   "cell_type": "code",
   "execution_count": null,
   "metadata": {},
   "outputs": [],
   "source": [
    "# from bert_serving.client import BertClient\n",
    "# bc = BertClient()\n",
    "# bc.encode(['First do it', 'then do it right', 'then do it better'])"
   ]
  },
  {
   "cell_type": "code",
   "execution_count": null,
   "metadata": {},
   "outputs": [],
   "source": [
    "# first neural network with keras tutorial\n",
    "import numpy as np\n",
    "from numpy import loadtxt\n",
    "from keras.models import Sequential\n",
    "from keras.layers import Dense\n",
    "# load the dataset\n",
    "data = np.load('./tweet_encodings.npy')\n",
    "label = np.load('./maybeincludedlabels.npy')\n",
    "# define the keras model\n",
    "model = Sequential()\n",
    "model.add(Dense(400, input_dim=768, activation='relu'))\n",
    "model.add(Dense(200, activation='relu'))\n",
    "model.add(Dense(2, activation='softmax'))\n",
    "# compile the keras model\n",
    "model.compile(loss='sparse_categorical_crossentropy', optimizer='adam', metrics=['accuracy'])\n",
    "# fit the keras model on the dataset\n",
    "# evaluate the keras model"
   ]
  },
  {
   "cell_type": "code",
   "execution_count": null,
   "metadata": {},
   "outputs": [],
   "source": [
    "model.fit(data, label, epochs=10, batch_size=1, validation_split=0.25)"
   ]
  },
  {
   "cell_type": "code",
   "execution_count": null,
   "metadata": {},
   "outputs": [],
   "source": [
    "import sklearn\n",
    "from sklearn.linear_model import LogisticRegression\n",
    "len(data), len(label)"
   ]
  },
  {
   "cell_type": "code",
   "execution_count": null,
   "metadata": {},
   "outputs": [],
   "source": [
    "clf = LogisticRegression(random_state=1).fit(data[:-900], label[:-900])"
   ]
  },
  {
   "cell_type": "code",
   "execution_count": null,
   "metadata": {},
   "outputs": [],
   "source": [
    "clf.score(data[-900:], label[-900:])"
   ]
  },
  {
   "cell_type": "code",
   "execution_count": null,
   "metadata": {},
   "outputs": [],
   "source": [
    "y_pred = clf.predict(data[-800:])"
   ]
  },
  {
   "cell_type": "code",
   "execution_count": null,
   "metadata": {},
   "outputs": [],
   "source": [
    "y_true = label[-800:]"
   ]
  },
  {
   "cell_type": "code",
   "execution_count": null,
   "metadata": {},
   "outputs": [],
   "source": [
    "from sklearn import metrics\n",
    "\n",
    "accuracy_score = metrics.accuracy_score(y_true,y_pred)\n",
    "print(\"Accuracy score: {}\".format(accuracy_score))\n",
    "fpr, tpr, thresholds = metrics.roc_curve(y_true,y_pred,pos_label = 1)\n",
    "auc_score = metrics.auc(fpr,tpr)\n",
    "print(\"AUC: {}\".format(auc_score))\n"
   ]
  },
  {
   "cell_type": "code",
   "execution_count": null,
   "metadata": {},
   "outputs": [],
   "source": [
    "from sklearn.model_selection import train_test_split\n",
    "from sklearn.linear_model import LogisticRegression\n",
    "from sklearn import svm\n",
    "from sklearn import metrics\n",
    "import numpy as np\n",
    "import sys\n",
    "import pdb\n",
    "import matplotlib.pyplot as plt\n",
    "\n",
    "\n",
    "def print_metrics(y_true,y_pred):\n",
    "    accuracy_score = metrics.accuracy_score(y_true,y_pred)\n",
    "    print(\"Accuracy score: {}\".format(accuracy_score))\n",
    "    fpr, tpr, thresholds = metrics.roc_curve(y_true,y_pred,pos_label = 1)\n",
    "    auc_score = metrics.auc(fpr,tpr)\n",
    "    print(\"AUC: {}\".format(auc_score))\n",
    "    return accuracy_score,auc_score\n",
    "\n",
    "def logistic_regression(x_train,x_test,y_train,y_test):\n",
    "    logisticRegr = LogisticRegression()\n",
    "    logisticRegr.fit(x_train,y_train)\n",
    "    predictions = logisticRegr.predict(x_test)\n",
    "    print_metrics(y_test,predictions)\n",
    "\n",
    "\n",
    "def support_vector(x_train,x_test,y_train,y_test):\n",
    "    model = svm.SVC()\n",
    "    model.fit(x_train,y_train)\n",
    "    predictions = model.predict(x_test)\n",
    "    print_metrics(y_test,predictions)\n",
    "\n",
    "def torch_label_creator(label):\n",
    "    if label.item() == 1:\n",
    "        return torch.tensor([1,0])\n",
    "    else:\n",
    "        return torch.tensor([0,1])\n",
    "\n",
    "    #plot test accuracies and auc over epochs    \n",
    "    plt.plot(test_accuracies)\n",
    "    plt.ylabel('Accuracy')\n",
    "    plt.xlabel('Epoch')\n",
    "    plt.title('Test Accuracy vs Epoch')\n",
    "    plt.show()\n",
    "    plt.plot(test_auc)\n",
    "    plt.ylabel('AUC')\n",
    "    plt.xlabel('Epoch')\n",
    "    plt.title('Test AUC vs Epoch')\n",
    "    plt.show()"
   ]
  },
  {
   "cell_type": "code",
   "execution_count": null,
   "metadata": {},
   "outputs": [],
   "source": [
    "encodings = np.load('tweet_encodings.npy')\n",
    "labels = np.load('maybeincludedlabels.npy')\n",
    "x_train,x_test,y_train,y_test = train_test_split(encodings,labels, test_size=0.25, random_state=0)"
   ]
  },
  {
   "cell_type": "code",
   "execution_count": null,
   "metadata": {},
   "outputs": [],
   "source": [
    "logistic_regression(x_train,x_test,y_train,y_test)"
   ]
  },
  {
   "cell_type": "code",
   "execution_count": null,
   "metadata": {},
   "outputs": [],
   "source": [
    "clf.score(x_test, y_test)"
   ]
  },
  {
   "cell_type": "code",
   "execution_count": null,
   "metadata": {},
   "outputs": [],
   "source": [
    "tagged"
   ]
  },
  {
   "cell_type": "code",
   "execution_count": null,
   "metadata": {},
   "outputs": [],
   "source": [
    "tagged[0][1] == 'NNP'\n",
    "noun = []\n",
    "for i in range(len(data)):\n",
    "    sentence = data[i]['tweet']\n",
    "    tokens = nltk.word_tokenize(sentence)\n",
    "    tagged = nltk.pos_tag(tokens)\n",
    "    sen_noun = []\n",
    "    for j in range(len(tagged)):\n",
    "        if (tagged[j][1] == 'NNP'):\n",
    "            sen_noun.append(tagged[j][0])\n",
    "    noun.append(sen_noun)"
   ]
  },
  {
   "cell_type": "code",
   "execution_count": null,
   "metadata": {},
   "outputs": [],
   "source": [
    "# noun"
   ]
  },
  {
   "cell_type": "code",
   "execution_count": null,
   "metadata": {},
   "outputs": [],
   "source": [
    "from neo4j import GraphDatabase\n",
    "import json\n",
    "#Indicate to driver where neo4j is running\n",
    "driver = GraphDatabase.driver(\"bolt://localhost\",auth=(\"test_user\",\"password\"))\n",
    "#Parse data\n",
    "counter = 0\n",
    "with open(\"./data.json\",'r') as file:\n",
    "    #Need to make a session where you will run all your cypher queries\n",
    "    with driver.session() as session:\n",
    "        tx = session.begin_transaction()\n",
    "        noun_count = 0\n",
    "        count = 0\n",
    "        for line in file.readlines(): #can limit lines with [:100] after ()\n",
    "            if (line == \"[\\n\" or line == \"]\"):\n",
    "                continue\n",
    "            item = json.loads(line[:-2])\n",
    "            sen_noun = noun[noun_count]\n",
    "            # print(item)\n",
    "            '''WITH {tweet} AS Tweet\n",
    "                Merge (a:Tweet{id:$value.id,date:value.date,train_id:value.train_id})\n",
    "                Merge (d:Date{date:value.date})\n",
    "                Merge (a)-[:SAME_DATE]->(d)'''\n",
    "            '''CREATE (a:Tweet{id:$value.id,date:$value.date,train_id:$value.train_id,nouns=sen_noun})'''\n",
    "            '''start n=node(*) return n'''\n",
    "            tx.run('''CREATE (a:Tweet{id:$value.id,date:$value.date,train_id:$value.train_id,nouns:$sen_noun})''',\n",
    "                   parameters={'tweet': item}, value=item, sen_noun=sen_noun) # add parameters here\n",
    "            #Batch processing to run 1000 tweets as a time as these commits are quite time intensive\n",
    "            count += 1\n",
    "            noun_count += 1\n",
    "#             tx.commit()\n",
    "#             break   # UNCOMMENT IF PUSHING MULTIPLE ROWS/NODES OF DATA \n",
    "            if count > 1000:\n",
    "                tx.commit()\n",
    "                tx = session.begin_transaction()\n",
    "                count = 0\n",
    "        tx.commit()\n",
    "# import json\n",
    "# with open(\"./data.json\", \"r\") as read_file:\n",
    "#     for line in read_file.readlines():\n",
    "#         print(line)\n",
    "#         if (line == \"[\\n\" or line == \"]\"):\n",
    "#             continue\n",
    "#         item = json.loads(line[:-2])\n",
    "#         print(item)"
   ]
  },
  {
   "cell_type": "code",
   "execution_count": null,
   "metadata": {},
   "outputs": [],
   "source": [
    "# Cypher code for graph db\n",
    "# Match (a:Tweet) where 'Malware' in a.nouns return a\n",
    "# start n=node(*) return n\n",
    "# Match (a:Tweet), (b:Tweet) where 'Malware' in a.nouns and 'Malware' in b.nouns create (a)-[r:Malware]->(b) return r\n",
    "    # MATCH (n:Tweet)-[m:Malware]-(b:Tweet)\n",
    "    # WHERE n.id = 1223562341540859904\n",
    "    # REturn b\n",
    "    # order by b.date"
   ]
  },
  {
   "cell_type": "code",
   "execution_count": null,
   "metadata": {},
   "outputs": [],
   "source": [
    "driver = GraphDatabase.driver(\"bolt://localhost\",auth=(\"test_user\",\"password\"))\n",
    "x = None\n",
    "with driver.session() as session:\n",
    "    tx = session.begin_transaction()\n",
    "    result = tx.run(\"Match (a:Tweet),(b:Tweet) where 'Malware' in a.nouns and 'Malware' in  b.nouns return a,b\")\n",
    "    x = result.records()"
   ]
  },
  {
   "cell_type": "code",
   "execution_count": null,
   "metadata": {},
   "outputs": [],
   "source": [
    "result.single()[0]"
   ]
  },
  {
   "cell_type": "code",
   "execution_count": null,
   "metadata": {},
   "outputs": [],
   "source": [
    "xx = []\n",
    "for i in x:\n",
    "    xx.append(i)"
   ]
  },
  {
   "cell_type": "code",
   "execution_count": null,
   "metadata": {},
   "outputs": [],
   "source": [
    "# y = hash(xx)\n",
    "xx[2].value(key=1)\n",
    "# xx[2]\n",
    "# y[-6685369989889550852]"
   ]
  },
  {
   "cell_type": "code",
   "execution_count": null,
   "metadata": {},
   "outputs": [],
   "source": [
    "xx[2][1].items()"
   ]
  },
  {
   "cell_type": "code",
   "execution_count": null,
   "metadata": {},
   "outputs": [],
   "source": [
    "count = 0\n",
    "for i in range(len(noun)):\n",
    "    for j in range(len(noun[i])):\n",
    "        if ('Malware' == noun[i][j]):\n",
    "            count += 1\n",
    "count"
   ]
  },
  {
   "cell_type": "code",
   "execution_count": null,
   "metadata": {},
   "outputs": [],
   "source": [
    "# !python -m spacy download en\n",
    "# !python -m spacy download en_core_web_sm\n",
    "\n",
    "import spacy\n",
    "nlp = spacy.load('en_core_web_sm')"
   ]
  },
  {
   "cell_type": "code",
   "execution_count": null,
   "metadata": {},
   "outputs": [],
   "source": [
    "sentence = \"CVE-2019-897 NSA exploit EternalRomance 'formed basis for alleged Chinese tool' - iTWire Researchers Mark Lechtik and Nadav Grossman said in first offered NSA exploits that the hacking group, known variously as APT3 and Gothic Panda, had based its exploitation tool, https://ift.tt/2HRG9js\"\n",
    "doc = nlp(sentence)\n",
    "print(\"The sentence is: \", sentence)\n",
    "# print([ent for ent in doc.ents])\n",
    "# for ent in doc.ents:\n",
    "# doc"
   ]
  },
  {
   "cell_type": "code",
   "execution_count": null,
   "metadata": {},
   "outputs": [],
   "source": [
    "doc.ents"
   ]
  },
  {
   "cell_type": "code",
   "execution_count": null,
   "metadata": {},
   "outputs": [],
   "source": [
    "print(\"Noun phrases:\", [chunk.text for chunk in doc.noun_chunks])"
   ]
  },
  {
   "cell_type": "code",
   "execution_count": null,
   "metadata": {},
   "outputs": [],
   "source": [
    "print(\"Verbs:\", [token.lemma_ for token in doc if token.pos_ == \"VERB\"])"
   ]
  },
  {
   "cell_type": "code",
   "execution_count": null,
   "metadata": {},
   "outputs": [],
   "source": [
    "for entity in doc.ents:\n",
    "    print(entity.text, entity.label_)"
   ]
  },
  {
   "cell_type": "code",
   "execution_count": null,
   "metadata": {},
   "outputs": [],
   "source": [
    "doc.ents"
   ]
  },
  {
   "cell_type": "code",
   "execution_count": null,
   "metadata": {},
   "outputs": [],
   "source": [
    "# oauth_consumer_key - ZYOj2R1VYsIUhaRvsrcRuHxk6\n",
    "# oauth_nonce\tkYjzVBB8Y0ZFabxSWbWovY3uYSQ2pTgmZeNu2VS4cg\n",
    "# Consumer Secret = API Secret Key = uTwMxW2CPXfv8wZCcqOSX8Yw46eqJVMNopqh5kh9O0VXiVQNRG\n",
    "# Access token secret = OAuth token secret: VB6fxb1akdtwRDf52sbQlPKE9tpHEPX1ZBSI3Y1t33REk\n",
    "# Signing key = uTwMxW2CPXfv8wZCcqOSX8Yw46eqJVMNopqh5kh9O0VXiVQNRG&VB6fxb1akdtwRDf52sbQlPKE9tpHEPX1ZBSI3Y1t33REk\n",
    "# oauth-token = 797644398670409728-I3aUqpmhD7uPscfFZFxMGfMWXPBmiaN\n",
    "# oauth_signature = Use HMAC\n",
    "# curl -XPOST \n",
    "#   --url 'https://api.twitter.com/1.1/statuses/update.json?status=hello' \n",
    "#   --header 'authorization: OAuth\n",
    "#   oauth_consumer_key=\"oauth_customer_key\",\n",
    "#   oauth_nonce=\"generated_oauth_nonce\",\n",
    "#   oauth_signature=\"generated_oauth_signature\",\n",
    "#   oauth_signature_method=\"HMAC-SHA1\",\n",
    "#   oauth_timestamp=\"generated_timestamp\",\n",
    "#   oauth_token=\"797644398670409728-I3aUqpmhD7uPscfFZFxMGfMWXPBmiaN\",\n",
    "#   oauth_version=\"1.0\"'\n",
    "\n",
    "# NEW KEYS: (DO NOT SHARE)\n",
    "# Access token :797644398670409728-Zwgcl9kcCFerhFNlFFGwR3emSbfpfpX\n",
    "# Copy\n",
    "# Access token secret :CzVCCqD8X9FC059X98deDiNYb24IWjhZYVeAhoU4F5v7l\n",
    "# Copy\n"
   ]
  },
  {
   "cell_type": "code",
   "execution_count": 11,
   "metadata": {},
   "outputs": [],
   "source": [
    "import twitter\n",
    "api = twitter.Api(consumer_key=\"ZYOj2R1VYsIUhaRvsrcRuHxk6\",\n",
    "                  consumer_secret=\"uTwMxW2CPXfv8wZCcqOSX8Yw46eqJVMNopqh5kh9O0VXiVQNRG\",\n",
    "                  access_token_key=\"797644398670409728-Zwgcl9kcCFerhFNlFFGwR3emSbfpfpX\",\n",
    "                  access_token_secret=\"CzVCCqD8X9FC059X98deDiNYb24IWjhZYVeAhoU4F5v7l\")"
   ]
  },
  {
   "cell_type": "code",
   "execution_count": 12,
   "metadata": {},
   "outputs": [],
   "source": [
    "results = api.GetSearch(\n",
    "    raw_query=\"q=twitter%20&result_type=recent&since=2014-07-19&count=100\")"
   ]
  },
  {
   "cell_type": "code",
   "execution_count": 13,
   "metadata": {},
   "outputs": [
    {
     "data": {
      "text/plain": [
       "[Status(ID=1236218164301553664, ScreenName=rycroix, Created=Sat Mar 07 09:12:32 +0000 2020, Text='RT @kimu_yoda: アヒージョ🤤 https://t.co/XlavdnFPMH'),\n",
       " Status(ID=1236218164297510913, ScreenName=Saransanriyaaza, Created=Sat Mar 07 09:12:32 +0000 2020, Text='RT @itisprashanth: ஏன் இது அயல்நாட்டுத் தின்பண்டமா ? 😁.'),\n",
       " Status(ID=1236218164289171456, ScreenName=hllnayjm, Created=Sat Mar 07 09:12:32 +0000 2020, Text='RT @lolaabedeel: c’est horrible, tu te sent remplaçable pour un rien.  Tu fais un pas en avant, le moindre événement tu recule de 8 pas'),\n",
       " Status(ID=1236218164284772352, ScreenName=thekatedoan, Created=Sat Mar 07 09:12:32 +0000 2020, Text='RT @rodriguezzz_805: Should I just move to Texas and become a home owner at 18 or stay in Cali and become a home owner till god knows when😣'),\n",
       " Status(ID=1236218164280578053, ScreenName=heavenbytaemin, Created=Sat Mar 07 09:12:32 +0000 2020, Text='RT @10nongender: YUTA IF YOU’RE READING THIS I THINK RADIOHEAD IS A GOOD BAND I ENJOY THEIR MUSIC https://t.co/nTLJsF6z3X'),\n",
       " Status(ID=1236218164276604928, ScreenName=__sq7, Created=Sat Mar 07 09:12:32 +0000 2020, Text='RT @nnbd7_q: #خشف \\n\\n#صباحي_أنت \\n#يقول_لي \\n\\nيشوفك قلبي الباصر مع انه ما خُلق بعيون\\nيشوفك كنك النور البعيد فـ حلكة الغدرى\\n\\nويشوفك راسٍ لغيرك…'),\n",
       " Status(ID=1236218164276539392, ScreenName=joecole_o, Created=Sat Mar 07 09:12:32 +0000 2020, Text='RT @Sydneytalkerr: Worzzop? https://t.co/awjLDHKgPg'),\n",
       " Status(ID=1236218164276387840, ScreenName=R__e__n0264, Created=Sat Mar 07 09:12:32 +0000 2020, Text='RT @final_maichan: 定期響子ちゃん絵\\n\\nこっひ！おしい！ https://t.co/C0eULZWIkm'),\n",
       " Status(ID=1236218164272226309, ScreenName=akaaixxjms, Created=Sat Mar 07 09:12:32 +0000 2020, Text='RT @beebuii: ไม่ทันแล้ว'),\n",
       " Status(ID=1236218164263845888, ScreenName=Me20Angel, Created=Sat Mar 07 09:12:32 +0000 2020, Text='RT @v_9_5: 태형                   연탄                    타타 https://t.co/wPvlKLLPP6'),\n",
       " Status(ID=1236218164263841796, ScreenName=shuuto_kaz704, Created=Sat Mar 07 09:12:32 +0000 2020, Text='RT @HEY_IGARI_0131: みんなライブ無くなっておもんないやろ！☺︎\\n\\n①https://t.co/6IVCnHuzCM\\n\\n②https://t.co/1bmE5FaNlN https://t.co/TxyKxZ7oHi'),\n",
       " Status(ID=1236218164263841794, ScreenName=hatakepengin, Created=Sat Mar 07 09:12:32 +0000 2020, Text='RT @kaoru_sentagumi: 安倍さんがまた身内だけで勝手に待機要請しちゃったから…報道で知った成田空港近隣のホテルは一斉に「事前に何の相談もなしに困る！」「他のお客様もいるのに！」と反発してるから待機先は決まらないわ、検疫官とか感染研とかは国内感染に忙しいから人員…'),\n",
       " Status(ID=1236218164263784448, ScreenName=merely_0, Created=Sat Mar 07 09:12:32 +0000 2020, Text='RT @pekopeko321: ＭＭＤ刀剣乱舞】肥前忠広 https://t.co/R4O4dQrEFq #sm36474377 \\n前に途中まで作っていた動画を2曲まとめました。肥前くんです。 https://t.co/TivepIZiBp'),\n",
       " Status(ID=1236218164255444993, ScreenName=DevinRmd, Created=Sat Mar 07 09:12:32 +0000 2020, Text='RT @duckienks: Haloo semua, jadi aku jualan pisang keju batam di daerah Depok, aku udah buka beberapaa minggu tapi masih belum terlalu bany…'),\n",
       " Status(ID=1236218164251226112, ScreenName=quiarraheather, Created=Sat Mar 07 09:12:32 +0000 2020, Text='RT @momosarchives: she’s a dream https://t.co/M6G160q4jW'),\n",
       " Status(ID=1236218164251222017, ScreenName=taBtaTtaS4645, Created=Sat Mar 07 09:12:32 +0000 2020, Text='RT @ONLY_MOMENT__V: Filafusion 인스타 (3)\\n\\n#방탄소년단 #BTS @BTS_twt https://t.co/dQEqXCZrLO'),\n",
       " Status(ID=1236218164247068672, ScreenName=dyhyaacob, Created=Sat Mar 07 09:12:32 +0000 2020, Text='RT @tatuya01: https://t.co/ugjxDlgosc'),\n",
       " Status(ID=1236218164242812930, ScreenName=xjxxxr, Created=Sat Mar 07 09:12:32 +0000 2020, Text='RT @NochPH: https://t.co/lVt8OqxamU'),\n",
       " Status(ID=1236218164234653696, ScreenName=GrandTakahiro, Created=Sat Mar 07 09:12:32 +0000 2020, Text='RT @NichonNiFroi: Roh putain FERME TA GUEULE'),\n",
       " Status(ID=1236218164222062592, ScreenName=blume_bob, Created=Sat Mar 07 09:12:32 +0000 2020, Text='Wer die Twitter-Ethnografie „Die soziale Logik des Likes“ gelesen hat, der weiß, dass genau das die Idee von Twitte… https://t.co/epoNu7ipxg'),\n",
       " Status(ID=1236218164217696256, ScreenName=prdsjade, Created=Sat Mar 07 09:12:32 +0000 2020, Text='plis chat ohm plis. tapi AKU BUTUH ANGST. misal ohm nya emang mau nyerah terus malah nanonnya sedih karena ditolak https://t.co/WCvyuKWC5E'),\n",
       " Status(ID=1236218164196728833, ScreenName=XxmypandoraboxX, Created=Sat Mar 07 09:12:32 +0000 2020, Text='RT @readery_co: สึรุตะ โทโยคาซึ เป็นผู้ให้คำปรึกษาด้านจิตวิทยากลุ่มพฤติกรรมนิยม เขานำประสบการณ์เกี่ยวกับ “ความกลุ้มใจที่เกิดจากการทำอะไรแบบ…'),\n",
       " Status(ID=1236218164192649217, ScreenName=stylemystyle, Created=Sat Mar 07 09:12:32 +0000 2020, Text='A GIFT OF LOVE 📚 https://t.co/wnealZW6BT'),\n",
       " Status(ID=1236218164192542720, ScreenName=mattychima, Created=Sat Mar 07 09:12:32 +0000 2020, Text='RT @smallworldjpn: DOUBLE-TAP KILL / @EYEBLOW_ \\n\\n3月14日 20:00 @ SHELTER ROCK BAR / FREE 無料\\nhttps://t.co/nEaaJ9ZEbK\\n\\n#名古屋ライブ  #metalmeetup #s…'),\n",
       " Status(ID=1236218164192534528, ScreenName=donsokumaru0126, Created=Sat Mar 07 09:12:32 +0000 2020, Text='RT @takarin___7: 【親中】馬渕睦夫「いま日本で感染者が出ている地域は中国人が沢山居る地域。北海道は静岡の面積程が買い占められ、神奈川はIRを初め色んなことを推進。和歌山は親中派No.1と称する人の地元。それを多くの国民は気付いているが今の政治家やメディアが目を向…'),\n",
       " Status(ID=1236218164184113158, ScreenName=Sanjeev96766510, Created=Sat Mar 07 09:12:32 +0000 2020, Text='RT @_AjitTyagi: भाजपा ने अपने मित्रों के साथ मिलकर देश को कंगाल कर दिया पहले PNB घोटाला फिर PMC घोटाला अब YES बैंक डूबा डाला। क्या बैंको का…'),\n",
       " Status(ID=1236218164179914752, ScreenName=DREAMJMIN_, Created=Sat Mar 07 09:12:32 +0000 2020, Text='RT @ARMYChallengeTH: คอนเทนท์คุณภาพสำหรับการโหวตจริง ๆ ค่ะ #BTSArmy (@BTS_twt) #BestFanArmy #iHeartAwards https://t.co/xo1dMNV3YM'),\n",
       " Status(ID=1236218164163350528, ScreenName=Kucingvictory, Created=Sat Mar 07 09:12:32 +0000 2020, Text='RT @todayiswindy_: ((((((cuma)))))'),\n",
       " Status(ID=1236218164158951425, ScreenName=harshmadhusudan, Created=Sat Mar 07 09:12:32 +0000 2020, Text='RT @storiesofBHs: A Video on the Vested Properties Act and how it has been used to systematically seize properties of Hindus in Bangladesh…'),\n",
       " Status(ID=1236218164150599682, ScreenName=aduinccf, Created=Sat Mar 07 09:12:32 +0000 2020, Text='RT @zap1611: setelah 3 minggu di padepokan ternyata masih berkesempatan ikutan roadshow terakhir nih penutuppp~🐣 https://t.co/qgono2h7Ip'),\n",
       " Status(ID=1236218164150587393, ScreenName=Tonkaow_bbELF, Created=Sat Mar 07 09:12:32 +0000 2020, Text='ใครที่ยังสตรีมของวันนี้อยู่มาเล่นกันได้นะต้ะๆๆๆ💚✨\\n\\n#NCT127 #NeoZone #KickIt \\n#NCT127_영웅_英雄 #NCT127_KickIt… https://t.co/EzKjEk9TuN'),\n",
       " Status(ID=1236218164142379008, ScreenName=alevivas1974, Created=Sat Mar 07 09:12:32 +0000 2020, Text='RT @momo_carnaval: 2DO TITULO 🏆🏆 https://t.co/Oxev3Njxep'),\n",
       " Status(ID=1236218164138184704, ScreenName=LisadrawsS, Created=Sat Mar 07 09:12:32 +0000 2020, Text='RT @tooo_wap: https://t.co/40p01qBTaL'),\n",
       " Status(ID=1236218164133822465, ScreenName=k_i_u_h, Created=Sat Mar 07 09:12:32 +0000 2020, Text='RT @gengo_danshi: ＊＊ 昭和 ＊＊\\n\\n「昭和さん」cv ???\\n\\n#元号男子 https://t.co/xnIhqVOjea'),\n",
       " Status(ID=1236218164133810176, ScreenName=dearluvkook, Created=Sat Mar 07 09:12:32 +0000 2020, Text='RT @promemoriaJK: 190113 LYS TOUR in NAGOYA DOME @BTS_twt 하튜하튜 #정국 #JK #JUNGKOOK https://t.co/GwQ68E1Vbi'),\n",
       " Status(ID=1236218164129624064, ScreenName=donutzeedone, Created=Sat Mar 07 09:12:32 +0000 2020, Text='RT @gameguinz: ไม่ต้องมีแล้วลายน้ำ https://t.co/DVA9rhI4L5'),\n",
       " Status(ID=1236218164129566720, ScreenName=aegyhoshi, Created=Sat Mar 07 09:12:32 +0000 2020, Text='RT @dnielcu: Or with man bun??? 😁😁 https://t.co/KLs3VNsH8L https://t.co/nv8hNNF7lE'),\n",
       " Status(ID=1236218164112846848, ScreenName=NT_1709, Created=Sat Mar 07 09:12:32 +0000 2020, Text='RT @miomoney: โคตรเก่งอะ มีวินัยมากกกกกกกก อดทนสุดดดด https://t.co/RGYqMcC9Wx'),\n",
       " Status(ID=1236218164108652545, ScreenName=athirharis33, Created=Sat Mar 07 09:12:32 +0000 2020, Text='RT @dilfko_o: WHY DO BTS TREAT HIM LIKE AN ACTUAL BABY WHEN HE GETS SHY JIMIN LITERALLY CALLES HIM A BABY MAN FUCK YOU https://t.co/qHUIQxz…'),\n",
       " Status(ID=1236218164108640256, ScreenName=baekways, Created=Sat Mar 07 09:12:32 +0000 2020, Text='RT @Gesi_ans: 밈들 어디서도 못보는 초초초고화질 취침냥 영상쩌옴 https://t.co/VVXpxHILL9'),\n",
       " Status(ID=1236218164104458241, ScreenName=ketanv, Created=Sat Mar 07 09:12:32 +0000 2020, Text='RT @SushantBSinha: वो जो कल तक एक मासूम की मौत को शहादत बता रहे थे। उसकी मां को अगले दिन शाहीनबाग़ में बैठा दिया था,आज वही वीडियो में कहते…'),\n",
       " Status(ID=1236218164104425473, ScreenName=nknkaa8k, Created=Sat Mar 07 09:12:32 +0000 2020, Text='RT @yuko_mushi: 猿は子猫を襲うのです。裏庭に落ちていた子猫のぼんぼん。オヤジの命日に拾いました。３年前８月１日。オヤジからのプレゼントです🐱 https://t.co/F8k6719WuM'),\n",
       " Status(ID=1236218164104421376, ScreenName=HayateManazili, Created=Sat Mar 07 09:12:32 +0000 2020, Text='RT @hagiwaR18: 二十四世紀の自殺 https://t.co/cQce10VzPX'),\n",
       " Status(ID=1236218164100268032, ScreenName=Cherchercherry1, Created=Sat Mar 07 09:12:32 +0000 2020, Text='RT @momentnt: น้องแจมินวิ้งคึจูเซโย https://t.co/U8jNJXs0FF'),\n",
       " Status(ID=1236218164100259840, ScreenName=markmeinmyheart, Created=Sat Mar 07 09:12:32 +0000 2020, Text='RT @jungwooyy: ม้าคสะดุ้งแรงนี่ไม่ได้กลัวโดนต่อยนะกลัวโดนหอมแก้ม https://t.co/fPAZT8sY0N'),\n",
       " Status(ID=1236218164100255744, ScreenName=pppathploy, Created=Sat Mar 07 09:12:32 +0000 2020, Text='RT @zxirii: เอเนอจี้ในห้องซ้อม = ฮาวาย 2559 https://t.co/1KTCMlj0bo'),\n",
       " Status(ID=1236218164096180224, ScreenName=lmjsdaya, Created=Sat Mar 07 09:12:32 +0000 2020, Text='i’m- https://t.co/zwSCRIPDLI'),\n",
       " Status(ID=1236218164096057345, ScreenName=shinoalinekone, Created=Sat Mar 07 09:12:32 +0000 2020, Text='RT @junpei1954: 今日は80枚ポスティングしました。'),\n",
       " Status(ID=1236218164092039168, ScreenName=_SmileGodLovesU, Created=Sat Mar 07 09:12:32 +0000 2020, Text='RT @Lord_Lucina: URGENT SVP\\nUne de mes meilleures amies a disparue aujourd’hui, elle a emis a plusieurs reprises ses derniers mois ses envi…'),\n",
       " Status(ID=1236218164087648257, ScreenName=flywtchangkyun, Created=Sat Mar 07 09:12:32 +0000 2020, Text='RT @monstax_juju: gorgeous man shownu is here https://t.co/zgm14zJGkH'),\n",
       " Status(ID=1236218164087640064, ScreenName=drakeaperez, Created=Sat Mar 07 09:12:32 +0000 2020, Text='RT @imreallydavid: https://t.co/KhY9dDLCyX'),\n",
       " Status(ID=1236218164083666944, ScreenName=mathbrtn, Created=Sat Mar 07 09:12:32 +0000 2020, Text='RT @GatherFr: L’entrée de Laylow sur scène ... exceptionnel. Je vous balance bien + de contenus demain , la scénographie était juste magist…'),\n",
       " Status(ID=1236218164079472640, ScreenName=Santa_Lucija, Created=Sat Mar 07 09:12:32 +0000 2020, Text='This is what I call a revolutionary driving experience, hope to see more of these project in the future. This of co… https://t.co/1X5m8T8bcn'),\n",
       " Status(ID=1236218164075257856, ScreenName=francoisrosier1, Created=Sat Mar 07 09:12:32 +0000 2020, Text='RT @PLHVML: https://t.co/om6N4BVGrE'),\n",
       " Status(ID=1236218164075040768, ScreenName=sxyjayn, Created=Sat Mar 07 09:12:32 +0000 2020, Text='RT @_snbth: คือโยนรองเท้า แล้วให้ตกใส่หัว 55555555555555555555555 แล้วรองเท้าคือ skechers รุ่นนี้ เมิ๊ง 55555555555555555555555555555 https…'),\n",
       " Status(ID=1236218164071010304, ScreenName=oliolliepop, Created=Sat Mar 07 09:12:32 +0000 2020, Text=\"I'm not willing to risk it https://t.co/pD6Ch6MGL7\"),\n",
       " Status(ID=1236218164062703617, ScreenName=amomiamo, Created=Sat Mar 07 09:12:32 +0000 2020, Text='RT @remonbalm: 이 옷 입은 해찬이 사진 다 대박이네 https://t.co/uaczS6NDUx'),\n",
       " Status(ID=1236218164062519296, ScreenName=PAK53658566, Created=Sat Mar 07 09:12:32 +0000 2020, Text='RT @smilekpy: คิดถึง..คิดถึงมาก..เราใกล้จะได้กันแล้วเนอะ\\n#갓세븐 #GOT7 @GOT7Official\\n#มหกรรมสาดไทม์ไลน์ให้เป็นgot7 https://t.co/fQ22ayf8oB'),\n",
       " Status(ID=1236218164049874944, ScreenName=TMTSGA, Created=Sat Mar 07 09:12:32 +0000 2020, Text='RT @nestmmm: สุดปังค่ะอีดอก กลับจากเกาหลีเที่ยวว่อนไปทั่วไทย มีผัวเกาหลีที่อยู่ด้วยกันทำงานพึ่งกลับจากญี่ปุ่น สิงคโปร 3 อาทิตย์ก่อน มีเพื่อ…'),\n",
       " Status(ID=1236218164045701121, ScreenName=erirkia2photo, Created=Sat Mar 07 09:12:32 +0000 2020, Text='春日和！！！ https://t.co/zRbr74gzGn'),\n",
       " Status(ID=1236218164041703424, ScreenName=jinniejimjam, Created=Sat Mar 07 09:12:32 +0000 2020, Text='RT @doolsetbangtan: “who” music box\\n@lauvsongs x @bts_twt https://t.co/S8HT4EfyJB'),\n",
       " Status(ID=1236218164041658368, ScreenName=Carmen84091626, Created=Sat Mar 07 09:12:32 +0000 2020, Text='RT @sumalen59: Aqui las convocatorias para el #8marzo2020 \\n#8M2020 \\n¡Nos vemos! 💜\\nPor nosotras!💜\\nPor las que vienen !💜\\nPor las que ya no es…'),\n",
       " Status(ID=1236218164041547776, ScreenName=zenkoku_gurume, Created=Sat Mar 07 09:12:32 +0000 2020, Text='RT @kusatta_www: どうなってんのこれ？！wwww https://t.co/tlutRwGNgQ'),\n",
       " Status(ID=1236218164028903424, ScreenName=GlassesKlung, Created=Sat Mar 07 09:12:32 +0000 2020, Text='RT @gameguinz: ไม่ต้องมีแล้วลายน้ำ https://t.co/DVA9rhI4L5'),\n",
       " Status(ID=1236218164024709121, ScreenName=osensuruzo, Created=Sat Mar 07 09:12:32 +0000 2020, Text='https://t.co/x51lbQo0PB #城南高校'),\n",
       " Status(ID=1236218164016488453, ScreenName=TamerKraltamer, Created=Sat Mar 07 09:12:32 +0000 2020, Text='RT @muratagirel: Gerçeğin peşindeki gazeteciler olarak korkmuyoruz,susmayacağız! Bahsettiğim kirli,karanlık yapılar ile mücadele etmeye dev…'),\n",
       " Status(ID=1236218164016340993, ScreenName=rzahryni, Created=Sat Mar 07 09:12:32 +0000 2020, Text='RT @fatihaatikaa: me = the boys'),\n",
       " Status(ID=1236218164012134400, ScreenName=theuntitled0505, Created=Sat Mar 07 09:12:32 +0000 2020, Text='RT @yuanzibozhan: เราจะตายกันหมด ＞﹏＜ https://t.co/6KblTqp6TX'),\n",
       " Status(ID=1236218164007956481, ScreenName=fxcshoogar, Created=Sat Mar 07 09:12:32 +0000 2020, Text='RT @monhayins: จาก #ผู้พิพากษายิงตัวเอง ทำให้ปัญหาที่ถูกซุกไว้ใต้พรมถูกขุดขึ้นอีกครั้ง และเมื่อไม่นานมานี้ที่ได้มีการแฉกระบวนการสร้างความเก…'),\n",
       " Status(ID=1236218164003786752, ScreenName=id6poTr52pHHVrg, Created=Sat Mar 07 09:12:32 +0000 2020, Text='RT @fukafuka3dori: https://t.co/EM3zaZ5wwA'),\n",
       " Status(ID=1236218163999596547, ScreenName=Garfieldfilly, Created=Sat Mar 07 09:12:32 +0000 2020, Text='RT @Eng_afternoonz: ที่ออสเตรเลีย\\nหมดนี่ = บุหรี่ 1 ซอง!!! https://t.co/T68AwiToHb'),\n",
       " Status(ID=1236218163999551489, ScreenName=Hayves_v, Created=Sat Mar 07 09:12:32 +0000 2020, Text='RT @hyejoosz: Hyewon \\U0001f97a https://t.co/xTGAjJwbOm'),\n",
       " Status(ID=1236218163995373572, ScreenName=PP_SUDARAT, Created=Sat Mar 07 09:12:32 +0000 2020, Text='RT @mcd_pmmy: ประทับใจอันนี้มาก คือไม่คิดว่าเค้าจะทำได้อะ55555เล้บจิ๋ว https://t.co/QYBTofhesy'),\n",
       " Status(ID=1236218163991179264, ScreenName=hjlove0320, Created=Sat Mar 07 09:12:32 +0000 2020, Text='RT @89105ggggoods: 스트레이키즈 straykids 황현진 증사 현진 증명사진\\n\\n#Rt 추첨 한분께 원하시는 증사 1set 우편으로 보내드립니다\\n(~3/21까지)\\n\\n#StrayKids #황현진 #증사 #교복 #제복 #서공예 #현진 #증명…'),\n",
       " Status(ID=1236218163987087362, ScreenName=cuervingenuo, Created=Sat Mar 07 09:12:32 +0000 2020, Text='RT @Hibai_: \"El gobierno hace la visita gorda a los grupos fascistas, de extrema derecha y paramilitares, a los que llama \"defensores de la…'),\n",
       " Status(ID=1236218163987017728, ScreenName=sexbombrich, Created=Sat Mar 07 09:12:32 +0000 2020, Text=\"U ain't strong https://t.co/yVZDM0M5WX\"),\n",
       " Status(ID=1236218163987009536, ScreenName=kususappho, Created=Sat Mar 07 09:12:32 +0000 2020, Text='RT @LoveLive_staff: 【配信情報】\\nラブライブ！シリーズTVアニメ、YouTube公式チャンネルにて期間限定で3月9日より順次無料配信決定！この機会にTVアニメ「ラブライブ！」「ラブライブ！サンシャイン!!」をぜひともご覧ください！\\n配信のスケジュールはこちら…'),\n",
       " Status(ID=1236218163986960384, ScreenName=Roxanna_Watrous, Created=Sat Mar 07 09:12:32 +0000 2020, Text='RT @RepKenBuck: I have just one message for Joe Biden and Beto O’Rourke, if you want to take everyone’s AR-15s, why don’t you swing by my o…'),\n",
       " Status(ID=1236218163978788866, ScreenName=AboMohammedd20, Created=Sat Mar 07 09:12:32 +0000 2020, Text='RT @hopeful_2030: لااشارك معك ولا شي 😂😂😂 \\n  لاتعليق \\U0001f92aههههههههههههههههههههههههههههههههههههههههههههههههههههههههههههههههههه https://t.co/H4voG…'),\n",
       " Status(ID=1236218163978629121, ScreenName=FlexComix, Created=Sat Mar 07 09:12:32 +0000 2020, Text='【『篠崎さん気をオタしかに！』氷川翔／単行本全９巻大好評発売中！】オタク嫌いがオタクになっちゃう？！女子高生青春空回りコメディ！      https://t.co/0Sq8DzBEAf  https://t.co/vwzqYujQcV'),\n",
       " Status(ID=1236218163974430720, ScreenName=lea10kemo, Created=Sat Mar 07 09:12:32 +0000 2020, Text='RT @NOS_PROJECT: 「二次元と運命が交差するスカート」\\nハイウエストでフィットし、円形に広がるほど贅沢に生地を使用することで夢のようなシルエットに。\\n振り返る瞬間、思わずドキッとするほどドラマチック。\\nあなたを虜にする運命のスカート。\\nhttps://t.co/i…'),\n",
       " Status(ID=1236218163970228224, ScreenName=jojake111, Created=Sat Mar 07 09:12:32 +0000 2020, Text='RT @TomthunkitsMind: 60M PEOPLE LOCKED INSIDE THEIR HOMES (TOMBS)\\nCHINA HAS NO WAY OF KNOWING HOW MANY PEOPLE ARE SICK.\\nTHERE WAS A SHORTAG…'),\n",
       " Status(ID=1236218163966050304, ScreenName=_FORAERNRIKA_, Created=Sat Mar 07 09:12:32 +0000 2020, Text='RT @Ying2923Ying: พบคนขี้หึง1อัตราค่ะ\\n“รู้สึกยังไงกับแท็กมาร์คเซฟ”\\nจี: “รู้สึกไม่ชอบครับ”\\nจีโป๊ะแตกกกกกกก\\n#saveG https://t.co/5LCfrAv68s'),\n",
       " Status(ID=1236218163961815042, ScreenName=conpoko1987, Created=Sat Mar 07 09:12:32 +0000 2020, Text='RT @R_miyahara: まんがタイムの番外編は、本編終了後約4か月後の生徒会交流会のお話です。4月末に新書記が加入した藤女中生徒会と南中メンツが出てきますよ https://t.co/xTTVwNNxNb'),\n",
       " Status(ID=1236218163949236224, ScreenName=littlepikan, Created=Sat Mar 07 09:12:32 +0000 2020, Text='RT @Katie_kes_: มีความสุขแหละ ดูออก \\U0001f92d\\n\\n#เจ้าแก้มก้อน ของ #โอห์มไง\\n#คุณหนูขี้อายกับคุณชายเจ้าชู้\\n#UWMALastingPromise https://t.co/lU0RqcseaQ'),\n",
       " Status(ID=1236218163945263105, ScreenName=ramazan35063232, Created=Sat Mar 07 09:12:32 +0000 2020, Text='RT @emrah_188: Adaletiçin 5YılEşitindirim\\n\\n@RTErdogan\\n@fahrettinaltun\\n@abdulhamitgul\\n@yilmaztunc \\n@avabdullahguler https://t.co/dsLZscmiqV'),\n",
       " Status(ID=1236218163945070592, ScreenName=nncctt21, Created=Sat Mar 07 09:12:32 +0000 2020, Text='RT @99nctxx: 카스는 긴장하면 눈썹이 요동친다는 게 학계의 정설 https://t.co/Rx2KVNOUMB'),\n",
       " Status(ID=1236218163941052416, ScreenName=_rxthyxdu_, Created=Sat Mar 07 09:12:32 +0000 2020, Text='RT @ifyouwereafo: #FlipTheSwitch Me and my roommate. I hate this challenge already... https://t.co/ZXLMCjtDek'),\n",
       " Status(ID=1236218163940884486, ScreenName=mohem88hotmail1, Created=Sat Mar 07 09:12:32 +0000 2020, Text='RT @Sh96F: يقول عكاش العتيبي @2030_ak \\n\\nالفساد   أصبح   سجين   ودمعته  منثوره\\nقصته    قصه   وجرّة  من   مشاه   تقصّه\\n\\nإنْكشَف ..  قال الملك…'),\n",
       " Status(ID=1236218163936858113, ScreenName=Mr_Mo97, Created=Sat Mar 07 09:12:32 +0000 2020, Text='RT @LineKotsi: Iana fanart :)\\n#RainbowSixSiege @Rainbow6Game #R6Community #ubisoft https://t.co/KpvHpsWels'),\n",
       " Status(ID=1236218163932655617, ScreenName=Filtergukkie_13, Created=Sat Mar 07 09:12:32 +0000 2020, Text='RT @heavygguk: ⏤ PROYECTO POR EL CUMPLEAÑOS DE YOONGI ‼\\n\\nbueno ya que la gran mayoría del fandom son intensas con yoongi miau (me incluyo)…'),\n",
       " Status(ID=1236218163928297472, ScreenName=masato_c9, Created=Sat Mar 07 09:12:32 +0000 2020, Text='RT @nofu54321go: コレコレ！😂 https://t.co/iSE76NLTKl'),\n",
       " Status(ID=1236218163924262912, ScreenName=nejmalto, Created=Sat Mar 07 09:12:32 +0000 2020, Text='RT @zoearchive: Zoë Kravitz by Emily Soto https://t.co/stxp53U2XB'),\n",
       " Status(ID=1236218163924054019, ScreenName=saruwoha2zuki, Created=Sat Mar 07 09:12:32 +0000 2020, Text='RT @RecordsCaffeine: インスタ始めたんだけど即辞めてやろうかと思った。 https://t.co/xtTcfTXIUp'),\n",
       " Status(ID=1236218163924054017, ScreenName=mipopanda1, Created=Sat Mar 07 09:12:32 +0000 2020, Text='RT @1921_SAKURA: ＼キングジム×サクラ コラボキャンペーン／\\n「クレパス×オクトタツ」を抽選で5名様にプレゼント！おまけに「アーチ消しゴム」も付いてくる！\\n\\n①@kingjim と @1921_SAKURAをフォロー\\n②このツイートをRT\\nで応募完了！\\n\\n当選者…'),\n",
       " Status(ID=1236218163915878400, ScreenName=VeryDandelion, Created=Sat Mar 07 09:12:32 +0000 2020, Text='RT @frictionalgames: Amnesia: Rebirth is a new descent into darkness from the creators of the iconic Amnesia series. A harrowing journey th…'),\n",
       " Status(ID=1236218163915829249, ScreenName=ebiru_esther, Created=Sat Mar 07 09:12:32 +0000 2020, Text=\"RT @anna_boeg: A co-worker who is getting her grad project figured out just sent me this meme and she's my favorite person now https://t.co…\"),\n",
       " Status(ID=1236218163911626753, ScreenName=AdvNchodu, Created=Sat Mar 07 09:12:32 +0000 2020, Text='RT @__MJDr: “Rape accusations ruin men’s lives”\\n\\nMeanwhile:'),\n",
       " Status(ID=1236218163907317760, ScreenName=umu_33, Created=Sat Mar 07 09:12:32 +0000 2020, Text='RT @spspsp_0317: 成人男性がおジャ魔女どれみの変身曲でジム着に変身する動画\\n\\nが完成したぞぉーーーー！！\\n\\nあー楽しかった https://t.co/hqhufsgjeJ'),\n",
       " Status(ID=1236218163890552832, ScreenName=haruhito_kuzu, Created=Sat Mar 07 09:12:32 +0000 2020, Text='ご応募お待ちしてます笑 https://t.co/RFYWqjKvIK')]"
      ]
     },
     "execution_count": 13,
     "metadata": {},
     "output_type": "execute_result"
    }
   ],
   "source": [
    "results"
   ]
  },
  {
   "cell_type": "code",
   "execution_count": null,
   "metadata": {},
   "outputs": [],
   "source": []
  }
 ],
 "metadata": {
  "kernelspec": {
   "display_name": "Python 3",
   "language": "python",
   "name": "python3"
  },
  "language_info": {
   "codemirror_mode": {
    "name": "ipython",
    "version": 3
   },
   "file_extension": ".py",
   "mimetype": "text/x-python",
   "name": "python",
   "nbconvert_exporter": "python",
   "pygments_lexer": "ipython3",
   "version": "3.6.4"
  }
 },
 "nbformat": 4,
 "nbformat_minor": 2
}
