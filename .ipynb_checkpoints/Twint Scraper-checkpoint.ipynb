{
 "cells": [
  {
   "cell_type": "code",
   "execution_count": 3,
   "metadata": {},
   "outputs": [],
   "source": [
    "import twint"
   ]
  },
  {
   "cell_type": "code",
   "execution_count": 4,
   "metadata": {},
   "outputs": [],
   "source": [
    "d = twint.Config()"
   ]
  },
  {
   "cell_type": "code",
   "execution_count": 9,
   "metadata": {},
   "outputs": [],
   "source": [
    "d.Search = \"operation sharpshooter\"\n",
    "d.Limit = 10\n",
    "# d.Store_csv = True\n",
    "d.Store_object = True\n",
    "d.Store_json = True\n",
    "d.Output = \"./test1.json\"\n",
    "# d.Database = \"tweets.db\"\n"
   ]
  },
  {
   "cell_type": "code",
   "execution_count": 10,
   "metadata": {},
   "outputs": [
    {
     "name": "stdout",
     "output_type": "stream",
     "text": [
      "1212554063797248005 2020-01-01 17:59:51 Pacific Standard Time <OperationBot> Operation Insentient Sharpshooter – generalizing illegal lectures\n",
      "1206185121671499776 2019-12-15 04:11:57 Pacific Standard Time <BenjaminLinnert> Operation Iron Moan:  Recover cryogenic experiments. ☣ Neutralise enemy threat. 🚫👽  Roster: Rk. Louis C Sqd. Ste B - Sharpshooter Sqd. Richard B - Specialist Sqd. Adam D - Ranger  Playing XCOM2!  @XCOM #PS4live #PS4 #gaming\n",
      "1199051429358571521 2019-11-25 11:45:12 Pacific Standard Time <MyCloudEssay> Operation Sharpshooter College Essay Topic Help  https://mycloudessay.com/college-essay-topics/view/108969/operation-sharpshooter-college-essay-topic-help … #essay #dissertation #homework #thesis #assignment #college #writing\n",
      "1195711760638136322 2019-11-16 06:34:33 Pacific Standard Time <DanLamothe> Indeed, a think a lot of us covering the military in the field have stories like this to share.  I recall tagging along on one joint Marine-Afghan sniper operation in 2012 in which a Marine stopped an Afghan sharpshooter from opening fire. Children were close by.  https://twitter.com/paulmcleary/status/1195541505236226048 …\n",
      "1192067115764895748 2019-11-06 05:12:02 Pacific Standard Time <ICTSecurityMag> Operation Sharpshooter: una campagna di #cyberspionaggio condotta nei confronti di alcune #infrastrutturecritiche: #Centralinucleari ed in generale il settore #Energy, entità della #Difesa, #banche e organizzazioni finanziare. #McAfee #ransomware #security https://www.ictsecuritymagazine.com/notizie/mcafee-mvision-la-strategia-si-evolve/ …\n",
      "1191970494897106944 2019-11-05 22:48:06 Pacific Standard Time <Acemal71> A group of #Qatar Police Special Operation Forces personnel successfully completed the Turkish Army Sharpshooter Training Course with JMK BORA-12 #sniper weapon in Turkey. pic.twitter.com/soPO2Z98gW\n",
      "1181736387785179139 2019-10-08 18:01:25 Pacific Standard Time <llama_operation> Sharpshooter is a good one. That bass is perfect in the mix on that track.\n",
      "1180139595448672256 2019-10-04 08:16:20 Pacific Standard Time <Teatdp12> Definitely a sharpshooter! Making sure the operation goes smoothly is to exciting. Covering your squad is key to any mission. Tip: make sure you have a great vantage point that covers you well and pay attention to the whole map and not just one area #FreeCodeFridayContest #Xbox\n",
      "1175504665959698433 2019-09-21 13:18:46 Pacific Standard Time <pressurepointhd> Pacific Rim Uprising (2018) - Operation Jaeger Drop Scene...  http://vid.staged.com/KTfw  #mastermoran #edc #sharpshooter  pic.twitter.com/qVfYnIAWbj\n",
      "1172927176674398208 2019-09-14 10:36:45 Pacific Standard Time <Michael95407> True story:  my grandfather was a lifelong democrat who deplored guns and thought the 2nd amendment was antiquated.  When the \"Operation Northwoods\" memo was leaked in the 90's, he joined the NRA, and went out and bought an AR-15 and became an expert sharpshooter.\n",
      "1171785540137451520 2019-09-11 07:00:18 Pacific Standard Time <MarcusAlmeida14> Our latest @McAfee Threat report covers cybercriminal activity during Q1 including a technical analysis on Operation Sharpshooter. Get the details. #IAmMcAfee  http://bit.ly/2ZU8JLV \n",
      "1171672554219589632 2019-09-10 23:31:20 Pacific Standard Time <MayaKreidy> Our latest @McAfee Threat report covers cybercriminal activity during Q1 including a technical analysis on Operation Sharpshooter. Get the details. #IAmMcAfee  http://bit.ly/2Q6wigf \n",
      "1171411781715222528 2019-09-10 06:15:07 Pacific Standard Time <McAfee_Labs> Our latest @McAfee Threat report covers cybercriminal activity during Q1 including a technical analysis on Operation Sharpshooter. Get the details.  https://mcafee.ly/306xOyx  pic.twitter.com/TenCgmLTcv\n",
      "1169924783598919681 2019-09-06 03:46:19 Pacific Standard Time <cstromblad> McAfee-rapporten om Operation Sharpshooter är riktigt bra. Aktör, med troliga kopplingar till Lazarus Group (Nord Korea) som observerats infiltrera ungefär 90 organisationer, bland annat i Sverige (utifrån vad jag kan tolka). Betraktas i dagsläget som recon, något på G?\n",
      "1166743214277189633 2019-08-28 09:03:53 Pacific Standard Time <John_Fokker> Our latest McAfee Threat reports covering cybercriminal activity during Q1 including our technical analysis on Operation Sharpshooter. Check the details in the report, link below. @McAfee @McAfee_Labs @FlynnPartyof5 @Raj_Samani @ChristiaanBeek  https://www.mcafee.com/enterprise/en-us/assets/reports/rp-quarterly-threats-aug-2019.pdf …\n",
      "1160538906959503360 2019-08-11 06:10:11 Pacific Standard Time <WolfgangSesin> New post (RSAC 2019: New Operation Sharpshooter Data Reveals Higher Complexity, Scope) has been published on  -  https://www.sesin.at/2019/03/04/rsac-2019-new-operation-sharpshooter-data-reveals-higher-complexity-scope/ …\n",
      "1158468834145312768 2019-08-05 13:04:28 Pacific Standard Time <desderamona> #Lazarus Group  prominent #hacking group tied to North #Korea #DPRK Operation #Sharpshooter “could've started as early as September 2017 & more extensive in complexity, scope and duration of operations\"  #cyberattacks #spearphishing #malware #wannacry https://thehill.com/policy/cybersecurity/432247-security-firm-links-cyber-espionage-campaign-targeting-key-sectors-to …\n",
      "1156051522444255233 2019-07-29 20:58:56 Pacific Standard Time <lordboots> Operation sharpshooter This is should be a warning call to other large enterprises, according to Nissim Pariente, director of Security Analytics at @Radware. http://bit.ly/2ykfJSj \n",
      "1149891812523487232 2019-07-12 21:02:26 Pacific Standard Time <DoxdyKing> Hey @DavidVonderhaar any chance we could get Sharpshooter back in Black Ops 4? Maybe during the next operation?\n",
      "1137984133047541760 2019-06-10 00:25:34 Pacific Standard Time <dromerotrejo> Operation Sharpshooter  http://dlvr.it/R6Kp6H  pic.twitter.com/bfHh5wZrbP\n"
     ]
    }
   ],
   "source": [
    "x = twint.run.Search(d)\n",
    "# twint -u noneprivacy --csv --output \"/Users/psingh4/harsh/test4.json\" --lang en --translate --translate-dest it --limit 100"
   ]
  },
  {
   "cell_type": "code",
   "execution_count": 11,
   "metadata": {},
   "outputs": [
    {
     "data": {
      "text/plain": [
       "dict_keys(['Search', 'Limit', 'Store_object', 'Store_json', 'Output', 'TwitterSearch', 'Favorites', 'Following', 'Followers', 'Profile', 'Profile_full'])"
      ]
     },
     "execution_count": 11,
     "metadata": {},
     "output_type": "execute_result"
    }
   ],
   "source": [
    "d.__dict__.keys()"
   ]
  },
  {
   "cell_type": "code",
   "execution_count": 12,
   "metadata": {},
   "outputs": [],
   "source": [
    "# twint.run.Search(d)\n",
    "# twint.output"
   ]
  },
  {
   "cell_type": "code",
   "execution_count": 14,
   "metadata": {},
   "outputs": [],
   "source": [
    "f= open(\"./test1.json\",\"r\",errors='ignore')\n",
    "line1 = f.readlines()\n",
    "arr = []\n",
    "for x in line1:\n",
    "    arr.append(x)\n",
    "f.close()    "
   ]
  },
  {
   "cell_type": "code",
   "execution_count": 15,
   "metadata": {},
   "outputs": [],
   "source": [
    "arr.insert(0,\"[\")"
   ]
  },
  {
   "cell_type": "code",
   "execution_count": 16,
   "metadata": {},
   "outputs": [],
   "source": [
    "arr.append(']')\n",
    "for i in range(1,len(arr)-2):\n",
    "    arr[i] = arr[i][:-1] + \",\" + arr[i][-1:]"
   ]
  },
  {
   "cell_type": "code",
   "execution_count": 18,
   "metadata": {},
   "outputs": [],
   "source": [
    "file = open(\"./test1.json\",\"w\")\n",
    "for i in range(len(arr)):\n",
    "    file.write(arr[i])\n",
    "file.close()"
   ]
  },
  {
   "cell_type": "code",
   "execution_count": 31,
   "metadata": {},
   "outputs": [],
   "source": [
    "import json\n",
    "# read_file = \"/Users/psingh4/harsh/test.json\"\n",
    "read_file = \"\"\n",
    "with open(\"./test1.json\", \"r\") as read_file:\n",
    "    data = json.load(read_file)"
   ]
  },
  {
   "cell_type": "code",
   "execution_count": 32,
   "metadata": {},
   "outputs": [
    {
     "data": {
      "text/plain": [
       "1212554063797248005"
      ]
     },
     "execution_count": 32,
     "metadata": {},
     "output_type": "execute_result"
    }
   ],
   "source": [
    "data[0]['id']"
   ]
  },
  {
   "cell_type": "code",
   "execution_count": 97,
   "metadata": {},
   "outputs": [],
   "source": [
    "import mysql.connector"
   ]
  },
  {
   "cell_type": "code",
   "execution_count": 129,
   "metadata": {},
   "outputs": [],
   "source": [
    "mydb = mysql.connector.connect(user='admin', password='Private2712!',\n",
    "                              host='database-1.cok63qqiofsd.us-east-1.rds.amazonaws.com',\n",
    "                              database='data')"
   ]
  },
  {
   "cell_type": "code",
   "execution_count": 130,
   "metadata": {},
   "outputs": [],
   "source": [
    "mycursor = mydb.cursor()"
   ]
  },
  {
   "cell_type": "code",
   "execution_count": 138,
   "metadata": {},
   "outputs": [
    {
     "name": "stdout",
     "output_type": "stream",
     "text": [
      "20 record inserted.\n"
     ]
    }
   ],
   "source": [
    "sql = \"\"\"INSERT INTO train_data (created_at, date, time, timezone, user_id, username, name, place, tweet, mentions, urls, replies_count, \n",
    "        retweets_count, likes_count, hashtags, cashtags, link, retweet, video, near, geo, source, user_rt_id, user_rt, retweet_id,\n",
    "        retweet_date, translate, trans_src, trans_dest, photos, reply_to) VALUES (%s, %s, %s, %s, %s, %s, %s, %s, %s, %s, %s, %s, %s, %s, \n",
    "        %s, %s, %s, %s, %s, %s, %s, %s, %s, %s, %s, %s, %s, %s, %s, %s, %s)\"\"\"\n",
    "\n",
    "val = []\n",
    "for i in range(len(data)):\n",
    "    val.append((data[i]['created_at'], data[i]['date'], data[i]['time'], data[i]['timezone'], data[i]['user_id'], data[i]['username'],\n",
    "      data[i]['name'], data[i]['place'], data[i]['tweet'], str(data[i]['mentions']), str(data[i]['urls']), data[i]['replies_count'],\n",
    "      data[i]['retweets_count'], data[i]['likes_count'], str(data[i]['hashtags']), str(data[i]['cashtags']), data[i]['link'], data[i]['retweet'],\n",
    "      data[i]['video'], data[i]['near'], data[i]['geo'], data[i]['source'], data[i]['user_rt_id'], data[i]['user_rt'],\n",
    "      data[i]['retweet_id'], data[i]['retweet_date'], data[i]['translate'], data[i]['trans_src'], data[i]['trans_dest'],str(data[i]['photos']), \n",
    "       str(data[i]['reply_to'])))\n",
    "    \n",
    "mycursor.executemany(sql, val)\n",
    "\n",
    "mydb.commit()\n",
    "\n",
    "print(mycursor.rowcount, \"record inserted.\")"
   ]
  },
  {
   "cell_type": "code",
   "execution_count": 136,
   "metadata": {},
   "outputs": [],
   "source": [
    "val = []\n",
    "for i in range(len(data)):\n",
    "    val.append((data[i]['created_at'], data[i]['date'], data[i]['time'], data[i]['timezone'], data[i]['user_id'], data[i]['username'],\n",
    "      data[i]['name'], data[i]['place'], data[i]['tweet'], str(data[i]['mentions']), str(data[i]['urls']), data[i]['replies_count'],\n",
    "      data[i]['retweets_count'], data[i]['likes_count'], str(data[i]['hashtags']), str(data[i]['cashtags']), data[i]['link'], data[i]['retweet'],\n",
    "      data[i]['video'], data[i]['near'], data[i]['geo'], data[i]['source'], data[i]['user_rt_id'], data[i]['user_rt'],\n",
    "      data[i]['retweet_id'], data[i]['retweet_date'], data[i]['translate'], data[i]['trans_src'], data[i]['trans_dest'],0,str(data[i]['photos']), \n",
    "       str(data[i]['reply_to'])))"
   ]
  },
  {
   "cell_type": "code",
   "execution_count": 113,
   "metadata": {},
   "outputs": [],
   "source": [
    "# mydb.commit()\n",
    "# !pip install tensorflow\n",
    "# print(mycursor.rowcount, \"record inserted.\")"
   ]
  },
  {
   "cell_type": "code",
   "execution_count": 225,
   "metadata": {},
   "outputs": [],
   "source": [
    "mycursor.execute(\"SELECT * FROM information_schema.COLUMNS  WHERE TABLE_SCHEMA='data'\")"
   ]
  },
  {
   "cell_type": "code",
   "execution_count": 226,
   "metadata": {},
   "outputs": [
    {
     "name": "stdout",
     "output_type": "stream",
     "text": [
      "('def', 'data', 'train_data', 'cashtags', 17, None, 'YES', 'varchar', 45, 180, None, None, None, 'utf8mb4', 'utf8mb4_0900_ai_ci', 'varchar(45)', '', '', 'select,insert,update,references', '', '', None)\n"
     ]
    }
   ],
   "source": [
    "myresult = mycursor.fetchone()\n",
    "print(myresult)"
   ]
  },
  {
   "cell_type": "code",
   "execution_count": null,
   "metadata": {},
   "outputs": [],
   "source": [
    "created_at date time timezone user_id username name place tweet mentions urls replies_count \n",
    "retweets_count likes_count hastags cashtags link retweet video near geo source user_rt_id user_rt retweet_id\n",
    "retweet_date translate trans_src trans_dest relevant"
   ]
  },
  {
   "cell_type": "code",
   "execution_count": 119,
   "metadata": {},
   "outputs": [
    {
     "name": "stdout",
     "output_type": "stream",
     "text": [
      "100 2020-01-01 17:59:51 Pacific Standard Time 2679505890 operationbot OperationRandomWords  Operation Insentient Sharpshooter â€“ generalizing illegal lectures [] [] 0 0 0 [] [] https://twitter.com/OperationBot/status/1212554063797248005 False 0           0 [] [{'user_id': '2679505890', 'username': 'OperationBot'}]\n"
     ]
    }
   ],
   "source": [
    "print(data[0]['created_at'], data[0]['date'], data[0]['time'], data[0]['timezone'], data[0]['user_id'], data[0]['username'],\n",
    "      data[0]['name'], data[0]['place'], data[0]['tweet'], str(data[0]['mentions']), str(data[0]['urls']), data[0]['replies_count'],\n",
    "      data[0]['retweets_count'], data[0]['likes_count'], str(data[0]['hashtags']), str(data[0]['cashtags']), data[0]['link'], data[0]['retweet'],\n",
    "      data[0]['video'], data[0]['near'], data[0]['geo'], data[0]['source'], data[0]['user_rt_id'], data[0]['user_rt'],\n",
    "      data[0]['retweet_id'], data[0]['retweet_date'], data[0]['translate'], data[0]['trans_src'], data[0]['trans_dest'],0,str(data[0]['photos']), \n",
    "       str(data[0]['reply_to']))"
   ]
  },
  {
   "cell_type": "code",
   "execution_count": 84,
   "metadata": {},
   "outputs": [],
   "source": [
    "import datetime\n",
    "x = datetime.time(17,59,51)\n",
    "print(x.date())\n",
    "t = datetime.time(1, 2, 3)\n",
    "print(t)\n",
    "x = datetime.datetime(2020,1,1,17,2,3)\n",
    "print(x.date().isoformat())\n",
    "import time    \n",
    "time.strftime('%Y-%m-%d %H:%M:%S')"
   ]
  }
 ],
 "metadata": {
  "kernelspec": {
   "display_name": "Python 3",
   "language": "python",
   "name": "python3"
  },
  "language_info": {
   "codemirror_mode": {
    "name": "ipython",
    "version": 3
   },
   "file_extension": ".py",
   "mimetype": "text/x-python",
   "name": "python",
   "nbconvert_exporter": "python",
   "pygments_lexer": "ipython3",
   "version": "3.6.4"
  }
 },
 "nbformat": 4,
 "nbformat_minor": 2
}
